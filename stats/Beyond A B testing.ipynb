{
 "cells": [
  {
   "cell_type": "code",
   "execution_count": 45,
   "metadata": {},
   "outputs": [],
   "source": [
    "%matplotlib inline\n",
    "import pandas as pd\n",
    "import numpy as np\n",
    "import seaborn as sns\n",
    "from scipy import stats\n",
    "import math\n",
    "import matplotlib.pyplot as plt"
   ]
  },
  {
   "cell_type": "code",
   "execution_count": 46,
   "metadata": {},
   "outputs": [],
   "source": [
    "ess = pd.read_csv('https://tf-assets-prod.s3.amazonaws.com/tf-curric/data-science/ess_combined_2012_2014.csv')"
   ]
  },
  {
   "cell_type": "code",
   "execution_count": 85,
   "metadata": {},
   "outputs": [
    {
     "name": "stdout",
     "output_type": "stream",
     "text": [
      "<class 'pandas.core.frame.DataFrame'>\n",
      "RangeIndex: 8147 entries, 0 to 8146\n",
      "Data columns (total 13 columns):\n",
      " #   Column   Non-Null Count  Dtype \n",
      "---  ------   --------------  ----- \n",
      " 0   cntry    8147 non-null   object\n",
      " 1   idno     8147 non-null   int64 \n",
      " 2   year     8147 non-null   int64 \n",
      " 3   tvtot    8147 non-null   int64 \n",
      " 4   ppltrst  8147 non-null   int64 \n",
      " 5   pplfair  8147 non-null   int64 \n",
      " 6   pplhlp   8147 non-null   int64 \n",
      " 7   happy    8147 non-null   int64 \n",
      " 8   sclmeet  8147 non-null   int64 \n",
      " 9   sclact   8147 non-null   int64 \n",
      " 10  gndr     8147 non-null   int64 \n",
      " 11  agea     8147 non-null   int64 \n",
      " 12  partner  8147 non-null   int64 \n",
      "dtypes: int64(12), object(1)\n",
      "memory usage: 827.6+ KB\n"
     ]
    },
    {
     "data": {
      "text/html": [
       "<div>\n",
       "<style scoped>\n",
       "    .dataframe tbody tr th:only-of-type {\n",
       "        vertical-align: middle;\n",
       "    }\n",
       "\n",
       "    .dataframe tbody tr th {\n",
       "        vertical-align: top;\n",
       "    }\n",
       "\n",
       "    .dataframe thead th {\n",
       "        text-align: right;\n",
       "    }\n",
       "</style>\n",
       "<table border=\"1\" class=\"dataframe\">\n",
       "  <thead>\n",
       "    <tr style=\"text-align: right;\">\n",
       "      <th></th>\n",
       "      <th>cntry</th>\n",
       "      <th>idno</th>\n",
       "      <th>year</th>\n",
       "      <th>tvtot</th>\n",
       "      <th>ppltrst</th>\n",
       "      <th>pplfair</th>\n",
       "      <th>pplhlp</th>\n",
       "      <th>happy</th>\n",
       "      <th>sclmeet</th>\n",
       "      <th>sclact</th>\n",
       "      <th>gndr</th>\n",
       "      <th>agea</th>\n",
       "      <th>partner</th>\n",
       "    </tr>\n",
       "  </thead>\n",
       "  <tbody>\n",
       "    <tr>\n",
       "      <th>0</th>\n",
       "      <td>CH</td>\n",
       "      <td>5</td>\n",
       "      <td>6</td>\n",
       "      <td>3</td>\n",
       "      <td>3</td>\n",
       "      <td>10</td>\n",
       "      <td>5</td>\n",
       "      <td>8</td>\n",
       "      <td>5</td>\n",
       "      <td>4</td>\n",
       "      <td>2</td>\n",
       "      <td>60</td>\n",
       "      <td>1</td>\n",
       "    </tr>\n",
       "    <tr>\n",
       "      <th>1</th>\n",
       "      <td>CH</td>\n",
       "      <td>25</td>\n",
       "      <td>6</td>\n",
       "      <td>6</td>\n",
       "      <td>5</td>\n",
       "      <td>7</td>\n",
       "      <td>5</td>\n",
       "      <td>9</td>\n",
       "      <td>3</td>\n",
       "      <td>2</td>\n",
       "      <td>2</td>\n",
       "      <td>59</td>\n",
       "      <td>1</td>\n",
       "    </tr>\n",
       "    <tr>\n",
       "      <th>2</th>\n",
       "      <td>CH</td>\n",
       "      <td>26</td>\n",
       "      <td>6</td>\n",
       "      <td>1</td>\n",
       "      <td>8</td>\n",
       "      <td>8</td>\n",
       "      <td>8</td>\n",
       "      <td>7</td>\n",
       "      <td>6</td>\n",
       "      <td>3</td>\n",
       "      <td>1</td>\n",
       "      <td>24</td>\n",
       "      <td>2</td>\n",
       "    </tr>\n",
       "    <tr>\n",
       "      <th>3</th>\n",
       "      <td>CH</td>\n",
       "      <td>28</td>\n",
       "      <td>6</td>\n",
       "      <td>4</td>\n",
       "      <td>6</td>\n",
       "      <td>6</td>\n",
       "      <td>7</td>\n",
       "      <td>10</td>\n",
       "      <td>6</td>\n",
       "      <td>2</td>\n",
       "      <td>2</td>\n",
       "      <td>64</td>\n",
       "      <td>1</td>\n",
       "    </tr>\n",
       "    <tr>\n",
       "      <th>4</th>\n",
       "      <td>CH</td>\n",
       "      <td>29</td>\n",
       "      <td>6</td>\n",
       "      <td>5</td>\n",
       "      <td>6</td>\n",
       "      <td>7</td>\n",
       "      <td>5</td>\n",
       "      <td>8</td>\n",
       "      <td>7</td>\n",
       "      <td>2</td>\n",
       "      <td>2</td>\n",
       "      <td>55</td>\n",
       "      <td>1</td>\n",
       "    </tr>\n",
       "  </tbody>\n",
       "</table>\n",
       "</div>"
      ],
      "text/plain": [
       "  cntry  idno  year  tvtot  ppltrst  pplfair  pplhlp  happy  sclmeet  sclact  \\\n",
       "0    CH     5     6      3        3       10       5      8        5       4   \n",
       "1    CH    25     6      6        5        7       5      9        3       2   \n",
       "2    CH    26     6      1        8        8       8      7        6       3   \n",
       "3    CH    28     6      4        6        6       7     10        6       2   \n",
       "4    CH    29     6      5        6        7       5      8        7       2   \n",
       "\n",
       "   gndr  agea  partner  \n",
       "0     2    60        1  \n",
       "1     2    59        1  \n",
       "2     1    24        2  \n",
       "3     2    64        1  \n",
       "4     2    55        1  "
      ]
     },
     "execution_count": 85,
     "metadata": {},
     "output_type": "execute_result"
    }
   ],
   "source": [
    "ess.info()\n",
    "ess.head()"
   ]
  },
  {
   "cell_type": "code",
   "execution_count": 48,
   "metadata": {},
   "outputs": [
    {
     "data": {
      "text/plain": [
       "array([6, 7])"
      ]
     },
     "execution_count": 48,
     "metadata": {},
     "output_type": "execute_result"
    }
   ],
   "source": [
    "# figure out what the unique values are for each year\n",
    "ess.year.unique()"
   ]
  },
  {
   "cell_type": "code",
   "execution_count": 49,
   "metadata": {},
   "outputs": [],
   "source": [
    "# Referencing the code book we are able to assign each of these values to a year\n",
    "ess_2012 = df[ess.year == 6]\n",
    "ess_2014 = df[ess.year == 7]"
   ]
  },
  {
   "cell_type": "code",
   "execution_count": 50,
   "metadata": {},
   "outputs": [
    {
     "name": "stdout",
     "output_type": "stream",
     "text": [
      "DescribeResult(nobs=4071, minmax=(0, 10), mean=5.578481945467944, variance=4.893040545067073, skewness=-0.5431086926347095, kurtosis=-0.1210956960964813) \n",
      "\n",
      "DescribeResult(nobs=4076, minmax=(0, 10), mean=5.5713935230618254, variance=4.927171652708959, skewness=-0.4601859476512641, kurtosis=-0.25006786100787215)\n"
     ]
    },
    {
     "data": {
      "image/png": "[encoded data removed]",
      "text/plain": [
       "<Figure size 720x720 with 1 Axes>"
      ]
     },
     "metadata": {
      "needs_background": "light"
     },
     "output_type": "display_data"
    }
   ],
   "source": [
    "# Let's look at the data in order to determine how to proceed\n",
    "\n",
    "print(stats.describe(ess_2012['ppltrst']), '\\n')\n",
    "print(stats.describe(ess_2014['ppltrst']))\n",
    "\n",
    "plt.figure(figsize = (10, 10))\n",
    "plt.hist(ess_2012.ppltrst, alpha = .5)\n",
    "plt.hist(ess_2014.ppltrst, alpha = .5)\n",
    "plt.show()"
   ]
  },
  {
   "cell_type": "code",
   "execution_count": 51,
   "metadata": {},
   "outputs": [],
   "source": [
    "# This distribution is roughly normal. Because idno is not a unique identifier we can't assume that these\n",
    "# samples are from the same population. We will treat them as independant populations"
   ]
  },
  {
   "cell_type": "code",
   "execution_count": 52,
   "metadata": {},
   "outputs": [
    {
     "data": {
      "text/plain": [
       "Ttest_indResult(statistic=0.1443685081969842, pvalue=0.8852130548889106)"
      ]
     },
     "execution_count": 52,
     "metadata": {},
     "output_type": "execute_result"
    }
   ],
   "source": [
    "stats.ttest_ind(ess_2012['ppltrst'], ess_2014['ppltrst'])"
   ]
  },
  {
   "cell_type": "code",
   "execution_count": 53,
   "metadata": {},
   "outputs": [],
   "source": [
    "# Given this result we cannot reject the null hypothesis that there is no difference between the two populations.\n",
    "# Indeed the pvalue suggests that these populations are very closely related. "
   ]
  },
  {
   "cell_type": "code",
   "execution_count": 54,
   "metadata": {},
   "outputs": [
    {
     "name": "stdout",
     "output_type": "stream",
     "text": [
      "DescribeResult(nobs=4071, minmax=(0, 10), mean=7.731515598133137, variance=3.0819524689826823, skewness=-1.1505518232802756, kurtosis=1.9055890346061979) \n",
      "\n",
      "DescribeResult(nobs=4076, minmax=(0, 10), mean=7.6854759568204125, variance=2.840436853164115, skewness=-1.0296465664009635, kurtosis=1.5218046596567287)\n"
     ]
    },
    {
     "data": {
      "image/png": "[encoded data removed]",
      "text/plain": [
       "<Figure size 720x720 with 1 Axes>"
      ]
     },
     "metadata": {
      "needs_background": "light"
     },
     "output_type": "display_data"
    }
   ],
   "source": [
    "# Moving on to the next question let's examine the data\n",
    "\n",
    "print(stats.describe(ess_2012['happy']), '\\n')\n",
    "print(stats.describe(ess_2014['happy']))\n",
    "\n",
    "plt.figure(figsize = (10, 10))\n",
    "plt.hist(ess_2012.happy, alpha = .5)\n",
    "plt.hist(ess_2014.happy, alpha = .5)\n",
    "plt.show()"
   ]
  },
  {
   "cell_type": "code",
   "execution_count": 55,
   "metadata": {},
   "outputs": [
    {
     "data": {
      "text/plain": [
       "KruskalResult(statistic=3.725441202182227, pvalue=0.05358946830655459)"
      ]
     },
     "execution_count": 55,
     "metadata": {},
     "output_type": "execute_result"
    }
   ],
   "source": [
    "# This distribution is not normal. Let's use a Kruskal-Wallis test.\n",
    "\n",
    "stats.kruskal(ess_2012['happy'], ess_2014['happy'])"
   ]
  },
  {
   "cell_type": "code",
   "execution_count": 56,
   "metadata": {},
   "outputs": [],
   "source": [
    "# This result is close to the critical values but still falls short of a pvalue < .05. Additionally a visual\n",
    "# examination of the distributions shows that there is not enough evidence to reject our null hypothesis."
   ]
  },
  {
   "cell_type": "code",
   "execution_count": 87,
   "metadata": {},
   "outputs": [
    {
     "data": {
      "text/plain": [
       "array(['CH', 'CZ', 'DE', 'ES', 'NO', 'SE'], dtype=object)"
      ]
     },
     "execution_count": 87,
     "metadata": {},
     "output_type": "execute_result"
    }
   ],
   "source": [
    "ess_2014.cntry.unique()"
   ]
  },
  {
   "cell_type": "code",
   "execution_count": 88,
   "metadata": {},
   "outputs": [],
   "source": [
    "ch = ess_2014[ess_2014.cntry == 'CH']\n",
    "de = ess_2014[ess_2014.cntry == 'DE']\n",
    "no = ess_2014[ess_2014.cntry == 'NO']\n",
    "es = ess_2014[ess_2014.cntry == 'ES']"
   ]
  },
  {
   "cell_type": "code",
   "execution_count": 91,
   "metadata": {},
   "outputs": [
    {
     "name": "stdout",
     "output_type": "stream",
     "text": [
      "DescribeResult(nobs=743, minmax=(1, 7), mean=5.174966352624495, variance=1.6944129031789972, skewness=-0.6382977240097087, kurtosis=-0.24036067403841654) \n",
      "\n",
      "DescribeResult(nobs=14, minmax=(3, 6), mean=4.428571428571429, variance=0.5714285714285714, skewness=0.24891663306000175, kurtosis=-0.20118343195266197) \n",
      "\n",
      "DescribeResult(nobs=712, minmax=(1, 7), mean=5.310393258426966, variance=1.8064741067336714, skewness=-0.6366633314784985, kurtosis=-0.33293306740001993) \n",
      "\n",
      "DescribeResult(nobs=1134, minmax=(1, 7), mean=5.263668430335097, variance=2.067222541332574, skewness=-0.8331602682762435, kurtosis=0.2132945592754396)\n"
     ]
    }
   ],
   "source": [
    "print(stats.describe(ch.sclmeet), '\\n')\n",
    "print(stats.describe(de.sclmeet), '\\n')\n",
    "print(stats.describe(no.sclmeet), '\\n')\n",
    "print(stats.describe(es.sclmeet))"
   ]
  },
  {
   "cell_type": "code",
   "execution_count": 95,
   "metadata": {},
   "outputs": [
    {
     "ename": "SyntaxError",
     "evalue": "can't assign to operator (<ipython-input-95-a4dd4f35e91f>, line 4)",
     "output_type": "error",
     "traceback": [
      "\u001b[0;36m  File \u001b[0;32m\"<ipython-input-95-a4dd4f35e91f>\"\u001b[0;36m, line \u001b[0;32m4\u001b[0m\n\u001b[0;31m    ch + de + no + es = ess_4\u001b[0m\n\u001b[0m                             ^\u001b[0m\n\u001b[0;31mSyntaxError\u001b[0m\u001b[0;31m:\u001b[0m can't assign to operator\n"
     ]
    }
   ],
   "source": [
    "# Let's run a Tukey's HSD test\n",
    "from statsmodels.stats.multicomp import pairwise_tukeyhsd"
   ]
  },
  {
   "cell_type": "code",
   "execution_count": 100,
   "metadata": {},
   "outputs": [
    {
     "data": {
      "text/html": [
       "<table class=\"simpletable\">\n",
       "<caption>Multiple Comparison of Means - Tukey HSD, FWER=0.05</caption>\n",
       "<tr>\n",
       "  <th>group1</th> <th>group2</th> <th>meandiff</th>  <th>p-adj</th>  <th>lower</th>   <th>upper</th> <th>reject</th>\n",
       "</tr>\n",
       "<tr>\n",
       "    <td>CH</td>     <td>DE</td>    <td>-0.7464</td> <td>0.1819</td> <td>-1.6978</td>  <td>0.205</td>  <td>False</td>\n",
       "</tr>\n",
       "<tr>\n",
       "    <td>CH</td>     <td>ES</td>    <td>0.0887</td>  <td>0.5163</td> <td>-0.0777</td> <td>0.2552</td>  <td>False</td>\n",
       "</tr>\n",
       "<tr>\n",
       "    <td>CH</td>     <td>NO</td>    <td>0.1354</td>   <td>0.236</td> <td>-0.0495</td> <td>0.3204</td>  <td>False</td>\n",
       "</tr>\n",
       "<tr>\n",
       "    <td>DE</td>     <td>ES</td>    <td>0.8351</td>  <td>0.1069</td> <td>-0.1132</td> <td>1.7834</td>  <td>False</td>\n",
       "</tr>\n",
       "<tr>\n",
       "    <td>DE</td>     <td>NO</td>    <td>0.8818</td>   <td>0.081</td> <td>-0.0699</td> <td>1.8336</td>  <td>False</td>\n",
       "</tr>\n",
       "<tr>\n",
       "    <td>ES</td>     <td>NO</td>    <td>0.0467</td>  <td>0.8853</td> <td>-0.1219</td> <td>0.2154</td>  <td>False</td>\n",
       "</tr>\n",
       "</table>"
      ],
      "text/plain": [
       "<class 'statsmodels.iolib.table.SimpleTable'>"
      ]
     },
     "execution_count": 100,
     "metadata": {},
     "output_type": "execute_result"
    }
   ],
   "source": [
    "# For this test we need those countries datas in the same DataFrame\n",
    "ess_ch_de_no_es = ess_2014[ess_2014['cntry'].isin(['CH', 'DE', 'NO', 'ES'])]\n",
    "\n",
    "tukey = pairwise_tukeyhsd(endog = ess_ch_de_no_es['sclmeet'],      # Data\n",
    "                          groups = ess_ch_de_no_es['cntry'],   # Groups\n",
    "                         alpha=0.05)         # Significance level\n",
    "\n",
    "tukey.summary()"
   ]
  },
  {
   "cell_type": "code",
   "execution_count": 106,
   "metadata": {},
   "outputs": [
    {
     "data": {
      "text/plain": [
       "array([[<matplotlib.axes._subplots.AxesSubplot object at 0x7f0226f69f10>,\n",
       "        <matplotlib.axes._subplots.AxesSubplot object at 0x7f02267a3850>],\n",
       "       [<matplotlib.axes._subplots.AxesSubplot object at 0x7f0226810d90>,\n",
       "        <matplotlib.axes._subplots.AxesSubplot object at 0x7f02291155d0>]],\n",
       "      dtype=object)"
      ]
     },
     "execution_count": 106,
     "metadata": {},
     "output_type": "execute_result"
    },
    {
     "data": {
      "image/png": "[encoded data removed]",
      "text/plain": [
       "<Figure size 1440x1440 with 4 Axes>"
      ]
     },
     "metadata": {
      "needs_background": "light"
     },
     "output_type": "display_data"
    }
   ],
   "source": [
    "# None of these stand out according to our Tukey test. Let's look at their distribution visually.\n",
    "ess_ch_de_no_es['sclmeet'].hist(by = ess_ch_de_no_es['cntry'], figsize = (20,20))"
   ]
  },
  {
   "cell_type": "code",
   "execution_count": 105,
   "metadata": {},
   "outputs": [
    {
     "data": {
      "text/plain": [
       "<matplotlib.axes._subplots.AxesSubplot at 0x7f0226e5c810>"
      ]
     },
     "execution_count": 105,
     "metadata": {},
     "output_type": "execute_result"
    },
    {
     "data": {
      "image/png": "[encoded data removed]",
      "text/plain": [
       "<Figure size 1440x1440 with 1 Axes>"
      ]
     },
     "metadata": {
      "needs_background": "light"
     },
     "output_type": "display_data"
    }
   ],
   "source": [
    "ess_ch_de_no_es.boxplot('sclmeet', by='cntry', figsize = (20,20))"
   ]
  },
  {
   "cell_type": "code",
   "execution_count": 107,
   "metadata": {},
   "outputs": [
    {
     "data": {
      "text/plain": [
       "F_onewayResult(statistic=2.9063306605207404, pvalue=0.03346515188750171)"
      ]
     },
     "execution_count": 107,
     "metadata": {},
     "output_type": "execute_result"
    }
   ],
   "source": [
    "# Perhaps Tukey was not the right mode of assesment to use because it rejected our null hypothesis but this box\n",
    "# plot shows that Denmark appears to be quite different from the others. What about a One-way ANOVA test?\n",
    "\n",
    "stats.f_oneway(ch['sclmeet'], de['sclmeet'], es['sclmeet'], no['sclmeet'])ess_ch_de_no_es.boxplot('sclmeet', by='cntry', figsize = (20,20))"
   ]
  },
  {
   "cell_type": "code",
   "execution_count": null,
   "metadata": {},
   "outputs": [],
   "source": [
    "# This test suggests that there is a significant variation between the means of each sample. Based upon our\n",
    "# analysis of the boxplot, people in Denmark engage in social meetings less than the rest of the group."
   ]
  },
  {
   "cell_type": "code",
   "execution_count": 108,
   "metadata": {
    "scrolled": true
   },
   "outputs": [
    {
     "name": "stdout",
     "output_type": "stream",
     "text": [
      "DescribeResult(nobs=743, minmax=(1, 5), mean=2.784656796769852, variance=0.821489336230696, skewness=0.056518838123621226, kurtosis=-0.05699247701187771) \n",
      "\n",
      "DescribeResult(nobs=14, minmax=(1, 4), mean=2.7142857142857144, variance=0.5274725274725275, skewness=-0.7909810627737351, kurtosis=0.6354166666666665) \n",
      "\n",
      "DescribeResult(nobs=712, minmax=(1, 5), mean=2.860955056179775, variance=0.6740289037437381, skewness=0.09364724158452321, kurtosis=0.39039548364910237) \n",
      "\n",
      "DescribeResult(nobs=1134, minmax=(1, 5), mean=2.631393298059965, variance=0.9037267419144442, skewness=0.05248738196690647, kurtosis=-0.25954410283656104)\n"
     ]
    }
   ],
   "source": [
    "# Now lets compare each populations engagement in social activities.\n",
    "\n",
    "print(stats.describe(ch.sclact), '\\n')\n",
    "print(stats.describe(de.sclact), '\\n')\n",
    "print(stats.describe(no.sclact), '\\n')\n",
    "print(stats.describe(es.sclact))"
   ]
  },
  {
   "cell_type": "code",
   "execution_count": 109,
   "metadata": {},
   "outputs": [
    {
     "data": {
      "text/plain": [
       "array([[<matplotlib.axes._subplots.AxesSubplot object at 0x7f02266d9c10>,\n",
       "        <matplotlib.axes._subplots.AxesSubplot object at 0x7f0226707f90>],\n",
       "       [<matplotlib.axes._subplots.AxesSubplot object at 0x7f022664e850>,\n",
       "        <matplotlib.axes._subplots.AxesSubplot object at 0x7f022668bb90>]],\n",
       "      dtype=object)"
      ]
     },
     "execution_count": 109,
     "metadata": {},
     "output_type": "execute_result"
    },
    {
     "data": {
      "image/png": "[encoded data removed]",
      "text/plain": [
       "<Figure size 1440x1440 with 4 Axes>"
      ]
     },
     "metadata": {
      "needs_background": "light"
     },
     "output_type": "display_data"
    }
   ],
   "source": [
    "# These samples are all normally distributed enough\n",
    "# Let's do the visual analysis first\n",
    "ess_ch_de_no_es['sclact'].hist(by = ess_ch_de_no_es['cntry'], figsize = (20,20))"
   ]
  },
  {
   "cell_type": "code",
   "execution_count": 110,
   "metadata": {
    "scrolled": false
   },
   "outputs": [
    {
     "data": {
      "text/plain": [
       "<matplotlib.axes._subplots.AxesSubplot at 0x7f02266e3ed0>"
      ]
     },
     "execution_count": 110,
     "metadata": {},
     "output_type": "execute_result"
    },
    {
     "data": {
      "image/png": "[encoded data removed]",
      "text/plain": [
       "<Figure size 1440x1440 with 1 Axes>"
      ]
     },
     "metadata": {
      "needs_background": "light"
     },
     "output_type": "display_data"
    }
   ],
   "source": [
    "ess_ch_de_no_es.boxplot('sclact', by='cntry', figsize = (20,20))"
   ]
  },
  {
   "cell_type": "code",
   "execution_count": 111,
   "metadata": {
    "scrolled": true
   },
   "outputs": [
    {
     "data": {
      "text/html": [
       "<table class=\"simpletable\">\n",
       "<caption>Multiple Comparison of Means - Tukey HSD, FWER=0.05</caption>\n",
       "<tr>\n",
       "  <th>group1</th> <th>group2</th> <th>meandiff</th>  <th>p-adj</th>  <th>lower</th>   <th>upper</th>  <th>reject</th>\n",
       "</tr>\n",
       "<tr>\n",
       "    <td>CH</td>     <td>DE</td>    <td>-0.0704</td>   <td>0.9</td>  <td>-0.6966</td> <td>0.5559</td>   <td>False</td>\n",
       "</tr>\n",
       "<tr>\n",
       "    <td>CH</td>     <td>ES</td>    <td>-0.1533</td> <td>0.0019</td> <td>-0.2628</td> <td>-0.0437</td>  <td>True</td> \n",
       "</tr>\n",
       "<tr>\n",
       "    <td>CH</td>     <td>NO</td>    <td>0.0763</td>  <td>0.3734</td> <td>-0.0455</td>  <td>0.198</td>   <td>False</td>\n",
       "</tr>\n",
       "<tr>\n",
       "    <td>DE</td>     <td>ES</td>    <td>-0.0829</td>   <td>0.9</td>  <td>-0.7072</td> <td>0.5414</td>   <td>False</td>\n",
       "</tr>\n",
       "<tr>\n",
       "    <td>DE</td>     <td>NO</td>    <td>0.1467</td>    <td>0.9</td>  <td>-0.4798</td> <td>0.7732</td>   <td>False</td>\n",
       "</tr>\n",
       "<tr>\n",
       "    <td>ES</td>     <td>NO</td>    <td>0.2296</td>   <td>0.001</td> <td>0.1186</td>  <td>0.3406</td>   <td>True</td> \n",
       "</tr>\n",
       "</table>"
      ],
      "text/plain": [
       "<class 'statsmodels.iolib.table.SimpleTable'>"
      ]
     },
     "execution_count": 111,
     "metadata": {},
     "output_type": "execute_result"
    }
   ],
   "source": [
    "# Visually the differences appear to be less pronounced than in the last case. Let's see what the tests say:\n",
    "\n",
    "tukey_2 = pairwise_tukeyhsd(endog = ess_ch_de_no_es['sclact'],      # Data\n",
    "                          groups = ess_ch_de_no_es['cntry'],   # Groups\n",
    "                         alpha=0.05)         # Significance level\n",
    "\n",
    "tukey_2.summary()"
   ]
  },
  {
   "cell_type": "code",
   "execution_count": 112,
   "metadata": {},
   "outputs": [
    {
     "data": {
      "text/plain": [
       "F_onewayResult(statistic=10.331448366565597, pvalue=9.289463479124866e-07)"
      ]
     },
     "execution_count": 112,
     "metadata": {},
     "output_type": "execute_result"
    }
   ],
   "source": [
    "stats.f_oneway(ch['sclact'], de['sclact'], es['sclact'], no['sclact'])"
   ]
  },
  {
   "cell_type": "code",
   "execution_count": 114,
   "metadata": {
    "scrolled": true
   },
   "outputs": [
    {
     "name": "stdout",
     "output_type": "stream",
     "text": [
      "Comparisons vs Denmark \n",
      "\n",
      "Ttest_indResult(statistic=-0.28869953984944624, pvalue=0.7728905598034453) \n",
      "\n",
      "Ttest_indResult(statistic=0.32503027389966244, pvalue=0.7452174850209412) \n",
      "\n",
      "Ttest_indResult(statistic=-0.6632621751899663, pvalue=0.5073737764824289) \n",
      "\n",
      "Comparisons vs Spain\n",
      "Ttest_indResult(statistic=-3.478987931157087, pvalue=0.0005148090072335817) \n",
      "\n",
      "Ttest_indResult(statistic=-0.32503027389966244, pvalue=0.7452174850209412) \n",
      "\n",
      "Ttest_indResult(statistic=-5.31751240602575, pvalue=1.1799291265139793e-07)\n"
     ]
    }
   ],
   "source": [
    "# Based upon the Tukey test Spain is the outlier here. Our ANOVA test tells us that there is a statistically\n",
    "# significant deviation between the means of the sample populations. Let's check Denmark and Spain against the\n",
    "# others\n",
    "print('Comparisons vs Denmark', '\\n')\n",
    "print(stats.ttest_ind(de['sclact'], ch['sclact']), '\\n')\n",
    "print(stats.ttest_ind(de['sclact'], es['sclact']), '\\n')\n",
    "print(stats.ttest_ind(de['sclact'], no['sclact']), '\\n')\n",
    "\n",
    "print('Comparisons vs Spain')\n",
    "print(stats.ttest_ind(es['sclact'], ch['sclact']), '\\n')\n",
    "print(stats.ttest_ind(es['sclact'], de['sclact']), '\\n')\n",
    "print(stats.ttest_ind(es['sclact'], no['sclact']))"
   ]
  },
  {
   "cell_type": "code",
   "execution_count": null,
   "metadata": {},
   "outputs": [],
   "source": [
    "# We have insufficent evidence to reject the null hypothesis in the case of Denmark, despite our visual assesment\n",
    "# Spain on the other hand is significantly different according to these tests. However given the conflicting \n",
    "# results we have seen further study is needed before we can reject our null hypothesis."
   ]
  },
  {
   "cell_type": "code",
   "execution_count": null,
   "metadata": {},
   "outputs": [],
   "source": [
    "# Ruff Figural Fluency Test"
   ]
  },
  {
   "cell_type": "code",
   "execution_count": 57,
   "metadata": {},
   "outputs": [],
   "source": [
    "fluency = pd.read_csv('https://tf-assets-prod.s3.amazonaws.com/tf-curric/data-science/rfft.csv')"
   ]
  },
  {
   "cell_type": "code",
   "execution_count": 58,
   "metadata": {},
   "outputs": [
    {
     "name": "stdout",
     "output_type": "stream",
     "text": [
      "<class 'pandas.core.frame.DataFrame'>\n",
      "RangeIndex: 7545 entries, 0 to 7544\n",
      "Data columns (total 8 columns):\n",
      " #   Column         Non-Null Count  Dtype  \n",
      "---  ------         --------------  -----  \n",
      " 0   Casenr         7545 non-null   int64  \n",
      " 1   Age            7545 non-null   int64  \n",
      " 2   Gender         7545 non-null   object \n",
      " 3   Education      7545 non-null   object \n",
      " 4   Measurement    7545 non-null   object \n",
      " 5   Unique         7545 non-null   float64\n",
      " 6   Perseverative  7545 non-null   float64\n",
      " 7   Interval       7545 non-null   object \n",
      "dtypes: float64(2), int64(2), object(4)\n",
      "memory usage: 471.7+ KB\n"
     ]
    },
    {
     "data": {
      "text/html": [
       "<div>\n",
       "<style scoped>\n",
       "    .dataframe tbody tr th:only-of-type {\n",
       "        vertical-align: middle;\n",
       "    }\n",
       "\n",
       "    .dataframe tbody tr th {\n",
       "        vertical-align: top;\n",
       "    }\n",
       "\n",
       "    .dataframe thead th {\n",
       "        text-align: right;\n",
       "    }\n",
       "</style>\n",
       "<table border=\"1\" class=\"dataframe\">\n",
       "  <thead>\n",
       "    <tr style=\"text-align: right;\">\n",
       "      <th></th>\n",
       "      <th>Casenr</th>\n",
       "      <th>Age</th>\n",
       "      <th>Gender</th>\n",
       "      <th>Education</th>\n",
       "      <th>Measurement</th>\n",
       "      <th>Unique</th>\n",
       "      <th>Perseverative</th>\n",
       "      <th>Interval</th>\n",
       "    </tr>\n",
       "  </thead>\n",
       "  <tbody>\n",
       "    <tr>\n",
       "      <th>0</th>\n",
       "      <td>1</td>\n",
       "      <td>74</td>\n",
       "      <td>Male</td>\n",
       "      <td>Lower secondary school (ISCED 2)</td>\n",
       "      <td>Measurement 1 (2003-2006)</td>\n",
       "      <td>32.0</td>\n",
       "      <td>1.0</td>\n",
       "      <td>Not applicable</td>\n",
       "    </tr>\n",
       "    <tr>\n",
       "      <th>1</th>\n",
       "      <td>1</td>\n",
       "      <td>74</td>\n",
       "      <td>Male</td>\n",
       "      <td>Lower secondary school (ISCED 2)</td>\n",
       "      <td>Measurement 2 (2006-2008)</td>\n",
       "      <td>35.0</td>\n",
       "      <td>0.0</td>\n",
       "      <td>2.842122556</td>\n",
       "    </tr>\n",
       "    <tr>\n",
       "      <th>2</th>\n",
       "      <td>1</td>\n",
       "      <td>74</td>\n",
       "      <td>Male</td>\n",
       "      <td>Lower secondary school (ISCED 2)</td>\n",
       "      <td>Measurement 3 (2008-2012)</td>\n",
       "      <td>50.5</td>\n",
       "      <td>14.5</td>\n",
       "      <td>2.201232033</td>\n",
       "    </tr>\n",
       "    <tr>\n",
       "      <th>3</th>\n",
       "      <td>2</td>\n",
       "      <td>48</td>\n",
       "      <td>Male</td>\n",
       "      <td>Higher secondary school (ISCED 3-4)</td>\n",
       "      <td>Measurement 1 (2003-2006)</td>\n",
       "      <td>26.0</td>\n",
       "      <td>3.0</td>\n",
       "      <td>Not applicable</td>\n",
       "    </tr>\n",
       "    <tr>\n",
       "      <th>4</th>\n",
       "      <td>2</td>\n",
       "      <td>48</td>\n",
       "      <td>Male</td>\n",
       "      <td>Higher secondary school (ISCED 3-4)</td>\n",
       "      <td>Measurement 2 (2006-2008)</td>\n",
       "      <td>47.0</td>\n",
       "      <td>3.0</td>\n",
       "      <td>2.762718362</td>\n",
       "    </tr>\n",
       "  </tbody>\n",
       "</table>\n",
       "</div>"
      ],
      "text/plain": [
       "   Casenr  Age Gender                            Education  \\\n",
       "0       1   74   Male     Lower secondary school (ISCED 2)   \n",
       "1       1   74   Male     Lower secondary school (ISCED 2)   \n",
       "2       1   74   Male     Lower secondary school (ISCED 2)   \n",
       "3       2   48   Male  Higher secondary school (ISCED 3-4)   \n",
       "4       2   48   Male  Higher secondary school (ISCED 3-4)   \n",
       "\n",
       "                 Measurement  Unique  Perseverative        Interval  \n",
       "0  Measurement 1 (2003-2006)    32.0            1.0  Not applicable  \n",
       "1  Measurement 2 (2006-2008)    35.0            0.0     2.842122556  \n",
       "2  Measurement 3 (2008-2012)    50.5           14.5     2.201232033  \n",
       "3  Measurement 1 (2003-2006)    26.0            3.0  Not applicable  \n",
       "4  Measurement 2 (2006-2008)    47.0            3.0     2.762718362  "
      ]
     },
     "execution_count": 58,
     "metadata": {},
     "output_type": "execute_result"
    }
   ],
   "source": [
    "# Examine the data to get started\n",
    "fluency.info()\n",
    "fluency.head()"
   ]
  },
  {
   "cell_type": "code",
   "execution_count": 71,
   "metadata": {},
   "outputs": [],
   "source": [
    "# We need to rearange the data so that each case is represented by a row rather than mulitple rows\n",
    "fluency_pivot = fluency.pivot(index='Casenr', columns='Measurement', values=['Unique', 'Perseverative']).reset_index()"
   ]
  },
  {
   "cell_type": "code",
   "execution_count": 72,
   "metadata": {
    "scrolled": true
   },
   "outputs": [
    {
     "data": {
      "text/html": [
       "<div>\n",
       "<style scoped>\n",
       "    .dataframe tbody tr th:only-of-type {\n",
       "        vertical-align: middle;\n",
       "    }\n",
       "\n",
       "    .dataframe tbody tr th {\n",
       "        vertical-align: top;\n",
       "    }\n",
       "\n",
       "    .dataframe thead tr th {\n",
       "        text-align: left;\n",
       "    }\n",
       "</style>\n",
       "<table border=\"1\" class=\"dataframe\">\n",
       "  <thead>\n",
       "    <tr>\n",
       "      <th></th>\n",
       "      <th>Casenr</th>\n",
       "      <th colspan=\"3\" halign=\"left\">Unique</th>\n",
       "      <th colspan=\"3\" halign=\"left\">Perseverative</th>\n",
       "    </tr>\n",
       "    <tr>\n",
       "      <th>Measurement</th>\n",
       "      <th></th>\n",
       "      <th>Measurement 1 (2003-2006)</th>\n",
       "      <th>Measurement 2 (2006-2008)</th>\n",
       "      <th>Measurement 3 (2008-2012)</th>\n",
       "      <th>Measurement 1 (2003-2006)</th>\n",
       "      <th>Measurement 2 (2006-2008)</th>\n",
       "      <th>Measurement 3 (2008-2012)</th>\n",
       "    </tr>\n",
       "  </thead>\n",
       "  <tbody>\n",
       "    <tr>\n",
       "      <th>0</th>\n",
       "      <td>1</td>\n",
       "      <td>32.0</td>\n",
       "      <td>35.0</td>\n",
       "      <td>50.5</td>\n",
       "      <td>1.0</td>\n",
       "      <td>0.0</td>\n",
       "      <td>14.5</td>\n",
       "    </tr>\n",
       "    <tr>\n",
       "      <th>1</th>\n",
       "      <td>2</td>\n",
       "      <td>26.0</td>\n",
       "      <td>47.0</td>\n",
       "      <td>71.0</td>\n",
       "      <td>3.0</td>\n",
       "      <td>3.0</td>\n",
       "      <td>0.5</td>\n",
       "    </tr>\n",
       "    <tr>\n",
       "      <th>2</th>\n",
       "      <td>3</td>\n",
       "      <td>91.0</td>\n",
       "      <td>83.5</td>\n",
       "      <td>77.0</td>\n",
       "      <td>11.0</td>\n",
       "      <td>21.0</td>\n",
       "      <td>17.0</td>\n",
       "    </tr>\n",
       "    <tr>\n",
       "      <th>3</th>\n",
       "      <td>4</td>\n",
       "      <td>59.0</td>\n",
       "      <td>54.0</td>\n",
       "      <td>64.0</td>\n",
       "      <td>49.0</td>\n",
       "      <td>39.0</td>\n",
       "      <td>11.0</td>\n",
       "    </tr>\n",
       "    <tr>\n",
       "      <th>4</th>\n",
       "      <td>5</td>\n",
       "      <td>60.0</td>\n",
       "      <td>68.0</td>\n",
       "      <td>21.0</td>\n",
       "      <td>14.0</td>\n",
       "      <td>16.0</td>\n",
       "      <td>0.0</td>\n",
       "    </tr>\n",
       "  </tbody>\n",
       "</table>\n",
       "</div>"
      ],
      "text/plain": [
       "            Casenr                    Unique                            \\\n",
       "Measurement        Measurement 1 (2003-2006) Measurement 2 (2006-2008)   \n",
       "0                1                      32.0                      35.0   \n",
       "1                2                      26.0                      47.0   \n",
       "2                3                      91.0                      83.5   \n",
       "3                4                      59.0                      54.0   \n",
       "4                5                      60.0                      68.0   \n",
       "\n",
       "                                                  Perseverative  \\\n",
       "Measurement Measurement 3 (2008-2012) Measurement 1 (2003-2006)   \n",
       "0                                50.5                       1.0   \n",
       "1                                71.0                       3.0   \n",
       "2                                77.0                      11.0   \n",
       "3                                64.0                      49.0   \n",
       "4                                21.0                      14.0   \n",
       "\n",
       "                                                                 \n",
       "Measurement Measurement 2 (2006-2008) Measurement 3 (2008-2012)  \n",
       "0                                 0.0                      14.5  \n",
       "1                                 3.0                       0.5  \n",
       "2                                21.0                      17.0  \n",
       "3                                39.0                      11.0  \n",
       "4                                16.0                       0.0  "
      ]
     },
     "execution_count": 72,
     "metadata": {},
     "output_type": "execute_result"
    }
   ],
   "source": [
    "fluency_pivot.head()"
   ]
  },
  {
   "cell_type": "code",
   "execution_count": 75,
   "metadata": {},
   "outputs": [
    {
     "data": {
      "text/plain": [
       "MultiIndex([(       'Casenr',                          ''),\n",
       "            (       'Unique', 'Measurement 1 (2003-2006)'),\n",
       "            (       'Unique', 'Measurement 2 (2006-2008)'),\n",
       "            (       'Unique', 'Measurement 3 (2008-2012)'),\n",
       "            ('Perseverative', 'Measurement 1 (2003-2006)'),\n",
       "            ('Perseverative', 'Measurement 2 (2006-2008)'),\n",
       "            ('Perseverative', 'Measurement 3 (2008-2012)')],\n",
       "           names=[None, 'Measurement'])"
      ]
     },
     "execution_count": 75,
     "metadata": {},
     "output_type": "execute_result"
    }
   ],
   "source": [
    "# Check how the columns are named now that the table has a more complex index\n",
    "fluency_pivot.columns"
   ]
  },
  {
   "cell_type": "code",
   "execution_count": 80,
   "metadata": {},
   "outputs": [
    {
     "name": "stdout",
     "output_type": "stream",
     "text": [
      "DescribeResult(nobs=2515, minmax=(13.0, 155.0), mean=78.69244532803181, variance=707.0341513370058, skewness=0.1471876477093264, kurtosis=-0.5467621966747225) \n",
      "\n",
      "DescribeResult(nobs=2515, minmax=(13.5, 161.5), mean=82.7079522862823, variance=808.8049884464099, skewness=0.020360395669875728, kurtosis=-0.5479245402887649)\n"
     ]
    },
    {
     "data": {
      "image/png": "[encoded data removed]",
      "text/plain": [
       "<Figure size 1440x1440 with 1 Axes>"
      ]
     },
     "metadata": {
      "needs_background": "light"
     },
     "output_type": "display_data"
    }
   ],
   "source": [
    "# Now let's take a look at these distributions.\n",
    "\n",
    "print(stats.describe(fluency_pivot[('Unique', 'Measurement 2 (2006-2008)')]), '\\n')\n",
    "print(stats.describe(fluency_pivot[('Unique', 'Measurement 3 (2008-2012)')]))\n",
    "\n",
    "plt.figure(figsize=(20,20))\n",
    "plt.hist(fluency_pivot[('Unique', 'Measurement 2 (2006-2008)')], alpha = .5)\n",
    "plt.hist(fluency_pivot[('Unique', 'Measurement 3 (2008-2012)')], alpha = .5)\n",
    "plt.legend(['Measurement 2', 'Measurement 3'])\n",
    "plt.show()"
   ]
  },
  {
   "cell_type": "code",
   "execution_count": 81,
   "metadata": {},
   "outputs": [
    {
     "data": {
      "text/plain": [
       "Ttest_relResult(statistic=-10.88544039426271, pvalue=5.3585747477799544e-27)"
      ]
     },
     "execution_count": 81,
     "metadata": {},
     "output_type": "execute_result"
    }
   ],
   "source": [
    "# These are normally distributed so lets go ahead and use a t-test for dependant groups.\n",
    "\n",
    "stats.ttest_rel(fluency_pivot[('Unique', 'Measurement 2 (2006-2008)')], fluency_pivot[('Unique', 'Measurement 3 (2008-2012)')])"
   ]
  },
  {
   "cell_type": "code",
   "execution_count": 69,
   "metadata": {},
   "outputs": [],
   "source": [
    "# Given these results we can reject the null hypothesis and say that there is a statistically significant\n",
    "# difference between the number of unique designs created by particiapants in Measurements 2 and 3."
   ]
  },
  {
   "cell_type": "code",
   "execution_count": 82,
   "metadata": {},
   "outputs": [
    {
     "name": "stdout",
     "output_type": "stream",
     "text": [
      "DescribeResult(nobs=2515, minmax=(0.0, 133.5), mean=11.769980119284295, variance=203.46626233055127, skewness=3.2001427277175862, kurtosis=13.913985994081123) \n",
      "\n",
      "DescribeResult(nobs=2515, minmax=(0.0, 124.0), mean=12.100198807157058, variance=187.75009940357853, skewness=3.03381078165085, kurtosis=13.347862924837408)\n"
     ]
    },
    {
     "data": {
      "image/png": "[encoded data removed]",
      "text/plain": [
       "<Figure size 1440x1440 with 1 Axes>"
      ]
     },
     "metadata": {
      "needs_background": "light"
     },
     "output_type": "display_data"
    }
   ],
   "source": [
    "# Let's look at the data again\n",
    "\n",
    "print(stats.describe(fluency_pivot[('Perseverative', 'Measurement 2 (2006-2008)')]), '\\n')\n",
    "print(stats.describe(fluency_pivot[('Perseverative', 'Measurement 3 (2008-2012)')]))\n",
    "\n",
    "plt.figure(figsize=(20,20))\n",
    "plt.hist(fluency_pivot[('Perseverative', 'Measurement 2 (2006-2008)')], alpha = .5)\n",
    "plt.hist(fluency_pivot[('Perseverative', 'Measurement 3 (2008-2012)')], alpha = .5)\n",
    "plt.legend(['Measurement 2', 'Measurement 3'])\n",
    "plt.show()"
   ]
  },
  {
   "cell_type": "code",
   "execution_count": 83,
   "metadata": {},
   "outputs": [
    {
     "data": {
      "text/plain": [
       "WilcoxonResult(statistic=1358373.0, pvalue=0.0006927535563546565)"
      ]
     },
     "execution_count": 83,
     "metadata": {},
     "output_type": "execute_result"
    }
   ],
   "source": [
    "# This distribution is not normal so we will need to use the Wilcoxon signed-rank test.\n",
    "\n",
    "stats.wilcoxon(fluency_pivot[('Perseverative', 'Measurement 2 (2006-2008)')]\n",
    "               - fluency_pivot[('Perseverative', 'Measurement 3 (2008-2012)')])"
   ]
  },
  {
   "cell_type": "code",
   "execution_count": null,
   "metadata": {},
   "outputs": [],
   "source": [
    "# Based upon our results we can reject our null hypothesis. Here we see a significant difference between the\n",
    "# two samples."
   ]
  }
 ],
 "metadata": {
  "kernelspec": {
   "display_name": "Python 3",
   "language": "python",
   "name": "python3"
  },
  "language_info": {
   "codemirror_mode": {
    "name": "ipython",
    "version": 3
   },
   "file_extension": ".py",
   "mimetype": "text/x-python",
   "name": "python",
   "nbconvert_exporter": "python",
   "pygments_lexer": "ipython3",
   "version": "3.7.6"
  }
 },
 "nbformat": 4,
 "nbformat_minor": 4
}
