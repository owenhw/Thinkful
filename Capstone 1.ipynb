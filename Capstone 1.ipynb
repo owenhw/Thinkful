{
 "cells": [
  {
   "cell_type": "code",
   "execution_count": 2,
   "metadata": {},
   "outputs": [],
   "source": [
    "%matplotlib inline\n",
    "import pandas as pd\n",
    "import numpy as np\n",
    "import seaborn as sns\n",
    "from scipy import stats\n",
    "import math\n",
    "import matplotlib.pyplot as plt\n",
    "import os\n",
    "from scipy.stats import chi2\n",
    "from scipy.stats import chi2_contingency\n",
    "import matplotlib.gridspec as gridspec"
   ]
  },
  {
   "cell_type": "markdown",
   "metadata": {},
   "source": [
    "## Introduction\n",
    "\n",
    "The New York City Department of Health and Mental Hygiene (DOHMH) makes publicly avaiable the results of their restaurant inspections. As consumers this information can help us make the best choices for our safety. Grades posted on individual business help us make one off choices. However its important to note the grading scale. \n",
    "\n",
    "    +A: 0-13 \n",
    "    +B: 14-27 \n",
    "    +C: 28\n",
    "\n",
    "There is a lot of granular data within the A and B ranges that we don't see when we look at the posted letter grade. In addition while there are shutdown and cutoff measures for operators who score very badely the C grade is an extrememly wide net. While the ideal score is 0 there is no maximum possible score.\n",
    "\n",
    "Our stakeholders are the public consumer. Many many have already searched this database to look up the inspection details for restaurants in their neigborhood or the records of a restaurant they have never tried before in advance of a visit. There may be larger trends in the data that can offer insights about how to make the safest choices when visiting restaurants."
   ]
  },
  {
   "cell_type": "markdown",
   "metadata": {},
   "source": [
    "## Hypotheses\n",
    "\n",
    "H<sub>0</sub>: There is no significant difference between the populations  \n",
    "\n",
    "H<sub>A</sub>: There is a significant difference between one or more of the populations and the entire population"
   ]
  },
  {
   "cell_type": "markdown",
   "metadata": {},
   "source": [
    "## Data\n",
    "\n",
    "The data for this analysis is publicly available via the DOHMH website and can be accessed at:\n",
    "https://data.cityofnewyork.us/Health/DOHMH-New-York-City-Restaurant-Inspection-Results/43nn-pn8j\n",
    "This data is updated regularly. \n",
    "\n",
    "Some information about how inspections are scorred can be found at:\n",
    "https://www1.nyc.gov/assets/doh/downloads/pdf/rii/how-we-score-grade.pdf\n",
    "\n",
    "\n",
    "This data set contains over 400,000 entries, each a unique inspection result. It also contains 84 unique identifiers for 'CUISINE DESCRIPTION' which is too many to cover in the course of this analysis. Additionally some of these variables have very few entries. In thise case we will limit our analysis to the 5 variables with the most entries. We will also want to limit which data we use in other ways.\n",
    "\n",
    "The DOHMH conducts many different kinds of inspections and not all result in a score. Some are rechecks if a operator had issues to be corrected on the first inspection. In order to keep our sample as representative of normal operation as possible we will consider only the scores recieved during the first visit of a random audit process.\n",
    "\n",
    "Our populations with the top five number of entries are: American, Chinese, Cafe/coffee/tea, Latin and, Italian. Between these groups, after cleaning we have 106,971 rows."
   ]
  },
  {
   "cell_type": "code",
   "execution_count": 3,
   "metadata": {
    "scrolled": true
   },
   "outputs": [
    {
     "name": "stdout",
     "output_type": "stream",
     "text": [
      "<class 'pandas.core.frame.DataFrame'>\n",
      "RangeIndex: 400305 entries, 0 to 400304\n",
      "Data columns (total 26 columns):\n",
      " #   Column                 Non-Null Count   Dtype  \n",
      "---  ------                 --------------   -----  \n",
      " 0   CAMIS                  400305 non-null  int64  \n",
      " 1   DBA                    399954 non-null  object \n",
      " 2   BORO                   400305 non-null  object \n",
      " 3   BUILDING               399086 non-null  object \n",
      " 4   STREET                 400229 non-null  object \n",
      " 5   ZIPCODE                393580 non-null  float64\n",
      " 6   PHONE                  400287 non-null  object \n",
      " 7   CUISINE DESCRIPTION    400305 non-null  object \n",
      " 8   INSPECTION DATE        400305 non-null  object \n",
      " 9   ACTION                 398548 non-null  object \n",
      " 10  VIOLATION CODE         394293 non-null  object \n",
      " 11  VIOLATION DESCRIPTION  390916 non-null  object \n",
      " 12  CRITICAL FLAG          390916 non-null  object \n",
      " 13  SCORE                  383164 non-null  float64\n",
      " 14  GRADE                  202739 non-null  object \n",
      " 15  GRADE DATE             200123 non-null  object \n",
      " 16  RECORD DATE            400305 non-null  object \n",
      " 17  INSPECTION TYPE        398548 non-null  object \n",
      " 18  Latitude               398712 non-null  float64\n",
      " 19  Longitude              398712 non-null  float64\n",
      " 20  Community Board        392099 non-null  float64\n",
      " 21  Council District       392099 non-null  float64\n",
      " 22  Census Tract           392099 non-null  float64\n",
      " 23  BIN                    390322 non-null  float64\n",
      " 24  BBL                    398712 non-null  float64\n",
      " 25  NTA                    392099 non-null  object \n",
      "dtypes: float64(9), int64(1), object(16)\n",
      "memory usage: 79.4+ MB\n"
     ]
    },
    {
     "data": {
      "text/html": [
       "<div>\n",
       "<style scoped>\n",
       "    .dataframe tbody tr th:only-of-type {\n",
       "        vertical-align: middle;\n",
       "    }\n",
       "\n",
       "    .dataframe tbody tr th {\n",
       "        vertical-align: top;\n",
       "    }\n",
       "\n",
       "    .dataframe thead th {\n",
       "        text-align: right;\n",
       "    }\n",
       "</style>\n",
       "<table border=\"1\" class=\"dataframe\">\n",
       "  <thead>\n",
       "    <tr style=\"text-align: right;\">\n",
       "      <th></th>\n",
       "      <th>CAMIS</th>\n",
       "      <th>DBA</th>\n",
       "      <th>BORO</th>\n",
       "      <th>BUILDING</th>\n",
       "      <th>STREET</th>\n",
       "      <th>ZIPCODE</th>\n",
       "      <th>PHONE</th>\n",
       "      <th>CUISINE DESCRIPTION</th>\n",
       "      <th>INSPECTION DATE</th>\n",
       "      <th>ACTION</th>\n",
       "      <th>...</th>\n",
       "      <th>RECORD DATE</th>\n",
       "      <th>INSPECTION TYPE</th>\n",
       "      <th>Latitude</th>\n",
       "      <th>Longitude</th>\n",
       "      <th>Community Board</th>\n",
       "      <th>Council District</th>\n",
       "      <th>Census Tract</th>\n",
       "      <th>BIN</th>\n",
       "      <th>BBL</th>\n",
       "      <th>NTA</th>\n",
       "    </tr>\n",
       "  </thead>\n",
       "  <tbody>\n",
       "    <tr>\n",
       "      <th>0</th>\n",
       "      <td>50055236</td>\n",
       "      <td>NAKED CRAB</td>\n",
       "      <td>Queens</td>\n",
       "      <td>3916</td>\n",
       "      <td>COLLEGE POINT BLVD</td>\n",
       "      <td>11354.0</td>\n",
       "      <td>7188868777</td>\n",
       "      <td>Seafood</td>\n",
       "      <td>10/23/2018</td>\n",
       "      <td>Violations were cited in the following area(s).</td>\n",
       "      <td>...</td>\n",
       "      <td>07/18/2020</td>\n",
       "      <td>Cycle Inspection / Initial Inspection</td>\n",
       "      <td>40.758797</td>\n",
       "      <td>-73.834479</td>\n",
       "      <td>407.0</td>\n",
       "      <td>20.0</td>\n",
       "      <td>87100.0</td>\n",
       "      <td>4539543.0</td>\n",
       "      <td>4.049620e+09</td>\n",
       "      <td>QN22</td>\n",
       "    </tr>\n",
       "    <tr>\n",
       "      <th>1</th>\n",
       "      <td>41472986</td>\n",
       "      <td>FUJI JAPANESE RESTAURANT</td>\n",
       "      <td>Manhattan</td>\n",
       "      <td>238</td>\n",
       "      <td>WEST   56 STREET</td>\n",
       "      <td>10019.0</td>\n",
       "      <td>2125869888</td>\n",
       "      <td>Japanese</td>\n",
       "      <td>11/04/2019</td>\n",
       "      <td>Violations were cited in the following area(s).</td>\n",
       "      <td>...</td>\n",
       "      <td>07/18/2020</td>\n",
       "      <td>Cycle Inspection / Re-inspection</td>\n",
       "      <td>40.765629</td>\n",
       "      <td>-73.982423</td>\n",
       "      <td>105.0</td>\n",
       "      <td>3.0</td>\n",
       "      <td>13700.0</td>\n",
       "      <td>1024884.0</td>\n",
       "      <td>1.010270e+09</td>\n",
       "      <td>MN17</td>\n",
       "    </tr>\n",
       "    <tr>\n",
       "      <th>2</th>\n",
       "      <td>50015984</td>\n",
       "      <td>SHUKO</td>\n",
       "      <td>Manhattan</td>\n",
       "      <td>47</td>\n",
       "      <td>EAST   12 STREET</td>\n",
       "      <td>10003.0</td>\n",
       "      <td>6465103673</td>\n",
       "      <td>Japanese</td>\n",
       "      <td>10/30/2018</td>\n",
       "      <td>Violations were cited in the following area(s).</td>\n",
       "      <td>...</td>\n",
       "      <td>07/18/2020</td>\n",
       "      <td>Cycle Inspection / Initial Inspection</td>\n",
       "      <td>40.733456</td>\n",
       "      <td>-73.991683</td>\n",
       "      <td>102.0</td>\n",
       "      <td>2.0</td>\n",
       "      <td>6100.0</td>\n",
       "      <td>1084682.0</td>\n",
       "      <td>1.005640e+09</td>\n",
       "      <td>MN23</td>\n",
       "    </tr>\n",
       "    <tr>\n",
       "      <th>3</th>\n",
       "      <td>40994739</td>\n",
       "      <td>LE PAIN QUOTIDIEN</td>\n",
       "      <td>Manhattan</td>\n",
       "      <td>922</td>\n",
       "      <td>7 AVENUE</td>\n",
       "      <td>10019.0</td>\n",
       "      <td>2127570775</td>\n",
       "      <td>Sandwiches</td>\n",
       "      <td>04/23/2018</td>\n",
       "      <td>Violations were cited in the following area(s).</td>\n",
       "      <td>...</td>\n",
       "      <td>07/18/2020</td>\n",
       "      <td>Cycle Inspection / Re-inspection</td>\n",
       "      <td>40.766405</td>\n",
       "      <td>-73.979408</td>\n",
       "      <td>105.0</td>\n",
       "      <td>4.0</td>\n",
       "      <td>13700.0</td>\n",
       "      <td>1024918.0</td>\n",
       "      <td>1.010300e+09</td>\n",
       "      <td>MN17</td>\n",
       "    </tr>\n",
       "    <tr>\n",
       "      <th>4</th>\n",
       "      <td>50072568</td>\n",
       "      <td>GOOD TASTE</td>\n",
       "      <td>Bronx</td>\n",
       "      <td>2428</td>\n",
       "      <td>CRESTON AVENUE</td>\n",
       "      <td>10468.0</td>\n",
       "      <td>7189338888</td>\n",
       "      <td>Asian</td>\n",
       "      <td>11/29/2018</td>\n",
       "      <td>Violations were cited in the following area(s).</td>\n",
       "      <td>...</td>\n",
       "      <td>07/18/2020</td>\n",
       "      <td>Cycle Inspection / Re-inspection</td>\n",
       "      <td>40.861446</td>\n",
       "      <td>-73.898831</td>\n",
       "      <td>205.0</td>\n",
       "      <td>14.0</td>\n",
       "      <td>23703.0</td>\n",
       "      <td>2013795.0</td>\n",
       "      <td>2.031650e+09</td>\n",
       "      <td>BX40</td>\n",
       "    </tr>\n",
       "  </tbody>\n",
       "</table>\n",
       "<p>5 rows × 26 columns</p>\n",
       "</div>"
      ],
      "text/plain": [
       "      CAMIS                       DBA       BORO BUILDING              STREET  \\\n",
       "0  50055236                NAKED CRAB     Queens     3916  COLLEGE POINT BLVD   \n",
       "1  41472986  FUJI JAPANESE RESTAURANT  Manhattan      238    WEST   56 STREET   \n",
       "2  50015984                     SHUKO  Manhattan       47    EAST   12 STREET   \n",
       "3  40994739         LE PAIN QUOTIDIEN  Manhattan      922            7 AVENUE   \n",
       "4  50072568                GOOD TASTE      Bronx     2428      CRESTON AVENUE   \n",
       "\n",
       "   ZIPCODE       PHONE CUISINE DESCRIPTION INSPECTION DATE  \\\n",
       "0  11354.0  7188868777             Seafood      10/23/2018   \n",
       "1  10019.0  2125869888            Japanese      11/04/2019   \n",
       "2  10003.0  6465103673            Japanese      10/30/2018   \n",
       "3  10019.0  2127570775          Sandwiches      04/23/2018   \n",
       "4  10468.0  7189338888               Asian      11/29/2018   \n",
       "\n",
       "                                            ACTION  ... RECORD DATE  \\\n",
       "0  Violations were cited in the following area(s).  ...  07/18/2020   \n",
       "1  Violations were cited in the following area(s).  ...  07/18/2020   \n",
       "2  Violations were cited in the following area(s).  ...  07/18/2020   \n",
       "3  Violations were cited in the following area(s).  ...  07/18/2020   \n",
       "4  Violations were cited in the following area(s).  ...  07/18/2020   \n",
       "\n",
       "                         INSPECTION TYPE   Latitude  Longitude  \\\n",
       "0  Cycle Inspection / Initial Inspection  40.758797 -73.834479   \n",
       "1       Cycle Inspection / Re-inspection  40.765629 -73.982423   \n",
       "2  Cycle Inspection / Initial Inspection  40.733456 -73.991683   \n",
       "3       Cycle Inspection / Re-inspection  40.766405 -73.979408   \n",
       "4       Cycle Inspection / Re-inspection  40.861446 -73.898831   \n",
       "\n",
       "  Community Board Council District Census Tract        BIN           BBL   NTA  \n",
       "0           407.0             20.0      87100.0  4539543.0  4.049620e+09  QN22  \n",
       "1           105.0              3.0      13700.0  1024884.0  1.010270e+09  MN17  \n",
       "2           102.0              2.0       6100.0  1084682.0  1.005640e+09  MN23  \n",
       "3           105.0              4.0      13700.0  1024918.0  1.010300e+09  MN17  \n",
       "4           205.0             14.0      23703.0  2013795.0  2.031650e+09  BX40  \n",
       "\n",
       "[5 rows x 26 columns]"
      ]
     },
     "execution_count": 3,
     "metadata": {},
     "output_type": "execute_result"
    }
   ],
   "source": [
    "df = pd.read_csv('DOHMH_Inspection_Results.csv')\n",
    "df.info()\n",
    "df.head()"
   ]
  },
  {
   "cell_type": "markdown",
   "metadata": {},
   "source": [
    "## Methods\n",
    "\n",
    "\n",
    "Unfortounately our data dictionary doesn't tell us anything about these types of inpsections. Many of these types however such as re-inspections mean that the operators could have advance notice of an inspection and may change their behavior accordingly We will use only the 'Cycle Inspection / Initial Inspection' values  as these are the inspections most likley to be conducted at random.\n",
    "\n",
    "The data will be further cleaned for null values and grouped into populations corresponding with their 'CUISINE DESCRIPTION' variable. \n",
    "\n",
    "Then we will examine distribution for normality and select an appropriate significanace test.\n",
    "\n",
    " "
   ]
  },
  {
   "cell_type": "code",
   "execution_count": 4,
   "metadata": {},
   "outputs": [],
   "source": [
    "# There are a lot of columns we don't need.\n",
    "base = df[['CAMIS', 'CUISINE DESCRIPTION', 'SCORE', 'CRITICAL FLAG', 'INSPECTION TYPE'\n",
    "           , 'INSPECTION DATE', 'DBA']]"
   ]
  },
  {
   "cell_type": "code",
   "execution_count": 345,
   "metadata": {
    "scrolled": false
   },
   "outputs": [
    {
     "name": "stdout",
     "output_type": "stream",
     "text": [
      "<class 'pandas.core.frame.DataFrame'>\n",
      "RangeIndex: 400305 entries, 0 to 400304\n",
      "Data columns (total 7 columns):\n",
      " #   Column               Non-Null Count   Dtype  \n",
      "---  ------               --------------   -----  \n",
      " 0   CAMIS                400305 non-null  int64  \n",
      " 1   CUISINE DESCRIPTION  400305 non-null  object \n",
      " 2   SCORE                383164 non-null  float64\n",
      " 3   CRITICAL FLAG        390916 non-null  object \n",
      " 4   INSPECTION TYPE      398548 non-null  object \n",
      " 5   INSPECTION DATE      400305 non-null  object \n",
      " 6   DBA                  399954 non-null  object \n",
      "dtypes: float64(1), int64(1), object(5)\n",
      "memory usage: 21.4+ MB\n"
     ]
    },
    {
     "data": {
      "text/html": [
       "<div>\n",
       "<style scoped>\n",
       "    .dataframe tbody tr th:only-of-type {\n",
       "        vertical-align: middle;\n",
       "    }\n",
       "\n",
       "    .dataframe tbody tr th {\n",
       "        vertical-align: top;\n",
       "    }\n",
       "\n",
       "    .dataframe thead th {\n",
       "        text-align: right;\n",
       "    }\n",
       "</style>\n",
       "<table border=\"1\" class=\"dataframe\">\n",
       "  <thead>\n",
       "    <tr style=\"text-align: right;\">\n",
       "      <th></th>\n",
       "      <th>CAMIS</th>\n",
       "      <th>CUISINE DESCRIPTION</th>\n",
       "      <th>SCORE</th>\n",
       "      <th>CRITICAL FLAG</th>\n",
       "      <th>INSPECTION TYPE</th>\n",
       "      <th>INSPECTION DATE</th>\n",
       "      <th>DBA</th>\n",
       "    </tr>\n",
       "  </thead>\n",
       "  <tbody>\n",
       "    <tr>\n",
       "      <th>0</th>\n",
       "      <td>50055236</td>\n",
       "      <td>Seafood</td>\n",
       "      <td>22.0</td>\n",
       "      <td>Y</td>\n",
       "      <td>Cycle Inspection / Initial Inspection</td>\n",
       "      <td>10/23/2018</td>\n",
       "      <td>NAKED CRAB</td>\n",
       "    </tr>\n",
       "    <tr>\n",
       "      <th>1</th>\n",
       "      <td>41472986</td>\n",
       "      <td>Japanese</td>\n",
       "      <td>11.0</td>\n",
       "      <td>N</td>\n",
       "      <td>Cycle Inspection / Re-inspection</td>\n",
       "      <td>11/04/2019</td>\n",
       "      <td>FUJI JAPANESE RESTAURANT</td>\n",
       "    </tr>\n",
       "    <tr>\n",
       "      <th>2</th>\n",
       "      <td>50015984</td>\n",
       "      <td>Japanese</td>\n",
       "      <td>26.0</td>\n",
       "      <td>Y</td>\n",
       "      <td>Cycle Inspection / Initial Inspection</td>\n",
       "      <td>10/30/2018</td>\n",
       "      <td>SHUKO</td>\n",
       "    </tr>\n",
       "    <tr>\n",
       "      <th>3</th>\n",
       "      <td>40994739</td>\n",
       "      <td>Sandwiches</td>\n",
       "      <td>12.0</td>\n",
       "      <td>Y</td>\n",
       "      <td>Cycle Inspection / Re-inspection</td>\n",
       "      <td>04/23/2018</td>\n",
       "      <td>LE PAIN QUOTIDIEN</td>\n",
       "    </tr>\n",
       "    <tr>\n",
       "      <th>4</th>\n",
       "      <td>50072568</td>\n",
       "      <td>Asian</td>\n",
       "      <td>7.0</td>\n",
       "      <td>Y</td>\n",
       "      <td>Cycle Inspection / Re-inspection</td>\n",
       "      <td>11/29/2018</td>\n",
       "      <td>GOOD TASTE</td>\n",
       "    </tr>\n",
       "  </tbody>\n",
       "</table>\n",
       "</div>"
      ],
      "text/plain": [
       "      CAMIS CUISINE DESCRIPTION  SCORE CRITICAL FLAG  \\\n",
       "0  50055236             Seafood   22.0             Y   \n",
       "1  41472986            Japanese   11.0             N   \n",
       "2  50015984            Japanese   26.0             Y   \n",
       "3  40994739          Sandwiches   12.0             Y   \n",
       "4  50072568               Asian    7.0             Y   \n",
       "\n",
       "                         INSPECTION TYPE INSPECTION DATE  \\\n",
       "0  Cycle Inspection / Initial Inspection      10/23/2018   \n",
       "1       Cycle Inspection / Re-inspection      11/04/2019   \n",
       "2  Cycle Inspection / Initial Inspection      10/30/2018   \n",
       "3       Cycle Inspection / Re-inspection      04/23/2018   \n",
       "4       Cycle Inspection / Re-inspection      11/29/2018   \n",
       "\n",
       "                        DBA  \n",
       "0                NAKED CRAB  \n",
       "1  FUJI JAPANESE RESTAURANT  \n",
       "2                     SHUKO  \n",
       "3         LE PAIN QUOTIDIEN  \n",
       "4                GOOD TASTE  "
      ]
     },
     "execution_count": 345,
     "metadata": {},
     "output_type": "execute_result"
    }
   ],
   "source": [
    "base.info()\n",
    "base.head()"
   ]
  },
  {
   "cell_type": "code",
   "execution_count": 5,
   "metadata": {
    "scrolled": false
   },
   "outputs": [
    {
     "name": "stdout",
     "output_type": "stream",
     "text": [
      "<class 'pandas.core.frame.DataFrame'>\n",
      "Int64Index: 234032 entries, 0 to 400303\n",
      "Data columns (total 7 columns):\n",
      " #   Column               Non-Null Count   Dtype  \n",
      "---  ------               --------------   -----  \n",
      " 0   CAMIS                234032 non-null  int64  \n",
      " 1   CUISINE DESCRIPTION  234032 non-null  object \n",
      " 2   SCORE                234032 non-null  float64\n",
      " 3   CRITICAL FLAG        232806 non-null  object \n",
      " 4   INSPECTION TYPE      234032 non-null  object \n",
      " 5   INSPECTION DATE      234032 non-null  object \n",
      " 6   DBA                  234032 non-null  object \n",
      "dtypes: float64(1), int64(1), object(5)\n",
      "memory usage: 14.3+ MB\n"
     ]
    },
    {
     "data": {
      "text/html": [
       "<div>\n",
       "<style scoped>\n",
       "    .dataframe tbody tr th:only-of-type {\n",
       "        vertical-align: middle;\n",
       "    }\n",
       "\n",
       "    .dataframe tbody tr th {\n",
       "        vertical-align: top;\n",
       "    }\n",
       "\n",
       "    .dataframe thead th {\n",
       "        text-align: right;\n",
       "    }\n",
       "</style>\n",
       "<table border=\"1\" class=\"dataframe\">\n",
       "  <thead>\n",
       "    <tr style=\"text-align: right;\">\n",
       "      <th></th>\n",
       "      <th>CAMIS</th>\n",
       "      <th>CUISINE DESCRIPTION</th>\n",
       "      <th>SCORE</th>\n",
       "      <th>CRITICAL FLAG</th>\n",
       "      <th>INSPECTION TYPE</th>\n",
       "      <th>INSPECTION DATE</th>\n",
       "      <th>DBA</th>\n",
       "    </tr>\n",
       "  </thead>\n",
       "  <tbody>\n",
       "    <tr>\n",
       "      <th>0</th>\n",
       "      <td>50055236</td>\n",
       "      <td>Seafood</td>\n",
       "      <td>22.0</td>\n",
       "      <td>Y</td>\n",
       "      <td>Cycle Inspection / Initial Inspection</td>\n",
       "      <td>10/23/2018</td>\n",
       "      <td>NAKED CRAB</td>\n",
       "    </tr>\n",
       "    <tr>\n",
       "      <th>2</th>\n",
       "      <td>50015984</td>\n",
       "      <td>Japanese</td>\n",
       "      <td>26.0</td>\n",
       "      <td>Y</td>\n",
       "      <td>Cycle Inspection / Initial Inspection</td>\n",
       "      <td>10/30/2018</td>\n",
       "      <td>SHUKO</td>\n",
       "    </tr>\n",
       "    <tr>\n",
       "      <th>6</th>\n",
       "      <td>50002628</td>\n",
       "      <td>American</td>\n",
       "      <td>21.0</td>\n",
       "      <td>N</td>\n",
       "      <td>Cycle Inspection / Initial Inspection</td>\n",
       "      <td>10/11/2018</td>\n",
       "      <td>KFC</td>\n",
       "    </tr>\n",
       "    <tr>\n",
       "      <th>7</th>\n",
       "      <td>41259444</td>\n",
       "      <td>Peruvian</td>\n",
       "      <td>12.0</td>\n",
       "      <td>Y</td>\n",
       "      <td>Cycle Inspection / Initial Inspection</td>\n",
       "      <td>12/17/2018</td>\n",
       "      <td>COCO ROCO RESTAURANT</td>\n",
       "    </tr>\n",
       "    <tr>\n",
       "      <th>9</th>\n",
       "      <td>41687345</td>\n",
       "      <td>Irish</td>\n",
       "      <td>14.0</td>\n",
       "      <td>N</td>\n",
       "      <td>Cycle Inspection / Initial Inspection</td>\n",
       "      <td>07/31/2017</td>\n",
       "      <td>JACK DOYLES PUB &amp; RESTAURANT</td>\n",
       "    </tr>\n",
       "  </tbody>\n",
       "</table>\n",
       "</div>"
      ],
      "text/plain": [
       "      CAMIS CUISINE DESCRIPTION  SCORE CRITICAL FLAG  \\\n",
       "0  50055236             Seafood   22.0             Y   \n",
       "2  50015984            Japanese   26.0             Y   \n",
       "6  50002628            American   21.0             N   \n",
       "7  41259444            Peruvian   12.0             Y   \n",
       "9  41687345               Irish   14.0             N   \n",
       "\n",
       "                         INSPECTION TYPE INSPECTION DATE  \\\n",
       "0  Cycle Inspection / Initial Inspection      10/23/2018   \n",
       "2  Cycle Inspection / Initial Inspection      10/30/2018   \n",
       "6  Cycle Inspection / Initial Inspection      10/11/2018   \n",
       "7  Cycle Inspection / Initial Inspection      12/17/2018   \n",
       "9  Cycle Inspection / Initial Inspection      07/31/2017   \n",
       "\n",
       "                            DBA  \n",
       "0                    NAKED CRAB  \n",
       "2                         SHUKO  \n",
       "6                           KFC  \n",
       "7          COCO ROCO RESTAURANT  \n",
       "9  JACK DOYLES PUB & RESTAURANT  "
      ]
     },
     "execution_count": 5,
     "metadata": {},
     "output_type": "execute_result"
    }
   ],
   "source": [
    "cycle_inspections = base[base['INSPECTION TYPE'] == \n",
    "                                       'Cycle Inspection / Initial Inspection']\n",
    "\n",
    "cycle_inspections.info()\n",
    "cycle_inspections.head()"
   ]
  },
  {
   "cell_type": "code",
   "execution_count": 6,
   "metadata": {},
   "outputs": [],
   "source": [
    "# We still have a pretty large sample size and only a few nulls. We will drop those.\n",
    "cycle_cleaned = cycle_inspections.dropna()"
   ]
  },
  {
   "cell_type": "code",
   "execution_count": 7,
   "metadata": {
    "scrolled": false
   },
   "outputs": [
    {
     "name": "stdout",
     "output_type": "stream",
     "text": [
      "<class 'pandas.core.frame.DataFrame'>\n",
      "Int64Index: 232806 entries, 0 to 400303\n",
      "Data columns (total 7 columns):\n",
      " #   Column               Non-Null Count   Dtype  \n",
      "---  ------               --------------   -----  \n",
      " 0   CAMIS                232806 non-null  int64  \n",
      " 1   CUISINE DESCRIPTION  232806 non-null  object \n",
      " 2   SCORE                232806 non-null  float64\n",
      " 3   CRITICAL FLAG        232806 non-null  object \n",
      " 4   INSPECTION TYPE      232806 non-null  object \n",
      " 5   INSPECTION DATE      232806 non-null  object \n",
      " 6   DBA                  232806 non-null  object \n",
      "dtypes: float64(1), int64(1), object(5)\n",
      "memory usage: 14.2+ MB\n"
     ]
    }
   ],
   "source": [
    "# Examine the data further\n",
    "cycle_cleaned.info()"
   ]
  },
  {
   "cell_type": "code",
   "execution_count": 350,
   "metadata": {
    "scrolled": true
   },
   "outputs": [
    {
     "data": {
      "text/plain": [
       "DescribeResult(nobs=232806, minmax=(-1.0, 164.0), mean=21.277351099198473, variance=205.997640587083, skewness=1.7919010210331794, kurtosis=5.148773989042786)"
      ]
     },
     "execution_count": 350,
     "metadata": {},
     "output_type": "execute_result"
    }
   ],
   "source": [
    "stats.describe(cycle_cleaned['SCORE'])"
   ]
  },
  {
   "cell_type": "code",
   "execution_count": 8,
   "metadata": {},
   "outputs": [],
   "source": [
    "# 0 should be the lowest possible socre, so we shouldn't have any negative values. We will regard these as\n",
    "# outliers and remove them\n",
    "positive_scores = cycle_cleaned[cycle_cleaned['SCORE'] > -1]"
   ]
  },
  {
   "cell_type": "code",
   "execution_count": 551,
   "metadata": {},
   "outputs": [
    {
     "data": {
      "text/plain": [
       "(array([], dtype=int64),)"
      ]
     },
     "execution_count": 551,
     "metadata": {},
     "output_type": "execute_result"
    }
   ],
   "source": [
    "# Check for null values\n",
    "np.where(positive_scores['SCORE'].isnull())"
   ]
  },
  {
   "cell_type": "code",
   "execution_count": 550,
   "metadata": {
    "scrolled": false
   },
   "outputs": [
    {
     "name": "stdout",
     "output_type": "stream",
     "text": [
      "DescribeResult(nobs=232443, minmax=(0.0, 164.0), mean=21.312141041029413, variance=205.543101534009, skewness=1.7992350834811632, kurtosis=5.17103265901472)\n"
     ]
    },
    {
     "data": {
      "text/plain": [
       "(array([1.06886e+05, 8.61710e+04, 2.75100e+04, 8.51800e+03, 2.22700e+03,\n",
       "        7.68000e+02, 2.13000e+02, 1.25000e+02, 1.60000e+01, 9.00000e+00]),\n",
       " array([  0. ,  16.4,  32.8,  49.2,  65.6,  82. ,  98.4, 114.8, 131.2,\n",
       "        147.6, 164. ]),\n",
       " <a list of 10 Patch objects>)"
      ]
     },
     "execution_count": 550,
     "metadata": {},
     "output_type": "execute_result"
    },
    {
     "data": {
      "image/png": "[encoded data removed]",
      "text/plain": [
       "<Figure size 432x288 with 1 Axes>"
      ]
     },
     "metadata": {
      "needs_background": "light"
     },
     "output_type": "display_data"
    }
   ],
   "source": [
    "print(stats.describe(positive_scores['SCORE']))\n",
    "plt.hist(positive_scores['SCORE'])"
   ]
  },
  {
   "cell_type": "code",
   "execution_count": 845,
   "metadata": {
    "scrolled": false
   },
   "outputs": [
    {
     "data": {
      "text/plain": [
       "(array([ 0,  1,  2,  3,  4,  5,  6,  7,  8,  9, 10, 11, 12, 13, 14, 15, 16,\n",
       "        17, 18, 19, 20, 21, 22, 23, 24, 25, 26, 27, 28, 29, 30, 31, 32, 33,\n",
       "        34, 35, 36, 37, 38, 39, 40, 41, 42, 43, 44, 45, 46, 47, 48, 49, 50,\n",
       "        51, 52, 53, 54, 55, 56, 57, 58, 59, 60, 61, 62, 63, 64, 65, 66, 67,\n",
       "        68, 69, 70, 71, 72, 73, 74, 75, 76, 77, 78, 79, 80, 81, 82, 83]),\n",
       " <a list of 84 Text xticklabel objects>)"
      ]
     },
     "execution_count": 845,
     "metadata": {},
     "output_type": "execute_result"
    },
    {
     "data": {
      "image/png": "[encoded data removed]",
      "text/plain": [
       "<Figure size 1080x1080 with 1 Axes>"
      ]
     },
     "metadata": {
      "needs_background": "light"
     },
     "output_type": "display_data"
    }
   ],
   "source": [
    "plt.figure(figsize=(15,15))\n",
    "sns.boxplot(y=positive_scores['SCORE'], x=positive_scores['CUISINE DESCRIPTION'])\n",
    "plt.xticks(rotation=90)"
   ]
  },
  {
   "cell_type": "code",
   "execution_count": 649,
   "metadata": {
    "scrolled": false
   },
   "outputs": [
    {
     "data": {
      "text/plain": [
       "American                                                            51788\n",
       "Chinese                                                             23265\n",
       "Café/Coffee/Tea                                                     11723\n",
       "Latin (Cuban, Dominican, Puerto Rican, South & Central American)    10195\n",
       "Italian                                                             10000\n",
       "                                                                    ...  \n",
       "Czech                                                                  36\n",
       "Not Listed/Not Applicable                                              32\n",
       "Nuts/Confectionary                                                     18\n",
       "Chilean                                                                15\n",
       "Basque                                                                  6\n",
       "Name: CUISINE DESCRIPTION, Length: 84, dtype: int64"
      ]
     },
     "execution_count": 649,
     "metadata": {},
     "output_type": "execute_result"
    }
   ],
   "source": [
    "positive_scores['CUISINE DESCRIPTION'].value_counts()"
   ]
  },
  {
   "cell_type": "code",
   "execution_count": 9,
   "metadata": {
    "scrolled": false
   },
   "outputs": [
    {
     "data": {
      "image/png": "[encoded data removed]",
      "text/plain": [
       "<Figure size 648x648 with 1 Axes>"
      ]
     },
     "metadata": {
      "needs_background": "light"
     },
     "output_type": "display_data"
    }
   ],
   "source": [
    "american = positive_scores[positive_scores['CUISINE DESCRIPTION'] == 'American']\n",
    "chinese = positive_scores[positive_scores['CUISINE DESCRIPTION'] == 'Chinese']\n",
    "cafe = positive_scores[positive_scores['CUISINE DESCRIPTION'] == 'Café/Coffee/Tea']\n",
    "latin = positive_scores[positive_scores['CUISINE DESCRIPTION'] == \n",
    "                        'Latin (Cuban, Dominican, Puerto Rican, South & Central American)']\n",
    "italian = positive_scores[positive_scores['CUISINE DESCRIPTION'] == 'Italian']\n",
    "\n",
    "# Create a merged dataframe with these cuisines\n",
    "merged = pd.concat([american, chinese, cafe, latin, italian])\n",
    "\n",
    "plt.figure(figsize=(9,9))\n",
    "plt.hist(american['SCORE'], alpha = .5)\n",
    "plt.hist(chinese['SCORE'], alpha = .5)\n",
    "plt.hist(cafe['SCORE'], alpha = .5)\n",
    "plt.hist(latin['SCORE'], alpha = .5)\n",
    "plt.hist(italian['SCORE'], alpha = .5)\n",
    "plt.show()"
   ]
  },
  {
   "cell_type": "code",
   "execution_count": 554,
   "metadata": {},
   "outputs": [
    {
     "name": "stdout",
     "output_type": "stream",
     "text": [
      "<class 'pandas.core.frame.DataFrame'>\n",
      "Int64Index: 106971 entries, 6 to 400274\n",
      "Data columns (total 7 columns):\n",
      " #   Column               Non-Null Count   Dtype  \n",
      "---  ------               --------------   -----  \n",
      " 0   CAMIS                106971 non-null  int64  \n",
      " 1   CUISINE DESCRIPTION  106971 non-null  object \n",
      " 2   SCORE                106971 non-null  float64\n",
      " 3   CRITICAL FLAG        106971 non-null  object \n",
      " 4   INSPECTION TYPE      106971 non-null  object \n",
      " 5   INSPECTION DATE      106971 non-null  object \n",
      " 6   DBA                  106971 non-null  object \n",
      "dtypes: float64(1), int64(1), object(5)\n",
      "memory usage: 6.5+ MB\n"
     ]
    }
   ],
   "source": [
    "merged.info()"
   ]
  },
  {
   "cell_type": "code",
   "execution_count": 842,
   "metadata": {
    "scrolled": false
   },
   "outputs": [
    {
     "data": {
      "image/png": "[encoded data removed]",
      "text/plain": [
       "<Figure size 1080x720 with 1 Axes>"
      ]
     },
     "metadata": {
      "needs_background": "light"
     },
     "output_type": "display_data"
    }
   ],
   "source": [
    "plt.figure(figsize=(15, 10))\n",
    "ax = sns.boxplot(y='SCORE', x = 'CUISINE DESCRIPTION', data=merged)\n",
    "plt.xticks([0, 1, 2, 3, 4], ['American', 'Chinese', 'Cafe', 'Latin', 'Italian'], rotation=90);"
   ]
  },
  {
   "cell_type": "markdown",
   "metadata": {},
   "source": [
    "# Mood's Median Test\n",
    "Given that this distribution is not normal and measures the effect of a categorical value on a continuous response, Mood's Median Test is the best option. Although Kruskal is more robust Mood's is more appropriate for a population with outliers. "
   ]
  },
  {
   "cell_type": "code",
   "execution_count": 657,
   "metadata": {
    "scrolled": true
   },
   "outputs": [
    {
     "data": {
      "text/html": [
       "<div>\n",
       "<style scoped>\n",
       "    .dataframe tbody tr th:only-of-type {\n",
       "        vertical-align: middle;\n",
       "    }\n",
       "\n",
       "    .dataframe tbody tr th {\n",
       "        vertical-align: top;\n",
       "    }\n",
       "\n",
       "    .dataframe thead th {\n",
       "        text-align: right;\n",
       "    }\n",
       "</style>\n",
       "<table border=\"1\" class=\"dataframe\">\n",
       "  <thead>\n",
       "    <tr style=\"text-align: right;\">\n",
       "      <th>SCORE</th>\n",
       "      <th>0.0</th>\n",
       "      <th>2.0</th>\n",
       "      <th>3.0</th>\n",
       "      <th>4.0</th>\n",
       "      <th>5.0</th>\n",
       "      <th>6.0</th>\n",
       "      <th>7.0</th>\n",
       "      <th>8.0</th>\n",
       "      <th>9.0</th>\n",
       "      <th>10.0</th>\n",
       "      <th>...</th>\n",
       "      <th>102.0</th>\n",
       "      <th>103.0</th>\n",
       "      <th>104.0</th>\n",
       "      <th>109.0</th>\n",
       "      <th>110.0</th>\n",
       "      <th>115.0</th>\n",
       "      <th>116.0</th>\n",
       "      <th>124.0</th>\n",
       "      <th>129.0</th>\n",
       "      <th>132.0</th>\n",
       "    </tr>\n",
       "    <tr>\n",
       "      <th>CUISINE DESCRIPTION</th>\n",
       "      <th></th>\n",
       "      <th></th>\n",
       "      <th></th>\n",
       "      <th></th>\n",
       "      <th></th>\n",
       "      <th></th>\n",
       "      <th></th>\n",
       "      <th></th>\n",
       "      <th></th>\n",
       "      <th></th>\n",
       "      <th></th>\n",
       "      <th></th>\n",
       "      <th></th>\n",
       "      <th></th>\n",
       "      <th></th>\n",
       "      <th></th>\n",
       "      <th></th>\n",
       "      <th></th>\n",
       "      <th></th>\n",
       "      <th></th>\n",
       "      <th></th>\n",
       "    </tr>\n",
       "  </thead>\n",
       "  <tbody>\n",
       "    <tr>\n",
       "      <th>American</th>\n",
       "      <td>4</td>\n",
       "      <td>655</td>\n",
       "      <td>265</td>\n",
       "      <td>586</td>\n",
       "      <td>838</td>\n",
       "      <td>448</td>\n",
       "      <td>2086</td>\n",
       "      <td>1042</td>\n",
       "      <td>2541</td>\n",
       "      <td>2902</td>\n",
       "      <td>...</td>\n",
       "      <td>10</td>\n",
       "      <td>0</td>\n",
       "      <td>0</td>\n",
       "      <td>0</td>\n",
       "      <td>18</td>\n",
       "      <td>8</td>\n",
       "      <td>0</td>\n",
       "      <td>6</td>\n",
       "      <td>0</td>\n",
       "      <td>8</td>\n",
       "    </tr>\n",
       "    <tr>\n",
       "      <th>Café/Coffee/Tea</th>\n",
       "      <td>0</td>\n",
       "      <td>294</td>\n",
       "      <td>193</td>\n",
       "      <td>267</td>\n",
       "      <td>403</td>\n",
       "      <td>141</td>\n",
       "      <td>766</td>\n",
       "      <td>344</td>\n",
       "      <td>668</td>\n",
       "      <td>715</td>\n",
       "      <td>...</td>\n",
       "      <td>0</td>\n",
       "      <td>7</td>\n",
       "      <td>0</td>\n",
       "      <td>0</td>\n",
       "      <td>0</td>\n",
       "      <td>0</td>\n",
       "      <td>0</td>\n",
       "      <td>0</td>\n",
       "      <td>0</td>\n",
       "      <td>0</td>\n",
       "    </tr>\n",
       "    <tr>\n",
       "      <th>Chinese</th>\n",
       "      <td>0</td>\n",
       "      <td>148</td>\n",
       "      <td>89</td>\n",
       "      <td>205</td>\n",
       "      <td>216</td>\n",
       "      <td>140</td>\n",
       "      <td>613</td>\n",
       "      <td>409</td>\n",
       "      <td>985</td>\n",
       "      <td>1034</td>\n",
       "      <td>...</td>\n",
       "      <td>0</td>\n",
       "      <td>0</td>\n",
       "      <td>13</td>\n",
       "      <td>0</td>\n",
       "      <td>0</td>\n",
       "      <td>0</td>\n",
       "      <td>13</td>\n",
       "      <td>0</td>\n",
       "      <td>13</td>\n",
       "      <td>0</td>\n",
       "    </tr>\n",
       "    <tr>\n",
       "      <th>Italian</th>\n",
       "      <td>0</td>\n",
       "      <td>58</td>\n",
       "      <td>31</td>\n",
       "      <td>61</td>\n",
       "      <td>98</td>\n",
       "      <td>63</td>\n",
       "      <td>319</td>\n",
       "      <td>161</td>\n",
       "      <td>409</td>\n",
       "      <td>492</td>\n",
       "      <td>...</td>\n",
       "      <td>0</td>\n",
       "      <td>0</td>\n",
       "      <td>0</td>\n",
       "      <td>0</td>\n",
       "      <td>0</td>\n",
       "      <td>0</td>\n",
       "      <td>0</td>\n",
       "      <td>0</td>\n",
       "      <td>0</td>\n",
       "      <td>0</td>\n",
       "    </tr>\n",
       "    <tr>\n",
       "      <th>Latin (Cuban, Dominican, Puerto Rican, South &amp; Central American)</th>\n",
       "      <td>0</td>\n",
       "      <td>35</td>\n",
       "      <td>19</td>\n",
       "      <td>57</td>\n",
       "      <td>59</td>\n",
       "      <td>39</td>\n",
       "      <td>180</td>\n",
       "      <td>140</td>\n",
       "      <td>362</td>\n",
       "      <td>317</td>\n",
       "      <td>...</td>\n",
       "      <td>0</td>\n",
       "      <td>0</td>\n",
       "      <td>0</td>\n",
       "      <td>7</td>\n",
       "      <td>0</td>\n",
       "      <td>0</td>\n",
       "      <td>0</td>\n",
       "      <td>11</td>\n",
       "      <td>0</td>\n",
       "      <td>0</td>\n",
       "    </tr>\n",
       "  </tbody>\n",
       "</table>\n",
       "<p>5 rows × 108 columns</p>\n",
       "</div>"
      ],
      "text/plain": [
       "SCORE                                               0.0    2.0    3.0    \\\n",
       "CUISINE DESCRIPTION                                                       \n",
       "American                                                4    655    265   \n",
       "Café/Coffee/Tea                                         0    294    193   \n",
       "Chinese                                                 0    148     89   \n",
       "Italian                                                 0     58     31   \n",
       "Latin (Cuban, Dominican, Puerto Rican, South & ...      0     35     19   \n",
       "\n",
       "SCORE                                               4.0    5.0    6.0    \\\n",
       "CUISINE DESCRIPTION                                                       \n",
       "American                                              586    838    448   \n",
       "Café/Coffee/Tea                                       267    403    141   \n",
       "Chinese                                               205    216    140   \n",
       "Italian                                                61     98     63   \n",
       "Latin (Cuban, Dominican, Puerto Rican, South & ...     57     59     39   \n",
       "\n",
       "SCORE                                               7.0    8.0    9.0    \\\n",
       "CUISINE DESCRIPTION                                                       \n",
       "American                                             2086   1042   2541   \n",
       "Café/Coffee/Tea                                       766    344    668   \n",
       "Chinese                                               613    409    985   \n",
       "Italian                                               319    161    409   \n",
       "Latin (Cuban, Dominican, Puerto Rican, South & ...    180    140    362   \n",
       "\n",
       "SCORE                                               10.0   ...  102.0  103.0  \\\n",
       "CUISINE DESCRIPTION                                        ...                 \n",
       "American                                             2902  ...     10      0   \n",
       "Café/Coffee/Tea                                       715  ...      0      7   \n",
       "Chinese                                              1034  ...      0      0   \n",
       "Italian                                               492  ...      0      0   \n",
       "Latin (Cuban, Dominican, Puerto Rican, South & ...    317  ...      0      0   \n",
       "\n",
       "SCORE                                               104.0  109.0  110.0  \\\n",
       "CUISINE DESCRIPTION                                                       \n",
       "American                                                0      0     18   \n",
       "Café/Coffee/Tea                                         0      0      0   \n",
       "Chinese                                                13      0      0   \n",
       "Italian                                                 0      0      0   \n",
       "Latin (Cuban, Dominican, Puerto Rican, South & ...      0      7      0   \n",
       "\n",
       "SCORE                                               115.0  116.0  124.0  \\\n",
       "CUISINE DESCRIPTION                                                       \n",
       "American                                                8      0      6   \n",
       "Café/Coffee/Tea                                         0      0      0   \n",
       "Chinese                                                 0     13      0   \n",
       "Italian                                                 0      0      0   \n",
       "Latin (Cuban, Dominican, Puerto Rican, South & ...      0      0     11   \n",
       "\n",
       "SCORE                                               129.0  132.0  \n",
       "CUISINE DESCRIPTION                                               \n",
       "American                                                0      8  \n",
       "Café/Coffee/Tea                                         0      0  \n",
       "Chinese                                                13      0  \n",
       "Italian                                                 0      0  \n",
       "Latin (Cuban, Dominican, Puerto Rican, South & ...      0      0  \n",
       "\n",
       "[5 rows x 108 columns]"
      ]
     },
     "execution_count": 657,
     "metadata": {},
     "output_type": "execute_result"
    }
   ],
   "source": [
    "contingency.head()"
   ]
  },
  {
   "cell_type": "code",
   "execution_count": 690,
   "metadata": {},
   "outputs": [],
   "source": [
    "cuisines = [american['SCORE'], chinese['SCORE'], cafe['SCORE'], latin['SCORE'], italian['SCORE']]"
   ]
  },
  {
   "cell_type": "code",
   "execution_count": 521,
   "metadata": {
    "scrolled": true
   },
   "outputs": [
    {
     "data": {
      "text/plain": [
       "(1876.0748218009746,\n",
       " 0.0,\n",
       " 18.0,\n",
       " array([[23110, 12233,  4039,  6068,  5143],\n",
       "        [28628, 10983,  7677,  4109,  4857]]))"
      ]
     },
     "execution_count": 521,
     "metadata": {},
     "output_type": "execute_result"
    }
   ],
   "source": [
    "stats.median_test(american['SCORE'], chinese['SCORE'], cafe['SCORE'], latin['SCORE'], italian['SCORE'])"
   ]
  },
  {
   "cell_type": "code",
   "execution_count": 590,
   "metadata": {
    "scrolled": true
   },
   "outputs": [
    {
     "name": "stdout",
     "output_type": "stream",
     "text": [
      "American : median: 17.0\n",
      "(245.03672872518177, 3.137041456623219e-55, 18.0, array([[ 23160, 112785],\n",
      "       [ 28628, 119658]])) \n",
      "\n",
      "Chinese : median: 19.0\n",
      "(154.1529227112643, 2.144417406747229e-35, 18.0, array([[ 12282, 112785],\n",
      "       [ 10983, 119658]])) \n",
      "\n",
      "Café/Coffee/Tea : median: 13.0\n",
      "(877.0468666839334, 9.585783159143328e-193, 18.0, array([[  4046, 112785],\n",
      "       [  7677, 119658]])) \n",
      "\n",
      "Latin (Cuban, Dominican, Puerto Rican, South & Central American) : median: 21.0\n",
      "(487.5607564580371, 4.836892124781725e-108, 18.0, array([[  6086, 112785],\n",
      "       [  4109, 119658]])) \n",
      "\n",
      "Italian : median: 19.0\n",
      "(32.347816791010025, 1.289019531136057e-08, 18.0, array([[  5143, 112785],\n",
      "       [  4857, 119658]])) \n",
      "\n"
     ]
    }
   ],
   "source": [
    "for cuisine in merged['CUISINE DESCRIPTION'].unique():\n",
    "    print(cuisine, ': median: {}'\n",
    "          .format(merged[merged['CUISINE DESCRIPTION'] == cuisine]['SCORE'].median()))\n",
    "    print(stats.median_test(merged[merged['CUISINE DESCRIPTION'] == cuisine]['SCORE']\n",
    "                        , positive_scores['SCORE'])\n",
    "                        , '\\n')\n"
   ]
  },
  {
   "cell_type": "markdown",
   "metadata": {},
   "source": [
    "## Results\n",
    "\n",
    "These results indicate that at least one or more group differes from the entire population significantly. In order to determine which groups might differ from the entire population we will run pairwise tests for each population against the entire population, including each cuisine being compared.\n",
    "\n",
    "\n",
    "We will confirm the significance of these findings with a bootstrap resample to determine the confidence interval of our population medians."
   ]
  },
  {
   "cell_type": "code",
   "execution_count": 11,
   "metadata": {},
   "outputs": [],
   "source": [
    "def bootstrap_simulation(sample_data, num_realizations):\n",
    "    n = sample_data.shape[0]\n",
    "    boot = []\n",
    "    for i in range(num_realizations):\n",
    "        real = np.random.choice(sample_data.values.flatten(), size=n)\n",
    "        boot.append(real)\n",
    "        \n",
    "    columns = ['Real ' + str(i + 1) for i in range(num_realizations)]\n",
    "    \n",
    "    return pd.DataFrame(boot, index=columns).T\n",
    "\n",
    "def calc_sum_stats(boot_df):\n",
    "    sum_stats = boot_df.describe().T[['mean', 'std', 'min', 'max']]\n",
    "    sum_stats['median'] = boot_df.median()\n",
    "    sum_stats['skew'] = boot_df.skew()\n",
    "    sum_stats['kurtosis'] = boot_df.kurtosis()\n",
    "    sum_stats['IQR'] = boot_df.quantile(0.75) - boot_df.quantile(0.25)\n",
    "    return sum_stats.T\n",
    "   \n",
    "def calc_bounds(conf_level):\n",
    "    \n",
    "    assert (conf_level < 1), \"Confidence level must be smaller than 1\"\n",
    "    \n",
    "    margin = (1 - conf_level) / 2\n",
    "    upper = conf_level + margin\n",
    "    lower = margin\n",
    "    return margin, upper, lower\n",
    "\n",
    "def calc_confidence_interval(df_sum_stats, conf_level): \n",
    "    \n",
    "    margin, upper, lower = calc_bounds(conf_level)\n",
    "    \n",
    "    conf_int_df = df_sum_stats.T.describe(percentiles=[lower, 0.5, upper]).iloc[4:7, :].T\n",
    "    conf_int_df.columns = ['P' + str(round(lower * 100, 1)), 'P50', 'P' + str(round(upper * 100, 1))]\n",
    "    return conf_int_df \n",
    "\n",
    "def print_confidence_interval(conf_df, conf_level):\n",
    "    print('By {}% chance, the following statistics will fall within the range of:\\n'.format(round(conf_level * 100, 1)))\n",
    "    \n",
    "    margin, upper, lower = calc_bounds(conf_level)\n",
    "    \n",
    "    upper_str = 'P' + str(round(upper * 100, 1))\n",
    "    lower_str = 'P' + str(round(lower * 100, 1))\n",
    "    \n",
    "    for stat in conf_df.T.columns:\n",
    "        lower_bound = round(conf_df[lower_str].T[stat], 1)\n",
    "        upper_bound = round(conf_df[upper_str].T[stat], 1)\n",
    "\n",
    "        mean = round(conf_df['P50'].T[stat], 1)\n",
    "        print(\"{0:<10}: {1:>10}  ~ {2:>10} , AVG = {3:>5}\".format(stat, lower_bound, upper_bound, mean))"
   ]
  },
  {
   "cell_type": "code",
   "execution_count": 18,
   "metadata": {
    "scrolled": true
   },
   "outputs": [],
   "source": [
    "american_bootstrap_sum = calc_sum_stats(bootstrap_simulation(american['SCORE'], 100))\n",
    "chinese_bootstrap_sum = calc_sum_stats(bootstrap_simulation(chinese['SCORE'], 100))\n",
    "cafe_bootstrap_sum = calc_sum_stats(bootstrap_simulation(cafe['SCORE'], 100))\n",
    "latin_bootstrap_sum = calc_sum_stats(bootstrap_simulation(latin['SCORE'], 100))\n",
    "italian_bootstrap_sum = calc_sum_stats(bootstrap_simulation(italian['SCORE'], 100))\n",
    "merged_bootstrap_sum = calc_sum_stats(bootstrap_simulation(merged['SCORE'], 100))\n",
    "\n",
    "sums = [american_bootstrap_sum, chinese_bootstrap_sum, cafe_bootstrap_sum, latin_bootstrap_sum\n",
    "        , italian_bootstrap_sum, merged_bootstrap_sum]"
   ]
  },
  {
   "cell_type": "code",
   "execution_count": 17,
   "metadata": {
    "scrolled": false
   },
   "outputs": [
    {
     "name": "stdout",
     "output_type": "stream",
     "text": [
      "Entire Population\n",
      "By 95.0% chance, the following statistics will fall within the range of:\n",
      "\n",
      "mean      :       20.9  ~       21.1 , AVG =  21.0\n",
      "std       :       14.1  ~       14.2 , AVG =  14.2\n",
      "min       :        0.0  ~        1.0 , AVG =   0.0\n",
      "max       :      132.0  ~      132.0 , AVG = 132.0\n",
      "median    :       17.0  ~       18.0 , AVG =  18.0\n",
      "skew      :        1.7  ~        1.8 , AVG =   1.7\n",
      "kurtosis  :        4.4  ~        4.9 , AVG =   4.7\n",
      "IQR       :       16.0  ~       16.0 , AVG =  16.0\n",
      "\n",
      "\n",
      "American\n",
      "By 95.0% chance, the following statistics will fall within the range of:\n",
      "\n",
      "mean      :       19.9  ~       20.2 , AVG =  20.0\n",
      "std       :       13.1  ~       13.4 , AVG =  13.2\n",
      "min       :        0.0  ~        0.0 , AVG =   0.0\n",
      "max       :      132.0  ~      132.0 , AVG = 132.0\n",
      "median    :       16.0  ~       17.0 , AVG =  17.0\n",
      "skew      :        1.7  ~        1.8 , AVG =   1.7\n",
      "kurtosis  :        4.3  ~        5.3 , AVG =   4.8\n",
      "IQR       :       15.0  ~       15.0 , AVG =  15.0\n",
      "\n",
      "\n",
      "Chinese\n",
      "By 95.0% chance, the following statistics will fall within the range of:\n",
      "\n",
      "mean      :       23.3  ~       23.7 , AVG =  23.6\n",
      "std       :       15.8  ~       16.3 , AVG =  16.1\n",
      "min       :        2.0  ~        2.0 , AVG =   2.0\n",
      "max       :      129.0  ~      129.0 , AVG = 129.0\n",
      "median    :       19.0  ~       20.0 , AVG =  19.0\n",
      "skew      :        1.6  ~        1.7 , AVG =   1.7\n",
      "kurtosis  :        3.4  ~        4.3 , AVG =   3.8\n",
      "IQR       :       18.0  ~       18.0 , AVG =  18.0\n",
      "\n",
      "\n",
      "Cafe\n",
      "By 95.0% chance, the following statistics will fall within the range of:\n",
      "\n",
      "mean      :       16.9  ~       17.3 , AVG =  17.1\n",
      "std       :       12.1  ~       12.7 , AVG =  12.3\n",
      "min       :        2.0  ~        2.0 , AVG =   2.0\n",
      "max       :      103.0  ~      103.0 , AVG = 103.0\n",
      "median    :       12.0  ~       13.0 , AVG =  13.0\n",
      "skew      :        1.8  ~        2.0 , AVG =   1.9\n",
      "kurtosis  :        4.7  ~        6.3 , AVG =   5.4\n",
      "IQR       :       13.0  ~       13.5 , AVG =  13.0\n",
      "\n",
      "\n",
      "Latin\n",
      "By 95.0% chance, the following statistics will fall within the range of:\n",
      "\n",
      "mean      :       24.1  ~       24.7 , AVG =  24.4\n",
      "std       :       14.8  ~       15.5 , AVG =  15.1\n",
      "min       :        2.0  ~        2.0 , AVG =   2.0\n",
      "max       :      124.0  ~      124.0 , AVG = 124.0\n",
      "median    :       21.0  ~       21.0 , AVG =  21.0\n",
      "skew      :        1.6  ~        1.8 , AVG =   1.7\n",
      "kurtosis  :        3.9  ~        5.4 , AVG =   4.7\n",
      "IQR       :       18.0  ~       18.0 , AVG =  18.0\n",
      "\n",
      "\n",
      "Italian\n",
      "By 95.0% chance, the following statistics will fall within the range of:\n",
      "\n",
      "mean      :       21.3  ~       21.9 , AVG =  21.6\n",
      "std       :       13.2  ~       13.8 , AVG =  13.4\n",
      "min       :        2.0  ~        2.0 , AVG =   2.0\n",
      "max       :       94.0  ~       94.0 , AVG =  94.0\n",
      "median    :       19.0  ~       19.0 , AVG =  19.0\n",
      "skew      :        1.5  ~        1.7 , AVG =   1.6\n",
      "kurtosis  :        3.1  ~        4.1 , AVG =   3.6\n",
      "IQR       :       15.0  ~       16.0 , AVG =  15.0\n"
     ]
    }
   ],
   "source": [
    "print('Entire Population')\n",
    "print_confidence_interval(calc_confidence_interval(merged_bootstrap_sum, .95), .95)\n",
    "print('\\n')\n",
    "\n",
    "print('American')\n",
    "print_confidence_interval(calc_confidence_interval(american_bootstrap_sum, .95), .95)\n",
    "print('\\n')\n",
    "\n",
    "print('Chinese')\n",
    "print_confidence_interval(calc_confidence_interval(chinese_bootstrap_sum, .95), .95)\n",
    "print('\\n')\n",
    "\n",
    "print('Cafe')\n",
    "print_confidence_interval(calc_confidence_interval(cafe_bootstrap_sum, .95), .95)\n",
    "print('\\n')\n",
    "\n",
    "print('Latin')\n",
    "print_confidence_interval(calc_confidence_interval(latin_bootstrap_sum, .95), .95)\n",
    "print('\\n')\n",
    "\n",
    "print('Italian')\n",
    "print_confidence_interval(calc_confidence_interval(italian_bootstrap_sum, .95), .95)"
   ]
  },
  {
   "cell_type": "code",
   "execution_count": 37,
   "metadata": {
    "scrolled": true
   },
   "outputs": [
    {
     "data": {
      "image/png": "[encoded data removed]",
      "text/plain": [
       "<Figure size 1440x288 with 6 Axes>"
      ]
     },
     "metadata": {
      "needs_background": "light"
     },
     "output_type": "display_data"
    }
   ],
   "source": [
    "f = plt.figure(figsize = (20,4))\n",
    "plt.suptitle('95% Confidence Levels for Population Medians', size='xx-large')\n",
    "\n",
    "gs = gridspec.GridSpec(1, 6)\n",
    "ax1 = plt.subplot(gs[0,0])\n",
    "ax2 = plt.subplot(gs[0,1])\n",
    "ax3 = plt.subplot(gs[0,2])\n",
    "ax4 = plt.subplot(gs[0,3])\n",
    "ax5 = plt.subplot(gs[0,4])\n",
    "ax6 = plt.subplot(gs[0,5])\n",
    "\n",
    "merged_bootstrap_sum.T[['median']].boxplot(ax=ax1)\n",
    "american_bootstrap_sum.T[['median']].boxplot(ax=ax2)\n",
    "chinese_bootstrap_sum.T[['median']].boxplot(ax=ax3)\n",
    "cafe_bootstrap_sum.T[['median']].boxplot(ax=ax4)\n",
    "latin_bootstrap_sum.T[['median']].boxplot(ax=ax5)\n",
    "italian_bootstrap_sum.T[['median']].boxplot(ax=ax6)\n",
    "\n",
    "\n",
    "ax1.set_xlabel('Entire Popula tion', size='xx-large')\n",
    "ax1.set_yticks(np.arange(11, 22, step=1))\n",
    "\n",
    "ax2.set_yticks(np.arange(11, 22, step=1))\n",
    "ax2.set_xlabel('American', size='xx-large')\n",
    "\n",
    "ax3.set_yticks(np.arange(11, 22, step=1))\n",
    "ax3.set_xlabel('Chinese', size='xx-large')\n",
    "\n",
    "ax4.set_yticks(np.arange(11, 22, step=1))\n",
    "ax4.set_xlabel('Cafe', size='xx-large')\n",
    "\n",
    "ax5.set_yticks(np.arange(11, 22, step=1))\n",
    "ax5.set_xlabel('Latin', size='xx-large')\n",
    "\n",
    "ax6.set_yticks(np.arange(11, 22, step=1))\n",
    "ax6.set_xlabel('Italian', size='xx-large')\n",
    "plt.show()"
   ]
  },
  {
   "cell_type": "code",
   "execution_count": 39,
   "metadata": {},
   "outputs": [],
   "source": [
    "data = [merged_bootstrap_sum.T[['median']], american_bootstrap_sum.T[['median']], chinese_bootstrap_sum.T[['median']]]"
   ]
  },
  {
   "cell_type": "code",
   "execution_count": 43,
   "metadata": {},
   "outputs": [
    {
     "ename": "ValueError",
     "evalue": "The truth value of a DataFrame is ambiguous. Use a.empty, a.bool(), a.item(), a.any() or a.all().",
     "output_type": "error",
     "traceback": [
      "\u001b[0;31m---------------------------------------------------------------------------\u001b[0m",
      "\u001b[0;31mValueError\u001b[0m                                Traceback (most recent call last)",
      "\u001b[0;32m<ipython-input-43-9f697d1b0daa>\u001b[0m in \u001b[0;36m<module>\u001b[0;34m\u001b[0m\n\u001b[1;32m      3\u001b[0m \u001b[0;34m\u001b[0m\u001b[0m\n\u001b[1;32m      4\u001b[0m \u001b[0;34m\u001b[0m\u001b[0m\n\u001b[0;32m----> 5\u001b[0;31m \u001b[0max10\u001b[0m\u001b[0;34m.\u001b[0m\u001b[0mboxplot\u001b[0m\u001b[0;34m(\u001b[0m\u001b[0mmerged_bootstrap_sum\u001b[0m\u001b[0;34m.\u001b[0m\u001b[0mT\u001b[0m\u001b[0;34m[\u001b[0m\u001b[0;34m[\u001b[0m\u001b[0;34m'median'\u001b[0m\u001b[0;34m]\u001b[0m\u001b[0;34m]\u001b[0m\u001b[0;34m,\u001b[0m \u001b[0mamerican_bootstrap_sum\u001b[0m\u001b[0;34m.\u001b[0m\u001b[0mT\u001b[0m\u001b[0;34m[\u001b[0m\u001b[0;34m[\u001b[0m\u001b[0;34m'median'\u001b[0m\u001b[0;34m]\u001b[0m\u001b[0;34m]\u001b[0m\u001b[0;34m)\u001b[0m\u001b[0;34m\u001b[0m\u001b[0;34m\u001b[0m\u001b[0m\n\u001b[0m\u001b[1;32m      6\u001b[0m \u001b[0mplt\u001b[0m\u001b[0;34m.\u001b[0m\u001b[0mshow\u001b[0m\u001b[0;34m(\u001b[0m\u001b[0;34m)\u001b[0m\u001b[0;34m\u001b[0m\u001b[0;34m\u001b[0m\u001b[0m\n",
      "\u001b[0;32m~/bin/anaconda3/lib/python3.7/site-packages/matplotlib/cbook/deprecation.py\u001b[0m in \u001b[0;36mwrapper\u001b[0;34m(*args, **kwargs)\u001b[0m\n\u001b[1;32m    305\u001b[0m                 f\"for the old name will be dropped %(removal)s.\")\n\u001b[1;32m    306\u001b[0m             \u001b[0mkwargs\u001b[0m\u001b[0;34m[\u001b[0m\u001b[0mnew\u001b[0m\u001b[0;34m]\u001b[0m \u001b[0;34m=\u001b[0m \u001b[0mkwargs\u001b[0m\u001b[0;34m.\u001b[0m\u001b[0mpop\u001b[0m\u001b[0;34m(\u001b[0m\u001b[0mold\u001b[0m\u001b[0;34m)\u001b[0m\u001b[0;34m\u001b[0m\u001b[0;34m\u001b[0m\u001b[0m\n\u001b[0;32m--> 307\u001b[0;31m         \u001b[0;32mreturn\u001b[0m \u001b[0mfunc\u001b[0m\u001b[0;34m(\u001b[0m\u001b[0;34m*\u001b[0m\u001b[0margs\u001b[0m\u001b[0;34m,\u001b[0m \u001b[0;34m**\u001b[0m\u001b[0mkwargs\u001b[0m\u001b[0;34m)\u001b[0m\u001b[0;34m\u001b[0m\u001b[0;34m\u001b[0m\u001b[0m\n\u001b[0m\u001b[1;32m    308\u001b[0m \u001b[0;34m\u001b[0m\u001b[0m\n\u001b[1;32m    309\u001b[0m     \u001b[0;31m# wrapper() must keep the same documented signature as func(): if we\u001b[0m\u001b[0;34m\u001b[0m\u001b[0;34m\u001b[0m\u001b[0;34m\u001b[0m\u001b[0m\n",
      "\u001b[0;32m~/bin/anaconda3/lib/python3.7/site-packages/matplotlib/__init__.py\u001b[0m in \u001b[0;36minner\u001b[0;34m(ax, data, *args, **kwargs)\u001b[0m\n\u001b[1;32m   1597\u001b[0m     \u001b[0;32mdef\u001b[0m \u001b[0minner\u001b[0m\u001b[0;34m(\u001b[0m\u001b[0max\u001b[0m\u001b[0;34m,\u001b[0m \u001b[0;34m*\u001b[0m\u001b[0margs\u001b[0m\u001b[0;34m,\u001b[0m \u001b[0mdata\u001b[0m\u001b[0;34m=\u001b[0m\u001b[0;32mNone\u001b[0m\u001b[0;34m,\u001b[0m \u001b[0;34m**\u001b[0m\u001b[0mkwargs\u001b[0m\u001b[0;34m)\u001b[0m\u001b[0;34m:\u001b[0m\u001b[0;34m\u001b[0m\u001b[0;34m\u001b[0m\u001b[0m\n\u001b[1;32m   1598\u001b[0m         \u001b[0;32mif\u001b[0m \u001b[0mdata\u001b[0m \u001b[0;32mis\u001b[0m \u001b[0;32mNone\u001b[0m\u001b[0;34m:\u001b[0m\u001b[0;34m\u001b[0m\u001b[0;34m\u001b[0m\u001b[0m\n\u001b[0;32m-> 1599\u001b[0;31m             \u001b[0;32mreturn\u001b[0m \u001b[0mfunc\u001b[0m\u001b[0;34m(\u001b[0m\u001b[0max\u001b[0m\u001b[0;34m,\u001b[0m \u001b[0;34m*\u001b[0m\u001b[0mmap\u001b[0m\u001b[0;34m(\u001b[0m\u001b[0msanitize_sequence\u001b[0m\u001b[0;34m,\u001b[0m \u001b[0margs\u001b[0m\u001b[0;34m)\u001b[0m\u001b[0;34m,\u001b[0m \u001b[0;34m**\u001b[0m\u001b[0mkwargs\u001b[0m\u001b[0;34m)\u001b[0m\u001b[0;34m\u001b[0m\u001b[0;34m\u001b[0m\u001b[0m\n\u001b[0m\u001b[1;32m   1600\u001b[0m \u001b[0;34m\u001b[0m\u001b[0m\n\u001b[1;32m   1601\u001b[0m         \u001b[0mbound\u001b[0m \u001b[0;34m=\u001b[0m \u001b[0mnew_sig\u001b[0m\u001b[0;34m.\u001b[0m\u001b[0mbind\u001b[0m\u001b[0;34m(\u001b[0m\u001b[0max\u001b[0m\u001b[0;34m,\u001b[0m \u001b[0;34m*\u001b[0m\u001b[0margs\u001b[0m\u001b[0;34m,\u001b[0m \u001b[0;34m**\u001b[0m\u001b[0mkwargs\u001b[0m\u001b[0;34m)\u001b[0m\u001b[0;34m\u001b[0m\u001b[0;34m\u001b[0m\u001b[0m\n",
      "\u001b[0;32m~/bin/anaconda3/lib/python3.7/site-packages/matplotlib/axes/_axes.py\u001b[0m in \u001b[0;36mboxplot\u001b[0;34m(self, x, notch, sym, vert, whis, positions, widths, patch_artist, bootstrap, usermedians, conf_intervals, meanline, showmeans, showcaps, showbox, showfliers, boxprops, labels, flierprops, medianprops, meanprops, capprops, whiskerprops, manage_ticks, autorange, zorder)\u001b[0m\n\u001b[1;32m   3769\u001b[0m                            \u001b[0mmeanline\u001b[0m\u001b[0;34m=\u001b[0m\u001b[0mmeanline\u001b[0m\u001b[0;34m,\u001b[0m \u001b[0mshowfliers\u001b[0m\u001b[0;34m=\u001b[0m\u001b[0mshowfliers\u001b[0m\u001b[0;34m,\u001b[0m\u001b[0;34m\u001b[0m\u001b[0;34m\u001b[0m\u001b[0m\n\u001b[1;32m   3770\u001b[0m                            \u001b[0mcapprops\u001b[0m\u001b[0;34m=\u001b[0m\u001b[0mcapprops\u001b[0m\u001b[0;34m,\u001b[0m \u001b[0mwhiskerprops\u001b[0m\u001b[0;34m=\u001b[0m\u001b[0mwhiskerprops\u001b[0m\u001b[0;34m,\u001b[0m\u001b[0;34m\u001b[0m\u001b[0;34m\u001b[0m\u001b[0m\n\u001b[0;32m-> 3771\u001b[0;31m                            manage_ticks=manage_ticks, zorder=zorder)\n\u001b[0m\u001b[1;32m   3772\u001b[0m         \u001b[0;32mreturn\u001b[0m \u001b[0martists\u001b[0m\u001b[0;34m\u001b[0m\u001b[0;34m\u001b[0m\u001b[0m\n\u001b[1;32m   3773\u001b[0m \u001b[0;34m\u001b[0m\u001b[0m\n",
      "\u001b[0;32m~/bin/anaconda3/lib/python3.7/site-packages/matplotlib/cbook/deprecation.py\u001b[0m in \u001b[0;36mwrapper\u001b[0;34m(*args, **kwargs)\u001b[0m\n\u001b[1;32m    305\u001b[0m                 f\"for the old name will be dropped %(removal)s.\")\n\u001b[1;32m    306\u001b[0m             \u001b[0mkwargs\u001b[0m\u001b[0;34m[\u001b[0m\u001b[0mnew\u001b[0m\u001b[0;34m]\u001b[0m \u001b[0;34m=\u001b[0m \u001b[0mkwargs\u001b[0m\u001b[0;34m.\u001b[0m\u001b[0mpop\u001b[0m\u001b[0;34m(\u001b[0m\u001b[0mold\u001b[0m\u001b[0;34m)\u001b[0m\u001b[0;34m\u001b[0m\u001b[0;34m\u001b[0m\u001b[0m\n\u001b[0;32m--> 307\u001b[0;31m         \u001b[0;32mreturn\u001b[0m \u001b[0mfunc\u001b[0m\u001b[0;34m(\u001b[0m\u001b[0;34m*\u001b[0m\u001b[0margs\u001b[0m\u001b[0;34m,\u001b[0m \u001b[0;34m**\u001b[0m\u001b[0mkwargs\u001b[0m\u001b[0;34m)\u001b[0m\u001b[0;34m\u001b[0m\u001b[0;34m\u001b[0m\u001b[0m\n\u001b[0m\u001b[1;32m    308\u001b[0m \u001b[0;34m\u001b[0m\u001b[0m\n\u001b[1;32m    309\u001b[0m     \u001b[0;31m# wrapper() must keep the same documented signature as func(): if we\u001b[0m\u001b[0;34m\u001b[0m\u001b[0;34m\u001b[0m\u001b[0;34m\u001b[0m\u001b[0m\n",
      "\u001b[0;32m~/bin/anaconda3/lib/python3.7/site-packages/matplotlib/axes/_axes.py\u001b[0m in \u001b[0;36mbxp\u001b[0;34m(self, bxpstats, positions, widths, vert, patch_artist, shownotches, showmeans, showcaps, showbox, showfliers, boxprops, whiskerprops, flierprops, medianprops, capprops, meanprops, meanline, manage_ticks, zorder)\u001b[0m\n\u001b[1;32m   4055\u001b[0m \u001b[0;34m\u001b[0m\u001b[0m\n\u001b[1;32m   4056\u001b[0m             \u001b[0;31m# notched boxes\u001b[0m\u001b[0;34m\u001b[0m\u001b[0;34m\u001b[0m\u001b[0;34m\u001b[0m\u001b[0m\n\u001b[0;32m-> 4057\u001b[0;31m             \u001b[0;32mif\u001b[0m \u001b[0mshownotches\u001b[0m\u001b[0;34m:\u001b[0m\u001b[0;34m\u001b[0m\u001b[0;34m\u001b[0m\u001b[0m\n\u001b[0m\u001b[1;32m   4058\u001b[0m                 box_x = [box_left, box_right, box_right, cap_right, box_right,\n\u001b[1;32m   4059\u001b[0m                          \u001b[0mbox_right\u001b[0m\u001b[0;34m,\u001b[0m \u001b[0mbox_left\u001b[0m\u001b[0;34m,\u001b[0m \u001b[0mbox_left\u001b[0m\u001b[0;34m,\u001b[0m \u001b[0mcap_left\u001b[0m\u001b[0;34m,\u001b[0m \u001b[0mbox_left\u001b[0m\u001b[0;34m,\u001b[0m\u001b[0;34m\u001b[0m\u001b[0;34m\u001b[0m\u001b[0m\n",
      "\u001b[0;32m~/bin/anaconda3/lib/python3.7/site-packages/pandas/core/generic.py\u001b[0m in \u001b[0;36m__nonzero__\u001b[0;34m(self)\u001b[0m\n\u001b[1;32m   1477\u001b[0m     \u001b[0;32mdef\u001b[0m \u001b[0m__nonzero__\u001b[0m\u001b[0;34m(\u001b[0m\u001b[0mself\u001b[0m\u001b[0;34m)\u001b[0m\u001b[0;34m:\u001b[0m\u001b[0;34m\u001b[0m\u001b[0;34m\u001b[0m\u001b[0m\n\u001b[1;32m   1478\u001b[0m         raise ValueError(\n\u001b[0;32m-> 1479\u001b[0;31m             \u001b[0;34mf\"The truth value of a {type(self).__name__} is ambiguous. \"\u001b[0m\u001b[0;34m\u001b[0m\u001b[0;34m\u001b[0m\u001b[0m\n\u001b[0m\u001b[1;32m   1480\u001b[0m             \u001b[0;34m\"Use a.empty, a.bool(), a.item(), a.any() or a.all().\"\u001b[0m\u001b[0;34m\u001b[0m\u001b[0;34m\u001b[0m\u001b[0m\n\u001b[1;32m   1481\u001b[0m         )\n",
      "\u001b[0;31mValueError\u001b[0m: The truth value of a DataFrame is ambiguous. Use a.empty, a.bool(), a.item(), a.any() or a.all()."
     ]
    },
    {
     "data": {
      "image/png": "[encoded data removed]",
      "text/plain": [
       "<Figure size 1440x288 with 1 Axes>"
      ]
     },
     "metadata": {
      "needs_background": "light"
     },
     "output_type": "display_data"
    }
   ],
   "source": [
    "fig10, ax10 = plt.subplots(figsize = (20,4))\n",
    "plt.suptitle('95% Confidence Levels for Population Medians', size='xx-large')\n",
    "\n",
    "\n",
    "ax10.boxplot(merged_bootstrap_sum.T[['median']], american_bootstrap_sum.T[['median']])\n",
    "plt.show()"
   ]
  },
  {
   "cell_type": "markdown",
   "metadata": {},
   "source": [
    "#### Not only did our Mood's test show that the populations are significantly different but American cuisine is the only population where the confidence interval of the median overlapped with the confidence interval of the entire population. This further suggestst that there is indeed a significant difference between the other populations and the entire population."
   ]
  },
  {
   "cell_type": "markdown",
   "metadata": {},
   "source": [
    "## Discussions and  Reccomendations\n",
    "\n",
    "Given the significance of these results we can reject our null hypothesis. Chinese, Latin and Italian cuisines all score significantly different from the population as a whole. American cuisine can not be determined to be different at this time.\n",
    "\n",
    "This data set contains a lot of information but requires even more context for interpret. By better understanding the inspection and scoring process we can get more accurate interprative results from this data. While there are many outliers in this data set, our analysis shows that most operators recieve a grade of B or better. In some cases we know restaurants operate under close supervision if they repeatedly do poorly on the test. More meta data will help us uderstand under what circumstances restaurants who recieve very high scores are allowed to remain open.\n",
    "\n",
    "\n",
    "\n",
    "Furthermore going forward it may be most explore these abnormally high scores and test for significant relationships with some other variables."
   ]
  }
 ],
 "metadata": {
  "kernelspec": {
   "display_name": "Python 3",
   "language": "python",
   "name": "python3"
  },
  "language_info": {
   "codemirror_mode": {
    "name": "ipython",
    "version": 3
   },
   "file_extension": ".py",
   "mimetype": "text/x-python",
   "name": "python",
   "nbconvert_exporter": "python",
   "pygments_lexer": "ipython3",
   "version": "3.7.6"
  }
 },
 "nbformat": 4,
 "nbformat_minor": 4
}
