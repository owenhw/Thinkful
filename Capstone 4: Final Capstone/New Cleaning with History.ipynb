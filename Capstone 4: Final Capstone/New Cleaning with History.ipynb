{
 "cells": [
  {
   "cell_type": "markdown",
   "metadata": {},
   "source": [
    "## Data Cleaning\n",
    "\n",
    "This data is scrapped and very messy. It does not come with a dictionary and I do not have access to the code that generated it to provide any insight about the variables gathered.\n",
    "\n",
    "These data were scrapped in September 2020 and is provided in .CSV format. In this notebook I will only be cleaning up the data and saving in in parquet format which is more efficent for large datasets.\n",
    "\n",
    "I will focus on creating a function that can be applied to the data so that it could become part of a pipeline and produce repeatable, scaleable results.\n",
    "\n",
    "---\n",
    "#### Imports and defined functions"
   ]
  },
  {
   "cell_type": "code",
   "execution_count": 1,
   "metadata": {},
   "outputs": [],
   "source": [
    "import numpy as np\n",
    "import matplotlib.pyplot as plt\n",
    "import seaborn as sns\n",
    "from dask import delayed\n",
    "from dask.distributed import Client, progress\n",
    "import dask.array as da\n",
    "import dask.dataframe as dd\n",
    "import joblib\n",
    "import pandas as pd\n",
    "import spacy\n",
    "\n",
    "import warnings\n",
    "warnings.filterwarnings(\"ignore\")\n",
    "pd.options.display.float_format = '{:.3f}'.format\n",
    "sns.set(style='whitegrid', palette='colorblind', color_codes=True, font_scale=2)"
   ]
  },
  {
   "cell_type": "code",
   "execution_count": 2,
   "metadata": {},
   "outputs": [],
   "source": [
    "def print_full(x):\n",
    "    pd.set_option('display.max_rows', len(x))\n",
    "    print(x)\n",
    "    pd.reset_option('display.max_rows')\n",
    "    \n",
    "def print_nulls(ddf):\n",
    "    out = ddf.isnull().sum()*100/ddf.isnull().isnull().count()\n",
    "    \n",
    "    return print_full(out.compute())"
   ]
  },
  {
   "cell_type": "code",
   "execution_count": 3,
   "metadata": {
    "scrolled": true
   },
   "outputs": [
    {
     "data": {
      "text/html": [
       "<table style=\"border: 2px solid white;\">\n",
       "<tr>\n",
       "<td style=\"vertical-align: top; border: 0px solid white\">\n",
       "<h3 style=\"text-align: left;\">Client</h3>\n",
       "<ul style=\"text-align: left; list-style: none; margin: 0; padding: 0;\">\n",
       "  <li><b>Scheduler: </b>tcp://127.0.0.1:38013</li>\n",
       "  <li><b>Dashboard: </b><a href='http://127.0.0.1:8787/status' target='_blank'>http://127.0.0.1:8787/status</a></li>\n",
       "</ul>\n",
       "</td>\n",
       "<td style=\"vertical-align: top; border: 0px solid white\">\n",
       "<h3 style=\"text-align: left;\">Cluster</h3>\n",
       "<ul style=\"text-align: left; list-style:none; margin: 0; padding: 0;\">\n",
       "  <li><b>Workers: </b>4</li>\n",
       "  <li><b>Cores: </b>16</li>\n",
       "  <li><b>Memory: </b>84.47 GB</li>\n",
       "</ul>\n",
       "</td>\n",
       "</tr>\n",
       "</table>"
      ],
      "text/plain": [
       "<Client: 'tcp://127.0.0.1:38013' processes=4 threads=16, memory=84.47 GB>"
      ]
     },
     "execution_count": 3,
     "metadata": {},
     "output_type": "execute_result"
    }
   ],
   "source": [
    "client = Client()\n",
    "client"
   ]
  },
  {
   "cell_type": "code",
   "execution_count": 4,
   "metadata": {},
   "outputs": [],
   "source": [
    "# List the columns that I am going to use\n",
    "# Many columns contain duplicate or unnecessary information. These are the essential features\n",
    "\n",
    "kept = ['vin' \n",
    "        , 'make_name' # Use make and body type instead of model\n",
    "        #, 'model_name'\n",
    "        , 'body_type'\n",
    "        , 'year'\n",
    "        , 'engine_type' # This contains the number of cylnders as well as their configureation.   \n",
    "        , 'wheel_system'\n",
    "        , 'transmission'\n",
    "        #, 'trimId'\n",
    "        #, 'trim_name'\n",
    "        , 'horsepower'\n",
    "        , 'maximum_seating'\n",
    "        , 'mileage'\n",
    "        \n",
    "        \n",
    "        # Target Variable\n",
    "        , 'price'\n",
    "\n",
    "        # Fuel Economy Variables\n",
    "        , 'fuel_type'  \n",
    "        , 'city_fuel_economy'\n",
    "        , 'highway_fuel_economy'\n",
    "        , 'combine_fuel_economy'\n",
    "\n",
    "        , 'daysonmarket'\n",
    "        , 'franchise_dealer'\n",
    "        , 'is_cpo'\n",
    "        \n",
    "        # These Features would need NLP\n",
    "        #, 'description'\n",
    "        #, 'major_options'\n",
    "        #, 'exterior_color'\n",
    "        #, 'interior_color'\n",
    "\n",
    "        # Low nulls but probably just noise\n",
    "        #, 'front_legroom'\n",
    "        #, 'back_legroom'\n",
    "        #, 'height'\n",
    "        #, 'length'\n",
    "        #, 'width'\n",
    "\n",
    "        # Vehicle History Features\n",
    "        , 'owner_count'\n",
    "        , 'has_accidents'       \n",
    "        , 'salvage'\n",
    "        , 'theft_title'\n",
    "        , 'fleet'\n",
    "        , 'frame_damaged'\n",
    "        , 'isCab' # Guessing this indicates that it was used for ridesharing?\n",
    "        \n",
    "        # Location information not currently utilized\n",
    "        #, 'dealer_zip'\n",
    "        #, 'latitude'\n",
    "        #, 'longitude'\n",
    "       ]"
   ]
  },
  {
   "cell_type": "code",
   "execution_count": 5,
   "metadata": {
    "scrolled": true
   },
   "outputs": [],
   "source": [
    "# read the first 10,000 rows in pandas to do understand the column types\n",
    "df = pd.read_csv(r'used_cars_data.csv', usecols=kept, nrows=10000)"
   ]
  },
  {
   "cell_type": "code",
   "execution_count": 6,
   "metadata": {},
   "outputs": [],
   "source": [
    "# Use the pandas type assignments for dask\n",
    "dtypes = {col : df[col].dtype for col in df.columns}\n",
    "\n",
    "# This contains problem values probably 4 digit codes\n",
    "#dtypes['dealer_zip'] = 'O'"
   ]
  },
  {
   "cell_type": "code",
   "execution_count": 7,
   "metadata": {},
   "outputs": [],
   "source": [
    "# Keep only the dtypes for the columns that I want\n",
    "#dtypes = {key : dtypes[key] for key in dtypes if key in kept}\n",
    "\n",
    "#df = dd.from_pandas(df, npartitions=5)\n",
    "\n",
    "df = dd.read_csv('used_cars_data.csv', usecols=kept, dtype=dtypes)"
   ]
  },
  {
   "cell_type": "code",
   "execution_count": 8,
   "metadata": {
    "scrolled": false
   },
   "outputs": [
    {
     "name": "stdout",
     "output_type": "stream",
     "text": [
      "vin                      0.000\n",
      "body_type                0.451\n",
      "city_fuel_economy       16.376\n",
      "combine_fuel_economy   100.000\n",
      "daysonmarket             0.000\n",
      "engine_type              3.353\n",
      "fleet                   47.553\n",
      "frame_damaged           47.553\n",
      "franchise_dealer         0.000\n",
      "fuel_type                2.757\n",
      "has_accidents           47.553\n",
      "highway_fuel_economy    16.376\n",
      "horsepower               5.746\n",
      "isCab                   47.553\n",
      "is_cpo                  93.903\n",
      "make_name                0.000\n",
      "maximum_seating          5.309\n",
      "mileage                  4.813\n",
      "owner_count             50.566\n",
      "price                    0.000\n",
      "salvage                 47.553\n",
      "theft_title             47.553\n",
      "transmission             2.139\n",
      "wheel_system             4.891\n",
      "year                     0.000\n",
      "dtype: float64\n"
     ]
    }
   ],
   "source": [
    "print_nulls(df)"
   ]
  },
  {
   "cell_type": "code",
   "execution_count": 9,
   "metadata": {
    "scrolled": false
   },
   "outputs": [],
   "source": [
    "def clean(df):\n",
    "    ### Operations to clean the dataset\n",
    "    '''\n",
    "    In this iteration it is mostly some simple fixes to retain and retype easy to clean data.\n",
    "    Almost half the data are being dropped because they lack car history values.\n",
    "\n",
    "    Some notes are included for currently unused columns.\n",
    "    '''\n",
    "\n",
    "    #First Drop Duplicates\n",
    "    df = df.drop_duplicates(subset='vin')\n",
    "\n",
    "    # Limit the model to vehicles with NHTSA data available\n",
    "    df = df[df['year'] > 1984]\n",
    "    '''\n",
    "    Helps limit the influence of collector cars since this is aimed toward\n",
    "    the general consumer\n",
    "    '''\n",
    "\n",
    "    # Clean up boolean columns into numerical\n",
    "    df['is_cpo'] = df['is_cpo'].apply(lambda x: 1 if x == 'True' else 0)\n",
    "\n",
    "    df['franchise_dealer'] = df['franchise_dealer'].apply(lambda x: 1 if x == 'True' else 0)\n",
    "\n",
    "    df['fleet'] = df['fleet'].apply(lambda x: 1 if x == 'True' else 0)\n",
    "\n",
    "    df['frame_damaged'] = df['frame_damaged'].apply(lambda x: 1 if x == 'True' else 0)\n",
    "\n",
    "    df['isCab'] = df['isCab'].apply(lambda x: 1 if x == 'True' else 0)\n",
    "\n",
    "    df['has_accidents'] = df['has_accidents'].apply(lambda x: 1 if x == 'True' else 0)\n",
    "\n",
    "    df['salvage'] = df['salvage'].apply(lambda x: 1 if x == 'True' else 0)\n",
    "\n",
    "    df['theft_title'] = df['theft_title'].apply(lambda x: 1 if x == 'True' else 0)\n",
    "\n",
    "    # Clean and retype seating capacity \n",
    "    def fix_seating(r):\n",
    "        try:\n",
    "            r = int(str(r).strip(' seats'))\n",
    "            return r\n",
    "        except:\n",
    "            return np.nan\n",
    "\n",
    "    df['maximum_seating'] = df['maximum_seating'].apply(fix_seating, meta=\n",
    "                                                        ('maximum_seating', 'int64'))\n",
    "    # Decide what to do about fuel economy\n",
    "    '''\n",
    "    It could be best to calculate an overall cost of ownership that would take fuel into account.\n",
    "    Within this model currently there is not a good option to assign a fuel economy value to electric \n",
    "    vehicles\n",
    "\n",
    "    Drop the component features due to correlation problems\n",
    "    '''\n",
    "\n",
    "    # EPA generates combined by weighting city 55% and highway 45%\n",
    "    df['combine_fuel_economy'] = df['city_fuel_economy']*0.55 + df['highway_fuel_economy']*0.45\n",
    "\n",
    "    df = df.drop(['city_fuel_economy', 'highway_fuel_economy'], axis=1)\n",
    "\n",
    "    # Use vin as index?\n",
    "    '''\n",
    "    May additionally need to add a vin checker here\n",
    "\n",
    "    Skipping for now because it is expensive and not useful yet\n",
    "\n",
    "    df = df.set_index('vin')\n",
    "    '''\n",
    "\n",
    "\n",
    "    # Drop almost half the dataset because it is missing history?, Drop those features?\n",
    "    '''\n",
    "    In this pass I'm going to retain these columns and shrink the data. \n",
    "    There is still more than enough and this way I may be able to create a classifier to\n",
    "    recommend if purchasing history will be worth it or not.\n",
    "\n",
    "    In the overall dataset these values have a null rate of about 45%\n",
    "\n",
    "\n",
    "    ['fleet'\n",
    "    , 'frame_damaged'\n",
    "    , 'isCab'\n",
    "    , 'has_accidents'\n",
    "    , 'salvage'\n",
    "    , 'theft_title']\n",
    "\n",
    "    '''\n",
    "\n",
    "    # Color and Description both need to be parsed\n",
    "    '''\n",
    "    Just dropping them in this pass\n",
    "    '''    \n",
    "\n",
    "    # Define a function to retype columns with unit inches\n",
    "    '''\n",
    "    def strip_inches(t):\n",
    "        try:\n",
    "            t = float(str(t).strip(' in'))\n",
    "            return t\n",
    "        except:\n",
    "            return np.nan\n",
    "\n",
    "    cols = ['back_legroom', 'front_legroom', 'height', 'width', 'length']\n",
    "\n",
    "    for col in cols:\n",
    "        df[col] = df[col].apply(strip_inches, meta=(col, 'int64'))\n",
    "    '''    \n",
    "\n",
    "    # See if I can bin TrimID better\n",
    "    '''\n",
    "    Drop them in this pass\n",
    "    '''\n",
    "    \n",
    "    # Drop the remaining nulls\n",
    "    '''\n",
    "    Unfortounately at this point that includes all vehicles that are primarily electric\n",
    "    because they have null fuel economy values\n",
    "    \n",
    "    A possible fix for this would be to use fuel economy and the cost of fuel to calculate a \n",
    "    price per mile. EPA has data that could be used to produce these estimates\n",
    "    '''\n",
    "    df = df.dropna()\n",
    "    \n",
    "    return df\n"
   ]
  },
  {
   "cell_type": "code",
   "execution_count": 10,
   "metadata": {},
   "outputs": [],
   "source": [
    "df = clean(df)"
   ]
  },
  {
   "cell_type": "code",
   "execution_count": 11,
   "metadata": {},
   "outputs": [
    {
     "data": {
      "text/plain": [
       "1226026"
      ]
     },
     "execution_count": 11,
     "metadata": {},
     "output_type": "execute_result"
    }
   ],
   "source": [
    "df.shape[0].compute()"
   ]
  },
  {
   "cell_type": "code",
   "execution_count": 12,
   "metadata": {},
   "outputs": [
    {
     "name": "stdout",
     "output_type": "stream",
     "text": [
      "vin                    0.000\n",
      "body_type              0.000\n",
      "combine_fuel_economy   0.000\n",
      "daysonmarket           0.000\n",
      "engine_type            0.000\n",
      "fleet                  0.000\n",
      "frame_damaged          0.000\n",
      "franchise_dealer       0.000\n",
      "fuel_type              0.000\n",
      "has_accidents          0.000\n",
      "horsepower             0.000\n",
      "isCab                  0.000\n",
      "is_cpo                 0.000\n",
      "make_name              0.000\n",
      "maximum_seating        0.000\n",
      "mileage                0.000\n",
      "owner_count            0.000\n",
      "price                  0.000\n",
      "salvage                0.000\n",
      "theft_title            0.000\n",
      "transmission           0.000\n",
      "wheel_system           0.000\n",
      "year                   0.000\n",
      "dtype: float64\n"
     ]
    }
   ],
   "source": [
    "print_nulls(df)"
   ]
  },
  {
   "cell_type": "code",
   "execution_count": 14,
   "metadata": {},
   "outputs": [],
   "source": [
    "# Write the data out to a more efficent format for further use.\n",
    "df.to_parquet('cars_cleaned_first_pass.parquet')"
   ]
  },
  {
   "cell_type": "code",
   "execution_count": 15,
   "metadata": {},
   "outputs": [],
   "source": [
    "client.close()"
   ]
  }
 ],
 "metadata": {
  "kernelspec": {
   "display_name": "Python 3",
   "language": "python",
   "name": "python3"
  },
  "language_info": {
   "codemirror_mode": {
    "name": "ipython",
    "version": 3
   },
   "file_extension": ".py",
   "mimetype": "text/x-python",
   "name": "python",
   "nbconvert_exporter": "python",
   "pygments_lexer": "ipython3",
   "version": "3.8.2"
  }
 },
 "nbformat": 4,
 "nbformat_minor": 4
}
