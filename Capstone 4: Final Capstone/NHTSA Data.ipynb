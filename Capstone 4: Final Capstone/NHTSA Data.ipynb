{
 "cells": [
  {
   "cell_type": "code",
   "execution_count": 1,
   "metadata": {},
   "outputs": [],
   "source": [
    "import pandas as pd\n",
    "import requests"
   ]
  },
  {
   "cell_type": "code",
   "execution_count": 2,
   "metadata": {},
   "outputs": [],
   "source": [
    "df = pd.read_csv('AllMakes.csv')"
   ]
  },
  {
   "cell_type": "code",
   "execution_count": 3,
   "metadata": {},
   "outputs": [
    {
     "data": {
      "text/html": [
       "<div>\n",
       "<style scoped>\n",
       "    .dataframe tbody tr th:only-of-type {\n",
       "        vertical-align: middle;\n",
       "    }\n",
       "\n",
       "    .dataframe tbody tr th {\n",
       "        vertical-align: top;\n",
       "    }\n",
       "\n",
       "    .dataframe thead th {\n",
       "        text-align: right;\n",
       "    }\n",
       "</style>\n",
       "<table border=\"1\" class=\"dataframe\">\n",
       "  <thead>\n",
       "    <tr style=\"text-align: right;\">\n",
       "      <th></th>\n",
       "      <th>make_id</th>\n",
       "      <th>make_name</th>\n",
       "    </tr>\n",
       "  </thead>\n",
       "  <tbody>\n",
       "    <tr>\n",
       "      <th>0</th>\n",
       "      <td>440</td>\n",
       "      <td>ASTON MARTIN</td>\n",
       "    </tr>\n",
       "    <tr>\n",
       "      <th>1</th>\n",
       "      <td>441</td>\n",
       "      <td>TESLA</td>\n",
       "    </tr>\n",
       "    <tr>\n",
       "      <th>2</th>\n",
       "      <td>442</td>\n",
       "      <td>JAGUAR</td>\n",
       "    </tr>\n",
       "    <tr>\n",
       "      <th>3</th>\n",
       "      <td>443</td>\n",
       "      <td>MASERATI</td>\n",
       "    </tr>\n",
       "    <tr>\n",
       "      <th>4</th>\n",
       "      <td>444</td>\n",
       "      <td>LAND ROVER</td>\n",
       "    </tr>\n",
       "  </tbody>\n",
       "</table>\n",
       "</div>"
      ],
      "text/plain": [
       "   make_id     make_name\n",
       "0      440  ASTON MARTIN\n",
       "1      441         TESLA\n",
       "2      442        JAGUAR\n",
       "3      443      MASERATI\n",
       "4      444    LAND ROVER"
      ]
     },
     "execution_count": 3,
     "metadata": {},
     "output_type": "execute_result"
    }
   ],
   "source": [
    "df.head()"
   ]
  },
  {
   "cell_type": "code",
   "execution_count": 4,
   "metadata": {},
   "outputs": [
    {
     "name": "stdout",
     "output_type": "stream",
     "text": [
      "<class 'pandas.core.frame.DataFrame'>\n",
      "RangeIndex: 9525 entries, 0 to 9524\n",
      "Data columns (total 2 columns):\n",
      " #   Column     Non-Null Count  Dtype \n",
      "---  ------     --------------  ----- \n",
      " 0   make_id    9525 non-null   int64 \n",
      " 1   make_name  9525 non-null   object\n",
      "dtypes: int64(1), object(1)\n",
      "memory usage: 149.0+ KB\n"
     ]
    }
   ],
   "source": [
    "df.info()"
   ]
  },
  {
   "cell_type": "code",
   "execution_count": null,
   "metadata": {},
   "outputs": [],
   "source": []
  },
  {
   "cell_type": "code",
   "execution_count": null,
   "metadata": {},
   "outputs": [],
   "source": [
    "https://vpic.nhtsa.dot.gov/api/vehicles/DecodeVINValuesBatch/?'SALRR2RV0L2433391;JF1VA2M67G9829723'format=csv"
   ]
  },
  {
   "cell_type": "code",
   "execution_count": 4,
   "metadata": {},
   "outputs": [],
   "source": [
    "vin = pd.read_csv('VINValues.csv')"
   ]
  },
  {
   "cell_type": "code",
   "execution_count": 5,
   "metadata": {
    "scrolled": true
   },
   "outputs": [
    {
     "data": {
      "text/html": [
       "<div>\n",
       "<style scoped>\n",
       "    .dataframe tbody tr th:only-of-type {\n",
       "        vertical-align: middle;\n",
       "    }\n",
       "\n",
       "    .dataframe tbody tr th {\n",
       "        vertical-align: top;\n",
       "    }\n",
       "\n",
       "    .dataframe thead th {\n",
       "        text-align: right;\n",
       "    }\n",
       "</style>\n",
       "<table border=\"1\" class=\"dataframe\">\n",
       "  <thead>\n",
       "    <tr style=\"text-align: right;\">\n",
       "      <th></th>\n",
       "      <th>makeid</th>\n",
       "      <th>modelid</th>\n",
       "      <th>vin</th>\n",
       "      <th>batteryinfo</th>\n",
       "      <th>batterytype</th>\n",
       "      <th>bedtype</th>\n",
       "      <th>bodycabtype</th>\n",
       "      <th>bodyclass</th>\n",
       "      <th>enginecylinders</th>\n",
       "      <th>destinationmarket</th>\n",
       "      <th>...</th>\n",
       "      <th>saeautomationlevel_to</th>\n",
       "      <th>rearcrosstrafficalert</th>\n",
       "      <th>gcwr</th>\n",
       "      <th>gcwr_to</th>\n",
       "      <th>ncsanote</th>\n",
       "      <th>ncsamappingexception</th>\n",
       "      <th>ncsamapexcapprovedon</th>\n",
       "      <th>ncsamapexcapprovedby</th>\n",
       "      <th>gvwr_to</th>\n",
       "      <th>errortext</th>\n",
       "    </tr>\n",
       "  </thead>\n",
       "  <tbody>\n",
       "    <tr>\n",
       "      <th>0</th>\n",
       "      <td>444</td>\n",
       "      <td>NaN</td>\n",
       "      <td>SALRR2RV0L2433391</td>\n",
       "      <td>NaN</td>\n",
       "      <td>NaN</td>\n",
       "      <td>NaN</td>\n",
       "      <td>NaN</td>\n",
       "      <td>NaN</td>\n",
       "      <td>NaN</td>\n",
       "      <td>NaN</td>\n",
       "      <td>...</td>\n",
       "      <td>NaN</td>\n",
       "      <td>NaN</td>\n",
       "      <td>NaN</td>\n",
       "      <td>NaN</td>\n",
       "      <td>NaN</td>\n",
       "      <td>NaN</td>\n",
       "      <td>NaN</td>\n",
       "      <td>NaN</td>\n",
       "      <td>NaN</td>\n",
       "      <td>5 - VIN has errors in few positions; 12 - Mode...</td>\n",
       "    </tr>\n",
       "  </tbody>\n",
       "</table>\n",
       "<p>1 rows × 145 columns</p>\n",
       "</div>"
      ],
      "text/plain": [
       "   makeid  modelid                vin  batteryinfo  batterytype  bedtype  \\\n",
       "0     444      NaN  SALRR2RV0L2433391          NaN          NaN      NaN   \n",
       "\n",
       "   bodycabtype  bodyclass  enginecylinders  destinationmarket  ...  \\\n",
       "0          NaN        NaN              NaN                NaN  ...   \n",
       "\n",
       "   saeautomationlevel_to  rearcrosstrafficalert  gcwr  gcwr_to  ncsanote  \\\n",
       "0                    NaN                    NaN   NaN      NaN       NaN   \n",
       "\n",
       "   ncsamappingexception  ncsamapexcapprovedon  ncsamapexcapprovedby  gvwr_to  \\\n",
       "0                   NaN                   NaN                   NaN      NaN   \n",
       "\n",
       "                                           errortext  \n",
       "0  5 - VIN has errors in few positions; 12 - Mode...  \n",
       "\n",
       "[1 rows x 145 columns]"
      ]
     },
     "execution_count": 5,
     "metadata": {},
     "output_type": "execute_result"
    }
   ],
   "source": [
    "vin"
   ]
  },
  {
   "cell_type": "code",
   "execution_count": null,
   "metadata": {},
   "outputs": [],
   "source": [
    "query = {'q': 'tetris+language:assembly', 'sort': 'stars', 'order': 'desc'}\n",
    "url = '/vehicles/DecodeVINValuesBatch/'"
   ]
  },
  {
   "cell_type": "code",
   "execution_count": null,
   "metadata": {},
   "outputs": [],
   "source": [
    "response = requests.get(url, params=query)"
   ]
  }
 ],
 "metadata": {
  "kernelspec": {
   "display_name": "Python 3",
   "language": "python",
   "name": "python3"
  },
  "language_info": {
   "codemirror_mode": {
    "name": "ipython",
    "version": 3
   },
   "file_extension": ".py",
   "mimetype": "text/x-python",
   "name": "python",
   "nbconvert_exporter": "python",
   "pygments_lexer": "ipython3",
   "version": "3.8.2"
  }
 },
 "nbformat": 4,
 "nbformat_minor": 4
}
