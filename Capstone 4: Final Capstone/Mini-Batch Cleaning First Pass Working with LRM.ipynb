{
 "cells": [
  {
   "cell_type": "code",
   "execution_count": 1,
   "metadata": {
    "scrolled": true
   },
   "outputs": [],
   "source": [
    "import numpy as np\n",
    "import matplotlib.pyplot as plt\n",
    "import seaborn as sns\n",
    "from dask import delayed\n",
    "from dask.distributed import Client, progress\n",
    "import dask.array as da\n",
    "import dask.dataframe as dd\n",
    "from dask_ml.preprocessing import DummyEncoder, StandardScaler\n",
    "from dask_ml.model_selection import train_test_split\n",
    "import joblib\n",
    "from sklearn.model_selection import cross_validate\n",
    "from sklearn.linear_model import LinearRegression\n",
    "\n",
    "import pandas as pd\n",
    "import spacy\n",
    "\n",
    "import warnings\n",
    "warnings.filterwarnings(\"ignore\")\n",
    "pd.options.display.float_format = '{:.3f}'.format"
   ]
  },
  {
   "cell_type": "code",
   "execution_count": 2,
   "metadata": {},
   "outputs": [],
   "source": [
    "def print_full(x):\n",
    "    pd.set_option('display.max_rows', len(x))\n",
    "    print(x)\n",
    "    pd.reset_option('display.max_rows')\n",
    "    \n",
    "def print_nulls(ddf):\n",
    "    out = ddf.isnull().sum()*100/ddf.isnull().isnull().count()\n",
    "    \n",
    "    return print_full(out.compute())"
   ]
  },
  {
   "cell_type": "code",
   "execution_count": 3,
   "metadata": {},
   "outputs": [],
   "source": [
    "def plot_hist_boxplot(df):\n",
    "    '''\n",
    "    Accepts only numerical columns;\n",
    "    use a maks.\n",
    "    '''\n",
    "    dim = df.shape[1]\n",
    "    plt.figure(figsize=(20, dim*5))\n",
    "    \n",
    "    # iterate through the columns\n",
    "    for i, column in enumerate(df.columns):\n",
    "        \n",
    "        # plot a histogram\n",
    "        plt.subplot(dim, 2, (i+1)*2-1)\n",
    "        plt.hist(df[column])\n",
    "        plt.ylabel(column, size='xx-large')\n",
    "        \n",
    "        # plot a boxplot\n",
    "        plt.subplot(dim, 2, (i+1)*2)\n",
    "        plt.boxplot(df[column], whis=[2.5, 97.5]) # boxplot will show outliers beyond the inner 90th percentile\n",
    "    plt.show()"
   ]
  },
  {
   "cell_type": "code",
   "execution_count": 4,
   "metadata": {
    "scrolled": true
   },
   "outputs": [
    {
     "data": {
      "text/html": [
       "<table style=\"border: 2px solid white;\">\n",
       "<tr>\n",
       "<td style=\"vertical-align: top; border: 0px solid white\">\n",
       "<h3 style=\"text-align: left;\">Client</h3>\n",
       "<ul style=\"text-align: left; list-style: none; margin: 0; padding: 0;\">\n",
       "  <li><b>Scheduler: </b>tcp://127.0.0.1:44661</li>\n",
       "  <li><b>Dashboard: </b><a href='http://127.0.0.1:8787/status' target='_blank'>http://127.0.0.1:8787/status</a></li>\n",
       "</ul>\n",
       "</td>\n",
       "<td style=\"vertical-align: top; border: 0px solid white\">\n",
       "<h3 style=\"text-align: left;\">Cluster</h3>\n",
       "<ul style=\"text-align: left; list-style:none; margin: 0; padding: 0;\">\n",
       "  <li><b>Workers: </b>3</li>\n",
       "  <li><b>Cores: </b>3</li>\n",
       "  <li><b>Memory: </b>6.00 GB</li>\n",
       "</ul>\n",
       "</td>\n",
       "</tr>\n",
       "</table>"
      ],
      "text/plain": [
       "<Client: 'tcp://127.0.0.1:44661' processes=3 threads=3, memory=6.00 GB>"
      ]
     },
     "execution_count": 4,
     "metadata": {},
     "output_type": "execute_result"
    }
   ],
   "source": [
    "client = Client(n_workers=3, threads_per_worker=1, memory_limit='2GB')\n",
    "client"
   ]
  },
  {
   "cell_type": "code",
   "execution_count": 5,
   "metadata": {},
   "outputs": [],
   "source": [
    "# read the first 10,000 rows in pandas to do understand the data structure\n",
    "df = pd.read_csv('/home/owen/Jupyter/Final/used_cars_data.csv', nrows=50000)"
   ]
  },
  {
   "cell_type": "code",
   "execution_count": 6,
   "metadata": {},
   "outputs": [],
   "source": [
    "dtypes = {col : df[col].dtype for col in df.columns}"
   ]
  },
  {
   "cell_type": "code",
   "execution_count": 7,
   "metadata": {},
   "outputs": [],
   "source": [
    "# These are retyped because they are being dropped\n",
    "dtypes['sp_id'] = 'O'\n",
    "dtypes['seller_rating'] = 'O'\n",
    "dtypes['vehicle_damage_category'] = 'O'\n",
    "dtypes['is_certified'] = 'O'\n",
    "dtypes['combine_fuel_economy'] = 'O'\n",
    "dtypes['listing_id'] = 'O'\n",
    "dtypes['savings_amount'] = 'O'\n",
    "\n",
    "\n",
    "\n",
    "# This contains problem values probably 4 digit codes\n",
    "dtypes['dealer_zip'] = 'O'\n"
   ]
  },
  {
   "cell_type": "code",
   "execution_count": 8,
   "metadata": {},
   "outputs": [],
   "source": [
    "# Load the data into Dask using the type map\n",
    "\n",
    "df = dd.from_pandas(df, npartitions=5)\n",
    "\n",
    "#df = dd.read_csv('/home/owen/Jupyter/Final/used_cars_data.csv', dtype=dtypes)"
   ]
  },
  {
   "cell_type": "code",
   "execution_count": 9,
   "metadata": {},
   "outputs": [
    {
     "name": "stdout",
     "output_type": "stream",
     "text": [
      "vin                         0.000\n",
      "back_legroom                4.994\n",
      "bed                        99.152\n",
      "bed_height                 93.136\n",
      "bed_length                 93.136\n",
      "body_type                   0.458\n",
      "cabin                      98.648\n",
      "city                        0.000\n",
      "city_fuel_economy          14.886\n",
      "combine_fuel_economy      100.000\n",
      "daysonmarket                0.000\n",
      "dealer_zip                  0.000\n",
      "description                 4.224\n",
      "engine_cylinders            2.872\n",
      "engine_displacement         5.344\n",
      "engine_type                 2.872\n",
      "exterior_color              0.000\n",
      "fleet                      39.884\n",
      "frame_damaged              39.884\n",
      "franchise_dealer            0.000\n",
      "franchise_make             31.212\n",
      "front_legroom               4.994\n",
      "fuel_tank_volume            4.994\n",
      "fuel_type                   2.470\n",
      "has_accidents              39.884\n",
      "height                      4.994\n",
      "highway_fuel_economy       14.886\n",
      "horsepower                  5.344\n",
      "interior_color              0.000\n",
      "isCab                      39.884\n",
      "is_certified              100.000\n",
      "is_cpo                     92.040\n",
      "is_new                      0.000\n",
      "is_oemcpo                  94.274\n",
      "latitude                    0.000\n",
      "length                      4.994\n",
      "listed_date                 0.000\n",
      "listing_color               0.000\n",
      "listing_id                  0.000\n",
      "longitude                   0.000\n",
      "main_picture_url           16.768\n",
      "major_options               7.966\n",
      "make_name                   0.000\n",
      "maximum_seating             4.994\n",
      "mileage                     3.658\n",
      "model_name                  0.000\n",
      "owner_count                42.624\n",
      "power                      14.448\n",
      "price                       0.000\n",
      "salvage                    39.884\n",
      "savings_amount              0.000\n",
      "seller_rating               0.758\n",
      "sp_id                       0.000\n",
      "sp_name                     0.000\n",
      "theft_title                39.884\n",
      "torque                     15.568\n",
      "transmission                0.852\n",
      "transmission_display        0.852\n",
      "trimId                      3.882\n",
      "trim_name                   3.908\n",
      "vehicle_damage_category   100.000\n",
      "wheel_system                4.680\n",
      "wheel_system_display        4.680\n",
      "wheelbase                   4.994\n",
      "width                       4.994\n",
      "year                        0.000\n",
      "dtype: float64\n"
     ]
    }
   ],
   "source": [
    "print_nulls(df)"
   ]
  },
  {
   "cell_type": "code",
   "execution_count": 10,
   "metadata": {
    "scrolled": true
   },
   "outputs": [],
   "source": [
    "### Operations to clean the dataset\n",
    "'''\n",
    "Retain only some of the featuers.\n",
    "Many contain redundant information or information that I am not using on this pass.\n",
    "In particular I am not using location data on this pass. \n",
    "'''\n",
    "\n",
    "# Limit the model to vehicles with NHTSA data available\n",
    "df = df[df['year'] > 1984]\n",
    "\n",
    "\n",
    "# Retain the columns first to reduce memory footprint\n",
    "kept = ['vin' \n",
    "        , 'make_name' # Use make and body type instead of model\n",
    "        #, 'model_name'\n",
    "        , 'body_type'\n",
    "        , 'year'\n",
    "        , 'engine_type' # This contains the number of cylnders as well as their configureation.   \n",
    "        , 'wheel_system'\n",
    "        , 'transmission'\n",
    "        #, 'trimId'\n",
    "        #, 'trim_name'\n",
    "        , 'horsepower'\n",
    "        , 'maximum_seating'\n",
    "        , 'mileage'\n",
    "        \n",
    "        # Target Variable\n",
    "        , 'price'\n",
    "\n",
    "        # Fuel Economy Variables\n",
    "        , 'fuel_type'  \n",
    "        , 'city_fuel_economy'\n",
    "        , 'highway_fuel_economy'\n",
    "        , 'combine_fuel_economy'\n",
    "\n",
    "        , 'daysonmarket'\n",
    "        , 'franchise_dealer'\n",
    "        , 'is_cpo'\n",
    "        \n",
    "        # These Features would need NLP\n",
    "        , 'description'\n",
    "        , 'major_options'\n",
    "        , 'exterior_color'\n",
    "        , 'interior_color'\n",
    "\n",
    "        # Have cleaning method but probably not necessary\n",
    "        , 'front_legroom'\n",
    "        , 'back_legroom'\n",
    "\n",
    "        # Vehicle History Features\n",
    "        , 'owner_count'\n",
    "        , 'has_accidents'       \n",
    "        , 'salvage'\n",
    "        , 'theft_title'\n",
    "        , 'fleet'\n",
    "        , 'frame_damaged'\n",
    "       ]\n",
    "\n",
    "df = df.loc[:, kept].copy()\n",
    "\n",
    "\n",
    "#First Drop Duplicates\n",
    "df = df.drop_duplicates(subset='vin')\n",
    "\n",
    "\n",
    "# Use vin as index?\n",
    "'''\n",
    "May additionally need to add a vin checker here\n",
    "'''\n",
    "df = df.set_index('vin')\n",
    "\n",
    "df.persist()\n",
    "\n",
    "# Generate a make/model/yearname column?\n",
    "    # Would be most helpful if/when I merge outside data.\n",
    "    # Dictionary of these and each has its own model?\n",
    "        # Is that just LIFT?\n",
    "    \n",
    "# Drop almost half the dataset because it is missing history?, Drop those features?\n",
    "'''\n",
    "In this pass I'm going to drop those features. I want to see how good the estimation is first.\n",
    "Added to the drop below\n",
    "\n",
    "The following features are all 47.553% Null. Seems to correspond to VIN history data\n",
    "\n",
    "['fleet'\n",
    ", 'frame_damaged'\n",
    ", 'isCab'\n",
    ", 'has_accidents'\n",
    ", 'salvage'\n",
    ", 'theft_title']\n",
    "\n",
    "'''\n",
    "\n",
    "# Color and Description both need to be parsed\n",
    "'''\n",
    "Just dropping them in this pass. Added to the drop below\n",
    "'''    \n",
    "\n",
    "\n",
    "# Define a function to retype columns with unit inches\n",
    "def strip_inches(t):\n",
    "    try:\n",
    "        t = float(str(t).strip(' in'))\n",
    "        return t\n",
    "    except:\n",
    "        return np.nan\n",
    "\n",
    "cols = ['back_legroom', 'front_legroom']\n",
    "    \n",
    "for col in cols:\n",
    "    df[col] = df[col].apply(strip_inches, meta=(col, 'int64'))\n",
    "    \n",
    "\n",
    "# Clean and retype seating capacity \n",
    "def fix_seating(r):\n",
    "    try:\n",
    "        r = int(str(r).strip(' seats'))\n",
    "        return r\n",
    "    except:\n",
    "        return np.nan\n",
    "    \n",
    "df['maximum_seating'] = df['maximum_seating'].apply(fix_seating, meta=\n",
    "                                                    ('maximum_seating', 'int64')).compute()\n",
    "\n",
    "\n",
    "# Clean up boolean columns into numerical\n",
    "df['is_cpo'] = df['is_cpo'].apply(lambda x: 1 if x == True else 0)\n",
    "\n",
    "df['franchise_dealer'] = df['franchise_dealer'].apply(lambda x: 1 if x == True else 0)\n",
    "\n",
    "\n",
    "# Decide what to do about fuel economy\n",
    "\n",
    "    # EPA generates combined by weighting city 55% and highway 45%\n",
    "df['combine_fuel_economy'] = df['city_fuel_economy']*0.55 + df['highway_fuel_economy']*0.45\n",
    "    # Would be cool to see a model that encorporates a ratio as input?\n",
    "    \n",
    "    \n",
    "    \n",
    "# See if I can bin TrimID better\n",
    "'''\n",
    "Drop them in this pass\n",
    "'''\n",
    "\n",
    "\n",
    "\n",
    "# Drop some features\n",
    "df = df.drop([ 'description'\n",
    "              , 'major_options'\n",
    "              , 'exterior_color'\n",
    "              , 'interior_color'\n",
    "              , 'fleet'\n",
    "              , 'frame_damaged'\n",
    "              , 'has_accidents'\n",
    "              , 'salvage'\n",
    "              , 'theft_title'\n",
    "              , 'owner_count'\n",
    "             #, 'trimId'\n",
    "             #, 'trim_name'\n",
    "             ], axis=1).copy()\n"
   ]
  },
  {
   "cell_type": "code",
   "execution_count": 11,
   "metadata": {},
   "outputs": [
    {
     "name": "stdout",
     "output_type": "stream",
     "text": [
      "make_name               0.000\n",
      "body_type               0.448\n",
      "year                    0.000\n",
      "engine_type             2.802\n",
      "wheel_system            4.614\n",
      "transmission            0.853\n",
      "horsepower              5.276\n",
      "maximum_seating         4.948\n",
      "mileage                 3.655\n",
      "price                   0.000\n",
      "fuel_type               2.404\n",
      "city_fuel_economy      14.823\n",
      "highway_fuel_economy   14.823\n",
      "combine_fuel_economy   14.823\n",
      "daysonmarket            0.000\n",
      "franchise_dealer        0.000\n",
      "is_cpo                  0.000\n",
      "front_legroom           5.860\n",
      "back_legroom            8.186\n",
      "dtype: float64\n"
     ]
    }
   ],
   "source": [
    "print_nulls(df)"
   ]
  },
  {
   "cell_type": "code",
   "execution_count": 12,
   "metadata": {},
   "outputs": [],
   "source": [
    "df = df.dropna()"
   ]
  },
  {
   "cell_type": "code",
   "execution_count": 13,
   "metadata": {
    "scrolled": false
   },
   "outputs": [],
   "source": [
    "#plot_hist_boxplot(df.select_dtypes(include='number'))"
   ]
  },
  {
   "cell_type": "code",
   "execution_count": 14,
   "metadata": {},
   "outputs": [],
   "source": [
    "# Apply a log transformation to price\n",
    "df['price'] = np.log(df['price'])\n",
    "df = df.categorize().compute()\n",
    "de = DummyEncoder()\n",
    "df = de.fit_transform(df)"
   ]
  },
  {
   "cell_type": "code",
   "execution_count": 15,
   "metadata": {},
   "outputs": [],
   "source": [
    "scaler = StandardScaler()"
   ]
  },
  {
   "cell_type": "code",
   "execution_count": 16,
   "metadata": {},
   "outputs": [],
   "source": [
    "X = scaler.fit_transform(df.drop('price', axis=1))"
   ]
  },
  {
   "cell_type": "code",
   "execution_count": 17,
   "metadata": {},
   "outputs": [],
   "source": [
    "y = df['price']"
   ]
  },
  {
   "cell_type": "code",
   "execution_count": 18,
   "metadata": {},
   "outputs": [],
   "source": [
    "X_train, X_test, y_train, y_test = train_test_split(X, y, test_size=.25, random_state=1312)\n"
   ]
  },
  {
   "cell_type": "code",
   "execution_count": 19,
   "metadata": {
    "scrolled": false
   },
   "outputs": [
    {
     "data": {
      "text/plain": [
       "{'fit_time': array([0.29964042, 0.34453011, 0.21441698, 0.35865569]),\n",
       " 'score_time': array([0.02055049, 0.01479721, 0.00572181, 0.01215172]),\n",
       " 'test_score': array([0.92161174, 0.9224681 , 0.92209996, 0.92464731])}"
      ]
     },
     "execution_count": 19,
     "metadata": {},
     "output_type": "execute_result"
    }
   ],
   "source": [
    "lrm = LinearRegression()\n",
    "\n",
    "with joblib.parallel_backend('dask'):\n",
    "    scores = cross_validate(lrm, X_train, y_train, cv=4)\n",
    "    \n",
    "scores"
   ]
  }
 ],
 "metadata": {
  "kernelspec": {
   "display_name": "Python 3",
   "language": "python",
   "name": "python3"
  },
  "language_info": {
   "codemirror_mode": {
    "name": "ipython",
    "version": 3
   },
   "file_extension": ".py",
   "mimetype": "text/x-python",
   "name": "python",
   "nbconvert_exporter": "python",
   "pygments_lexer": "ipython3",
   "version": "3.8.2"
  }
 },
 "nbformat": 4,
 "nbformat_minor": 4
}
