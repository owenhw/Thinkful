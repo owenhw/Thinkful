{
 "cells": [
  {
   "cell_type": "markdown",
   "metadata": {},
   "source": [
    "# Final Capstone Project Proposal"
   ]
  },
  {
   "cell_type": "markdown",
   "metadata": {},
   "source": [
    "#### What is the problem that you are attempting to solve?\n",
    "\n",
    "Buying a used car is usually much cheaper and helps prolong the usefulness of an asset that took considerable resources to produce. Cars are one of the biggest investments anyone will make and they need to be able to depend upon it. Furthermore many auto-traders make a living sourcing used cars and flipping them.\n",
    "\n",
    "Both of these groups of people often rely on vehicle history reports available from a variety of firms. This information is collected by the United States government but unfortounately due to the structure of the agency that gathers these data the reports are only available through their third party partners, for a fee.\n",
    "\n",
    "To the average consumer looking for a cheaper option that will still provide reliable transportation this added cost can be a burden. \n",
    "\n",
    "In the case of auto-traders, while they often recieve bulk discounts, these fees add up, especially if they are doing any volume. Furthermore most cars do not have concerning entries in their history reports.\n",
    "\n",
    "This product aims to predict the likelihood that a car has incidents on its record. These would include reported accidents, frame damage or a modified title (either because the auto has been rebuilt after being totaled or because there is a history of theft).\n",
    "\n",
    "In addition this model would also predict the expected price of a vehicle, based on a few key attributes.\n",
    "\n",
    "#### How is your solution valuable?\n",
    "\n",
    "By predicting the expected retail price and likelihood that a car has a negative history users can be better informed as they research options. \n",
    "\n",
    "For dealers this information is also useful. In most cases they are purchasing these vehicles at auctions. By predicting the price they could sell the vehicle for as well as the likelihood that it has a problematic history they can avoid bad investments and reduce the cost of their research.\n",
    "\n",
    "#### What is your data source, and how will you access it?\n",
    "\n",
    "I am using a dataset of used car listed on the website [CarGurus](https://www.cargurus.com/Cars/spt_used_cars?px8324=p2&sourceContext=cargurusTM&cgcid=2161&cgagid=910472&ax8324=66376371&type=GoogleAdWordsSearch&kw=car%20gurus&matchtype=e&ad=289046206779&placement=&networktype=g&device=c&devicemodel=&adposition=&physloc=9007309&intloc=&aceid=&cid=141954540&agid=7773125700&tgtid=aud-462482486341:kwd-4934157750&fid=&gclid=Cj0KCQiA5bz-BRD-ARIsABjT4ngXR090hqXlC9ph9SMQ8Si12j0W9OKqvUIptJyLM3ZzfJO4NPQ2yAgaAiifEALw_wcB) from the United States. This dataset was scrapped by a Kaggle user and can be found [here.](https://www.kaggle.com/ananaymital/us-used-cars-dataset)\n",
    "\n",
    "#### What techniques from the program do you anticipate using?\n",
    "\n",
    "The dataset is large about 3 million rows and 10GB. While not that large by todays standards it still is large enough that my local machine cannot match the task. Therefore I will use Dask in my implementation, powered by a Google Cloud Compute Engine and using ssh tunneling to access Jupyter Hub remotely.\n",
    "\n",
    "For my analysis I intend to test a variety of supervised models for both classification and regression. XGBoost has performant options for both and is optimized for paralell processing. In addition, I intend to use unsupervised models for EDA.\n",
    "\n",
    "Many of the companies that offer these reports also provide an API service. If the model is sucessful this could be integrated into the final product, allowing the customer to purchase the report directly through this proposed service.\n",
    "\n",
    "#### What is the biggest challenge that you anticipate facing?\n",
    "The classes in this classification problem are highly unballanced. Therefore detection could be a problem and I will havey to apply techniques that are robust to unballanced classes.\n",
    "\n",
    "Furthermore while dask implements much of the Pandas API learning a new workflow and learning how to use Google cloud could present significant stumbling blocks. \n",
    "\n",
    "Most importantly I am concerned about enough signal within my data to produce an accurate classification solution. Some initial results indicate the for the consumer facing solution the error of the predicted price may be an indicator however for the auto-trader facing solution this is not applicable because I have no data about the prices they pay, only the final listing price.\n",
    "\n",
    "However it may be that there is enough raw data to overcome weaker signal. Furthermore because I would be able to retain a copy of any report I sold to users (at cost or a low markup because the point of this solution is to lower costs for consumers) the model could be further improved while passing on the cost of aquiring more data to the users. "
   ]
  }
 ],
 "metadata": {
  "kernelspec": {
   "display_name": "Python 3",
   "language": "python",
   "name": "python3"
  },
  "language_info": {
   "codemirror_mode": {
    "name": "ipython",
    "version": 3
   },
   "file_extension": ".py",
   "mimetype": "text/x-python",
   "name": "python",
   "nbconvert_exporter": "python",
   "pygments_lexer": "ipython3",
   "version": "3.8.2"
  }
 },
 "nbformat": 4,
 "nbformat_minor": 4
}
