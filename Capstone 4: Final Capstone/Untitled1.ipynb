{
 "cells": [
  {
   "cell_type": "code",
   "execution_count": 1,
   "metadata": {},
   "outputs": [],
   "source": [
    "import pandas as pd\n",
    "import numpy as np\n",
    "import matplotlib.pyplot as plt"
   ]
  },
  {
   "cell_type": "code",
   "execution_count": 2,
   "metadata": {},
   "outputs": [],
   "source": [
    "df = pd.read_csv('used_cars_data.csv', nrows=10000)"
   ]
  },
  {
   "cell_type": "code",
   "execution_count": 3,
   "metadata": {},
   "outputs": [
    {
     "data": {
      "text/plain": [
       "0         NaN\n",
       "1         NaN\n",
       "2       False\n",
       "3         NaN\n",
       "4         NaN\n",
       "        ...  \n",
       "9995     True\n",
       "9996      NaN\n",
       "9997      NaN\n",
       "9998    False\n",
       "9999    False\n",
       "Name: has_accidents, Length: 10000, dtype: object"
      ]
     },
     "execution_count": 3,
     "metadata": {},
     "output_type": "execute_result"
    }
   ],
   "source": [
    "df['has_accidents']"
   ]
  },
  {
   "cell_type": "code",
   "execution_count": 4,
   "metadata": {},
   "outputs": [
    {
     "data": {
      "text/plain": [
       "Index(['vin', 'back_legroom', 'bed', 'bed_height', 'bed_length', 'body_type',\n",
       "       'cabin', 'city', 'city_fuel_economy', 'combine_fuel_economy',\n",
       "       'daysonmarket', 'dealer_zip', 'description', 'engine_cylinders',\n",
       "       'engine_displacement', 'engine_type', 'exterior_color', 'fleet',\n",
       "       'frame_damaged', 'franchise_dealer', 'franchise_make', 'front_legroom',\n",
       "       'fuel_tank_volume', 'fuel_type', 'has_accidents', 'height',\n",
       "       'highway_fuel_economy', 'horsepower', 'interior_color', 'isCab',\n",
       "       'is_certified', 'is_cpo', 'is_new', 'is_oemcpo', 'latitude', 'length',\n",
       "       'listed_date', 'listing_color', 'listing_id', 'longitude',\n",
       "       'main_picture_url', 'major_options', 'make_name', 'maximum_seating',\n",
       "       'mileage', 'model_name', 'owner_count', 'power', 'price', 'salvage',\n",
       "       'savings_amount', 'seller_rating', 'sp_id', 'sp_name', 'theft_title',\n",
       "       'torque', 'transmission', 'transmission_display', 'trimId', 'trim_name',\n",
       "       'vehicle_damage_category', 'wheel_system', 'wheel_system_display',\n",
       "       'wheelbase', 'width', 'year'],\n",
       "      dtype='object')"
      ]
     },
     "execution_count": 4,
     "metadata": {},
     "output_type": "execute_result"
    }
   ],
   "source": [
    "df.columns"
   ]
  },
  {
   "cell_type": "code",
   "execution_count": 7,
   "metadata": {},
   "outputs": [
    {
     "data": {
      "text/plain": [
       "0.3751"
      ]
     },
     "execution_count": 7,
     "metadata": {},
     "output_type": "execute_result"
    }
   ],
   "source": [
    "df['owner_count'].isnull().sum()/len(df)"
   ]
  },
  {
   "cell_type": "code",
   "execution_count": null,
   "metadata": {},
   "outputs": [],
   "source": []
  }
 ],
 "metadata": {
  "kernelspec": {
   "display_name": "Python 3",
   "language": "python",
   "name": "python3"
  },
  "language_info": {
   "codemirror_mode": {
    "name": "ipython",
    "version": 3
   },
   "file_extension": ".py",
   "mimetype": "text/x-python",
   "name": "python",
   "nbconvert_exporter": "python",
   "pygments_lexer": "ipython3",
   "version": "3.8.2"
  }
 },
 "nbformat": 4,
 "nbformat_minor": 4
}
