{
 "cells": [
  {
   "cell_type": "code",
   "execution_count": 1,
   "metadata": {},
   "outputs": [],
   "source": [
    "import matplotlib.pyplot as plt\n",
    "import seaborn as sns\n",
    "import numpy as np\n",
    "import pandas as pd\n",
    "from sklearn.linear_model import LinearRegression\n",
    "from sklearn.model_selection import train_test_split\n",
    "from sklearn.metrics import mean_absolute_error\n",
    "import statsmodels.api as sm\n",
    "from statsmodels.tools.eval_measures import mse, rmse\n",
    "from sqlalchemy import create_engine\n",
    "from scipy.stats.mstats import winsorize\n",
    "from scipy.stats import jarque_bera\n",
    "from scipy.stats import normaltest\n",
    "from sklearn import neighbors\n",
    "from sklearn.model_selection import cross_val_score\n",
    "\n",
    "# Display preferences.\n",
    "%matplotlib inline\n",
    "pd.options.display.float_format = '{:.3f}'.format\n",
    "\n",
    "import warnings\n",
    "warnings.filterwarnings(action=\"ignore\")"
   ]
  },
  {
   "cell_type": "code",
   "execution_count": 2,
   "metadata": {},
   "outputs": [],
   "source": [
    "def print_nulls(df):\n",
    "    \n",
    "    out = df.isnull().sum()*100/df.isnull().isnull().count()\n",
    "    \n",
    "    pd.set_option('display.max_rows', len(out))\n",
    "    print(out)\n",
    "    pd.reset_option('display.max_rows')"
   ]
  },
  {
   "cell_type": "code",
   "execution_count": 3,
   "metadata": {},
   "outputs": [],
   "source": [
    "def print_outliers(lower_inner_upper, df):\n",
    "    \n",
    "    if lower_inner_upper == 'lower':\n",
    "        \n",
    "        print('Continuious Variables', '\\n')\n",
    "\n",
    "        for column in df.select_dtypes(include='number'):\n",
    "            print(column)\n",
    "            for threshold in [95, 90, 85, 80, 75]:\n",
    "                lower_bound = np.percentile(df[column], [100-threshold])[0]\n",
    "                \n",
    "                print('Beyond the upper {}th percentile there are {} outliers'.format(threshold, \n",
    "                    len((np.where((df[column] < lower_bound))[0]))\n",
    "                ))\n",
    "                \n",
    "            if (df[column].nunique() < 5):\n",
    "                print('\\n')\n",
    "                print('Possible Categorical Variable')\n",
    "                print('There are {} unique values'.format(df[column].nunique()))\n",
    "                print(df[column].value_counts())\n",
    "            print('\\n')\n",
    "    \n",
    "    elif lower_inner_upper == 'inner':\n",
    "        \n",
    "        print('Continuious Variables', '\\n')\n",
    "    \n",
    "        for column in df.select_dtypes(include='number'):\n",
    "            print(column)\n",
    "            for threshold in [95, 90, 85, 80, 75]:\n",
    "                alpha = 100 - threshold\n",
    "                upper_bound, lower_bound = np.percentile(df[column]\n",
    "                                                         , [(100 - alpha/2), (0 + alpha/2)]) \n",
    "\n",
    "                print(\"Beyond the inner {}th percentile there are {} outliers.\".format(threshold,\n",
    "                        len((np.where((df[column] > upper_bound) \n",
    "                                      | (df[column] < lower_bound))[0]))\n",
    "                    ))\n",
    "\n",
    "            if (df[column].nunique() < 5):\n",
    "                print('\\n')\n",
    "                print('Possible Categorical Variable')\n",
    "                print('There are {} unique values'.format(df[column].nunique()))\n",
    "                print(df[column].value_counts())\n",
    "            print('\\n')\n",
    "            \n",
    "    elif lower_inner_upper == 'upper':\n",
    "    \n",
    "        print('Continuious Variables', '\\n')\n",
    "\n",
    "        for column in df.select_dtypes(include='number'):\n",
    "            print(column)\n",
    "            for threshold in [95, 90, 85, 80, 75]:\n",
    "                upper_bound = np.percentile(df[column], [threshold])[0]\n",
    "                \n",
    "                print('Beyond the lower {}th percentile there are {} outliers'.format(threshold, \n",
    "                    len((np.where((df[column] > upper_bound))[0]))\n",
    "                ))\n",
    "                \n",
    "            if (df[column].nunique() < 5):\n",
    "                print('\\n')\n",
    "                print('Possible Categorical Variable')\n",
    "                print('There are {} unique values'.format(df[column].nunique()))\n",
    "                print(df[column].value_counts())\n",
    "            print('\\n')\n",
    "        \n",
    "        \n",
    "    \n",
    "    print('Categorical Variables', '\\n')\n",
    "    \n",
    "    for column in df.select_dtypes(include='object'):\n",
    "        print(column)\n",
    "        print('There are {} unique values'.format(df[column].nunique()))\n",
    "        print(df[column].value_counts())\n",
    "        print('\\n')"
   ]
  },
  {
   "cell_type": "markdown",
   "metadata": {},
   "source": [
    "## Introduction\n",
    "\n"
   ]
  },
  {
   "cell_type": "markdown",
   "metadata": {},
   "source": [
    "## Load the Data Set\n",
    "\n",
    "This is a mock data set created specifically for learning purposes. It can be found at: https://www.kaggle.com/gireeshs/household-monthly-electricity-bill?select=Household+energy+bill+data.csv"
   ]
  },
  {
   "cell_type": "code",
   "execution_count": 4,
   "metadata": {
    "scrolled": true
   },
   "outputs": [],
   "source": [
    "df = pd.read_csv('electricity.csv')"
   ]
  },
  {
   "cell_type": "code",
   "execution_count": 5,
   "metadata": {
    "scrolled": true
   },
   "outputs": [
    {
     "name": "stdout",
     "output_type": "stream",
     "text": [
      "<class 'pandas.core.frame.DataFrame'>\n",
      "RangeIndex: 1000 entries, 0 to 999\n",
      "Data columns (total 10 columns):\n",
      " #   Column              Non-Null Count  Dtype  \n",
      "---  ------              --------------  -----  \n",
      " 0   num_rooms           1000 non-null   int64  \n",
      " 1   num_people          1000 non-null   int64  \n",
      " 2   housearea           1000 non-null   float64\n",
      " 3   is_ac               1000 non-null   int64  \n",
      " 4   is_tv               1000 non-null   int64  \n",
      " 5   is_flat             1000 non-null   int64  \n",
      " 6   ave_monthly_income  1000 non-null   float64\n",
      " 7   num_children        1000 non-null   int64  \n",
      " 8   is_urban            1000 non-null   int64  \n",
      " 9   amount_paid         1000 non-null   float64\n",
      "dtypes: float64(3), int64(7)\n",
      "memory usage: 78.2 KB\n"
     ]
    },
    {
     "data": {
      "text/html": [
       "<div>\n",
       "<style scoped>\n",
       "    .dataframe tbody tr th:only-of-type {\n",
       "        vertical-align: middle;\n",
       "    }\n",
       "\n",
       "    .dataframe tbody tr th {\n",
       "        vertical-align: top;\n",
       "    }\n",
       "\n",
       "    .dataframe thead th {\n",
       "        text-align: right;\n",
       "    }\n",
       "</style>\n",
       "<table border=\"1\" class=\"dataframe\">\n",
       "  <thead>\n",
       "    <tr style=\"text-align: right;\">\n",
       "      <th></th>\n",
       "      <th>num_rooms</th>\n",
       "      <th>num_people</th>\n",
       "      <th>housearea</th>\n",
       "      <th>is_ac</th>\n",
       "      <th>is_tv</th>\n",
       "      <th>is_flat</th>\n",
       "      <th>ave_monthly_income</th>\n",
       "      <th>num_children</th>\n",
       "      <th>is_urban</th>\n",
       "      <th>amount_paid</th>\n",
       "    </tr>\n",
       "  </thead>\n",
       "  <tbody>\n",
       "    <tr>\n",
       "      <th>0</th>\n",
       "      <td>3</td>\n",
       "      <td>3</td>\n",
       "      <td>742.570</td>\n",
       "      <td>1</td>\n",
       "      <td>1</td>\n",
       "      <td>1</td>\n",
       "      <td>9675.930</td>\n",
       "      <td>2</td>\n",
       "      <td>0</td>\n",
       "      <td>560.481</td>\n",
       "    </tr>\n",
       "    <tr>\n",
       "      <th>1</th>\n",
       "      <td>1</td>\n",
       "      <td>5</td>\n",
       "      <td>952.990</td>\n",
       "      <td>0</td>\n",
       "      <td>1</td>\n",
       "      <td>0</td>\n",
       "      <td>35064.790</td>\n",
       "      <td>1</td>\n",
       "      <td>1</td>\n",
       "      <td>633.284</td>\n",
       "    </tr>\n",
       "    <tr>\n",
       "      <th>2</th>\n",
       "      <td>3</td>\n",
       "      <td>1</td>\n",
       "      <td>761.440</td>\n",
       "      <td>1</td>\n",
       "      <td>1</td>\n",
       "      <td>1</td>\n",
       "      <td>22292.440</td>\n",
       "      <td>0</td>\n",
       "      <td>0</td>\n",
       "      <td>511.879</td>\n",
       "    </tr>\n",
       "    <tr>\n",
       "      <th>3</th>\n",
       "      <td>0</td>\n",
       "      <td>5</td>\n",
       "      <td>861.320</td>\n",
       "      <td>1</td>\n",
       "      <td>1</td>\n",
       "      <td>0</td>\n",
       "      <td>12139.080</td>\n",
       "      <td>0</td>\n",
       "      <td>0</td>\n",
       "      <td>332.992</td>\n",
       "    </tr>\n",
       "    <tr>\n",
       "      <th>4</th>\n",
       "      <td>1</td>\n",
       "      <td>8</td>\n",
       "      <td>731.610</td>\n",
       "      <td>0</td>\n",
       "      <td>1</td>\n",
       "      <td>0</td>\n",
       "      <td>17230.100</td>\n",
       "      <td>2</td>\n",
       "      <td>1</td>\n",
       "      <td>658.286</td>\n",
       "    </tr>\n",
       "    <tr>\n",
       "      <th>5</th>\n",
       "      <td>0</td>\n",
       "      <td>5</td>\n",
       "      <td>837.240</td>\n",
       "      <td>0</td>\n",
       "      <td>1</td>\n",
       "      <td>1</td>\n",
       "      <td>24661.810</td>\n",
       "      <td>2</td>\n",
       "      <td>1</td>\n",
       "      <td>793.242</td>\n",
       "    </tr>\n",
       "    <tr>\n",
       "      <th>6</th>\n",
       "      <td>4</td>\n",
       "      <td>5</td>\n",
       "      <td>679.040</td>\n",
       "      <td>0</td>\n",
       "      <td>1</td>\n",
       "      <td>0</td>\n",
       "      <td>28184.430</td>\n",
       "      <td>1</td>\n",
       "      <td>1</td>\n",
       "      <td>570.383</td>\n",
       "    </tr>\n",
       "    <tr>\n",
       "      <th>7</th>\n",
       "      <td>3</td>\n",
       "      <td>4</td>\n",
       "      <td>1044.650</td>\n",
       "      <td>0</td>\n",
       "      <td>0</td>\n",
       "      <td>1</td>\n",
       "      <td>16912.690</td>\n",
       "      <td>2</td>\n",
       "      <td>1</td>\n",
       "      <td>585.405</td>\n",
       "    </tr>\n",
       "    <tr>\n",
       "      <th>8</th>\n",
       "      <td>2</td>\n",
       "      <td>4</td>\n",
       "      <td>713.900</td>\n",
       "      <td>1</td>\n",
       "      <td>0</td>\n",
       "      <td>0</td>\n",
       "      <td>26058.280</td>\n",
       "      <td>0</td>\n",
       "      <td>1</td>\n",
       "      <td>653.201</td>\n",
       "    </tr>\n",
       "    <tr>\n",
       "      <th>9</th>\n",
       "      <td>1</td>\n",
       "      <td>6</td>\n",
       "      <td>734.430</td>\n",
       "      <td>0</td>\n",
       "      <td>0</td>\n",
       "      <td>0</td>\n",
       "      <td>22545.500</td>\n",
       "      <td>2</td>\n",
       "      <td>1</td>\n",
       "      <td>606.015</td>\n",
       "    </tr>\n",
       "  </tbody>\n",
       "</table>\n",
       "</div>"
      ],
      "text/plain": [
       "   num_rooms  num_people  housearea  is_ac  is_tv  is_flat  \\\n",
       "0          3           3    742.570      1      1        1   \n",
       "1          1           5    952.990      0      1        0   \n",
       "2          3           1    761.440      1      1        1   \n",
       "3          0           5    861.320      1      1        0   \n",
       "4          1           8    731.610      0      1        0   \n",
       "5          0           5    837.240      0      1        1   \n",
       "6          4           5    679.040      0      1        0   \n",
       "7          3           4   1044.650      0      0        1   \n",
       "8          2           4    713.900      1      0        0   \n",
       "9          1           6    734.430      0      0        0   \n",
       "\n",
       "   ave_monthly_income  num_children  is_urban  amount_paid  \n",
       "0            9675.930             2         0      560.481  \n",
       "1           35064.790             1         1      633.284  \n",
       "2           22292.440             0         0      511.879  \n",
       "3           12139.080             0         0      332.992  \n",
       "4           17230.100             2         1      658.286  \n",
       "5           24661.810             2         1      793.242  \n",
       "6           28184.430             1         1      570.383  \n",
       "7           16912.690             2         1      585.405  \n",
       "8           26058.280             0         1      653.201  \n",
       "9           22545.500             2         1      606.015  "
      ]
     },
     "execution_count": 5,
     "metadata": {},
     "output_type": "execute_result"
    }
   ],
   "source": [
    "df.info()\n",
    "df.head(10)"
   ]
  },
  {
   "cell_type": "markdown",
   "metadata": {},
   "source": [
    "## EDA and Data Cleaning"
   ]
  },
  {
   "cell_type": "code",
   "execution_count": 6,
   "metadata": {},
   "outputs": [],
   "source": [
    "# there appears to be no null values but we will \n",
    "# check that there are no missing values or errors in the data set"
   ]
  },
  {
   "cell_type": "code",
   "execution_count": 7,
   "metadata": {
    "scrolled": true
   },
   "outputs": [
    {
     "name": "stdout",
     "output_type": "stream",
     "text": [
      "num_rooms \n",
      "-----------------------------------------------\n",
      "Problem values are:\n",
      "[]\n",
      "\n",
      "\n",
      "num_people \n",
      "-----------------------------------------------\n",
      "Problem values are:\n",
      "[]\n",
      "\n",
      "\n",
      "housearea \n",
      "-----------------------------------------------\n",
      "Problem values are:\n",
      "[]\n",
      "\n",
      "\n",
      "is_ac \n",
      "-----------------------------------------------\n",
      "Problem values are:\n",
      "[]\n",
      "\n",
      "\n",
      "is_tv \n",
      "-----------------------------------------------\n",
      "Problem values are:\n",
      "[]\n",
      "\n",
      "\n",
      "is_flat \n",
      "-----------------------------------------------\n",
      "Problem values are:\n",
      "[]\n",
      "\n",
      "\n",
      "ave_monthly_income \n",
      "-----------------------------------------------\n",
      "Problem values are:\n",
      "[]\n",
      "\n",
      "\n",
      "num_children \n",
      "-----------------------------------------------\n",
      "Problem values are:\n",
      "[]\n",
      "\n",
      "\n",
      "is_urban \n",
      "-----------------------------------------------\n",
      "Problem values are:\n",
      "[]\n",
      "\n",
      "\n",
      "amount_paid \n",
      "-----------------------------------------------\n",
      "Problem values are:\n",
      "[]\n",
      "\n",
      "\n"
     ]
    }
   ],
   "source": [
    "for column in df.columns:\n",
    "    problems = []\n",
    "    for entry in df[column]:\n",
    "        try:\n",
    "            float(entry)\n",
    "        except:\n",
    "            problems.append(entry)\n",
    "    print(column, '\\n-----------------------------------------------')\n",
    "    print('Problem values are:')\n",
    "    print(problems)\n",
    "    print('\\n')"
   ]
  },
  {
   "cell_type": "code",
   "execution_count": 8,
   "metadata": {},
   "outputs": [],
   "source": [
    "# There are no obvious missing or problem values in our variables. Lets do a quick visualization of their \n",
    "# distributions"
   ]
  },
  {
   "cell_type": "code",
   "execution_count": 9,
   "metadata": {
    "scrolled": false
   },
   "outputs": [
    {
     "data": {
      "image/png": "[encoded data removed]",
      "text/plain": [
       "<Figure size 1080x2160 with 10 Axes>"
      ]
     },
     "metadata": {
      "needs_background": "light"
     },
     "output_type": "display_data"
    }
   ],
   "source": [
    "plt.figure(figsize=(15, len(df.columns)*3))\n",
    "for i, column in enumerate(df.columns):\n",
    "    plt.subplot(len(df.columns)/2, 2, i+1)\n",
    "    plt.hist(df[column])\n",
    "    plt.title(column)"
   ]
  },
  {
   "cell_type": "code",
   "execution_count": 10,
   "metadata": {},
   "outputs": [],
   "source": [
    "# Columns 'ave_monthly_income', 'num_rooms', and 'num_people' appear to have values < 1. \n",
    "# These values don't make sense.\n",
    "# First let'see how many occurances there are and then fill them with the mean for that variable."
   ]
  },
  {
   "cell_type": "code",
   "execution_count": 11,
   "metadata": {},
   "outputs": [
    {
     "data": {
      "text/plain": [
       "6"
      ]
     },
     "execution_count": 11,
     "metadata": {},
     "output_type": "execute_result"
    }
   ],
   "source": [
    "len(df[df['ave_monthly_income'] < 1])"
   ]
  },
  {
   "cell_type": "code",
   "execution_count": 12,
   "metadata": {},
   "outputs": [
    {
     "data": {
      "text/plain": [
       "70"
      ]
     },
     "execution_count": 12,
     "metadata": {},
     "output_type": "execute_result"
    }
   ],
   "source": [
    "len(df[df['num_rooms'] < 1])"
   ]
  },
  {
   "cell_type": "code",
   "execution_count": 13,
   "metadata": {},
   "outputs": [
    {
     "data": {
      "text/plain": [
       "17"
      ]
     },
     "execution_count": 13,
     "metadata": {},
     "output_type": "execute_result"
    }
   ],
   "source": [
    "len(df[df['num_people'] < 1])"
   ]
  },
  {
   "cell_type": "code",
   "execution_count": 14,
   "metadata": {},
   "outputs": [],
   "source": [
    "people_mask = df['num_people'] < 1\n",
    "rooms_mask = df['num_rooms'] < 1\n",
    "income_mask = df['ave_monthly_income'] < 1\n",
    "\n",
    "df.loc[rooms_mask, 'num_rooms'] = round(df['num_rooms'].mean()) # round so that we get whole numbers\n",
    "df.loc[people_mask, 'num_people'] = round(df['num_people'].mean()) # round so that we get whole numbers\n",
    "df.loc[income_mask, 'ave_monthly_income'] = df['ave_monthly_income'].mean()"
   ]
  },
  {
   "cell_type": "code",
   "execution_count": 42,
   "metadata": {},
   "outputs": [
    {
     "data": {
      "text/plain": [
       "<matplotlib.axes._subplots.AxesSubplot at 0x7f92b89117d0>"
      ]
     },
     "execution_count": 42,
     "metadata": {},
     "output_type": "execute_result"
    },
    {
     "data": {
      "image/png": "[encoded data removed]",
      "text/plain": [
       "<Figure size 720x720 with 2 Axes>"
      ]
     },
     "metadata": {
      "needs_background": "light"
     },
     "output_type": "display_data"
    }
   ],
   "source": [
    "plt.figure(figsize=(10,10))\n",
    "sns.heatmap(df.corr(), annot=True)"
   ]
  },
  {
   "cell_type": "code",
   "execution_count": 15,
   "metadata": {
    "scrolled": true
   },
   "outputs": [
    {
     "name": "stdout",
     "output_type": "stream",
     "text": [
      "Continuious Variables \n",
      "\n",
      "num_rooms\n",
      "Beyond the inner 95th percentile there are 4 outliers.\n",
      "Beyond the inner 90th percentile there are 4 outliers.\n",
      "Beyond the inner 85th percentile there are 60 outliers.\n",
      "Beyond the inner 80th percentile there are 60 outliers.\n",
      "Beyond the inner 75th percentile there are 60 outliers.\n",
      "\n",
      "\n",
      "num_people\n",
      "Beyond the inner 95th percentile there are 11 outliers.\n",
      "Beyond the inner 90th percentile there are 72 outliers.\n",
      "Beyond the inner 85th percentile there are 72 outliers.\n",
      "Beyond the inner 80th percentile there are 126 outliers.\n",
      "Beyond the inner 75th percentile there are 198 outliers.\n",
      "\n",
      "\n",
      "housearea\n",
      "Beyond the inner 95th percentile there are 50 outliers.\n",
      "Beyond the inner 90th percentile there are 100 outliers.\n",
      "Beyond the inner 85th percentile there are 150 outliers.\n",
      "Beyond the inner 80th percentile there are 200 outliers.\n",
      "Beyond the inner 75th percentile there are 250 outliers.\n",
      "\n",
      "\n",
      "is_ac\n",
      "Beyond the inner 95th percentile there are 0 outliers.\n",
      "Beyond the inner 90th percentile there are 0 outliers.\n",
      "Beyond the inner 85th percentile there are 0 outliers.\n",
      "Beyond the inner 80th percentile there are 0 outliers.\n",
      "Beyond the inner 75th percentile there are 0 outliers.\n",
      "\n",
      "\n",
      "Possible Categorical Variable\n",
      "There are 2 unique values\n",
      "0    624\n",
      "1    376\n",
      "Name: is_ac, dtype: int64\n",
      "\n",
      "\n",
      "is_tv\n",
      "Beyond the inner 95th percentile there are 0 outliers.\n",
      "Beyond the inner 90th percentile there are 0 outliers.\n",
      "Beyond the inner 85th percentile there are 0 outliers.\n",
      "Beyond the inner 80th percentile there are 0 outliers.\n",
      "Beyond the inner 75th percentile there are 0 outliers.\n",
      "\n",
      "\n",
      "Possible Categorical Variable\n",
      "There are 2 unique values\n",
      "1    798\n",
      "0    202\n",
      "Name: is_tv, dtype: int64\n",
      "\n",
      "\n",
      "is_flat\n",
      "Beyond the inner 95th percentile there are 0 outliers.\n",
      "Beyond the inner 90th percentile there are 0 outliers.\n",
      "Beyond the inner 85th percentile there are 0 outliers.\n",
      "Beyond the inner 80th percentile there are 0 outliers.\n",
      "Beyond the inner 75th percentile there are 0 outliers.\n",
      "\n",
      "\n",
      "Possible Categorical Variable\n",
      "There are 2 unique values\n",
      "0    523\n",
      "1    477\n",
      "Name: is_flat, dtype: int64\n",
      "\n",
      "\n",
      "ave_monthly_income\n",
      "Beyond the inner 95th percentile there are 50 outliers.\n",
      "Beyond the inner 90th percentile there are 100 outliers.\n",
      "Beyond the inner 85th percentile there are 150 outliers.\n",
      "Beyond the inner 80th percentile there are 200 outliers.\n",
      "Beyond the inner 75th percentile there are 250 outliers.\n",
      "\n",
      "\n",
      "num_children\n",
      "Beyond the inner 95th percentile there are 6 outliers.\n",
      "Beyond the inner 90th percentile there are 6 outliers.\n",
      "Beyond the inner 85th percentile there are 72 outliers.\n",
      "Beyond the inner 80th percentile there are 72 outliers.\n",
      "Beyond the inner 75th percentile there are 72 outliers.\n",
      "\n",
      "\n",
      "is_urban\n",
      "Beyond the inner 95th percentile there are 0 outliers.\n",
      "Beyond the inner 90th percentile there are 0 outliers.\n",
      "Beyond the inner 85th percentile there are 0 outliers.\n",
      "Beyond the inner 80th percentile there are 0 outliers.\n",
      "Beyond the inner 75th percentile there are 0 outliers.\n",
      "\n",
      "\n",
      "Possible Categorical Variable\n",
      "There are 2 unique values\n",
      "1    608\n",
      "0    392\n",
      "Name: is_urban, dtype: int64\n",
      "\n",
      "\n",
      "amount_paid\n",
      "Beyond the inner 95th percentile there are 50 outliers.\n",
      "Beyond the inner 90th percentile there are 100 outliers.\n",
      "Beyond the inner 85th percentile there are 150 outliers.\n",
      "Beyond the inner 80th percentile there are 200 outliers.\n",
      "Beyond the inner 75th percentile there are 250 outliers.\n",
      "\n",
      "\n",
      "Categorical Variables \n",
      "\n"
     ]
    }
   ],
   "source": [
    "# Check for outliers in the data\n",
    "\n",
    "print_outliers('inner', df)"
   ]
  },
  {
   "cell_type": "code",
   "execution_count": 16,
   "metadata": {},
   "outputs": [],
   "source": [
    "# treat the outliers with winsorization\n",
    "\n",
    "conts = ['num_people', 'num_rooms', 'num_children', 'ave_monthly_income', 'amount_paid']\n",
    "\n",
    "df_winsorized = df.copy()\n",
    "\n",
    "for feature in conts:\n",
    "    df_winsorized[feature] = winsorize(df[feature], (0.05, 0.05))"
   ]
  },
  {
   "cell_type": "code",
   "execution_count": 17,
   "metadata": {
    "scrolled": false
   },
   "outputs": [
    {
     "name": "stdout",
     "output_type": "stream",
     "text": [
      "num_people \n",
      " ------------------------------------\n",
      "Jarque-Berra test results: Statistic:22.660590890116353 | p-value: 1.2003702128393634e-05\n",
      "Normal Test results: Statistic: 60.46724406039658 | p-value: 7.408065000851249e-14\n",
      "\n",
      "\n",
      "num_rooms \n",
      " ------------------------------------\n",
      "Jarque-Berra test results: Statistic:35.4376425362454 | p-value: 2.0175007109379806e-08\n",
      "Normal Test results: Statistic: 42.75423994134829 | p-value: 5.200376148734382e-10\n",
      "\n",
      "\n",
      "num_children \n",
      " ------------------------------------\n",
      "Jarque-Berra test results: Statistic:52.67890083712633 | p-value: 3.6385339186040255e-12\n",
      "Normal Test results: Statistic: 93.40341382528908 | p-value: 5.220431389937695e-21\n",
      "\n",
      "\n",
      "ave_monthly_income \n",
      " ------------------------------------\n",
      "Jarque-Berra test results: Statistic:34.33858155041953 | p-value: 3.4951977978536775e-08\n",
      "Normal Test results: Statistic: 132.57401374653017 | p-value: 1.6289910306567553e-29\n",
      "\n",
      "\n",
      "amount_paid \n",
      " ------------------------------------\n",
      "Jarque-Berra test results: Statistic:34.460228301400896 | p-value: 3.288944172563646e-08\n",
      "Normal Test results: Statistic: 135.7157142143172 | p-value: 3.386157110495756e-30\n",
      "\n",
      "\n",
      "===============================================================================\n",
      "num_people \n",
      " ------------------------------------\n",
      "Jarque-Berra test results: Statistic:3.3995234855427547 | p-value: 0.1827270549084551\n",
      "Normal Test results: Statistic: 3.369801369033385 | p-value: 0.18546285037395915\n",
      "\n",
      "\n",
      "num_rooms \n",
      " ------------------------------------\n",
      "Jarque-Berra test results: Statistic:38.08947283075375 | p-value: 5.3576713066050274e-09\n",
      "Normal Test results: Statistic: 35.648820850626315 | p-value: 1.815335535435206e-08\n",
      "\n",
      "\n",
      "num_children \n",
      " ------------------------------------\n",
      "Jarque-Berra test results: Statistic:51.30399001039223 | p-value: 7.235656518389533e-12\n",
      "Normal Test results: Statistic: 52.390742543562354 | p-value: 4.202375010459658e-12\n",
      "\n",
      "\n",
      "ave_monthly_income \n",
      " ------------------------------------\n",
      "Jarque-Berra test results: Statistic:5.076489154336109 | p-value: 0.07900496525444767\n",
      "Normal Test results: Statistic: 5.011419541691947 | p-value: 0.08161764759519755\n",
      "\n",
      "\n",
      "amount_paid \n",
      " ------------------------------------\n",
      "Jarque-Berra test results: Statistic:5.527093579385359 | p-value: 0.06306768339402491\n",
      "Normal Test results: Statistic: 7.81575495160792 | p-value: 0.0200830826843642\n",
      "\n",
      "\n",
      "===============================================================================\n"
     ]
    }
   ],
   "source": [
    "# next we will check the normality of our continuous features\n",
    "for df in [df_winsorized, df]:\n",
    "    for column in conts:\n",
    "        print(column, '\\n', '------------------------------------')\n",
    "        print('Jarque-Berra test results: Statistic:{} | p-value: {}'.format(jarque_bera(df[column])[0]\n",
    "              , jarque_bera(df[column])[1]))\n",
    "        print('Normal Test results: Statistic: {} | p-value: {}'.format(normaltest(df[column])[0]\n",
    "                                                                       , normaltest(df[column])[1]))\n",
    "        print('\\n')\n",
    "    print('===============================================================================')   "
   ]
  },
  {
   "cell_type": "code",
   "execution_count": 18,
   "metadata": {
    "scrolled": true
   },
   "outputs": [
    {
     "data": {
      "image/png": "[encoded data removed]",
      "text/plain": [
       "<Figure size 1080x2160 with 10 Axes>"
      ]
     },
     "metadata": {
      "needs_background": "light"
     },
     "output_type": "display_data"
    }
   ],
   "source": [
    "plt.figure(figsize=(15, len(df_winsorized.columns)*3))\n",
    "for i, column in enumerate(df_winsorized.columns):\n",
    "    plt.subplot(len(df.columns)/2, 2, i+1)\n",
    "    plt.hist(df_winsorized[column])\n",
    "    plt.title(column)"
   ]
  },
  {
   "cell_type": "code",
   "execution_count": 19,
   "metadata": {},
   "outputs": [],
   "source": [
    "#There are relatively few outliers for each variable. \n",
    "#Treating the outliers with a winsorization process dramatically affects their distributions as shown above. \n",
    "#Later we will compare performance of models with outliers intact and with outliers treated via winsorization\n",
    "\n",
    "# All of the strictly continuous features are normally distributed or close. We could treat the non normal \n",
    "# features as ordinal categorical since they all have values less than 5. We will do this for the first\n",
    "# iteration and check model performance.\n",
    "\n",
    "# encode the dummy variables\n",
    "\n",
    "cats = ['is_ac', 'is_urban', 'num_children', 'num_rooms', 'is_tv', 'is_flat']\n",
    "\n",
    "df_cleaned = df.copy()\n",
    "\n",
    "for column in cats:\n",
    "    df_cleaned.drop(column, axis=1, inplace=True)\n",
    "    df_cleaned = pd.concat([df_cleaned, pd.get_dummies(df[column], prefix=column, drop_first=True)]\n",
    "                           , axis=1)\n",
    "    \n",
    "for column in cats:\n",
    "    df_winsorized.drop(column, axis=1, inplace=True)\n",
    "    df_winsorized = pd.concat([df_winsorized, pd.get_dummies(df[column], prefix=column, drop_first=True)]\n",
    "                           , axis=1)"
   ]
  },
  {
   "cell_type": "code",
   "execution_count": 29,
   "metadata": {},
   "outputs": [
    {
     "name": "stdout",
     "output_type": "stream",
     "text": [
      "<class 'pandas.core.frame.DataFrame'>\n",
      "RangeIndex: 1000 entries, 0 to 999\n",
      "Data columns (total 16 columns):\n",
      " #   Column              Non-Null Count  Dtype  \n",
      "---  ------              --------------  -----  \n",
      " 0   num_people          1000 non-null   int64  \n",
      " 1   housearea           1000 non-null   float64\n",
      " 2   ave_monthly_income  1000 non-null   float64\n",
      " 3   amount_paid         1000 non-null   float64\n",
      " 4   is_ac_1             1000 non-null   uint8  \n",
      " 5   is_urban_1          1000 non-null   uint8  \n",
      " 6   num_children_1      1000 non-null   uint8  \n",
      " 7   num_children_2      1000 non-null   uint8  \n",
      " 8   num_children_3      1000 non-null   uint8  \n",
      " 9   num_children_4      1000 non-null   uint8  \n",
      " 10  num_rooms_2         1000 non-null   uint8  \n",
      " 11  num_rooms_3         1000 non-null   uint8  \n",
      " 12  num_rooms_4         1000 non-null   uint8  \n",
      " 13  num_rooms_5         1000 non-null   uint8  \n",
      " 14  is_tv_1             1000 non-null   uint8  \n",
      " 15  is_flat_1           1000 non-null   uint8  \n",
      "dtypes: float64(3), int64(1), uint8(12)\n",
      "memory usage: 43.1 KB\n"
     ]
    }
   ],
   "source": [
    "df_winsorized.info()"
   ]
  },
  {
   "cell_type": "code",
   "execution_count": 20,
   "metadata": {},
   "outputs": [
    {
     "name": "stdout",
     "output_type": "stream",
     "text": [
      "<class 'pandas.core.frame.DataFrame'>\n",
      "RangeIndex: 1000 entries, 0 to 999\n",
      "Data columns (total 16 columns):\n",
      " #   Column              Non-Null Count  Dtype  \n",
      "---  ------              --------------  -----  \n",
      " 0   num_people          1000 non-null   int64  \n",
      " 1   housearea           1000 non-null   float64\n",
      " 2   ave_monthly_income  1000 non-null   float64\n",
      " 3   amount_paid         1000 non-null   float64\n",
      " 4   is_ac_1             1000 non-null   uint8  \n",
      " 5   is_urban_1          1000 non-null   uint8  \n",
      " 6   num_children_1      1000 non-null   uint8  \n",
      " 7   num_children_2      1000 non-null   uint8  \n",
      " 8   num_children_3      1000 non-null   uint8  \n",
      " 9   num_children_4      1000 non-null   uint8  \n",
      " 10  num_rooms_2         1000 non-null   uint8  \n",
      " 11  num_rooms_3         1000 non-null   uint8  \n",
      " 12  num_rooms_4         1000 non-null   uint8  \n",
      " 13  num_rooms_5         1000 non-null   uint8  \n",
      " 14  is_tv_1             1000 non-null   uint8  \n",
      " 15  is_flat_1           1000 non-null   uint8  \n",
      "dtypes: float64(3), int64(1), uint8(12)\n",
      "memory usage: 43.1 KB\n"
     ]
    }
   ],
   "source": [
    "df_cleaned.info()"
   ]
  },
  {
   "cell_type": "code",
   "execution_count": 21,
   "metadata": {},
   "outputs": [],
   "source": [
    "# the DataFrame is cleaned and ready for regression\n",
    "\n",
    "# we will begin with OLS regression first"
   ]
  },
  {
   "cell_type": "markdown",
   "metadata": {},
   "source": [
    "### Feature Selection\n",
    "\n",
    "We have only three moderatly correlated variables: air conditioning, urbanity, and the number of children. However since there is no multicolinearity in our variables it can't hurt to include all of them to begin with and test performance. So we will begin with all features intact use multiple passes to select our features."
   ]
  },
  {
   "cell_type": "markdown",
   "metadata": {},
   "source": [
    "## Performance of Data with Outliers Intact"
   ]
  },
  {
   "cell_type": "code",
   "execution_count": 22,
   "metadata": {},
   "outputs": [],
   "source": [
    "X = df_cleaned.drop('amount_paid', axis=1)\n",
    "y = df_cleaned['amount_paid']"
   ]
  },
  {
   "cell_type": "code",
   "execution_count": 23,
   "metadata": {
    "scrolled": false
   },
   "outputs": [
    {
     "data": {
      "text/html": [
       "<table class=\"simpletable\">\n",
       "<caption>OLS Regression Results</caption>\n",
       "<tr>\n",
       "  <th>Dep. Variable:</th>       <td>amount_paid</td>   <th>  R-squared:         </th> <td>   0.880</td> \n",
       "</tr>\n",
       "<tr>\n",
       "  <th>Model:</th>                   <td>OLS</td>       <th>  Adj. R-squared:    </th> <td>   0.878</td> \n",
       "</tr>\n",
       "<tr>\n",
       "  <th>Method:</th>             <td>Least Squares</td>  <th>  F-statistic:       </th> <td>   482.3</td> \n",
       "</tr>\n",
       "<tr>\n",
       "  <th>Date:</th>             <td>Tue, 08 Sep 2020</td> <th>  Prob (F-statistic):</th>  <td>  0.00</td>  \n",
       "</tr>\n",
       "<tr>\n",
       "  <th>Time:</th>                 <td>14:44:40</td>     <th>  Log-Likelihood:    </th> <td> -5557.9</td> \n",
       "</tr>\n",
       "<tr>\n",
       "  <th>No. Observations:</th>      <td>  1000</td>      <th>  AIC:               </th> <td>1.115e+04</td>\n",
       "</tr>\n",
       "<tr>\n",
       "  <th>Df Residuals:</th>          <td>   984</td>      <th>  BIC:               </th> <td>1.123e+04</td>\n",
       "</tr>\n",
       "<tr>\n",
       "  <th>Df Model:</th>              <td>    15</td>      <th>                     </th>     <td> </td>    \n",
       "</tr>\n",
       "<tr>\n",
       "  <th>Covariance Type:</th>      <td>nonrobust</td>    <th>                     </th>     <td> </td>    \n",
       "</tr>\n",
       "</table>\n",
       "<table class=\"simpletable\">\n",
       "<tr>\n",
       "           <td></td>             <th>coef</th>     <th>std err</th>      <th>t</th>      <th>P>|t|</th>  <th>[0.025</th>    <th>0.975]</th>  \n",
       "</tr>\n",
       "<tr>\n",
       "  <th>const</th>              <td>  122.8833</td> <td>   14.722</td> <td>    8.347</td> <td> 0.000</td> <td>   93.993</td> <td>  151.774</td>\n",
       "</tr>\n",
       "<tr>\n",
       "  <th>num_people</th>         <td>    5.0087</td> <td>    1.063</td> <td>    4.712</td> <td> 0.000</td> <td>    2.923</td> <td>    7.095</td>\n",
       "</tr>\n",
       "<tr>\n",
       "  <th>housearea</th>          <td>    0.0378</td> <td>    0.014</td> <td>    2.772</td> <td> 0.006</td> <td>    0.011</td> <td>    0.065</td>\n",
       "</tr>\n",
       "<tr>\n",
       "  <th>ave_monthly_income</th> <td>    0.0009</td> <td>    0.000</td> <td>    4.366</td> <td> 0.000</td> <td>    0.001</td> <td>    0.001</td>\n",
       "</tr>\n",
       "<tr>\n",
       "  <th>is_ac_1</th>            <td>  163.5421</td> <td>    4.154</td> <td>   39.371</td> <td> 0.000</td> <td>  155.391</td> <td>  171.694</td>\n",
       "</tr>\n",
       "<tr>\n",
       "  <th>is_urban_1</th>         <td>  249.5185</td> <td>    4.116</td> <td>   60.617</td> <td> 0.000</td> <td>  241.441</td> <td>  257.596</td>\n",
       "</tr>\n",
       "<tr>\n",
       "  <th>num_children_1</th>     <td>   91.0705</td> <td>    4.878</td> <td>   18.669</td> <td> 0.000</td> <td>   81.498</td> <td>  100.643</td>\n",
       "</tr>\n",
       "<tr>\n",
       "  <th>num_children_2</th>     <td>  183.9897</td> <td>    5.429</td> <td>   33.891</td> <td> 0.000</td> <td>  173.336</td> <td>  194.643</td>\n",
       "</tr>\n",
       "<tr>\n",
       "  <th>num_children_3</th>     <td>  269.9131</td> <td>    8.584</td> <td>   31.443</td> <td> 0.000</td> <td>  253.067</td> <td>  286.759</td>\n",
       "</tr>\n",
       "<tr>\n",
       "  <th>num_children_4</th>     <td>  332.5452</td> <td>   26.223</td> <td>   12.682</td> <td> 0.000</td> <td>  281.087</td> <td>  384.004</td>\n",
       "</tr>\n",
       "<tr>\n",
       "  <th>num_rooms_2</th>        <td>   -2.6238</td> <td>    4.980</td> <td>   -0.527</td> <td> 0.598</td> <td>  -12.396</td> <td>    7.149</td>\n",
       "</tr>\n",
       "<tr>\n",
       "  <th>num_rooms_3</th>        <td>    3.3195</td> <td>    5.698</td> <td>    0.583</td> <td> 0.560</td> <td>   -7.862</td> <td>   14.501</td>\n",
       "</tr>\n",
       "<tr>\n",
       "  <th>num_rooms_4</th>        <td>   -5.9653</td> <td>    9.375</td> <td>   -0.636</td> <td> 0.525</td> <td>  -24.364</td> <td>   12.433</td>\n",
       "</tr>\n",
       "<tr>\n",
       "  <th>num_rooms_5</th>        <td>   35.6026</td> <td>   31.983</td> <td>    1.113</td> <td> 0.266</td> <td>  -27.160</td> <td>   98.366</td>\n",
       "</tr>\n",
       "<tr>\n",
       "  <th>is_tv_1</th>            <td>   75.4339</td> <td>    5.028</td> <td>   15.001</td> <td> 0.000</td> <td>   65.566</td> <td>   85.302</td>\n",
       "</tr>\n",
       "<tr>\n",
       "  <th>is_flat_1</th>          <td>   59.3738</td> <td>    4.025</td> <td>   14.750</td> <td> 0.000</td> <td>   51.474</td> <td>   67.273</td>\n",
       "</tr>\n",
       "</table>\n",
       "<table class=\"simpletable\">\n",
       "<tr>\n",
       "  <th>Omnibus:</th>       <td>343.810</td> <th>  Durbin-Watson:     </th> <td>   2.016</td>\n",
       "</tr>\n",
       "<tr>\n",
       "  <th>Prob(Omnibus):</th> <td> 0.000</td>  <th>  Jarque-Bera (JB):  </th> <td>  49.441</td>\n",
       "</tr>\n",
       "<tr>\n",
       "  <th>Skew:</th>          <td> 0.036</td>  <th>  Prob(JB):          </th> <td>1.84e-11</td>\n",
       "</tr>\n",
       "<tr>\n",
       "  <th>Kurtosis:</th>      <td> 1.913</td>  <th>  Cond. No.          </th> <td>4.26e+05</td>\n",
       "</tr>\n",
       "</table><br/><br/>Warnings:<br/>[1] Standard Errors assume that the covariance matrix of the errors is correctly specified.<br/>[2] The condition number is large, 4.26e+05. This might indicate that there are<br/>strong multicollinearity or other numerical problems."
      ],
      "text/plain": [
       "<class 'statsmodels.iolib.summary.Summary'>\n",
       "\"\"\"\n",
       "                            OLS Regression Results                            \n",
       "==============================================================================\n",
       "Dep. Variable:            amount_paid   R-squared:                       0.880\n",
       "Model:                            OLS   Adj. R-squared:                  0.878\n",
       "Method:                 Least Squares   F-statistic:                     482.3\n",
       "Date:                Tue, 08 Sep 2020   Prob (F-statistic):               0.00\n",
       "Time:                        14:44:40   Log-Likelihood:                -5557.9\n",
       "No. Observations:                1000   AIC:                         1.115e+04\n",
       "Df Residuals:                     984   BIC:                         1.123e+04\n",
       "Df Model:                          15                                         \n",
       "Covariance Type:            nonrobust                                         \n",
       "======================================================================================\n",
       "                         coef    std err          t      P>|t|      [0.025      0.975]\n",
       "--------------------------------------------------------------------------------------\n",
       "const                122.8833     14.722      8.347      0.000      93.993     151.774\n",
       "num_people             5.0087      1.063      4.712      0.000       2.923       7.095\n",
       "housearea              0.0378      0.014      2.772      0.006       0.011       0.065\n",
       "ave_monthly_income     0.0009      0.000      4.366      0.000       0.001       0.001\n",
       "is_ac_1              163.5421      4.154     39.371      0.000     155.391     171.694\n",
       "is_urban_1           249.5185      4.116     60.617      0.000     241.441     257.596\n",
       "num_children_1        91.0705      4.878     18.669      0.000      81.498     100.643\n",
       "num_children_2       183.9897      5.429     33.891      0.000     173.336     194.643\n",
       "num_children_3       269.9131      8.584     31.443      0.000     253.067     286.759\n",
       "num_children_4       332.5452     26.223     12.682      0.000     281.087     384.004\n",
       "num_rooms_2           -2.6238      4.980     -0.527      0.598     -12.396       7.149\n",
       "num_rooms_3            3.3195      5.698      0.583      0.560      -7.862      14.501\n",
       "num_rooms_4           -5.9653      9.375     -0.636      0.525     -24.364      12.433\n",
       "num_rooms_5           35.6026     31.983      1.113      0.266     -27.160      98.366\n",
       "is_tv_1               75.4339      5.028     15.001      0.000      65.566      85.302\n",
       "is_flat_1             59.3738      4.025     14.750      0.000      51.474      67.273\n",
       "==============================================================================\n",
       "Omnibus:                      343.810   Durbin-Watson:                   2.016\n",
       "Prob(Omnibus):                  0.000   Jarque-Bera (JB):               49.441\n",
       "Skew:                           0.036   Prob(JB):                     1.84e-11\n",
       "Kurtosis:                       1.913   Cond. No.                     4.26e+05\n",
       "==============================================================================\n",
       "\n",
       "Warnings:\n",
       "[1] Standard Errors assume that the covariance matrix of the errors is correctly specified.\n",
       "[2] The condition number is large, 4.26e+05. This might indicate that there are\n",
       "strong multicollinearity or other numerical problems.\n",
       "\"\"\""
      ]
     },
     "execution_count": 23,
     "metadata": {},
     "output_type": "execute_result"
    }
   ],
   "source": [
    "# run a perliminary model with StatsModel to check the significance of our variables\n",
    "\n",
    "X_examine = sm.add_constant(X)\n",
    "\n",
    "sm.OLS(y, X_examine).fit().summary()"
   ]
  },
  {
   "cell_type": "code",
   "execution_count": 24,
   "metadata": {},
   "outputs": [],
   "source": [
    "# All the features except number of rooms are significant so we will drop that one and then compare\n",
    "\n",
    "X.drop(['num_rooms_2', 'num_rooms_3', 'num_rooms_4', 'num_rooms_5'], axis=1, inplace=True)"
   ]
  },
  {
   "cell_type": "code",
   "execution_count": 25,
   "metadata": {},
   "outputs": [],
   "source": [
    "X_train, X_test, y_train, y_test = train_test_split(X, y, test_size=.25, random_state=1312)"
   ]
  },
  {
   "cell_type": "code",
   "execution_count": 26,
   "metadata": {
    "scrolled": true
   },
   "outputs": [
    {
     "name": "stdout",
     "output_type": "stream",
     "text": [
      "R-squared of the model in the training set is: 0.8769596310162234\n",
      "-----Test set statistics-----\n",
      "R-squared of the model in the test set is: 0.8851300010288667\n",
      "Mean absolute error of the prediction is: 54.313577009641655\n",
      "Mean squared error of the prediction is: 4040.475243925869\n",
      "Root mean squared error of the prediction is: 63.564732705533096\n",
      "Mean absolute percentage error of the prediction is: 10.731148649569375\n"
     ]
    }
   ],
   "source": [
    "lrm = LinearRegression()\n",
    "\n",
    "lrm.fit(X_train, y_train)\n",
    "\n",
    "\n",
    "y_preds_train = lrm.predict(X_train)\n",
    "y_preds_test = lrm.predict(X_test)\n",
    "\n",
    "print(\"R-squared of the model in the training set is: {}\".format(lrm.score(X_train, y_train)))\n",
    "print(\"-----Test set statistics-----\")\n",
    "print(\"R-squared of the model in the test set is: {}\".format(lrm.score(X_test, y_test)))\n",
    "print(\"Mean absolute error of the prediction is: {}\".format(mean_absolute_error(y_test, y_preds_test)))\n",
    "print(\"Mean squared error of the prediction is: {}\".format(mse(y_test, y_preds_test)))\n",
    "print(\"Root mean squared error of the prediction is: {}\".format(rmse(y_test, y_preds_test)))\n",
    "print(\"Mean absolute percentage error of the prediction is: {}\".format(np.mean(np.abs((y_test - y_preds_test) / y_test)) * 100))"
   ]
  },
  {
   "cell_type": "code",
   "execution_count": 27,
   "metadata": {
    "scrolled": false
   },
   "outputs": [
    {
     "data": {
      "text/plain": [
       "[<matplotlib.lines.Line2D at 0x7f92b950d150>]"
      ]
     },
     "execution_count": 27,
     "metadata": {},
     "output_type": "execute_result"
    },
    {
     "data": {
      "image/png": "[encoded data removed]",
      "text/plain": [
       "<Figure size 720x720 with 1 Axes>"
      ]
     },
     "metadata": {
      "needs_background": "light"
     },
     "output_type": "display_data"
    }
   ],
   "source": [
    "scores = []\n",
    "for i in range(1,600):\n",
    "    knn = neighbors.KNeighborsRegressor(n_neighbors=i, weights='distance')\n",
    "    knn.fit(X_train, y_train)\n",
    "    scores.append(cross_val_score(knn, X_train, y_train, cv=5).mean())\n",
    "\n",
    "plt.figuredf_cleaned = df.copy()(figsize=(10,10))\n",
    "plt.plot(scores)"
   ]
  },
  {
   "cell_type": "code",
   "execution_count": 28,
   "metadata": {
    "scrolled": true
   },
   "outputs": [
    {
     "name": "stdout",
     "output_type": "stream",
     "text": [
      "R-squared of the model in the training set is: 1.0\n",
      "-----Test set statistics-----\n",
      "R-squared of the model in the test set is: -0.04664439738912507\n",
      "Mean absolute error of the prediction is: 157.30420059081592\n",
      "Mean squared error of the prediction is: 36815.01536277719\n",
      "Root mean squared error of the prediction is: 191.87239343578634\n",
      "Mean absolute percentage error of the prediction is: 35.49435096035461\n"
     ]
    }
   ],
   "source": [
    "knn = neighbors.KNeighborsRegressor(n_neighbors=300, weights='distance')\n",
    "knn.fit(X_train, y_train)\n",
    "\n",
    "y_preds_train = knn.predict(X_train)\n",
    "y_preds_test = knn.predict(X_test)\n",
    "\n",
    "print(\"R-squared of the model in the training set is: {}\".format(knn.score(X_train, y_train)))\n",
    "print(\"-----Test set statistics-----\")\n",
    "print(\"R-squared of the model in the test set is: {}\".format(knn.score(X_test, y_test)))\n",
    "print(\"Mean absolute error of the prediction is: {}\".format(mean_absolute_error(y_test, y_preds_test)))\n",
    "print(\"Mean squared error of the prediction is: {}\".format(mse(y_test, y_preds_test)))\n",
    "print(\"Root mean squared error of the prediction is: {}\".format(rmse(y_test, y_preds_test)))\n",
    "print(\"Mean absolute percentage error of the prediction is: {}\".format(np.mean(np.abs((y_test - y_preds_test) / y_test)) * 100))"
   ]
  },
  {
   "cell_type": "markdown",
   "metadata": {},
   "source": [
    "### Performance of Winsorized Data"
   ]
  },
  {
   "cell_type": "code",
   "execution_count": 32,
   "metadata": {
    "scrolled": true
   },
   "outputs": [
    {
     "data": {
      "text/html": [
       "<table class=\"simpletable\">\n",
       "<caption>OLS Regression Results</caption>\n",
       "<tr>\n",
       "  <th>Dep. Variable:</th>       <td>amount_paid</td>   <th>  R-squared:         </th> <td>   0.868</td> \n",
       "</tr>\n",
       "<tr>\n",
       "  <th>Model:</th>                   <td>OLS</td>       <th>  Adj. R-squared:    </th> <td>   0.867</td> \n",
       "</tr>\n",
       "<tr>\n",
       "  <th>Method:</th>             <td>Least Squares</td>  <th>  F-statistic:       </th> <td>   592.1</td> \n",
       "</tr>\n",
       "<tr>\n",
       "  <th>Date:</th>             <td>Tue, 08 Sep 2020</td> <th>  Prob (F-statistic):</th>  <td>  0.00</td>  \n",
       "</tr>\n",
       "<tr>\n",
       "  <th>Time:</th>                 <td>14:50:45</td>     <th>  Log-Likelihood:    </th> <td> -5531.0</td> \n",
       "</tr>\n",
       "<tr>\n",
       "  <th>No. Observations:</th>      <td>  1000</td>      <th>  AIC:               </th> <td>1.109e+04</td>\n",
       "</tr>\n",
       "<tr>\n",
       "  <th>Df Residuals:</th>          <td>   988</td>      <th>  BIC:               </th> <td>1.114e+04</td>\n",
       "</tr>\n",
       "<tr>\n",
       "  <th>Df Model:</th>              <td>    11</td>      <th>                     </th>     <td> </td>    \n",
       "</tr>\n",
       "<tr>\n",
       "  <th>Covariance Type:</th>      <td>nonrobust</td>    <th>                     </th>     <td> </td>    \n",
       "</tr>\n",
       "</table>\n",
       "<table class=\"simpletable\">\n",
       "<tr>\n",
       "           <td></td>             <th>coef</th>     <th>std err</th>      <th>t</th>      <th>P>|t|</th>  <th>[0.025</th>    <th>0.975]</th>  \n",
       "</tr>\n",
       "<tr>\n",
       "  <th>const</th>              <td>  159.6404</td> <td>   14.211</td> <td>   11.233</td> <td> 0.000</td> <td>  131.753</td> <td>  187.528</td>\n",
       "</tr>\n",
       "<tr>\n",
       "  <th>num_people</th>         <td>    5.7050</td> <td>    1.136</td> <td>    5.020</td> <td> 0.000</td> <td>    3.475</td> <td>    7.935</td>\n",
       "</tr>\n",
       "<tr>\n",
       "  <th>housearea</th>          <td>    0.0301</td> <td>    0.013</td> <td>    2.275</td> <td> 0.023</td> <td>    0.004</td> <td>    0.056</td>\n",
       "</tr>\n",
       "<tr>\n",
       "  <th>ave_monthly_income</th> <td>    0.0009</td> <td>    0.000</td> <td>    3.816</td> <td> 0.000</td> <td>    0.000</td> <td>    0.001</td>\n",
       "</tr>\n",
       "<tr>\n",
       "  <th>is_ac_1</th>            <td>  149.2514</td> <td>    4.032</td> <td>   37.012</td> <td> 0.000</td> <td>  141.338</td> <td>  157.165</td>\n",
       "</tr>\n",
       "<tr>\n",
       "  <th>is_urban_1</th>         <td>  235.1707</td> <td>    3.995</td> <td>   58.873</td> <td> 0.000</td> <td>  227.332</td> <td>  243.010</td>\n",
       "</tr>\n",
       "<tr>\n",
       "  <th>num_children_1</th>     <td>   82.9614</td> <td>    4.726</td> <td>   17.554</td> <td> 0.000</td> <td>   73.687</td> <td>   92.236</td>\n",
       "</tr>\n",
       "<tr>\n",
       "  <th>num_children_2</th>     <td>  168.7718</td> <td>    5.256</td> <td>   32.108</td> <td> 0.000</td> <td>  158.457</td> <td>  179.087</td>\n",
       "</tr>\n",
       "<tr>\n",
       "  <th>num_children_3</th>     <td>  239.9575</td> <td>    8.326</td> <td>   28.820</td> <td> 0.000</td> <td>  223.619</td> <td>  256.296</td>\n",
       "</tr>\n",
       "<tr>\n",
       "  <th>num_children_4</th>     <td>  241.7984</td> <td>   25.459</td> <td>    9.498</td> <td> 0.000</td> <td>  191.838</td> <td>  291.758</td>\n",
       "</tr>\n",
       "<tr>\n",
       "  <th>is_tv_1</th>            <td>   66.4548</td> <td>    4.878</td> <td>   13.623</td> <td> 0.000</td> <td>   56.882</td> <td>   76.027</td>\n",
       "</tr>\n",
       "<tr>\n",
       "  <th>is_flat_1</th>          <td>   53.9263</td> <td>    3.904</td> <td>   13.814</td> <td> 0.000</td> <td>   46.266</td> <td>   61.587</td>\n",
       "</tr>\n",
       "</table>\n",
       "<table class=\"simpletable\">\n",
       "<tr>\n",
       "  <th>Omnibus:</th>       <td>142.484</td> <th>  Durbin-Watson:     </th> <td>   2.048</td>\n",
       "</tr>\n",
       "<tr>\n",
       "  <th>Prob(Omnibus):</th> <td> 0.000</td>  <th>  Jarque-Bera (JB):  </th> <td>  35.820</td>\n",
       "</tr>\n",
       "<tr>\n",
       "  <th>Skew:</th>          <td> 0.066</td>  <th>  Prob(JB):          </th> <td>1.67e-08</td>\n",
       "</tr>\n",
       "<tr>\n",
       "  <th>Kurtosis:</th>      <td> 2.082</td>  <th>  Cond. No.          </th> <td>3.44e+05</td>\n",
       "</tr>\n",
       "</table><br/><br/>Warnings:<br/>[1] Standard Errors assume that the covariance matrix of the errors is correctly specified.<br/>[2] The condition number is large, 3.44e+05. This might indicate that there are<br/>strong multicollinearity or other numerical problems."
      ],
      "text/plain": [
       "<class 'statsmodels.iolib.summary.Summary'>\n",
       "\"\"\"\n",
       "                            OLS Regression Results                            \n",
       "==============================================================================\n",
       "Dep. Variable:            amount_paid   R-squared:                       0.868\n",
       "Model:                            OLS   Adj. R-squared:                  0.867\n",
       "Method:                 Least Squares   F-statistic:                     592.1\n",
       "Date:                Tue, 08 Sep 2020   Prob (F-statistic):               0.00\n",
       "Time:                        14:50:45   Log-Likelihood:                -5531.0\n",
       "No. Observations:                1000   AIC:                         1.109e+04\n",
       "Df Residuals:                     988   BIC:                         1.114e+04\n",
       "Df Model:                          11                                         \n",
       "Covariance Type:            nonrobust                                         \n",
       "======================================================================================\n",
       "                         coef    std err          t      P>|t|      [0.025      0.975]\n",
       "--------------------------------------------------------------------------------------\n",
       "const                159.6404     14.211     11.233      0.000     131.753     187.528\n",
       "num_people             5.7050      1.136      5.020      0.000       3.475       7.935\n",
       "housearea              0.0301      0.013      2.275      0.023       0.004       0.056\n",
       "ave_monthly_income     0.0009      0.000      3.816      0.000       0.000       0.001\n",
       "is_ac_1              149.2514      4.032     37.012      0.000     141.338     157.165\n",
       "is_urban_1           235.1707      3.995     58.873      0.000     227.332     243.010\n",
       "num_children_1        82.9614      4.726     17.554      0.000      73.687      92.236\n",
       "num_children_2       168.7718      5.256     32.108      0.000     158.457     179.087\n",
       "num_children_3       239.9575      8.326     28.820      0.000     223.619     256.296\n",
       "num_children_4       241.7984     25.459      9.498      0.000     191.838     291.758\n",
       "is_tv_1               66.4548      4.878     13.623      0.000      56.882      76.027\n",
       "is_flat_1             53.9263      3.904     13.814      0.000      46.266      61.587\n",
       "==============================================================================\n",
       "Omnibus:                      142.484   Durbin-Watson:                   2.048\n",
       "Prob(Omnibus):                  0.000   Jarque-Bera (JB):               35.820\n",
       "Skew:                           0.066   Prob(JB):                     1.67e-08\n",
       "Kurtosis:                       2.082   Cond. No.                     3.44e+05\n",
       "==============================================================================\n",
       "\n",
       "Warnings:\n",
       "[1] Standard Errors assume that the covariance matrix of the errors is correctly specified.\n",
       "[2] The condition number is large, 3.44e+05. This might indicate that there are\n",
       "strong multicollinearity or other numerical problems.\n",
       "\"\"\""
      ]
     },
     "execution_count": 32,
     "metadata": {},
     "output_type": "execute_result"
    }
   ],
   "source": [
    "X2 = df_winsorized.drop(['amount_paid', 'num_rooms_2', 'num_rooms_3', 'num_rooms_4', 'num_rooms_5'], axis=1)\n",
    "y2 = df_winsorized['amount_paid']\n",
    "\n",
    "X_train2, X_test2, y_train2, y_test2 = train_test_split(X2, y2, test_size=.25, random_state=1312)\n",
    "\n"
   ]
  },
  {
   "cell_type": "code",
   "execution_count": 34,
   "metadata": {
    "scrolled": true
   },
   "outputs": [
    {
     "name": "stdout",
     "output_type": "stream",
     "text": [
      "R-squared of the model in the training set is: 0.8643901178726571\n",
      "-----Test set statistics-----\n",
      "R-squared of the model in the test set is: 0.8764371300985114\n",
      "Mean absolute error of the prediction is: 56.19392312739306\n",
      "Mean squared error of the prediction is: 4271.043634311008\n",
      "Root mean squared error of the prediction is: 65.35322206525863\n",
      "Mean absolute percentage error of the prediction is: 11.365616838548144\n"
     ]
    }
   ],
   "source": [
    "lrm2 = LinearRegression()\n",
    "\n",
    "lrm2.fit(X_train2, y_train2)\n",
    "\n",
    "\n",
    "y_preds_train = lrm.predict(X_train2)\n",
    "y_preds_test = lrm.predict(X_test2)\n",
    "\n",
    "print(\"R-squared of the model in the training set is: {}\".format(lrm2.score(X_train2, y_train2)))\n",
    "print(\"-----Test set statistics-----\")\n",
    "print(\"R-squared of the model in the test set is: {}\".format(lrm2.score(X_test2, y_test2)))\n",
    "print(\"Mean absolute error of the prediction is: {}\".format(mean_absolute_error(y_test, y_preds_test)))\n",
    "print(\"Mean squared error of the prediction is: {}\".format(mse(y_test, y_preds_test)))\n",
    "print(\"Root mean squared error of the prediction is: {}\".format(rmse(y_test, y_preds_test)))\n",
    "print(\"Mean absolute percentage error of the prediction is: {}\".format(np.mean(np.abs((y_test - y_preds_test) / y_test)) * 100))"
   ]
  },
  {
   "cell_type": "code",
   "execution_count": 35,
   "metadata": {
    "scrolled": false
   },
   "outputs": [
    {
     "data": {
      "text/plain": [
       "[<matplotlib.lines.Line2D at 0x7f92b8aa5f50>]"
      ]
     },
     "execution_count": 35,
     "metadata": {},
     "output_type": "execute_result"
    },
    {
     "data": {
      "image/png": "[encoded data removed]",
      "text/plain": [
       "<Figure size 720x720 with 1 Axes>"
      ]
     },
     "metadata": {
      "needs_background": "light"
     },
     "output_type": "display_data"
    }
   ],
   "source": [
    "scores = []\n",
    "for i in range(1,600):\n",
    "    knn2 = neighbors.KNeighborsRegressor(n_neighbors=i, weights='distance')\n",
    "    knn2.fit(X_train2, y_train2)\n",
    "    scores.append(cross_val_score(knn2, X_train2, y_train2, cv=5).mean())\n",
    "\n",
    "plt.figure(figsize=(10,10))\n",
    "plt.plot(scores)"
   ]
  },
  {
   "cell_type": "code",
   "execution_count": 36,
   "metadata": {},
   "outputs": [
    {
     "name": "stdout",
     "output_type": "stream",
     "text": [
      "R-squared of the model in the training set is: 1.0\n",
      "-----Test set statistics-----\n",
      "R-squared of the model in the test set is: -0.03934250421542829\n",
      "Mean absolute error of the prediction is: 157.6389802769789\n",
      "Mean squared error of the prediction is: 36767.739551554245\n",
      "Root mean squared error of the prediction is: 191.74915789007846\n",
      "Mean absolute percentage error of the prediction is: 35.69782589007943\n"
     ]
    }
   ],
   "source": [
    "knn2 = neighbors.KNeighborsRegressor(n_neighbors=300, weights='distance')\n",
    "knn2.fit(X_train2, y_train2)\n",
    "\n",
    "y_preds_train = knn.predict(X_train2)\n",
    "y_preds_test = knn.predict(X_test2)\n",
    "\n",
    "print(\"R-squared of the model in the training set is: {}\".format(knn2.score(X_train2, y_train2)))\n",
    "print(\"-----Test set statistics-----\")\n",
    "print(\"R-squared of the model in the test set is: {}\".format(knn2.score(X_test2, y_test2)))\n",
    "print(\"Mean absolute error of the prediction is: {}\".format(mean_absolute_error(y_test, y_preds_test)))\n",
    "print(\"Mean squared error of the prediction is: {}\".format(mse(y_test, y_preds_test)))\n",
    "print(\"Root mean squared error of the prediction is: {}\".format(rmse(y_test, y_preds_test)))\n",
    "print(\"Mean absolute percentage error of the prediction is: {}\".format(np.mean(np.abs((y_test - y_preds_test) / y_test)) * 100))"
   ]
  },
  {
   "cell_type": "markdown",
   "metadata": {},
   "source": [
    "## Comparing the results\n",
    "\n",
    "\n"
   ]
  },
  {
   "cell_type": "markdown",
   "metadata": {},
   "source": [
    "OLS clearly preformed better of the two models. While OLS performance could use some improvement it is much better than the KNN model which seems to have a strong overfitting problem. Moreover the models improved performance as k approaches n suggests that our KNN model is not much better at estimation than taking the mean value of our target variable. \n",
    "\n",
    "The OLS model performs better on the test set indicating that there is not an overfitting issue there. The OLS model likely is underperforming because of not enough relevant features to explain the target. \n",
    "\n",
    "One consideration is that this data set may not contain enough information to create an accurate prediction. Moreover because it is likely randomly generated this could impact the performance of a KNN model. Whereas a linear regression model would be better able to fit random data than data that is naturally derived.   "
   ]
  }
 ],
 "metadata": {
  "kernelspec": {
   "display_name": "Python 3",
   "language": "python",
   "name": "python3"
  },
  "language_info": {
   "codemirror_mode": {
    "name": "ipython",
    "version": 3
   },
   "file_extension": ".py",
   "mimetype": "text/x-python",
   "name": "python",
   "nbconvert_exporter": "python",
   "pygments_lexer": "ipython3",
   "version": "3.7.6"
  }
 },
 "nbformat": 4,
 "nbformat_minor": 4
}
