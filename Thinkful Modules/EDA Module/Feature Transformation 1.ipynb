{
 "cells": [
  {
   "cell_type": "code",
   "execution_count": 2,
   "metadata": {},
   "outputs": [],
   "source": [
    "import pandas as pd\n",
    "import numpy as np\n",
    "import matplotlib.pyplot as plt\n",
    "import seaborn as sns\n",
    "import math\n",
    "import scipy\n",
    "from scipy import stats\n",
    "from scipy.stats import jarque_bera\n",
    "from scipy.stats import normaltest\n",
    "from scipy.stats import boxcox\n",
    "from scipy.stats.mstats import winsorize\n",
    "from sklearn.preprocessing import normalize\n",
    "from sqlalchemy import create_engine\n",
    "import warnings\n",
    "\n",
    "warnings.filterwarnings('ignore')"
   ]
  },
  {
   "cell_type": "code",
   "execution_count": 3,
   "metadata": {
    "scrolled": true
   },
   "outputs": [],
   "source": [
    "postgres_user = 'dsbc_student'\n",
    "postgres_pw = '7*.8G9QH21'\n",
    "postgres_host = '142.93.121.174'\n",
    "postgres_port = '5432'\n",
    "postgres_db = 'studentsperformance'\n",
    "\n",
    "engine = create_engine('postgresql://{}:{}@{}:{}/{}'.format(\n",
    "    postgres_user, postgres_pw, postgres_host, postgres_port, postgres_db))\n",
    "\n",
    "query1 = '''\n",
    "SELECT\n",
    "  *\n",
    "FROM\n",
    "  studentsperformance\n",
    "'''\n",
    "\n",
    "df = pd.read_sql_query(query1, con=engine)\n",
    "engine.dispose()"
   ]
  },
  {
   "cell_type": "markdown",
   "metadata": {},
   "source": [
    "### 1. Are the exam score variables normally distributed? If not, apply a Box-Cox transformation. Does anything change?\n",
    "### 2. Say we want to use a single variable for the exam scores as our target. For this purpose, create a new variable by taking a weighted average of the exam scores. Check whether this new variable is normally distributed. If it's not normally distributed, apply a Box-Cox transformation and check whether or not the transformed variable is normally distributed.\n",
    "### 3. Which variables seem related to the target variable (the newly created variable in the previous question)? If our goal is to explain the determinants of success in exams, which variables in our dataset might be useful?"
   ]
  },
  {
   "cell_type": "code",
   "execution_count": 4,
   "metadata": {
    "scrolled": true
   },
   "outputs": [
    {
     "data": {
      "image/png": "[encoded data removed]",
      "text/plain": [
       "<Figure size 1080x360 with 3 Axes>"
      ]
     },
     "metadata": {
      "needs_background": "light"
     },
     "output_type": "display_data"
    }
   ],
   "source": [
    "scores = ['writing score', 'reading score', 'math score']\n",
    "\n",
    "plt.figure(figsize=(15,5))\n",
    "plt.suptitle('Score Distributions')\n",
    "for i, score in enumerate(scores):\n",
    "    plt.subplot(1, 3, i+1)\n",
    "    plt.hist(df[score])\n",
    "    plt.title(score)\n",
    "plt.show()"
   ]
  },
  {
   "cell_type": "code",
   "execution_count": 5,
   "metadata": {},
   "outputs": [
    {
     "name": "stdout",
     "output_type": "stream",
     "text": [
      "writing score \n",
      " --------------------------------\n",
      "Jarque-Bera results:\n",
      "Statistic: 13.98509448257235 | p-value: 0.0009187033894586527 \n",
      "\n",
      "Normality test results:\n",
      "Statistic: 13.606450837263859 | p-value 0.0011101885439899974 \n",
      " \n",
      "\n",
      "reading score \n",
      " --------------------------------\n",
      "Jarque-Bera results:\n",
      "Statistic: 11.383300575987892 | p-value: 0.0033740202672214448 \n",
      "\n",
      "Normality test results:\n",
      "Statistic: 11.11741279628622 | p-value 0.003853758403576582 \n",
      " \n",
      "\n",
      "math score \n",
      " --------------------------------\n",
      "Jarque-Bera results:\n",
      "Statistic: 15.912256686712709 | p-value: 0.0003505075386818213 \n",
      "\n",
      "Normality test results:\n",
      "Statistic: 15.408960513931822 | p-value 0.00045080293869937836 \n",
      " \n",
      "\n"
     ]
    }
   ],
   "source": [
    "for score in scores:\n",
    "    print(score, '\\n', '--------------------------------')\n",
    "    print('Jarque-Bera results:')\n",
    "    print('Statistic: {} | p-value: {}'.format(jarque_bera(df[score])[0]\n",
    "                                               , jarque_bera(df[score])[1])\n",
    "          , '\\n')\n",
    "    \n",
    "    print('Normality test results:')\n",
    "    print('Statistic: {} | p-value {}'.format(normaltest(df[score])[0]\n",
    "                                             ,normaltest(df[score])[1])\n",
    "         , '\\n \\n')"
   ]
  },
  {
   "cell_type": "markdown",
   "metadata": {},
   "source": [
    "Not normally distributed so we will apply a box-cox treatment"
   ]
  },
  {
   "cell_type": "code",
   "execution_count": 9,
   "metadata": {
    "scrolled": true
   },
   "outputs": [],
   "source": [
    "boxcox_math = boxcox(df[df['math score'] > 0]['math score'])[0] \n",
    "boxcox_reading = boxcox(df['reading score'])[0]\n",
    "boxcox_writing = boxcox(df['writing score'])[0]"
   ]
  },
  {
   "cell_type": "code",
   "execution_count": 10,
   "metadata": {},
   "outputs": [
    {
     "data": {
      "image/png": "[encoded data removed]",
      "text/plain": [
       "<Figure size 432x288 with 1 Axes>"
      ]
     },
     "metadata": {
      "needs_background": "light"
     },
     "output_type": "display_data"
    },
    {
     "data": {
      "image/png": "[encoded data removed]",
      "text/plain": [
       "<Figure size 432x288 with 1 Axes>"
      ]
     },
     "metadata": {
      "needs_background": "light"
     },
     "output_type": "display_data"
    },
    {
     "data": {
      "image/png": "[encoded data removed]",
      "text/plain": [
       "<Figure size 432x288 with 1 Axes>"
      ]
     },
     "metadata": {
      "needs_background": "light"
     },
     "output_type": "display_data"
    }
   ],
   "source": [
    "boxcoxed = [boxcox_math, boxcox_reading, boxcox_writing]\n",
    "\n",
    "for box in boxcoxed:\n",
    "    plt.hist(box)\n",
    "    plt.show()"
   ]
  },
  {
   "cell_type": "code",
   "execution_count": 11,
   "metadata": {},
   "outputs": [
    {
     "name": "stdout",
     "output_type": "stream",
     "text": [
      "math score \n",
      " --------------------------------\n",
      "Jarque-Bera results:\n",
      "Statistic: 1.7200982636836308 | p-value: 0.42314129209599327 \n",
      "\n",
      "Normality test results:\n",
      "Statistic: 1.8323075851586939 | p-value 0.4000547794685686 \n",
      " \n",
      "\n",
      "math score \n",
      " --------------------------------\n",
      "Jarque-Bera results:\n",
      "Statistic: 4.119778573559666 | p-value: 0.127468081515408 \n",
      "\n",
      "Normality test results:\n",
      "Statistic: 5.282274606965809 | p-value 0.07128015626992971 \n",
      " \n",
      "\n",
      "math score \n",
      " --------------------------------\n",
      "Jarque-Bera results:\n",
      "Statistic: 4.746478090042761 | p-value: 0.09317842784043195 \n",
      "\n",
      "Normality test results:\n",
      "Statistic: 6.267311355052559 | p-value 0.04355827085003712 \n",
      " \n",
      "\n"
     ]
    }
   ],
   "source": [
    "for box in boxcoxed:\n",
    "    print(score, '\\n', '--------------------------------')\n",
    "    print('Jarque-Bera results:')\n",
    "    print('Statistic: {} | p-value: {}'.format(jarque_bera(box)[0]\n",
    "                                               , jarque_bera(box)[1])\n",
    "          , '\\n')\n",
    "    \n",
    "    print('Normality test results:')\n",
    "    print('Statistic: {} | p-value {}'.format(normaltest(box)[0]\n",
    "                                             ,normaltest(box)[1])\n",
    "         , '\\n \\n')"
   ]
  },
  {
   "cell_type": "markdown",
   "metadata": {},
   "source": [
    "Jarque-Bera test indicates that these distributions are normal at the 5% confidence interval. "
   ]
  },
  {
   "cell_type": "markdown",
   "metadata": {},
   "source": [
    "### 2. Say we want to use a single variable for the exam scores as our target. For this purpose, create a new variable by taking a weighted average of the exam scores. Check whether this new variable is normally distributed. If it's not normally distributed, apply a Box-Cox transformation and check whether or not the transformed variable is normally distributed."
   ]
  },
  {
   "cell_type": "code",
   "execution_count": 12,
   "metadata": {},
   "outputs": [],
   "source": [
    "# average the exam scores\n",
    "df['exam average'] = (df['reading score'] + df['writing score'] + df['math score']) / 3"
   ]
  },
  {
   "cell_type": "code",
   "execution_count": 14,
   "metadata": {},
   "outputs": [
    {
     "data": {
      "image/png": "[encoded data removed]",
      "text/plain": [
       "<Figure size 432x288 with 1 Axes>"
      ]
     },
     "metadata": {
      "needs_background": "light"
     },
     "output_type": "display_data"
    },
    {
     "name": "stdout",
     "output_type": "stream",
     "text": [
      " Jarque-Bera test:  Jarque_beraResult(statistic=15.453387913085168, pvalue=0.00044089934264401887)\n",
      "Normality Test:  NormaltestResult(statistic=15.186721327231322, pvalue=0.0005037851534494478)\n"
     ]
    }
   ],
   "source": [
    "# check the distribution\n",
    "plt.hist(df['exam average'])\n",
    "plt.show()\n",
    "\n",
    "print(' Jarque-Bera test: ', jarque_bera(df['exam average']))\n",
    "\n",
    "print('Normality Test: ', normaltest(df['exam average']))"
   ]
  },
  {
   "cell_type": "code",
   "execution_count": 15,
   "metadata": {},
   "outputs": [],
   "source": [
    "# boxcox\n",
    "df['boxcox average'] = boxcox(df['exam average'])[0]"
   ]
  },
  {
   "cell_type": "code",
   "execution_count": 16,
   "metadata": {
    "scrolled": true
   },
   "outputs": [
    {
     "data": {
      "image/png": "[encoded data removed]",
      "text/plain": [
       "<Figure size 432x288 with 1 Axes>"
      ]
     },
     "metadata": {
      "needs_background": "light"
     },
     "output_type": "display_data"
    },
    {
     "name": "stdout",
     "output_type": "stream",
     "text": [
      " Jarque-Bera test:  Jarque_beraResult(statistic=2.4353989331279, pvalue=0.2959101356398447)\n",
      "Normality Test:  NormaltestResult(statistic=2.779857602227616, pvalue=0.24909303914726724)\n"
     ]
    }
   ],
   "source": [
    "# check again\n",
    "\n",
    "plt.hist(df['boxcox average'])\n",
    "plt.show()\n",
    "\n",
    "print(' Jarque-Bera test: ', jarque_bera(df['boxcox average']))\n",
    "\n",
    "print('Normality Test: ', normaltest(df['boxcox average']))"
   ]
  },
  {
   "cell_type": "markdown",
   "metadata": {},
   "source": [
    "The newly created variable is normally distributed according to the Jarque-Bera test and the normality test after boxcox transformation."
   ]
  },
  {
   "cell_type": "markdown",
   "metadata": {},
   "source": [
    "### 3. Which variables seem related to the target variable (the newly created variable in the previous question)? If our goal is to explain the determinants of success in exams, which variables in our dataset might be useful?"
   ]
  },
  {
   "cell_type": "code",
   "execution_count": 20,
   "metadata": {
    "scrolled": true
   },
   "outputs": [
    {
     "name": "stdout",
     "output_type": "stream",
     "text": [
      "gender \n",
      " -----------------------------------------------------\n",
      "t-test results between female, and male:\n",
      "Ttest_indResult(statistic=4.316845509684089, pvalue=1.74048262157193e-05)\n",
      "\n",
      "\n",
      "\n",
      "\n",
      "race/ethnicity \n",
      " -----------------------------------------------------\n",
      "t-test results between group B, and group C:\n",
      "Ttest_indResult(statistic=-1.2360707349888882, pvalue=0.21700462939442441)\n",
      "\n",
      "\n",
      "t-test results between group B, and group A:\n",
      "Ttest_indResult(statistic=1.353419787058621, pvalue=0.1770249547576069)\n",
      "\n",
      "\n",
      "t-test results between group B, and group D:\n",
      "Ttest_indResult(statistic=-2.730300728191233, pvalue=0.006576013208968568)\n",
      "\n",
      "\n",
      "t-test results between group B, and group E:\n",
      "Ttest_indResult(statistic=-4.545780293277348, pvalue=7.708114163898732e-06)\n",
      "\n",
      "\n",
      "t-test results between group C, and group A:\n",
      "Ttest_indResult(statistic=2.4543115711630437, pvalue=0.014534398480186776)\n",
      "\n",
      "\n",
      "t-test results between group C, and group D:\n",
      "Ttest_indResult(statistic=-1.7761464532694542, pvalue=0.07623386467070507)\n",
      "\n",
      "\n",
      "t-test results between group C, and group E:\n",
      "Ttest_indResult(statistic=-4.062254925940244, pvalue=5.7196395801874226e-05)\n",
      "\n",
      "\n",
      "t-test results between group A, and group D:\n",
      "Ttest_indResult(statistic=-3.640482249293899, pvalue=0.0003133093924987338)\n",
      "\n",
      "\n",
      "t-test results between group A, and group E:\n",
      "Ttest_indResult(statistic=-4.9732556014897265, pvalue=1.2986972317410623e-06)\n",
      "\n",
      "\n",
      "t-test results between group D, and group E:\n",
      "Ttest_indResult(statistic=-2.5994402813520603, pvalue=0.009683059370582869)\n",
      "\n",
      "\n",
      "\n",
      "\n",
      "parental level of education \n",
      " -----------------------------------------------------\n",
      "t-test results between bachelor's degree, and some college:\n",
      "Ttest_indResult(statistic=2.232535556161349, pvalue=0.02622648688454182)\n",
      "\n",
      "\n",
      "t-test results between bachelor's degree, and master's degree:\n",
      "Ttest_indResult(statistic=-0.7470650763380493, pvalue=0.4560268398200492)\n",
      "\n",
      "\n",
      "t-test results between bachelor's degree, and associate's degree:\n",
      "Ttest_indResult(statistic=1.5181180271993573, pvalue=0.12991940648498157)\n",
      "\n",
      "\n",
      "t-test results between bachelor's degree, and high school:\n",
      "Ttest_indResult(statistic=5.639088505904979, pvalue=3.831267453960134e-08)\n",
      "\n",
      "\n",
      "t-test results between bachelor's degree, and some high school:\n",
      "Ttest_indResult(statistic=3.9604314901094293, pvalue=9.385411410507435e-05)\n",
      "\n",
      "\n",
      "t-test results between some college, and master's degree:\n",
      "Ttest_indResult(statistic=-2.6018995284895596, pvalue=0.009758876213380712)\n",
      "\n",
      "\n",
      "t-test results between some college, and associate's degree:\n",
      "Ttest_indResult(statistic=-0.8423039543903159, pvalue=0.40006928072768244)\n",
      "\n",
      "\n",
      "t-test results between some college, and high school:\n",
      "Ttest_indResult(statistic=4.116094816752006, pvalue=4.6401197090436465e-05)\n",
      "\n",
      "\n",
      "t-test results between some college, and some high school:\n",
      "Ttest_indResult(statistic=2.3133255218714583, pvalue=0.02120736634555691)\n",
      "\n",
      "\n",
      "t-test results between master's degree, and associate's degree:\n",
      "Ttest_indResult(statistic=2.0267116111915153, pvalue=0.04364288321317862)\n",
      "\n",
      "\n",
      "t-test results between master's degree, and high school:\n",
      "Ttest_indResult(statistic=5.382042087332287, pvalue=1.6791993716684891e-07)\n",
      "\n",
      "\n",
      "t-test results between master's degree, and some high school:\n",
      "Ttest_indResult(statistic=3.9324390817538344, pvalue=0.00011057399744177466)\n",
      "\n",
      "\n",
      "t-test results between associate's degree, and high school:\n",
      "Ttest_indResult(statistic=4.892511249353038, pvalue=1.4258299938906662e-06)\n",
      "\n",
      "\n",
      "t-test results between associate's degree, and some high school:\n",
      "Ttest_indResult(statistic=3.055907601722724, pvalue=0.002394607847045481)\n",
      "\n",
      "\n",
      "t-test results between high school, and some high school:\n",
      "Ttest_indResult(statistic=-1.4994780956805696, pvalue=0.1345955325404415)\n",
      "\n",
      "\n",
      "\n",
      "\n",
      "lunch \n",
      " -----------------------------------------------------\n",
      "t-test results between standard, and free/reduced:\n",
      "Ttest_indResult(statistic=9.472553929697188, pvalue=1.9125282619433288e-20)\n",
      "\n",
      "\n",
      "\n",
      "\n",
      "test preparation course \n",
      " -----------------------------------------------------\n",
      "t-test results between none, and completed:\n",
      "Ttest_indResult(statistic=-8.439033139502564, pvalue=1.1138872313352914e-16)\n",
      "\n",
      "\n",
      "\n",
      "\n"
     ]
    }
   ],
   "source": [
    "(END)\n",
    "# all of our variables aside from the target are categorical. In this case pairwise ttests between the categories\n",
    "# for each variable will give us some insight into which hold statistically significant differences\n",
    "\n",
    "\n",
    "target = 'boxcox average'\n",
    "\n",
    "variables = df.select_dtypes(include='object')\n",
    "\n",
    "for variable in variables:\n",
    "        print(variable, '\\n'\n",
    "             , '-----------------------------------------------------')\n",
    "        categories = df[variable].unique()\n",
    "        for i in range(len(categories)):\n",
    "            for j in range(i+1, len(categories)):\n",
    "                print('t-test results between {}, and {}:'.format(categories[i], categories[j]))\n",
    "                print(stats.ttest_ind(df[df[variable] == categories[i]][target]\n",
    "                             , df[df[variable] == categories[j]][target]))\n",
    "                print('\\n')\n",
    "        print('\\n')           "
   ]
  },
  {
   "cell_type": "code",
   "execution_count": 33,
   "metadata": {
    "scrolled": false
   },
   "outputs": [
    {
     "data": {
      "image/png": "[encoded data removed]",
      "text/plain": [
       "<Figure size 1080x720 with 5 Axes>"
      ]
     },
     "metadata": {
      "needs_background": "light"
     },
     "output_type": "display_data"
    }
   ],
   "source": [
    "plt.figure(figsize=(15,10))\n",
    "for i, variable in enumerate(variables):\n",
    "    plt.subplot(2, 3, i+1)\n",
    "    sns.barplot(df[variable], df['boxcox average'])\n",
    "    plt.xticks(rotation=90)\n",
    "\n",
    "plt.tight_layout()\n",
    "plt.show()"
   ]
  },
  {
   "cell_type": "markdown",
   "metadata": {},
   "source": [
    "Lunch has the strongest t-test result followed by test-prep. These two variables therefore are likely to have the greatest impact on our target score. The visual representation helps us see these differences. "
   ]
  }
 ],
 "metadata": {
  "kernelspec": {
   "display_name": "Python 3",
   "language": "python",
   "name": "python3"
  },
  "language_info": {
   "codemirror_mode": {
    "name": "ipython",
    "version": 3
   },
   "file_extension": ".py",
   "mimetype": "text/x-python",
   "name": "python",
   "nbconvert_exporter": "python",
   "pygments_lexer": "ipython3",
   "version": "3.7.6"
  }
 },
 "nbformat": 4,
 "nbformat_minor": 4
}
