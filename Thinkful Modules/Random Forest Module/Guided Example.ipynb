{
 "cells": [
  {
   "cell_type": "markdown",
   "metadata": {},
   "source": [
    "### Purpose of this exercise\n",
    "\n",
    "To demonstrate the tradeoffs of a random forest classifier between acuraccy and computational load. Given a dataset that can be run with very little cleaning and engineering and produce accuracy results of 98% out of the box but with a heavy computational workload, how can I reduce the features to get adaquate results - above 90% accuracy - with less processor workload?"
   ]
  },
  {
   "cell_type": "code",
   "execution_count": 2,
   "metadata": {},
   "outputs": [],
   "source": [
    "def data_missing_values_assesment(frame):\n",
    "    for column in frame.columns:\n",
    "        problems = []\n",
    "        if frame[column].dtype == 'object':\n",
    "            for value in frame[column]:\n",
    "                string = ''\n",
    "                try:\n",
    "                    string + value\n",
    "                except:\n",
    "                    problems.append(value)\n",
    "                    \n",
    "                    \n",
    "                    \n",
    "        if frame[column].dtype == 'float' or 'float64' or 'int':\n",
    "            for value in frame[column]:\n",
    "                try:\n",
    "                    float(value)\n",
    "                except:\n",
    "                    problems.append(value)\n",
    "                    \n",
    "                    \n",
    "                    \n",
    "        print('The data type of column {} is {}'.format(column, frame[column].dtype))\n",
    "        print('There are {} problem values'.format(len(problems)))\n",
    "        print('\\n', 40 * '-')"
   ]
  },
  {
   "cell_type": "code",
   "execution_count": 112,
   "metadata": {},
   "outputs": [],
   "source": [
    "def plot_confusion_matrix(cm,\n",
    "                          target_names,\n",
    "                          title='Confusion matrix',\n",
    "                          cmap=None,\n",
    "                          normalize=True):\n",
    "    \"\"\"\n",
    "    given a sklearn confusion matrix (cm), make a nice plot\n",
    "\n",
    "    Arguments\n",
    "    ---------\n",
    "    cm:           confusion matrix from sklearn.metrics.confusion_matrix\n",
    "\n",
    "    target_names: given classification classes such as [0, 1, 2]\n",
    "                  the class names, for example: ['high', 'medium', 'low']\n",
    "\n",
    "    title:        the text to display at the top of the matrix\n",
    "\n",
    "    cmap:         the gradient of the values displayed from matplotlib.pyplot.cm\n",
    "                  see http://matplotlib.org/examples/color/colormaps_reference.html\n",
    "                  plt.get_cmap('jet') or plt.cm.Blues\n",
    "\n",
    "    normalize:    If False, plot the raw numbers\n",
    "                  If True, plot the proportions\n",
    "\n",
    "    Usage\n",
    "    -----\n",
    "    plot_confusion_matrix(cm           = cm,                  # confusion matrix created by\n",
    "                                                              # sklearn.metrics.confusion_matrix\n",
    "                          normalize    = True,                # show proportions\n",
    "                          target_names = y_labels_vals,       # list of names of the classes\n",
    "                          title        = best_estimator_name) # title of graph\n",
    "\n",
    "    Citiation\n",
    "    ---------\n",
    "    http://scikit-learn.org/stable/auto_examples/model_selection/plot_confusion_matrix.html\n",
    "\n",
    "    \"\"\"\n",
    "    import matplotlib.pyplot as plt\n",
    "    import numpy as np\n",
    "    import itertools\n",
    "\n",
    "    accuracy = np.trace(cm) / float(np.sum(cm))\n",
    "    misclass = 1 - accuracy\n",
    "\n",
    "    if cmap is None:\n",
    "        cmap = plt.get_cmap('Blues')\n",
    "\n",
    "    plt.figure(figsize=(8, 6))\n",
    "    plt.imshow(cm, interpolation='nearest', cmap=cmap)\n",
    "    plt.title(title)\n",
    "    plt.colorbar()\n",
    "\n",
    "    if target_names is not None:\n",
    "        tick_marks = np.arange(len(target_names))\n",
    "        plt.xticks(tick_marks, target_names, rotation=45)\n",
    "        plt.yticks(tick_marks, target_names)\n",
    "\n",
    "    if normalize:\n",
    "        cm = cm.astype('float') / cm.sum(axis=1)[:, np.newaxis]\n",
    "\n",
    "\n",
    "    thresh = cm.max() / 1.5 if normalize else cm.max() / 2\n",
    "    for i, j in itertools.product(range(cm.shape[0]), range(cm.shape[1])):\n",
    "        if normalize:\n",
    "            plt.text(j, i, \"{:0.4f}\".format(cm[i, j]),\n",
    "                     horizontalalignment=\"center\",\n",
    "                     color=\"white\" if cm[i, j] > thresh else \"black\")\n",
    "        else:\n",
    "            plt.text(j, i, \"{:,}\".format(cm[i, j]),\n",
    "                     horizontalalignment=\"center\",\n",
    "                     color=\"white\" if cm[i, j] > thresh else \"black\")\n",
    "\n",
    "\n",
    "    plt.tight_layout()\n",
    "    plt.ylabel('True label')\n",
    "    plt.xlabel('Predicted label\\naccuracy={:0.4f}; misclass={:0.4f}'.format(accuracy, misclass))\n",
    "    plt.show()"
   ]
  },
  {
   "cell_type": "code",
   "execution_count": 3,
   "metadata": {},
   "outputs": [],
   "source": [
    "def print_full(x):\n",
    "    pd.set_option('display.max_rows', len(x))\n",
    "    print(x)\n",
    "    pd.reset_option('display.max_rows')"
   ]
  },
  {
   "cell_type": "code",
   "execution_count": 4,
   "metadata": {},
   "outputs": [],
   "source": [
    "def print_nulls(df):\n",
    "    \n",
    "    out = df.isnull().sum()*100/df.isnull().isnull().count()\n",
    "    \n",
    "    pd.set_option('display.max_rows', len(out))\n",
    "    print(out)\n",
    "    pd.reset_option('display.max_rows')"
   ]
  },
  {
   "cell_type": "code",
   "execution_count": 115,
   "metadata": {},
   "outputs": [],
   "source": [
    "import pandas as pd\n",
    "import numpy as np\n",
    "import matplotlib.pyplot as plt\n",
    "from sklearn import ensemble\n",
    "from sklearn.model_selection import cross_val_score\n",
    "from sklearn.metrics import confusion_matrix\n",
    "from sklearn.metrics import accuracy_score, precision_score, recall_score, f1_score, fbeta_score, classification_report\n",
    "from sklearn.metrics import roc_curve, precision_recall_curve, roc_auc_score\n",
    "\n",
    "%matplotlib inline"
   ]
  },
  {
   "cell_type": "code",
   "execution_count": 25,
   "metadata": {},
   "outputs": [
    {
     "name": "stderr",
     "output_type": "stream",
     "text": [
      "/home/owen/bin/anaconda3/lib/python3.7/site-packages/IPython/core/interactiveshell.py:3063: DtypeWarning: Columns (0,19,55) have mixed types.Specify dtype option on import or set low_memory=False.\n",
      "  interactivity=interactivity, compiler=compiler, result=result)\n"
     ]
    }
   ],
   "source": [
    "# Replace the path with the correct path for your data.\n",
    "y2015 = pd.read_csv(\n",
    "    'LoanStats3d.csv',\n",
    "    skipinitialspace=True,\n",
    "    header=1\n",
    ")\n",
    "\n",
    "# Note the warning about dtypes."
   ]
  },
  {
   "cell_type": "code",
   "execution_count": 26,
   "metadata": {},
   "outputs": [],
   "source": [
    "# remove the bottom two rows that only contain null values\n",
    "\n",
    "y2015 = y2015[:-2]"
   ]
  },
  {
   "cell_type": "code",
   "execution_count": 27,
   "metadata": {
    "scrolled": false
   },
   "outputs": [
    {
     "name": "stdout",
     "output_type": "stream",
     "text": [
      "id                                 0.000000\n",
      "member_id                          0.000000\n",
      "loan_amnt                          0.000000\n",
      "funded_amnt                        0.000000\n",
      "funded_amnt_inv                    0.000000\n",
      "term                               0.000000\n",
      "int_rate                           0.000000\n",
      "installment                        0.000000\n",
      "grade                              0.000000\n",
      "sub_grade                          0.000000\n",
      "emp_title                          5.669505\n",
      "emp_length                         5.655968\n",
      "home_ownership                     0.000000\n",
      "annual_inc                         0.000000\n",
      "verification_status                0.000000\n",
      "issue_d                            0.000000\n",
      "loan_status                        0.000000\n",
      "pymnt_plan                         0.000000\n",
      "url                                0.000000\n",
      "desc                              99.989314\n",
      "purpose                            0.000000\n",
      "title                              0.031347\n",
      "zip_code                           0.000000\n",
      "addr_state                         0.000000\n",
      "dti                                0.000000\n",
      "delinq_2yrs                        0.000000\n",
      "earliest_cr_line                   0.000000\n",
      "inq_last_6mths                     0.000000\n",
      "mths_since_last_delinq            48.436101\n",
      "mths_since_last_record            82.328216\n",
      "open_acc                           0.000000\n",
      "pub_rec                            0.000000\n",
      "revol_bal                          0.000000\n",
      "revol_util                         0.038471\n",
      "total_acc                          0.000000\n",
      "initial_list_status                0.000000\n",
      "out_prncp                          0.000000\n",
      "out_prncp_inv                      0.000000\n",
      "total_pymnt                        0.000000\n",
      "total_pymnt_inv                    0.000000\n",
      "total_rec_prncp                    0.000000\n",
      "total_rec_int                      0.000000\n",
      "total_rec_late_fee                 0.000000\n",
      "recoveries                         0.000000\n",
      "collection_recovery_fee            0.000000\n",
      "last_pymnt_d                       0.069818\n",
      "last_pymnt_amnt                    0.000000\n",
      "next_pymnt_d                      27.824363\n",
      "last_credit_pull_d                 0.001900\n",
      "collections_12_mths_ex_med         0.000000\n",
      "mths_since_last_major_derog       70.854795\n",
      "policy_code                        0.000000\n",
      "application_type                   0.000000\n",
      "annual_inc_joint                  99.878650\n",
      "dti_joint                         99.879125\n",
      "verification_status_joint         99.878650\n",
      "acc_now_delinq                     0.000000\n",
      "tot_coll_amt                       0.000000\n",
      "tot_cur_bal                        0.000000\n",
      "open_acc_6m                       94.924661\n",
      "open_il_6m                        94.924661\n",
      "open_il_12m                       94.924661\n",
      "open_il_24m                       94.924661\n",
      "mths_since_rcnt_il                95.058122\n",
      "total_bal_il                      94.924661\n",
      "il_util                           95.578907\n",
      "open_rv_12m                       94.924661\n",
      "open_rv_24m                       94.924661\n",
      "max_bal_bc                        94.924661\n",
      "all_util                          94.924661\n",
      "total_rev_hi_lim                   0.000000\n",
      "inq_fi                            94.924661\n",
      "total_cu_tl                       94.924661\n",
      "inq_last_12m                      94.924661\n",
      "acc_open_past_24mths               0.000000\n",
      "avg_cur_bal                        0.000000\n",
      "bc_open_to_buy                     0.941118\n",
      "bc_util                            1.003811\n",
      "chargeoff_within_12_mths           0.000000\n",
      "delinq_amnt                        0.000000\n",
      "mo_sin_old_il_acct                 2.910032\n",
      "mo_sin_old_rev_tl_op               0.000000\n",
      "mo_sin_rcnt_rev_tl_op              0.000000\n",
      "mo_sin_rcnt_tl                     0.000000\n",
      "mort_acc                           0.000000\n",
      "mths_since_recent_bc               0.901934\n",
      "mths_since_recent_bc_dlq          74.210095\n",
      "mths_since_recent_inq             10.591197\n",
      "mths_since_recent_revol_delinq    63.966088\n",
      "num_accts_ever_120_pd              0.000000\n",
      "num_actv_bc_tl                     0.000000\n",
      "num_actv_rev_tl                    0.000000\n",
      "num_bc_sats                        0.000000\n",
      "num_bc_tl                          0.000000\n",
      "num_il_tl                          0.000000\n",
      "num_op_rev_tl                      0.000000\n",
      "num_rev_accts                      0.000237\n",
      "num_rev_tl_bal_gt_0                0.000000\n",
      "num_sats                           0.000000\n",
      "num_tl_120dpd_2m                   4.566665\n",
      "num_tl_30dpd                       0.000000\n",
      "num_tl_90g_dpd_24m                 0.000000\n",
      "num_tl_op_past_12m                 0.000000\n",
      "pct_tl_nvr_dlq                     0.000000\n",
      "percent_bc_gt_75                   1.006661\n",
      "pub_rec_bankruptcies               0.000000\n",
      "tax_liens                          0.000000\n",
      "tot_hi_cred_lim                    0.000000\n",
      "total_bal_ex_mort                  0.000000\n",
      "total_bc_limit                     0.000000\n",
      "total_il_high_credit_limit         0.000000\n",
      "dtype: float64\n"
     ]
    }
   ],
   "source": [
    "print_nulls(y2015)"
   ]
  },
  {
   "cell_type": "code",
   "execution_count": 28,
   "metadata": {},
   "outputs": [],
   "source": [
    "### Grab a few columns that look important:\n",
    "\n",
    "kept = [\n",
    "    'loan_amnt'\n",
    "        ,'funded_amnt'\n",
    "        ,'funded_amnt_inv'\n",
    "        ,'term'\n",
    "        ,'int_rate'\n",
    "        ,'installment'\n",
    "        ,'grade'\n",
    "        ,'emp_length'\n",
    "        ,'home_ownership'\n",
    "        ,'annual_inc'\n",
    "        ,'verification_status'\n",
    "        ,'loan_status'\n",
    "        ,'pymnt_plan'\n",
    "        ,'purpose'\n",
    "        ,'dti'\n",
    "        ,'delinq_2yrs'\n",
    "        ,'inq_last_6mths'\n",
    "        ,'mths_since_last_delinq'\n",
    "        ,'mths_since_last_record'\n",
    "        ,'open_acc'\n",
    "        ,'revol_bal'\n",
    "        ,'total_acc'\n",
    "        ,'total_pymnt'\n",
    "        ,'total_pymnt_inv'\n",
    "        ,'total_rec_prncp'\n",
    "        ,'total_rec_int'\n",
    "        ,'total_rec_late_fee'\n",
    "        ,'recoveries'\n",
    "        ,'collection_recovery_fee'\n",
    "        ,'last_pymnt_d'\n",
    "        ,'last_pymnt_amnt'\n",
    "        ,'next_pymnt_d'\n",
    "       ,'mths_since_recent_revol_delinq' \n",
    "       ]"
   ]
  },
  {
   "cell_type": "code",
   "execution_count": 78,
   "metadata": {},
   "outputs": [],
   "source": [
    "kept_df = y2015.loc[:, kept]"
   ]
  },
  {
   "cell_type": "code",
   "execution_count": 30,
   "metadata": {},
   "outputs": [
    {
     "name": "stdout",
     "output_type": "stream",
     "text": [
      "loan_amnt                          0.000000\n",
      "funded_amnt                        0.000000\n",
      "funded_amnt_inv                    0.000000\n",
      "term                               0.000000\n",
      "int_rate                           0.000000\n",
      "installment                        0.000000\n",
      "grade                              0.000000\n",
      "emp_length                         5.655968\n",
      "home_ownership                     0.000000\n",
      "annual_inc                         0.000000\n",
      "verification_status                0.000000\n",
      "loan_status                        0.000000\n",
      "pymnt_plan                         0.000000\n",
      "purpose                            0.000000\n",
      "dti                                0.000000\n",
      "delinq_2yrs                        0.000000\n",
      "inq_last_6mths                     0.000000\n",
      "mths_since_last_delinq            48.436101\n",
      "mths_since_last_record            82.328216\n",
      "open_acc                           0.000000\n",
      "revol_bal                          0.000000\n",
      "total_acc                          0.000000\n",
      "total_pymnt                        0.000000\n",
      "total_pymnt_inv                    0.000000\n",
      "total_rec_prncp                    0.000000\n",
      "total_rec_int                      0.000000\n",
      "total_rec_late_fee                 0.000000\n",
      "recoveries                         0.000000\n",
      "collection_recovery_fee            0.000000\n",
      "last_pymnt_d                       0.069818\n",
      "last_pymnt_amnt                    0.000000\n",
      "next_pymnt_d                      27.824363\n",
      "mths_since_recent_revol_delinq    63.966088\n",
      "dtype: float64\n"
     ]
    }
   ],
   "source": [
    "print_nulls(kept_df)"
   ]
  },
  {
   "cell_type": "code",
   "execution_count": 79,
   "metadata": {},
   "outputs": [],
   "source": [
    "# Transform these three variables to include information from nulls\n",
    "\n",
    "\n",
    "mask_1 = kept_df['mths_since_last_record'].notna()\n",
    "mask_0 = kept_df['mths_since_last_record'].isnull()\n",
    "kept_df.loc[mask_1, 'record_last_10_years'] = 1\n",
    "kept_df.loc[mask_0, 'record_last_10_years'] = 0\n",
    "\n",
    "\n",
    "\n",
    "mask_1 = kept_df['mths_since_last_delinq'].notna()\n",
    "mask_0 = kept_df['mths_since_last_delinq'].isnull()\n",
    "kept_df.loc[mask_1, 'delinq_last_10_years'] = 1\n",
    "kept_df.loc[mask_0, 'delinq_last_10_years'] = 0\n",
    "\n",
    "\n",
    "\n",
    "mask_1 = kept_df['mths_since_recent_revol_delinq'].notna()\n",
    "mask_0 = kept_df['mths_since_recent_revol_delinq'].isnull()\n",
    "kept_df.loc[mask_1, 'recent_revol_delinq'] = 1\n",
    "kept_df.loc[mask_0, 'recent_revol_delinq'] = 0\n",
    "\n",
    "kept_df.drop(['mths_since_recent_revol_delinq', 'mths_since_last_delinq', 'mths_since_last_record']\n",
    "             , axis=1, inplace=True)"
   ]
  },
  {
   "cell_type": "code",
   "execution_count": 80,
   "metadata": {},
   "outputs": [],
   "source": [
    "# in all cases where this value is null the loan is either paid off or charged off\n",
    "mask = kept_df['next_pymnt_d'].isnull()\n",
    "kept_df.loc[mask, 'next_pymnt_d'] = 'no_upcoming_payments'"
   ]
  },
  {
   "cell_type": "code",
   "execution_count": 81,
   "metadata": {},
   "outputs": [],
   "source": [
    "kept_df['emp_length'] = pd.to_numeric(kept_df['emp_length'].str.strip('+ years').str.strip('<'))\n",
    "kept_df['emp_length'] = kept_df['emp_length'].fillna(0)\n"
   ]
  },
  {
   "cell_type": "code",
   "execution_count": 82,
   "metadata": {
    "scrolled": true
   },
   "outputs": [
    {
     "name": "stdout",
     "output_type": "stream",
     "text": [
      "loan_amnt                  0.000000\n",
      "funded_amnt                0.000000\n",
      "funded_amnt_inv            0.000000\n",
      "term                       0.000000\n",
      "int_rate                   0.000000\n",
      "installment                0.000000\n",
      "grade                      0.000000\n",
      "emp_length                 0.000000\n",
      "home_ownership             0.000000\n",
      "annual_inc                 0.000000\n",
      "verification_status        0.000000\n",
      "loan_status                0.000000\n",
      "pymnt_plan                 0.000000\n",
      "purpose                    0.000000\n",
      "dti                        0.000000\n",
      "delinq_2yrs                0.000000\n",
      "inq_last_6mths             0.000000\n",
      "open_acc                   0.000000\n",
      "revol_bal                  0.000000\n",
      "total_acc                  0.000000\n",
      "total_pymnt                0.000000\n",
      "total_pymnt_inv            0.000000\n",
      "total_rec_prncp            0.000000\n",
      "total_rec_int              0.000000\n",
      "total_rec_late_fee         0.000000\n",
      "recoveries                 0.000000\n",
      "collection_recovery_fee    0.000000\n",
      "last_pymnt_d               0.069818\n",
      "last_pymnt_amnt            0.000000\n",
      "next_pymnt_d               0.000000\n",
      "record_last_10_years       0.000000\n",
      "delinq_last_10_years       0.000000\n",
      "recent_revol_delinq        0.000000\n",
      "dtype: float64\n"
     ]
    }
   ],
   "source": [
    "print_nulls(kept_df)"
   ]
  },
  {
   "cell_type": "code",
   "execution_count": 86,
   "metadata": {},
   "outputs": [],
   "source": [
    "kept_df['int_rate'] = pd.to_numeric(kept_df['int_rate'].str.strip('%'))"
   ]
  },
  {
   "cell_type": "code",
   "execution_count": 88,
   "metadata": {},
   "outputs": [
    {
     "name": "stdout",
     "output_type": "stream",
     "text": [
      "<class 'pandas.core.frame.DataFrame'>\n",
      "RangeIndex: 421095 entries, 0 to 421094\n",
      "Data columns (total 33 columns):\n",
      " #   Column                   Non-Null Count   Dtype  \n",
      "---  ------                   --------------   -----  \n",
      " 0   loan_amnt                421095 non-null  float64\n",
      " 1   funded_amnt              421095 non-null  float64\n",
      " 2   funded_amnt_inv          421095 non-null  float64\n",
      " 3   term                     421095 non-null  object \n",
      " 4   int_rate                 421095 non-null  float64\n",
      " 5   installment              421095 non-null  float64\n",
      " 6   grade                    421095 non-null  object \n",
      " 7   emp_length               421095 non-null  float64\n",
      " 8   home_ownership           421095 non-null  object \n",
      " 9   annual_inc               421095 non-null  float64\n",
      " 10  verification_status      421095 non-null  object \n",
      " 11  loan_status              421095 non-null  object \n",
      " 12  pymnt_plan               421095 non-null  object \n",
      " 13  purpose                  421095 non-null  object \n",
      " 14  dti                      421095 non-null  float64\n",
      " 15  delinq_2yrs              421095 non-null  float64\n",
      " 16  inq_last_6mths           421095 non-null  float64\n",
      " 17  open_acc                 421095 non-null  float64\n",
      " 18  revol_bal                421095 non-null  float64\n",
      " 19  total_acc                421095 non-null  float64\n",
      " 20  total_pymnt              421095 non-null  float64\n",
      " 21  total_pymnt_inv          421095 non-null  float64\n",
      " 22  total_rec_prncp          421095 non-null  float64\n",
      " 23  total_rec_int            421095 non-null  float64\n",
      " 24  total_rec_late_fee       421095 non-null  float64\n",
      " 25  recoveries               421095 non-null  float64\n",
      " 26  collection_recovery_fee  421095 non-null  float64\n",
      " 27  last_pymnt_d             420801 non-null  object \n",
      " 28  last_pymnt_amnt          421095 non-null  float64\n",
      " 29  next_pymnt_d             421095 non-null  object \n",
      " 30  record_last_10_years     421095 non-null  float64\n",
      " 31  delinq_last_10_years     421095 non-null  float64\n",
      " 32  recent_revol_delinq      421095 non-null  float64\n",
      "dtypes: float64(24), object(9)\n",
      "memory usage: 106.0+ MB\n"
     ]
    }
   ],
   "source": [
    "kept_df.info()"
   ]
  },
  {
   "cell_type": "code",
   "execution_count": 93,
   "metadata": {},
   "outputs": [],
   "source": [
    "from sklearn.model_selection import train_test_split\n",
    "\n",
    "kept_df = kept_df.dropna()\n",
    "\n",
    "\n",
    "y = kept_df['loan_status']\n",
    "X = kept_df.drop('loan_status', axis=1)\n",
    "X = pd.get_dummies(X)\n",
    "\n",
    "X_train, X_test, y_train, y_test = train_test_split(X, y, test_size=.25, random_state=1312)"
   ]
  },
  {
   "cell_type": "code",
   "execution_count": 94,
   "metadata": {},
   "outputs": [
    {
     "data": {
      "text/plain": [
       "array([0.98219265, 0.98095691, 0.98140051, 0.98121039, 0.98121039,\n",
       "       0.98111534, 0.98073511, 0.98171736, 0.98149556, 0.98152725])"
      ]
     },
     "execution_count": 94,
     "metadata": {},
     "output_type": "execute_result"
    }
   ],
   "source": [
    "rfc = ensemble.RandomForestClassifier()\n",
    "cross_val_score(rfc, X_train, y_train, cv=10)"
   ]
  },
  {
   "cell_type": "markdown",
   "metadata": {},
   "source": [
    "33 columns down from 111 and still 98% accuracy is not bad but running this did take almost a full 15 min. We may be able to slim this down even further. "
   ]
  },
  {
   "cell_type": "markdown",
   "metadata": {},
   "source": [
    "### Drop more columns"
   ]
  },
  {
   "cell_type": "code",
   "execution_count": 96,
   "metadata": {},
   "outputs": [],
   "source": [
    "mask = ['loan_amnt', 'term', 'int_rate',\n",
    "       'installment', 'grade', 'emp_length', 'home_ownership', 'annual_inc',\n",
    "        'loan_status', 'pymnt_plan', 'purpose', 'dti',\n",
    "       'delinq_2yrs', 'last_pymnt_d', 'last_pymnt_amnt', 'next_pymnt_d',\n",
    "       'record_last_10_years', 'delinq_last_10_years', 'recent_revol_delinq']\n",
    "\n",
    "new_stack = kept_df.loc[:, mask]"
   ]
  },
  {
   "cell_type": "code",
   "execution_count": 97,
   "metadata": {},
   "outputs": [
    {
     "name": "stdout",
     "output_type": "stream",
     "text": [
      "<class 'pandas.core.frame.DataFrame'>\n",
      "Int64Index: 420801 entries, 0 to 421094\n",
      "Data columns (total 19 columns):\n",
      " #   Column                Non-Null Count   Dtype  \n",
      "---  ------                --------------   -----  \n",
      " 0   loan_amnt             420801 non-null  float64\n",
      " 1   term                  420801 non-null  object \n",
      " 2   int_rate              420801 non-null  float64\n",
      " 3   installment           420801 non-null  float64\n",
      " 4   grade                 420801 non-null  object \n",
      " 5   emp_length            420801 non-null  float64\n",
      " 6   home_ownership        420801 non-null  object \n",
      " 7   annual_inc            420801 non-null  float64\n",
      " 8   loan_status           420801 non-null  object \n",
      " 9   pymnt_plan            420801 non-null  object \n",
      " 10  purpose               420801 non-null  object \n",
      " 11  dti                   420801 non-null  float64\n",
      " 12  delinq_2yrs           420801 non-null  float64\n",
      " 13  last_pymnt_d          420801 non-null  object \n",
      " 14  last_pymnt_amnt       420801 non-null  float64\n",
      " 15  next_pymnt_d          420801 non-null  object \n",
      " 16  record_last_10_years  420801 non-null  float64\n",
      " 17  delinq_last_10_years  420801 non-null  float64\n",
      " 18  recent_revol_delinq   420801 non-null  float64\n",
      "dtypes: float64(11), object(8)\n",
      "memory usage: 64.2+ MB\n"
     ]
    }
   ],
   "source": [
    "new_stack.info()"
   ]
  },
  {
   "cell_type": "code",
   "execution_count": 98,
   "metadata": {
    "scrolled": true
   },
   "outputs": [
    {
     "data": {
      "text/plain": [
       "array([0.97480989, 0.97328897, 0.97373257, 0.972782  , 0.97351077,\n",
       "       0.97328897, 0.97313054, 0.97382763, 0.97379594, 0.97404943])"
      ]
     },
     "execution_count": 98,
     "metadata": {},
     "output_type": "execute_result"
    }
   ],
   "source": [
    "y = new_stack['loan_status']\n",
    "X = new_stack.drop('loan_status', axis=1)\n",
    "X = pd.get_dummies(X)\n",
    "\n",
    "X_train, X_test, y_train, y_test = train_test_split(X, y, test_size=.25, random_state=1312)\n",
    "rfc = ensemble.RandomForestClassifier()\n",
    "cross_val_score(rfc, X_train, y_train, cv=10)"
   ]
  },
  {
   "cell_type": "markdown",
   "metadata": {},
   "source": [
    "This is better but still took several minutest to compute. Accuracy is still quite good."
   ]
  },
  {
   "cell_type": "markdown",
   "metadata": {},
   "source": [
    "### Even Further reduction"
   ]
  },
  {
   "cell_type": "code",
   "execution_count": 103,
   "metadata": {},
   "outputs": [],
   "source": [
    "mask = ['int_rate','installment', 'grade', 'emp_length', 'home_ownership', 'annual_inc',\n",
    "        'loan_status', 'record_last_10_years'\n",
    "        , 'delinq_last_10_years', 'recent_revol_delinq']\n",
    "\n",
    "new_stack = kept_df.loc[:, mask]"
   ]
  },
  {
   "cell_type": "code",
   "execution_count": 104,
   "metadata": {},
   "outputs": [
    {
     "name": "stdout",
     "output_type": "stream",
     "text": [
      "<class 'pandas.core.frame.DataFrame'>\n",
      "Int64Index: 420801 entries, 0 to 421094\n",
      "Data columns (total 10 columns):\n",
      " #   Column                Non-Null Count   Dtype  \n",
      "---  ------                --------------   -----  \n",
      " 0   int_rate              420801 non-null  float64\n",
      " 1   installment           420801 non-null  float64\n",
      " 2   grade                 420801 non-null  object \n",
      " 3   emp_length            420801 non-null  float64\n",
      " 4   home_ownership        420801 non-null  object \n",
      " 5   annual_inc            420801 non-null  float64\n",
      " 6   loan_status           420801 non-null  object \n",
      " 7   record_last_10_years  420801 non-null  float64\n",
      " 8   delinq_last_10_years  420801 non-null  float64\n",
      " 9   recent_revol_delinq   420801 non-null  float64\n",
      "dtypes: float64(7), object(3)\n",
      "memory usage: 35.3+ MB\n"
     ]
    }
   ],
   "source": [
    "new_stack.info()"
   ]
  },
  {
   "cell_type": "code",
   "execution_count": 105,
   "metadata": {},
   "outputs": [
    {
     "data": {
      "text/plain": [
       "array([0.63504436, 0.63380862, 0.63475919, 0.63491762, 0.63415716,\n",
       "       0.63460076, 0.63580482, 0.63295311, 0.63434728, 0.63241445])"
      ]
     },
     "execution_count": 105,
     "metadata": {},
     "output_type": "execute_result"
    }
   ],
   "source": [
    "y = new_stack['loan_status']\n",
    "X = new_stack.drop('loan_status', axis=1)\n",
    "X = pd.get_dummies(X)\n",
    "\n",
    "X_train, X_test, y_train, y_test = train_test_split(X, y, test_size=.25, random_state=1312)\n",
    "rfc = ensemble.RandomForestClassifier()\n",
    "cross_val_score(rfc, X_train, y_train, cv=10)"
   ]
  },
  {
   "cell_type": "markdown",
   "metadata": {},
   "source": [
    "Quite poor. Still took quite some time. Try again with different features:"
   ]
  },
  {
   "cell_type": "code",
   "execution_count": 106,
   "metadata": {},
   "outputs": [],
   "source": [
    "mask = ['int_rate',\n",
    "       'installment', 'grade', 'emp_length', 'home_ownership', 'annual_inc',\n",
    "        'loan_status', 'last_pymnt_d', 'last_pymnt_amnt', 'next_pymnt_d',\n",
    "       'record_last_10_years', 'delinq_last_10_years', 'recent_revol_delinq']\n",
    "\n",
    "new_stack = kept_df.loc[:, mask]"
   ]
  },
  {
   "cell_type": "code",
   "execution_count": 107,
   "metadata": {
    "scrolled": true
   },
   "outputs": [
    {
     "name": "stdout",
     "output_type": "stream",
     "text": [
      "<class 'pandas.core.frame.DataFrame'>\n",
      "Int64Index: 420801 entries, 0 to 421094\n",
      "Data columns (total 13 columns):\n",
      " #   Column                Non-Null Count   Dtype  \n",
      "---  ------                --------------   -----  \n",
      " 0   int_rate              420801 non-null  float64\n",
      " 1   installment           420801 non-null  float64\n",
      " 2   grade                 420801 non-null  object \n",
      " 3   emp_length            420801 non-null  float64\n",
      " 4   home_ownership        420801 non-null  object \n",
      " 5   annual_inc            420801 non-null  float64\n",
      " 6   loan_status           420801 non-null  object \n",
      " 7   last_pymnt_d          420801 non-null  object \n",
      " 8   last_pymnt_amnt       420801 non-null  float64\n",
      " 9   next_pymnt_d          420801 non-null  object \n",
      " 10  record_last_10_years  420801 non-null  float64\n",
      " 11  delinq_last_10_years  420801 non-null  float64\n",
      " 12  recent_revol_delinq   420801 non-null  float64\n",
      "dtypes: float64(8), object(5)\n",
      "memory usage: 44.9+ MB\n"
     ]
    }
   ],
   "source": [
    "new_stack.info()"
   ]
  },
  {
   "cell_type": "code",
   "execution_count": 108,
   "metadata": {
    "scrolled": true
   },
   "outputs": [
    {
     "data": {
      "text/plain": [
       "array([0.97401774, 0.97205323, 0.97271863, 0.972782  , 0.97275032,\n",
       "       0.97230672, 0.9725602 , 0.97360583, 0.9732256 , 0.97357414])"
      ]
     },
     "execution_count": 108,
     "metadata": {},
     "output_type": "execute_result"
    }
   ],
   "source": [
    "y = new_stack['loan_status']\n",
    "X = new_stack.drop('loan_status', axis=1)\n",
    "X = pd.get_dummies(X)\n",
    "\n",
    "X_train, X_test, y_train, y_test = train_test_split(X, y, test_size=.25, random_state=1312)\n",
    "rfc = ensemble.RandomForestClassifier()\n",
    "cross_val_score(rfc, X_train, y_train, cv=10)"
   ]
  },
  {
   "cell_type": "code",
   "execution_count": 113,
   "metadata": {},
   "outputs": [
    {
     "data": {
      "image/png": "[encoded data removed]",
      "text/plain": [
       "<Figure size 576x432 with 2 Axes>"
      ]
     },
     "metadata": {
      "needs_background": "light"
     },
     "output_type": "display_data"
    }
   ],
   "source": [
    "rfc.fit(X_train, y_train)\n",
    "\n",
    "predictions = rfc.predict(X_test)\n",
    "\n",
    "confusion = confusion_matrix(y_test, predictions)\n",
    "\n",
    "plot_confusion_matrix(confusion, y.unique())"
   ]
  },
  {
   "cell_type": "code",
   "execution_count": 116,
   "metadata": {},
   "outputs": [
    {
     "name": "stdout",
     "output_type": "stream",
     "text": [
      "Accuracy score: 0.9737264854896817\n",
      "Precision score: 0.7301172445474667\n",
      "Recall score: 0.6631120032358016\n",
      "F1 score: 0.6793006968432618\n",
      "Fbeta score favoring precision: 0.6940490164738288\n",
      "FBeta score favoring recall: 0.668957059650844\n"
     ]
    }
   ],
   "source": [
    "accuracy = accuracy_score(y_test, predictions)\n",
    "precision = precision_score(y_test, predictions, average=None)\n",
    "recall = recall_score(y_test, predictions, average=None)\n",
    "f1 = f1_score(y_test, predictions, average=None)\n",
    "fbeta_precision = fbeta_score(y_test, predictions, 0.5, average=None)\n",
    "fbeta_recall = fbeta_score(y_test, predictions, 2, average=None)\n",
    "\n",
    "print('Accuracy score: {}'.format(accuracy))\n",
    "print('Precision score: {}'.format(precision.mean()))\n",
    "print('Recall score: {}'.format(recall.mean()))\n",
    "print('F1 score: {}'.format(f1.mean()))\n",
    "print('Fbeta score favoring precision: {}'.format(fbeta_precision.mean()))\n",
    "print('FBeta score favoring recall: {}'.format(fbeta_recall.mean()))"
   ]
  },
  {
   "cell_type": "code",
   "execution_count": 109,
   "metadata": {},
   "outputs": [],
   "source": [
    "new_stack.to_csv('loan_staus_reduced.csv')"
   ]
  }
 ],
 "metadata": {
  "kernelspec": {
   "display_name": "Python 3",
   "language": "python",
   "name": "python3"
  },
  "language_info": {
   "codemirror_mode": {
    "name": "ipython",
    "version": 3
   },
   "file_extension": ".py",
   "mimetype": "text/x-python",
   "name": "python",
   "nbconvert_exporter": "python",
   "pygments_lexer": "ipython3",
   "version": "3.7.6"
  }
 },
 "nbformat": 4,
 "nbformat_minor": 4
}
