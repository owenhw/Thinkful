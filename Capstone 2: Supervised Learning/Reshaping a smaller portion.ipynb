{
 "cells": [
  {
   "cell_type": "code",
   "execution_count": 2,
   "metadata": {},
   "outputs": [],
   "source": [
    "import numpy as np\n",
    "import pandas as pd\n",
    "import matplotlib.pyplot as plt\n",
    "import datetime as dt"
   ]
  },
  {
   "cell_type": "code",
   "execution_count": 2,
   "metadata": {},
   "outputs": [],
   "source": [
    "df = pd.read_csv('data/indego/indego-trips-2019-q4.csv')"
   ]
  },
  {
   "cell_type": "markdown",
   "metadata": {},
   "source": [
    "I need to reshape the data so that I have hourly observations for each station with inflow and outflow."
   ]
  },
  {
   "cell_type": "code",
   "execution_count": 3,
   "metadata": {},
   "outputs": [],
   "source": [
    "copy = df.dropna()\n",
    "df = copy.copy()"
   ]
  },
  {
   "cell_type": "code",
   "execution_count": 4,
   "metadata": {},
   "outputs": [],
   "source": [
    "# convert the start and stop times to \n",
    "df['start_time'] = pd.to_datetime(df['start_time'])\n",
    "df['end_time'] = pd.to_datetime(df['end_time'])\n",
    "\n",
    "\n",
    "#df['start_times'] = df['start_time'].dt.floor(freq='H')\n",
    "#df['end_times'] = df['end_time'].dt.ceil(freq='H')\n",
    "\n",
    "mask = df['trip_route_category'] == 'One Way'\n",
    "df.loc[mask, 'trip_route_category'] = 0\n",
    "\n",
    "mask = df['trip_route_category'] == 'Round Trip'\n",
    "df.loc[mask, 'trip_route_category'] = 1\n",
    "\n",
    "df['trip_route_category'] = pd.to_numeric(df['trip_route_category'])"
   ]
  },
  {
   "cell_type": "code",
   "execution_count": 5,
   "metadata": {
    "scrolled": false
   },
   "outputs": [
    {
     "name": "stdout",
     "output_type": "stream",
     "text": [
      "<class 'pandas.core.frame.DataFrame'>\n",
      "Int64Index: 163403 entries, 0 to 166115\n",
      "Data columns (total 15 columns):\n",
      " #   Column               Non-Null Count   Dtype         \n",
      "---  ------               --------------   -----         \n",
      " 0   trip_id              163403 non-null  int64         \n",
      " 1   duration             163403 non-null  int64         \n",
      " 2   start_time           163403 non-null  datetime64[ns]\n",
      " 3   end_time             163403 non-null  datetime64[ns]\n",
      " 4   start_station        163403 non-null  int64         \n",
      " 5   start_lat            163403 non-null  float64       \n",
      " 6   start_lon            163403 non-null  float64       \n",
      " 7   end_station          163403 non-null  int64         \n",
      " 8   end_lat              163403 non-null  float64       \n",
      " 9   end_lon              163403 non-null  float64       \n",
      " 10  bike_id              163403 non-null  int64         \n",
      " 11  plan_duration        163403 non-null  int64         \n",
      " 12  trip_route_category  163403 non-null  int64         \n",
      " 13  passholder_type      163403 non-null  object        \n",
      " 14  bike_type            163403 non-null  object        \n",
      "dtypes: datetime64[ns](2), float64(4), int64(7), object(2)\n",
      "memory usage: 19.9+ MB\n"
     ]
    }
   ],
   "source": [
    "df.info()"
   ]
  },
  {
   "cell_type": "code",
   "execution_count": 6,
   "metadata": {},
   "outputs": [],
   "source": [
    "#mask = df['start_station'] == 3158\n",
    "outdf = df.loc[:, ['trip_id', 'duration', 'start_station', 'trip_route_category', 'start_time']]\n",
    "\n",
    "#mask = df['end_station'] == 3158\n",
    "indf = df.loc[:, ['trip_id', 'duration', 'end_station', 'trip_route_category', 'end_time']]"
   ]
  },
  {
   "cell_type": "code",
   "execution_count": 7,
   "metadata": {},
   "outputs": [],
   "source": [
    "indf['flow'] = 1\n",
    "outdf['flow'] = -1"
   ]
  },
  {
   "cell_type": "code",
   "execution_count": 8,
   "metadata": {
    "scrolled": true
   },
   "outputs": [],
   "source": [
    "indf = indf.rename(columns={'duration' : 'incoming_duration', 'end_station' : 'station', 'end_time' : 'datetime'})"
   ]
  },
  {
   "cell_type": "code",
   "execution_count": 9,
   "metadata": {},
   "outputs": [],
   "source": [
    "outdf = outdf.rename(columns={'duration' : 'outgoing_duration', 'start_station' : 'station', 'start_time' : 'datetime'})"
   ]
  },
  {
   "cell_type": "code",
   "execution_count": 10,
   "metadata": {},
   "outputs": [],
   "source": [
    "stapled = pd.concat([indf, outdf])"
   ]
  },
  {
   "cell_type": "code",
   "execution_count": 11,
   "metadata": {
    "scrolled": false
   },
   "outputs": [
    {
     "name": "stdout",
     "output_type": "stream",
     "text": [
      "<class 'pandas.core.frame.DataFrame'>\n",
      "Int64Index: 326806 entries, 0 to 166115\n",
      "Data columns (total 7 columns):\n",
      " #   Column               Non-Null Count   Dtype         \n",
      "---  ------               --------------   -----         \n",
      " 0   trip_id              326806 non-null  int64         \n",
      " 1   incoming_duration    163403 non-null  float64       \n",
      " 2   station              326806 non-null  int64         \n",
      " 3   trip_route_category  326806 non-null  int64         \n",
      " 4   datetime             326806 non-null  datetime64[ns]\n",
      " 5   flow                 326806 non-null  int64         \n",
      " 6   outgoing_duration    163403 non-null  float64       \n",
      "dtypes: datetime64[ns](1), float64(2), int64(4)\n",
      "memory usage: 19.9 MB\n"
     ]
    }
   ],
   "source": [
    "stapled.info()"
   ]
  },
  {
   "cell_type": "code",
   "execution_count": null,
   "metadata": {},
   "outputs": [],
   "source": [
    "stapled['station'].nunique()"
   ]
  },
  {
   "cell_type": "code",
   "execution_count": 12,
   "metadata": {},
   "outputs": [
    {
     "data": {
      "text/plain": [
       "array([3163, 3037, 3164, 3110, 3018, 3045, 3065, 3007, 3112, 3182, 3046,\n",
       "       3005, 3062, 3052, 3210, 3169, 3196, 3034, 3030, 3012, 3200, 3063,\n",
       "       3158, 3066, 3020, 3026, 3125, 3004, 3108, 3166, 3187, 3157, 3064,\n",
       "       3099, 3041, 3119, 3056, 3022, 3054, 3088, 3015, 3161, 3195, 3038,\n",
       "       3156, 3206, 3073, 3078, 3009, 3061, 3057, 3033, 3160, 3055, 3072,\n",
       "       3154, 3168, 3032, 3019, 3060, 3114, 3010, 3167, 3170, 3068, 3120,\n",
       "       3129, 3185, 3006, 3021, 3059, 3058, 3028, 3159, 3190, 3051, 3047,\n",
       "       3152, 3014, 3031, 3197, 3040, 3029, 3202, 3102, 3050, 3100, 3101,\n",
       "       3039, 3201, 3165, 3123, 3075, 3192, 3017, 3124, 3053, 3008, 3153,\n",
       "       3024, 3035, 3086, 3184, 3013, 3071, 3162, 3069, 3049, 3070, 3183,\n",
       "       3098, 3027, 3116, 3096, 3043, 3025, 3074, 3118, 3097, 3067, 3111,\n",
       "       3115, 3121, 3113, 3155, 3117, 3181, 3011, 3016, 3209, 3188, 3107,\n",
       "       3150, 3093, 3077, 3106, 3104, 3186, 3042, 3208, 3203, 3204, 3205])"
      ]
     },
     "execution_count": 12,
     "metadata": {},
     "output_type": "execute_result"
    }
   ],
   "source": [
    "stapled['station'].unique()"
   ]
  },
  {
   "cell_type": "code",
   "execution_count": 20,
   "metadata": {},
   "outputs": [],
   "source": [
    "# create a list of the stations\n",
    "stations = stapled['station'].unique()\n",
    "\n",
    "# create a dict to create and hold the dataframes\n",
    "station_frames = {}\n",
    "\n",
    "# loop through the data for each station\n",
    "for station in stations:\n",
    "    \n",
    "    #select the data for that station\n",
    "    mask = stapled['station'] == station\n",
    "    small = stapled.loc[mask, :]\n",
    "    \n",
    "    # aggregate it\n",
    "    small.set_index('datetime', inplace=True)\n",
    "    grouped = small.resample('H').agg({'flow' : 'sum'\n",
    "                         , 'incoming_duration' : 'mean'\n",
    "                        , 'outgoing_duration' : 'mean'\n",
    "                        , 'trip_route_category' : 'mean'})\n",
    "    \n",
    "    # preserves the int type better than .agg('mean')\n",
    "    grouped['station'] = station\n",
    "    \n",
    "    station_frames[station] = grouped"
   ]
  },
  {
   "cell_type": "code",
   "execution_count": 25,
   "metadata": {},
   "outputs": [],
   "source": [
    "unified = pd.DataFrame()\n",
    "for station in stations:\n",
    "    unified = pd.concat([unified, station_frames[stationa]])\n"
   ]
  },
  {
   "cell_type": "code",
   "execution_count": 28,
   "metadata": {
    "scrolled": true
   },
   "outputs": [
    {
     "data": {
      "text/html": [
       "<div>\n",
       "<style scoped>\n",
       "    .dataframe tbody tr th:only-of-type {\n",
       "        vertical-align: middle;\n",
       "    }\n",
       "\n",
       "    .dataframe tbody tr th {\n",
       "        vertical-align: top;\n",
       "    }\n",
       "\n",
       "    .dataframe thead th {\n",
       "        text-align: right;\n",
       "    }\n",
       "</style>\n",
       "<table border=\"1\" class=\"dataframe\">\n",
       "  <thead>\n",
       "    <tr style=\"text-align: right;\">\n",
       "      <th></th>\n",
       "      <th>flow</th>\n",
       "      <th>incoming_duration</th>\n",
       "      <th>outgoing_duration</th>\n",
       "      <th>trip_route_category</th>\n",
       "      <th>station</th>\n",
       "    </tr>\n",
       "    <tr>\n",
       "      <th>datetime</th>\n",
       "      <th></th>\n",
       "      <th></th>\n",
       "      <th></th>\n",
       "      <th></th>\n",
       "      <th></th>\n",
       "    </tr>\n",
       "  </thead>\n",
       "  <tbody>\n",
       "    <tr>\n",
       "      <th>2019-10-01 07:00:00</th>\n",
       "      <td>-1</td>\n",
       "      <td>NaN</td>\n",
       "      <td>17.000000</td>\n",
       "      <td>0.0</td>\n",
       "      <td>3070</td>\n",
       "    </tr>\n",
       "    <tr>\n",
       "      <th>2019-10-01 08:00:00</th>\n",
       "      <td>0</td>\n",
       "      <td>17.0</td>\n",
       "      <td>16.000000</td>\n",
       "      <td>0.0</td>\n",
       "      <td>3070</td>\n",
       "    </tr>\n",
       "    <tr>\n",
       "      <th>2019-10-01 09:00:00</th>\n",
       "      <td>-2</td>\n",
       "      <td>24.0</td>\n",
       "      <td>9.333333</td>\n",
       "      <td>0.0</td>\n",
       "      <td>3070</td>\n",
       "    </tr>\n",
       "    <tr>\n",
       "      <th>2019-10-01 10:00:00</th>\n",
       "      <td>0</td>\n",
       "      <td>NaN</td>\n",
       "      <td>NaN</td>\n",
       "      <td>NaN</td>\n",
       "      <td>3070</td>\n",
       "    </tr>\n",
       "    <tr>\n",
       "      <th>2019-10-01 11:00:00</th>\n",
       "      <td>1</td>\n",
       "      <td>106.0</td>\n",
       "      <td>NaN</td>\n",
       "      <td>0.0</td>\n",
       "      <td>3070</td>\n",
       "    </tr>\n",
       "    <tr>\n",
       "      <th>...</th>\n",
       "      <td>...</td>\n",
       "      <td>...</td>\n",
       "      <td>...</td>\n",
       "      <td>...</td>\n",
       "      <td>...</td>\n",
       "    </tr>\n",
       "    <tr>\n",
       "      <th>2019-12-31 20:00:00</th>\n",
       "      <td>0</td>\n",
       "      <td>NaN</td>\n",
       "      <td>NaN</td>\n",
       "      <td>NaN</td>\n",
       "      <td>3070</td>\n",
       "    </tr>\n",
       "    <tr>\n",
       "      <th>2019-12-31 21:00:00</th>\n",
       "      <td>0</td>\n",
       "      <td>22.0</td>\n",
       "      <td>122.000000</td>\n",
       "      <td>0.0</td>\n",
       "      <td>3070</td>\n",
       "    </tr>\n",
       "    <tr>\n",
       "      <th>2019-12-31 22:00:00</th>\n",
       "      <td>0</td>\n",
       "      <td>NaN</td>\n",
       "      <td>NaN</td>\n",
       "      <td>NaN</td>\n",
       "      <td>3070</td>\n",
       "    </tr>\n",
       "    <tr>\n",
       "      <th>2019-12-31 23:00:00</th>\n",
       "      <td>0</td>\n",
       "      <td>NaN</td>\n",
       "      <td>NaN</td>\n",
       "      <td>NaN</td>\n",
       "      <td>3070</td>\n",
       "    </tr>\n",
       "    <tr>\n",
       "      <th>2020-01-01 00:00:00</th>\n",
       "      <td>1</td>\n",
       "      <td>47.0</td>\n",
       "      <td>NaN</td>\n",
       "      <td>0.0</td>\n",
       "      <td>3070</td>\n",
       "    </tr>\n",
       "  </tbody>\n",
       "</table>\n",
       "<p>2202 rows × 5 columns</p>\n",
       "</div>"
      ],
      "text/plain": [
       "                     flow  incoming_duration  outgoing_duration  \\\n",
       "datetime                                                          \n",
       "2019-10-01 07:00:00    -1                NaN          17.000000   \n",
       "2019-10-01 08:00:00     0               17.0          16.000000   \n",
       "2019-10-01 09:00:00    -2               24.0           9.333333   \n",
       "2019-10-01 10:00:00     0                NaN                NaN   \n",
       "2019-10-01 11:00:00     1              106.0                NaN   \n",
       "...                   ...                ...                ...   \n",
       "2019-12-31 20:00:00     0                NaN                NaN   \n",
       "2019-12-31 21:00:00     0               22.0         122.000000   \n",
       "2019-12-31 22:00:00     0                NaN                NaN   \n",
       "2019-12-31 23:00:00     0                NaN                NaN   \n",
       "2020-01-01 00:00:00     1               47.0                NaN   \n",
       "\n",
       "                     trip_route_category  station  \n",
       "datetime                                           \n",
       "2019-10-01 07:00:00                  0.0     3070  \n",
       "2019-10-01 08:00:00                  0.0     3070  \n",
       "2019-10-01 09:00:00                  0.0     3070  \n",
       "2019-10-01 10:00:00                  NaN     3070  \n",
       "2019-10-01 11:00:00                  0.0     3070  \n",
       "...                                  ...      ...  \n",
       "2019-12-31 20:00:00                  NaN     3070  \n",
       "2019-12-31 21:00:00                  0.0     3070  \n",
       "2019-12-31 22:00:00                  NaN     3070  \n",
       "2019-12-31 23:00:00                  NaN     3070  \n",
       "2020-01-01 00:00:00                  0.0     3070  \n",
       "\n",
       "[2202 rows x 5 columns]"
      ]
     },
     "execution_count": 28,
     "metadata": {},
     "output_type": "execute_result"
    }
   ],
   "source": [
    "unified[unified['station'] == 3070]"
   ]
  }
 ],
 "metadata": {
  "kernelspec": {
   "display_name": "Python 3",
   "language": "python",
   "name": "python3"
  },
  "language_info": {
   "codemirror_mode": {
    "name": "ipython",
    "version": 3
   },
   "file_extension": ".py",
   "mimetype": "text/x-python",
   "name": "python",
   "nbconvert_exporter": "python",
   "pygments_lexer": "ipython3",
   "version": "3.7.6"
  }
 },
 "nbformat": 4,
 "nbformat_minor": 4
}
