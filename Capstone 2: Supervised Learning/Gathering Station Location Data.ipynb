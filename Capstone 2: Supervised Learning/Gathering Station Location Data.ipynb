{
 "cells": [
  {
   "cell_type": "markdown",
   "metadata": {},
   "source": [
    "# Gathering Station Location Data\n",
    "\n",
    "Indego provides an API to get current status data for each of the stations. This data contains some information I want such as the locations of each stations and the number of docks they have. This API can be accessed in the same location as the rest of the Indego data: https://www.rideindego.com/about/data/\n",
    "\n",
    "Here I will also import neighborhood data for Philadelphia. I am using a shapefile of neighborhoods as defined by a city survey. This is available at: https://github.com/azavea/geo-data"
   ]
  },
  {
   "cell_type": "code",
   "execution_count": 1,
   "metadata": {},
   "outputs": [
    {
     "name": "stderr",
     "output_type": "stream",
     "text": [
      "/home/owen/bin/anaconda3/envs/geo_env/lib/python3.8/site-packages/geopandas/_compat.py:84: UserWarning: The Shapely GEOS version (3.8.0-CAPI-1.13.1 ) is incompatible with the GEOS version PyGEOS was compiled with (3.8.1-CAPI-1.13.3). Conversions between both will be slow.\n",
      "  warnings.warn(\n"
     ]
    }
   ],
   "source": [
    "import numpy as np\n",
    "import pandas as pd\n",
    "import matplotlib.pyplot as plt\n",
    "import geopandas as gpd\n",
    "from shapely.geometry import Point, Polygon\n",
    "import requests\n",
    "pd.options.display.float_format = '{:.3f}'.format"
   ]
  },
  {
   "cell_type": "code",
   "execution_count": 2,
   "metadata": {},
   "outputs": [],
   "source": [
    "# request the data\n",
    "r = requests.get ('http://www.rideindego.com/stations/json/')\n",
    "content = pd.read_json(r.content)"
   ]
  },
  {
   "cell_type": "code",
   "execution_count": 18,
   "metadata": {},
   "outputs": [
    {
     "data": {
      "text/plain": [
       "{'geometry': {'coordinates': [-75.16374, 39.95378], 'type': 'Point'},\n",
       " 'properties': {'id': 3004,\n",
       "  'name': 'Municipal Services Building Plaza',\n",
       "  'coordinates': [-75.16374, 39.95378],\n",
       "  'totalDocks': 30,\n",
       "  'docksAvailable': 15,\n",
       "  'bikesAvailable': 14,\n",
       "  'classicBikesAvailable': 14,\n",
       "  'smartBikesAvailable': 0,\n",
       "  'electricBikesAvailable': 0,\n",
       "  'rewardBikesAvailable': 14,\n",
       "  'rewardDocksAvailable': 15,\n",
       "  'kioskStatus': 'FullService',\n",
       "  'kioskPublicStatus': 'Active',\n",
       "  'kioskConnectionStatus': 'Active',\n",
       "  'kioskType': 1,\n",
       "  'addressStreet': '1401 John F. Kennedy Blvd.',\n",
       "  'addressCity': 'Philadelphia',\n",
       "  'addressState': 'PA',\n",
       "  'addressZipCode': '19102',\n",
       "  'bikes': [{'dockNumber': 4,\n",
       "    'isElectric': False,\n",
       "    'isAvailable': True,\n",
       "    'battery': None},\n",
       "   {'dockNumber': 5,\n",
       "    'isElectric': False,\n",
       "    'isAvailable': True,\n",
       "    'battery': None},\n",
       "   {'dockNumber': 7,\n",
       "    'isElectric': False,\n",
       "    'isAvailable': True,\n",
       "    'battery': None},\n",
       "   {'dockNumber': 9,\n",
       "    'isElectric': False,\n",
       "    'isAvailable': True,\n",
       "    'battery': None},\n",
       "   {'dockNumber': 10,\n",
       "    'isElectric': False,\n",
       "    'isAvailable': True,\n",
       "    'battery': None},\n",
       "   {'dockNumber': 11,\n",
       "    'isElectric': False,\n",
       "    'isAvailable': True,\n",
       "    'battery': None},\n",
       "   {'dockNumber': 14,\n",
       "    'isElectric': False,\n",
       "    'isAvailable': True,\n",
       "    'battery': None},\n",
       "   {'dockNumber': 15,\n",
       "    'isElectric': False,\n",
       "    'isAvailable': True,\n",
       "    'battery': None},\n",
       "   {'dockNumber': 17,\n",
       "    'isElectric': False,\n",
       "    'isAvailable': True,\n",
       "    'battery': None},\n",
       "   {'dockNumber': 18,\n",
       "    'isElectric': False,\n",
       "    'isAvailable': True,\n",
       "    'battery': None},\n",
       "   {'dockNumber': 19,\n",
       "    'isElectric': False,\n",
       "    'isAvailable': False,\n",
       "    'battery': None},\n",
       "   {'dockNumber': 21,\n",
       "    'isElectric': False,\n",
       "    'isAvailable': True,\n",
       "    'battery': None},\n",
       "   {'dockNumber': 25,\n",
       "    'isElectric': False,\n",
       "    'isAvailable': True,\n",
       "    'battery': None},\n",
       "   {'dockNumber': 26,\n",
       "    'isElectric': False,\n",
       "    'isAvailable': True,\n",
       "    'battery': None},\n",
       "   {'dockNumber': 29,\n",
       "    'isElectric': False,\n",
       "    'isAvailable': True,\n",
       "    'battery': None}],\n",
       "  'closeTime': None,\n",
       "  'eventEnd': None,\n",
       "  'eventStart': None,\n",
       "  'isEventBased': False,\n",
       "  'isVirtual': False,\n",
       "  'kioskId': 3004,\n",
       "  'notes': None,\n",
       "  'openTime': None,\n",
       "  'publicText': '',\n",
       "  'timeZone': None,\n",
       "  'trikesAvailable': 0,\n",
       "  'latitude': 39.95378,\n",
       "  'longitude': -75.16374},\n",
       " 'type': 'Feature'}"
      ]
     },
     "execution_count": 18,
     "metadata": {},
     "output_type": "execute_result"
    }
   ],
   "source": [
    "content['features'][0]"
   ]
  },
  {
   "cell_type": "code",
   "execution_count": 3,
   "metadata": {},
   "outputs": [],
   "source": [
    "# put the shapefile into a geopands GeoDataFrame\n",
    "gdf = gpd.GeoDataFrame.from_features(content['features'])\n",
    "gdf = gdf.set_crs('EPSG:4326')"
   ]
  },
  {
   "cell_type": "code",
   "execution_count": 4,
   "metadata": {
    "scrolled": false
   },
   "outputs": [
    {
     "name": "stdout",
     "output_type": "stream",
     "text": [
      "<class 'geopandas.geodataframe.GeoDataFrame'>\n",
      "RangeIndex: 143 entries, 0 to 142\n",
      "Data columns (total 34 columns):\n",
      " #   Column                  Non-Null Count  Dtype   \n",
      "---  ------                  --------------  -----   \n",
      " 0   geometry                143 non-null    geometry\n",
      " 1   id                      143 non-null    int64   \n",
      " 2   name                    143 non-null    object  \n",
      " 3   coordinates             143 non-null    object  \n",
      " 4   totalDocks              143 non-null    int64   \n",
      " 5   docksAvailable          143 non-null    int64   \n",
      " 6   bikesAvailable          143 non-null    int64   \n",
      " 7   classicBikesAvailable   143 non-null    int64   \n",
      " 8   smartBikesAvailable     143 non-null    int64   \n",
      " 9   electricBikesAvailable  143 non-null    int64   \n",
      " 10  rewardBikesAvailable    143 non-null    int64   \n",
      " 11  rewardDocksAvailable    143 non-null    int64   \n",
      " 12  kioskStatus             143 non-null    object  \n",
      " 13  kioskPublicStatus       143 non-null    object  \n",
      " 14  kioskConnectionStatus   143 non-null    object  \n",
      " 15  kioskType               143 non-null    int64   \n",
      " 16  addressStreet           143 non-null    object  \n",
      " 17  addressCity             143 non-null    object  \n",
      " 18  addressState            143 non-null    object  \n",
      " 19  addressZipCode          143 non-null    object  \n",
      " 20  bikes                   143 non-null    object  \n",
      " 21  closeTime               0 non-null      object  \n",
      " 22  eventEnd                0 non-null      object  \n",
      " 23  eventStart              0 non-null      object  \n",
      " 24  isEventBased            143 non-null    bool    \n",
      " 25  isVirtual               143 non-null    bool    \n",
      " 26  kioskId                 143 non-null    int64   \n",
      " 27  notes                   0 non-null      object  \n",
      " 28  openTime                0 non-null      object  \n",
      " 29  publicText              143 non-null    object  \n",
      " 30  timeZone                0 non-null      object  \n",
      " 31  trikesAvailable         143 non-null    int64   \n",
      " 32  latitude                143 non-null    float64 \n",
      " 33  longitude               143 non-null    float64 \n",
      "dtypes: bool(2), float64(2), geometry(1), int64(12), object(17)\n",
      "memory usage: 36.2+ KB\n"
     ]
    }
   ],
   "source": [
    "gdf.info()"
   ]
  },
  {
   "cell_type": "code",
   "execution_count": 10,
   "metadata": {},
   "outputs": [],
   "source": [
    "def print_full(x):\n",
    "    pd.set_option('display.max_rows', len(x))\n",
    "    print(x)\n",
    "    pd.reset_option('display.max_rows')"
   ]
  },
  {
   "cell_type": "code",
   "execution_count": 12,
   "metadata": {},
   "outputs": [],
   "source": [
    "statement = gdf[gdf['id'] == 3005]['bikes']"
   ]
  },
  {
   "cell_type": "code",
   "execution_count": 14,
   "metadata": {},
   "outputs": [
    {
     "name": "stdout",
     "output_type": "stream",
     "text": [
      "1    [{'dockNumber': 3, 'isElectric': False, 'isAva...\n",
      "Name: bikes, dtype: object\n"
     ]
    }
   ],
   "source": []
  },
  {
   "cell_type": "code",
   "execution_count": 4,
   "metadata": {},
   "outputs": [],
   "source": [
    "# load the neighborhoods shapefile\n",
    "shape = gpd.read_file(r'data/geometry/Neighborhoods_Philadelphia')\n",
    "shape = shape.to_crs('EPSG:4326')"
   ]
  },
  {
   "cell_type": "code",
   "execution_count": 6,
   "metadata": {},
   "outputs": [
    {
     "data": {
      "text/plain": [
       "array([-75.280266,  39.867004, -74.955763,  40.137992])"
      ]
     },
     "execution_count": 6,
     "metadata": {},
     "output_type": "execute_result"
    }
   ],
   "source": [
    "shape.total_bounds"
   ]
  },
  {
   "cell_type": "code",
   "execution_count": 6,
   "metadata": {
    "scrolled": false
   },
   "outputs": [
    {
     "data": {
      "image/png": "[encoded data removed]",
      "text/plain": [
       "<Figure size 720x720 with 1 Axes>"
      ]
     },
     "metadata": {
      "needs_background": "light"
     },
     "output_type": "display_data"
    }
   ],
   "source": [
    "# Visualize location of stations withing the city\n",
    "plt.figure(figsize=(10,10))\n",
    "ax = plt.subplot(1,1,1)\n",
    "shape.plot(ax=ax, alpha=.6, color='grey')\n",
    "gdf.plot(ax=ax)\n",
    "plt.title('Indego Bike Share Stations in Philadlephia', size='xx-large')\n",
    "plt.savefig(r'images/Stations_in_Philadelphia.png')\n",
    "plt.show()"
   ]
  },
  {
   "cell_type": "code",
   "execution_count": 7,
   "metadata": {
    "scrolled": false
   },
   "outputs": [],
   "source": [
    "# Create a new a frame with only neighborhoods that have a station\n",
    "\n",
    "subset = []\n",
    "\n",
    "for row in shape.iterrows():\n",
    "    vals = []\n",
    "    for point in gdf['geometry']:\n",
    "        vals.append(row[1]['geometry'].contains(point))\n",
    "    if any(vals):\n",
    "        subset.append(row[1]['NAME'])"
   ]
  },
  {
   "cell_type": "code",
   "execution_count": 8,
   "metadata": {},
   "outputs": [],
   "source": [
    "station_neighborhoods = shape[shape['NAME'].isin(subset)]"
   ]
  },
  {
   "cell_type": "code",
   "execution_count": 9,
   "metadata": {},
   "outputs": [
    {
     "data": {
      "text/plain": [
       "<AxesSubplot:>"
      ]
     },
     "execution_count": 9,
     "metadata": {},
     "output_type": "execute_result"
    },
    {
     "data": {
      "image/png": "[encoded data removed]",
      "text/plain": [
       "<Figure size 432x288 with 1 Axes>"
      ]
     },
     "metadata": {
      "needs_background": "light"
     },
     "output_type": "display_data"
    }
   ],
   "source": [
    "station_neighborhoods.plot()"
   ]
  },
  {
   "cell_type": "code",
   "execution_count": 10,
   "metadata": {},
   "outputs": [],
   "source": [
    "# Save this frame to file\n",
    "station_neighborhoods.to_file(r'data/geometry/station_neighborhoods')"
   ]
  },
  {
   "cell_type": "code",
   "execution_count": null,
   "metadata": {},
   "outputs": [],
   "source": [
    "# I am only interested in a few of the columns\n",
    "cols = ['geometry', 'id', 'coordinates', 'totalDocks']"
   ]
  },
  {
   "cell_type": "code",
   "execution_count": 11,
   "metadata": {},
   "outputs": [],
   "source": [
    "# Trim the station columns down to only what I need\n",
    "gdf = gdf[cols].copy()"
   ]
  },
  {
   "cell_type": "code",
   "execution_count": null,
   "metadata": {},
   "outputs": [],
   "source": [
    "stations = pd.read_csv(r'data/indego/indego-stations.csv', names=['id', 'name', 'open_on', 'active'], header=0)"
   ]
  },
  {
   "cell_type": "code",
   "execution_count": null,
   "metadata": {},
   "outputs": [],
   "source": []
  },
  {
   "cell_type": "code",
   "execution_count": 12,
   "metadata": {},
   "outputs": [],
   "source": [
    "# Now add a neighborhood variable to the staion list\n",
    "neighborhoods = []\n",
    "\n",
    "for index, station in stations.iterrows():\n",
    "    for i, neighborhood in shape.iterrows():\n",
    "        if neighborhood['geometry'].contains(station['geometry']):\n",
    "            neighborhoods.append(neighborhood['NAME'])\n",
    "            \n",
    "stations['neighborhood'] = neighborhoods"
   ]
  },
  {
   "cell_type": "code",
   "execution_count": 13,
   "metadata": {
    "scrolled": true
   },
   "outputs": [
    {
     "data": {
      "text/html": [
       "<div>\n",
       "<style scoped>\n",
       "    .dataframe tbody tr th:only-of-type {\n",
       "        vertical-align: middle;\n",
       "    }\n",
       "\n",
       "    .dataframe tbody tr th {\n",
       "        vertical-align: top;\n",
       "    }\n",
       "\n",
       "    .dataframe thead th {\n",
       "        text-align: right;\n",
       "    }\n",
       "</style>\n",
       "<table border=\"1\" class=\"dataframe\">\n",
       "  <thead>\n",
       "    <tr style=\"text-align: right;\">\n",
       "      <th></th>\n",
       "      <th>geometry</th>\n",
       "      <th>id</th>\n",
       "      <th>name</th>\n",
       "      <th>coordinates</th>\n",
       "      <th>totalDocks</th>\n",
       "      <th>latitude</th>\n",
       "      <th>longitude</th>\n",
       "      <th>neighborhood</th>\n",
       "    </tr>\n",
       "  </thead>\n",
       "  <tbody>\n",
       "    <tr>\n",
       "      <th>0</th>\n",
       "      <td>POINT (-75.16374 39.95378)</td>\n",
       "      <td>3004</td>\n",
       "      <td>Municipal Services Building Plaza</td>\n",
       "      <td>[-75.16374, 39.95378]</td>\n",
       "      <td>30</td>\n",
       "      <td>39.954</td>\n",
       "      <td>-75.164</td>\n",
       "      <td>LOGAN_SQUARE</td>\n",
       "    </tr>\n",
       "    <tr>\n",
       "      <th>1</th>\n",
       "      <td>POINT (-75.14403 39.94733)</td>\n",
       "      <td>3005</td>\n",
       "      <td>Welcome Park, NPS</td>\n",
       "      <td>[-75.14403, 39.94733]</td>\n",
       "      <td>13</td>\n",
       "      <td>39.947</td>\n",
       "      <td>-75.144</td>\n",
       "      <td>OLD_CITY</td>\n",
       "    </tr>\n",
       "    <tr>\n",
       "      <th>2</th>\n",
       "      <td>POINT (-75.20311 39.95220)</td>\n",
       "      <td>3006</td>\n",
       "      <td>40th &amp; Spruce</td>\n",
       "      <td>[-75.20311, 39.9522]</td>\n",
       "      <td>17</td>\n",
       "      <td>39.952</td>\n",
       "      <td>-75.203</td>\n",
       "      <td>UNIVERSITY_CITY</td>\n",
       "    </tr>\n",
       "    <tr>\n",
       "      <th>3</th>\n",
       "      <td>POINT (-75.15993 39.94517)</td>\n",
       "      <td>3007</td>\n",
       "      <td>11th &amp; Pine, Kahn Park</td>\n",
       "      <td>[-75.15993, 39.94517]</td>\n",
       "      <td>20</td>\n",
       "      <td>39.945</td>\n",
       "      <td>-75.160</td>\n",
       "      <td>WASHINGTON_SQUARE</td>\n",
       "    </tr>\n",
       "    <tr>\n",
       "      <th>4</th>\n",
       "      <td>POINT (-75.15055 39.98078)</td>\n",
       "      <td>3008</td>\n",
       "      <td>Temple University Station</td>\n",
       "      <td>[-75.15055, 39.98078]</td>\n",
       "      <td>19</td>\n",
       "      <td>39.981</td>\n",
       "      <td>-75.151</td>\n",
       "      <td>HARTRANFT</td>\n",
       "    </tr>\n",
       "  </tbody>\n",
       "</table>\n",
       "</div>"
      ],
      "text/plain": [
       "                     geometry    id                               name  \\\n",
       "0  POINT (-75.16374 39.95378)  3004  Municipal Services Building Plaza   \n",
       "1  POINT (-75.14403 39.94733)  3005                  Welcome Park, NPS   \n",
       "2  POINT (-75.20311 39.95220)  3006                      40th & Spruce   \n",
       "3  POINT (-75.15993 39.94517)  3007             11th & Pine, Kahn Park   \n",
       "4  POINT (-75.15055 39.98078)  3008          Temple University Station   \n",
       "\n",
       "             coordinates  totalDocks  latitude  longitude       neighborhood  \n",
       "0  [-75.16374, 39.95378]          30    39.954    -75.164       LOGAN_SQUARE  \n",
       "1  [-75.14403, 39.94733]          13    39.947    -75.144           OLD_CITY  \n",
       "2   [-75.20311, 39.9522]          17    39.952    -75.203    UNIVERSITY_CITY  \n",
       "3  [-75.15993, 39.94517]          20    39.945    -75.160  WASHINGTON_SQUARE  \n",
       "4  [-75.15055, 39.98078]          19    39.981    -75.151          HARTRANFT  "
      ]
     },
     "execution_count": 13,
     "metadata": {},
     "output_type": "execute_result"
    }
   ],
   "source": [
    "# Check to make sure it worked\n",
    "stations.head()"
   ]
  },
  {
   "cell_type": "code",
   "execution_count": 14,
   "metadata": {},
   "outputs": [],
   "source": [
    "# List typed column raises an error when saved to file\n",
    "stations['coordinates'] = stations['coordinates'].apply(lambda x: str(x))"
   ]
  },
  {
   "cell_type": "code",
   "execution_count": 15,
   "metadata": {},
   "outputs": [],
   "source": [
    "# Write the station information to file\n",
    "stations.to_file(r'data/indego/indego_stations')"
   ]
  },
  {
   "cell_type": "code",
   "execution_count": 7,
   "metadata": {},
   "outputs": [],
   "source": [
    "penn = gpd.read_file(r'data/geometry/pennsylvania.shp')"
   ]
  },
  {
   "cell_type": "code",
   "execution_count": 27,
   "metadata": {
    "scrolled": false
   },
   "outputs": [
    {
     "ename": "NameError",
     "evalue": "name 'stations' is not defined",
     "output_type": "error",
     "traceback": [
      "\u001b[0;31m---------------------------------------------------------------------------\u001b[0m",
      "\u001b[0;31mNameError\u001b[0m                                 Traceback (most recent call last)",
      "\u001b[0;32m<ipython-input-27-84e2c5f2fdca>\u001b[0m in \u001b[0;36m<module>\u001b[0;34m\u001b[0m\n\u001b[0;32m----> 1\u001b[0;31m \u001b[0mstations\u001b[0m\u001b[0;34m.\u001b[0m\u001b[0mtotal_bounds\u001b[0m\u001b[0;34m\u001b[0m\u001b[0;34m\u001b[0m\u001b[0m\n\u001b[0m",
      "\u001b[0;31mNameError\u001b[0m: name 'stations' is not defined"
     ]
    }
   ],
   "source": [
    "stations.total_bounds"
   ]
  },
  {
   "cell_type": "code",
   "execution_count": 28,
   "metadata": {},
   "outputs": [
    {
     "name": "stdout",
     "output_type": "stream",
     "text": [
      "<class 'geopandas.geodataframe.GeoDataFrame'>\n",
      "RangeIndex: 9799 entries, 0 to 9798\n",
      "Data columns (total 6 columns):\n",
      " #   Column      Non-Null Count  Dtype   \n",
      "---  ------      --------------  -----   \n",
      " 0   osm_id      9799 non-null   object  \n",
      " 1   code        9799 non-null   int64   \n",
      " 2   fclass      9799 non-null   object  \n",
      " 3   population  9799 non-null   int64   \n",
      " 4   name        9787 non-null   object  \n",
      " 5   geometry    9799 non-null   geometry\n",
      "dtypes: geometry(1), int64(2), object(3)\n",
      "memory usage: 459.5+ KB\n"
     ]
    }
   ],
   "source": [
    "penn.info()"
   ]
  },
  {
   "cell_type": "code",
   "execution_count": 24,
   "metadata": {},
   "outputs": [],
   "source": [
    "import contextily as ctx"
   ]
  }
 ],
 "metadata": {
  "kernelspec": {
   "display_name": "Python 3",
   "language": "python",
   "name": "python3"
  },
  "language_info": {
   "codemirror_mode": {
    "name": "ipython",
    "version": 3
   },
   "file_extension": ".py",
   "mimetype": "text/x-python",
   "name": "python",
   "nbconvert_exporter": "python",
   "pygments_lexer": "ipython3",
   "version": "3.8.2"
  }
 },
 "nbformat": 4,
 "nbformat_minor": 4
}
