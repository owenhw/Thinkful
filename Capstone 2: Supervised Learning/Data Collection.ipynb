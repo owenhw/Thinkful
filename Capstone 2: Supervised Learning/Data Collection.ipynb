{
 "cells": [
  {
   "cell_type": "markdown",
   "metadata": {},
   "source": [
    "# Data Collection\n",
    "\n",
    "For this project I will use data from several different sources."
   ]
  },
  {
   "cell_type": "markdown",
   "metadata": {},
   "source": [
    "### Import Libraries and Define Functions"
   ]
  },
  {
   "cell_type": "code",
   "execution_count": 84,
   "metadata": {},
   "outputs": [],
   "source": [
    "import numpy as np\n",
    "import pandas as pd\n",
    "import geopandas as gpd\n",
    "import matplotlib.pyplot as plt\n",
    "import requests"
   ]
  },
  {
   "cell_type": "markdown",
   "metadata": {},
   "source": [
    "### Map and Background Data"
   ]
  },
  {
   "cell_type": "markdown",
   "metadata": {},
   "source": [
    "I use the official neighborhood boundaries as determined by a city survey which can be found here: "
   ]
  },
  {
   "cell_type": "markdown",
   "metadata": {},
   "source": [
    "## Indego Data\n",
    "\n",
    "Indego provides access to their data at: https://www.rideindego.com/about/data/ The Indego Data I am interested in are:\n",
    " - Trip Data, provided quarterly since Q2 2015 and up until Q2 2020\n",
    " - A json API with realtime station status information\n",
    "\n",
    "The first will form the backbone of the observations and I will aggregate it to compute the traffic flows from neighborhoods. The latter will provide some basic variables to be joined to the aggregate such as location and number of docks available."
   ]
  },
  {
   "cell_type": "markdown",
   "metadata": {},
   "source": [
    "### Trip Data\n",
    "The data must be downloaded by quarter, and so must be merged before it can be used. Currently there are three full years of data. I will not use partial years so as to keep my observations balanced across the year. "
   ]
  },
  {
   "cell_type": "code",
   "execution_count": 2,
   "metadata": {},
   "outputs": [],
   "source": [
    "df1 = pd.read_csv('data/indego/indego-trips-2016-q1.csv')"
   ]
  },
  {
   "cell_type": "code",
   "execution_count": 3,
   "metadata": {
    "scrolled": true
   },
   "outputs": [],
   "source": [
    "df2 = pd.read_csv('data/indego/indego-trips-2016-q2.csv')"
   ]
  },
  {
   "cell_type": "code",
   "execution_count": 4,
   "metadata": {},
   "outputs": [],
   "source": [
    "df3 = pd.read_csv('data/indego/indego-trips-2016-q3.csv')"
   ]
  },
  {
   "cell_type": "code",
   "execution_count": 5,
   "metadata": {},
   "outputs": [],
   "source": [
    "df4 = pd.read_csv('data/indego/indego-trips-2016-q4.csv')"
   ]
  },
  {
   "cell_type": "code",
   "execution_count": 6,
   "metadata": {},
   "outputs": [],
   "source": [
    "df5 = pd.read_csv('data/indego/indego-trips-2017-q1.csv')"
   ]
  },
  {
   "cell_type": "code",
   "execution_count": 7,
   "metadata": {},
   "outputs": [],
   "source": [
    "df6 = pd.read_csv('data/indego/indego-trips-2017-q2.csv')"
   ]
  },
  {
   "cell_type": "code",
   "execution_count": 8,
   "metadata": {},
   "outputs": [],
   "source": [
    "df7 = pd.read_csv('data/indego/indego-trips-2017-q3.csv')"
   ]
  },
  {
   "cell_type": "code",
   "execution_count": 9,
   "metadata": {
    "scrolled": true
   },
   "outputs": [],
   "source": [
    "df8 = pd.read_csv('data/indego/indego-trips-2017-q4.csv')"
   ]
  },
  {
   "cell_type": "code",
   "execution_count": 10,
   "metadata": {},
   "outputs": [],
   "source": [
    "df9 = pd.read_csv('data/indego/indego-trips-2018-q1.csv')"
   ]
  },
  {
   "cell_type": "code",
   "execution_count": 11,
   "metadata": {},
   "outputs": [],
   "source": [
    "df10 = pd.read_csv('data/indego/indego-trips-2018-q2.csv')"
   ]
  },
  {
   "cell_type": "code",
   "execution_count": 12,
   "metadata": {},
   "outputs": [],
   "source": [
    "df11 = pd.read_csv('data/indego/indego-trips-2018-q3.csv')"
   ]
  },
  {
   "cell_type": "code",
   "execution_count": 13,
   "metadata": {
    "scrolled": true
   },
   "outputs": [
    {
     "name": "stderr",
     "output_type": "stream",
     "text": [
      "/home/owen/bin/anaconda3/envs/geo_env/lib/python3.8/site-packages/IPython/core/interactiveshell.py:3145: DtypeWarning: Columns (10) have mixed types.Specify dtype option on import or set low_memory=False.\n",
      "  has_raised = await self.run_ast_nodes(code_ast.body, cell_name,\n"
     ]
    }
   ],
   "source": [
    "df12 = pd.read_csv('data/indego/indego-trips-2018-q4.csv')"
   ]
  },
  {
   "cell_type": "code",
   "execution_count": 14,
   "metadata": {},
   "outputs": [],
   "source": [
    "df13 = pd.read_csv('data/indego/indego-trips-2019-q1.csv')"
   ]
  },
  {
   "cell_type": "code",
   "execution_count": 15,
   "metadata": {},
   "outputs": [],
   "source": [
    "df14 = pd.read_csv('data/indego/indego-trips-2019-q2.csv')"
   ]
  },
  {
   "cell_type": "code",
   "execution_count": 16,
   "metadata": {},
   "outputs": [],
   "source": [
    "df15 = pd.read_csv('data/indego/indego-trips-2019-q3.csv')"
   ]
  },
  {
   "cell_type": "code",
   "execution_count": 17,
   "metadata": {
    "scrolled": true
   },
   "outputs": [],
   "source": [
    "df16 = pd.read_csv('data/indego/indego-trips-2019-q4.csv')"
   ]
  },
  {
   "cell_type": "code",
   "execution_count": 21,
   "metadata": {
    "scrolled": true
   },
   "outputs": [],
   "source": [
    "trip_df = pd.concat([df1, df2, df3, df4, df5, df6, df7, df8, df9, df10\n",
    "                , df11, df12, df13, df14, df15, df16], ignore_index=True)"
   ]
  },
  {
   "cell_type": "code",
   "execution_count": 22,
   "metadata": {
    "scrolled": false
   },
   "outputs": [
    {
     "name": "stdout",
     "output_type": "stream",
     "text": [
      "<class 'pandas.core.frame.DataFrame'>\n",
      "RangeIndex: 2860043 entries, 0 to 2860042\n",
      "Data columns (total 17 columns):\n",
      " #   Column               Dtype  \n",
      "---  ------               -----  \n",
      " 0   trip_id              int64  \n",
      " 1   duration             int64  \n",
      " 2   start_time           object \n",
      " 3   end_time             object \n",
      " 4   start_station_id     float64\n",
      " 5   start_lat            object \n",
      " 6   start_lon            object \n",
      " 7   end_station_id       float64\n",
      " 8   end_lat              object \n",
      " 9   end_lon              object \n",
      " 10  bike_id              object \n",
      " 11  plan_duration        float64\n",
      " 12  trip_route_category  object \n",
      " 13  passholder_type      object \n",
      " 14  start_station        float64\n",
      " 15  end_station          float64\n",
      " 16  bike_type            object \n",
      "dtypes: float64(5), int64(2), object(10)\n",
      "memory usage: 370.9+ MB\n"
     ]
    }
   ],
   "source": [
    "trip_df.info()"
   ]
  },
  {
   "cell_type": "markdown",
   "metadata": {},
   "source": [
    "### Station Data\n",
    "\n",
    "I will make use of the the active variable to select only stations that are currently active for my model. While it is possible that historical data from stations could add predictive power for now I will discard them. "
   ]
  },
  {
   "cell_type": "code",
   "execution_count": 45,
   "metadata": {},
   "outputs": [],
   "source": [
    "stations = pd.read_csv(r'data/indego/indego-stations.csv', names=['id', 'name', 'open_on', 'active'], header=0)"
   ]
  },
  {
   "cell_type": "code",
   "execution_count": 46,
   "metadata": {
    "scrolled": false
   },
   "outputs": [
    {
     "data": {
      "text/html": [
       "<div>\n",
       "<style scoped>\n",
       "    .dataframe tbody tr th:only-of-type {\n",
       "        vertical-align: middle;\n",
       "    }\n",
       "\n",
       "    .dataframe tbody tr th {\n",
       "        vertical-align: top;\n",
       "    }\n",
       "\n",
       "    .dataframe thead th {\n",
       "        text-align: right;\n",
       "    }\n",
       "</style>\n",
       "<table border=\"1\" class=\"dataframe\">\n",
       "  <thead>\n",
       "    <tr style=\"text-align: right;\">\n",
       "      <th></th>\n",
       "      <th>id</th>\n",
       "      <th>name</th>\n",
       "      <th>open_on</th>\n",
       "      <th>active</th>\n",
       "    </tr>\n",
       "  </thead>\n",
       "  <tbody>\n",
       "    <tr>\n",
       "      <th>0</th>\n",
       "      <td>3004</td>\n",
       "      <td>Municipal Services Building Plaza</td>\n",
       "      <td>23-Apr-15</td>\n",
       "      <td>Active</td>\n",
       "    </tr>\n",
       "    <tr>\n",
       "      <th>1</th>\n",
       "      <td>3005</td>\n",
       "      <td>Welcome Park, NPS</td>\n",
       "      <td>23-Apr-15</td>\n",
       "      <td>Active</td>\n",
       "    </tr>\n",
       "    <tr>\n",
       "      <th>2</th>\n",
       "      <td>3006</td>\n",
       "      <td>40th &amp; Spruce</td>\n",
       "      <td>23-Apr-15</td>\n",
       "      <td>Active</td>\n",
       "    </tr>\n",
       "    <tr>\n",
       "      <th>3</th>\n",
       "      <td>3007</td>\n",
       "      <td>11th &amp; Pine, Kahn Park</td>\n",
       "      <td>23-Apr-15</td>\n",
       "      <td>Active</td>\n",
       "    </tr>\n",
       "    <tr>\n",
       "      <th>4</th>\n",
       "      <td>3008</td>\n",
       "      <td>Temple University Station</td>\n",
       "      <td>23-Apr-15</td>\n",
       "      <td>Active</td>\n",
       "    </tr>\n",
       "  </tbody>\n",
       "</table>\n",
       "</div>"
      ],
      "text/plain": [
       "     id                               name    open_on  active\n",
       "0  3004  Municipal Services Building Plaza  23-Apr-15  Active\n",
       "1  3005                  Welcome Park, NPS  23-Apr-15  Active\n",
       "2  3006                      40th & Spruce  23-Apr-15  Active\n",
       "3  3007             11th & Pine, Kahn Park  23-Apr-15  Active\n",
       "4  3008          Temple University Station  23-Apr-15  Active"
      ]
     },
     "execution_count": 46,
     "metadata": {},
     "output_type": "execute_result"
    }
   ],
   "source": [
    "stations.head()"
   ]
  },
  {
   "cell_type": "code",
   "execution_count": 47,
   "metadata": {},
   "outputs": [
    {
     "data": {
      "text/plain": [
       "Index(['id', 'name', 'open_on', 'active'], dtype='object')"
      ]
     },
     "execution_count": 47,
     "metadata": {},
     "output_type": "execute_result"
    }
   ],
   "source": [
    "stations.columns"
   ]
  },
  {
   "cell_type": "code",
   "execution_count": 37,
   "metadata": {},
   "outputs": [],
   "source": [
    "# request the data\n",
    "r = requests.get ('http://www.rideindego.com/stations/json/')\n",
    "stations = pd.read_json(r.content)"
   ]
  },
  {
   "cell_type": "code",
   "execution_count": 39,
   "metadata": {},
   "outputs": [],
   "source": [
    "# put the shapefile into a geopands GeoDataFrame\n",
    "gdf = gpd.GeoDataFrame.from_features(stations['features'])\n",
    "gdf = gdf.set_crs('EPSG:4326')"
   ]
  },
  {
   "cell_type": "code",
   "execution_count": 51,
   "metadata": {},
   "outputs": [
    {
     "data": {
      "text/plain": [
       "Index(['geometry', 'id', 'name', 'coordinates', 'totalDocks', 'docksAvailable',\n",
       "       'bikesAvailable', 'classicBikesAvailable', 'smartBikesAvailable',\n",
       "       'electricBikesAvailable', 'rewardBikesAvailable',\n",
       "       'rewardDocksAvailable', 'kioskStatus', 'kioskPublicStatus',\n",
       "       'kioskConnectionStatus', 'kioskType', 'addressStreet', 'addressCity',\n",
       "       'addressState', 'addressZipCode', 'bikes', 'closeTime', 'eventEnd',\n",
       "       'eventStart', 'isEventBased', 'isVirtual', 'kioskId', 'notes',\n",
       "       'openTime', 'publicText', 'timeZone', 'trikesAvailable', 'latitude',\n",
       "       'longitude'],\n",
       "      dtype='object')"
      ]
     },
     "execution_count": 51,
     "metadata": {},
     "output_type": "execute_result"
    }
   ],
   "source": [
    "gdf.columns"
   ]
  },
  {
   "cell_type": "code",
   "execution_count": 56,
   "metadata": {},
   "outputs": [],
   "source": [
    "# I am only interested in a few of the columns\n",
    "cols = ['geometry', 'id', 'coordinates', 'totalDocks']"
   ]
  },
  {
   "cell_type": "code",
   "execution_count": 76,
   "metadata": {},
   "outputs": [],
   "source": [
    "rich_stations = stations.join(gdf.loc[:, cols].set_index('id'), on='id')"
   ]
  },
  {
   "cell_type": "code",
   "execution_count": 77,
   "metadata": {},
   "outputs": [
    {
     "name": "stdout",
     "output_type": "stream",
     "text": [
      "<class 'pandas.core.frame.DataFrame'>\n",
      "RangeIndex: 154 entries, 0 to 153\n",
      "Data columns (total 7 columns):\n",
      " #   Column       Non-Null Count  Dtype   \n",
      "---  ------       --------------  -----   \n",
      " 0   id           154 non-null    int64   \n",
      " 1   name         154 non-null    object  \n",
      " 2   open_on      154 non-null    object  \n",
      " 3   active       154 non-null    object  \n",
      " 4   geometry     142 non-null    geometry\n",
      " 5   coordinates  142 non-null    object  \n",
      " 6   totalDocks   142 non-null    float64 \n",
      "dtypes: float64(1), geometry(1), int64(1), object(4)\n",
      "memory usage: 8.5+ KB\n"
     ]
    }
   ],
   "source": [
    "rich_stations.info()"
   ]
  },
  {
   "cell_type": "code",
   "execution_count": 78,
   "metadata": {},
   "outputs": [],
   "source": [
    "rich_stations['open_on'] = pd.to_datetime(rich_stations['open_on'])"
   ]
  },
  {
   "cell_type": "code",
   "execution_count": 79,
   "metadata": {
    "scrolled": true
   },
   "outputs": [],
   "source": [
    "rich_stations = rich_stations[rich_stations['open_on'] < pd.to_datetime('2020-01-01')].copy()\n",
    "\n",
    "rich_stations = rich_stations[rich_stations['active'] =='Active'].copy()"
   ]
  },
  {
   "cell_type": "code",
   "execution_count": 82,
   "metadata": {
    "scrolled": true
   },
   "outputs": [
    {
     "name": "stdout",
     "output_type": "stream",
     "text": [
      "<class 'pandas.core.frame.DataFrame'>\n",
      "Int64Index: 139 entries, 0 to 151\n",
      "Data columns (total 7 columns):\n",
      " #   Column       Non-Null Count  Dtype         \n",
      "---  ------       --------------  -----         \n",
      " 0   id           139 non-null    int64         \n",
      " 1   name         139 non-null    object        \n",
      " 2   open_on      139 non-null    datetime64[ns]\n",
      " 3   active       139 non-null    object        \n",
      " 4   geometry     139 non-null    geometry      \n",
      " 5   coordinates  139 non-null    object        \n",
      " 6   totalDocks   139 non-null    float64       \n",
      "dtypes: datetime64[ns](1), float64(1), geometry(1), int64(1), object(3)\n",
      "memory usage: 8.7+ KB\n"
     ]
    }
   ],
   "source": [
    "rich_stations.info()"
   ]
  },
  {
   "cell_type": "code",
   "execution_count": null,
   "metadata": {},
   "outputs": [],
   "source": [
    "pd"
   ]
  },
  {
   "cell_type": "markdown",
   "metadata": {},
   "source": [
    "# Weather Data"
   ]
  },
  {
   "cell_type": "code",
   "execution_count": 20,
   "metadata": {},
   "outputs": [],
   "source": [
    "weather = pd.read_csv(r'data/weather/Philadelphia_Historical_Weather_Hourly.csv')"
   ]
  },
  {
   "cell_type": "code",
   "execution_count": null,
   "metadata": {},
   "outputs": [],
   "source": []
  }
 ],
 "metadata": {
  "kernelspec": {
   "display_name": "Python 3",
   "language": "python",
   "name": "python3"
  },
  "language_info": {
   "codemirror_mode": {
    "name": "ipython",
    "version": 3
   },
   "file_extension": ".py",
   "mimetype": "text/x-python",
   "name": "python",
   "nbconvert_exporter": "python",
   "pygments_lexer": "ipython3",
   "version": "3.8.5"
  }
 },
 "nbformat": 4,
 "nbformat_minor": 4
}
