{
 "cells": [
  {
   "cell_type": "markdown",
   "metadata": {},
   "source": [
    "# Weather Data\n",
    "\n",
    "### About the Data\n",
    "\n",
    "This data was purchased from https://openweathermap.org/\n",
    "\n",
    "Information about how it was gathered can be found at https://openweathermap.org/accuracy-and-quality"
   ]
  },
  {
   "cell_type": "code",
   "execution_count": 6,
   "metadata": {},
   "outputs": [],
   "source": [
    "def print_nulls(df):\n",
    "    \n",
    "    return df.isnull().sum()*100/df.isnull().isnull().count()"
   ]
  },
  {
   "cell_type": "code",
   "execution_count": 1,
   "metadata": {},
   "outputs": [],
   "source": [
    "import pandas as pd\n",
    "import numpy as np\n",
    "import matplotlib.pyplot as plt"
   ]
  },
  {
   "cell_type": "code",
   "execution_count": 2,
   "metadata": {},
   "outputs": [],
   "source": [
    "weather = pd.read_csv(r'data/weather/Philadelphia_Historical_Weather_Hourly.csv')"
   ]
  },
  {
   "cell_type": "code",
   "execution_count": 3,
   "metadata": {},
   "outputs": [
    {
     "name": "stdout",
     "output_type": "stream",
     "text": [
      "<class 'pandas.core.frame.DataFrame'>\n",
      "RangeIndex: 401336 entries, 0 to 401335\n",
      "Data columns (total 25 columns):\n",
      " #   Column               Non-Null Count   Dtype  \n",
      "---  ------               --------------   -----  \n",
      " 0   dt                   401336 non-null  int64  \n",
      " 1   dt_iso               401336 non-null  object \n",
      " 2   timezone             401336 non-null  int64  \n",
      " 3   city_name            401336 non-null  object \n",
      " 4   lat                  401336 non-null  float64\n",
      " 5   lon                  401336 non-null  float64\n",
      " 6   temp                 401336 non-null  float64\n",
      " 7   feels_like           401336 non-null  float64\n",
      " 8   temp_min             401336 non-null  float64\n",
      " 9   temp_max             401336 non-null  float64\n",
      " 10  pressure             401336 non-null  int64  \n",
      " 11  sea_level            0 non-null       float64\n",
      " 12  grnd_level           0 non-null       float64\n",
      " 13  humidity             401336 non-null  int64  \n",
      " 14  wind_speed           401336 non-null  float64\n",
      " 15  wind_deg             401336 non-null  int64  \n",
      " 16  rain_1h              57675 non-null   float64\n",
      " 17  rain_3h              5927 non-null    float64\n",
      " 18  snow_1h              7596 non-null    float64\n",
      " 19  snow_3h              738 non-null     float64\n",
      " 20  clouds_all           401336 non-null  int64  \n",
      " 21  weather_id           401336 non-null  int64  \n",
      " 22  weather_main         401336 non-null  object \n",
      " 23  weather_description  401336 non-null  object \n",
      " 24  weather_icon         401336 non-null  object \n",
      "dtypes: float64(13), int64(7), object(5)\n",
      "memory usage: 76.5+ MB\n"
     ]
    }
   ],
   "source": [
    "weather.info()"
   ]
  },
  {
   "cell_type": "code",
   "execution_count": 20,
   "metadata": {},
   "outputs": [],
   "source": [
    "# quickly add a year variable to sort down to the timeframe I need\n",
    "weather['year'] = weather['dt_iso'].apply(lambda x: x.split('-')[0])\n",
    "relevant = weather[weather['year'].isin(['2015', '2016', '2017', '2018', '2019', '2020'])].copy()"
   ]
  },
  {
   "cell_type": "code",
   "execution_count": 21,
   "metadata": {},
   "outputs": [
    {
     "name": "stdout",
     "output_type": "stream",
     "text": [
      "<class 'pandas.core.frame.DataFrame'>\n",
      "Int64Index: 53199 entries, 348137 to 401335\n",
      "Data columns (total 26 columns):\n",
      " #   Column               Non-Null Count  Dtype  \n",
      "---  ------               --------------  -----  \n",
      " 0   dt                   53199 non-null  int64  \n",
      " 1   dt_iso               53199 non-null  object \n",
      " 2   timezone             53199 non-null  int64  \n",
      " 3   city_name            53199 non-null  object \n",
      " 4   lat                  53199 non-null  float64\n",
      " 5   lon                  53199 non-null  float64\n",
      " 6   temp                 53199 non-null  float64\n",
      " 7   feels_like           53199 non-null  float64\n",
      " 8   temp_min             53199 non-null  float64\n",
      " 9   temp_max             53199 non-null  float64\n",
      " 10  pressure             53199 non-null  int64  \n",
      " 11  sea_level            0 non-null      float64\n",
      " 12  grnd_level           0 non-null      float64\n",
      " 13  humidity             53199 non-null  int64  \n",
      " 14  wind_speed           53199 non-null  float64\n",
      " 15  wind_deg             53199 non-null  int64  \n",
      " 16  rain_1h              7969 non-null   float64\n",
      " 17  rain_3h              1172 non-null   float64\n",
      " 18  snow_1h              1037 non-null   float64\n",
      " 19  snow_3h              143 non-null    float64\n",
      " 20  clouds_all           53199 non-null  int64  \n",
      " 21  weather_id           53199 non-null  int64  \n",
      " 22  weather_main         53199 non-null  object \n",
      " 23  weather_description  53199 non-null  object \n",
      " 24  weather_icon         53199 non-null  object \n",
      " 25  year                 53199 non-null  object \n",
      "dtypes: float64(13), int64(7), object(6)\n",
      "memory usage: 11.0+ MB\n"
     ]
    }
   ],
   "source": [
    "relevant.info()"
   ]
  },
  {
   "cell_type": "code",
   "execution_count": 22,
   "metadata": {},
   "outputs": [],
   "source": [
    "relevant['dt'] = pd.to_datetime(relevant['dt_iso'].apply(lambda x: x[:-10]))"
   ]
  },
  {
   "cell_type": "code",
   "execution_count": 23,
   "metadata": {
    "scrolled": true
   },
   "outputs": [
    {
     "data": {
      "text/plain": [
       "348137   2015-01-01 00:00:00\n",
       "348138   2015-01-01 01:00:00\n",
       "348139   2015-01-01 02:00:00\n",
       "348140   2015-01-01 03:00:00\n",
       "348141   2015-01-01 04:00:00\n",
       "                 ...        \n",
       "401331   2020-10-12 20:00:00\n",
       "401332   2020-10-12 21:00:00\n",
       "401333   2020-10-12 22:00:00\n",
       "401334   2020-10-12 23:00:00\n",
       "401335   2020-10-12 23:00:00\n",
       "Name: dt, Length: 53199, dtype: datetime64[ns]"
      ]
     },
     "execution_count": 23,
     "metadata": {},
     "output_type": "execute_result"
    }
   ],
   "source": [
    "relevant['dt']"
   ]
  },
  {
   "cell_type": "code",
   "execution_count": 26,
   "metadata": {},
   "outputs": [],
   "source": [
    "cols = ['rain_1h', 'snow_1h', 'rain_3h', 'snow_3h']\n",
    "\n",
    "relevant.loc[:, cols] = relevant.loc[:, cols].fillna(0)"
   ]
  },
  {
   "cell_type": "code",
   "execution_count": 27,
   "metadata": {},
   "outputs": [],
   "source": [
    "kept = relevant[['dt', 'temp', 'feels_like', 'pressure', 'humidity', 'wind_speed', 'clouds_all',\n",
    "       'weather_main',]].copy()"
   ]
  },
  {
   "cell_type": "code",
   "execution_count": 28,
   "metadata": {},
   "outputs": [],
   "source": [
    "kept['percip_1h'] = relevant['rain_1h'] + relevant['snow_1h']\n",
    "kept['percip_3h'] = relevant['rain_3h'] + relevant['snow_3h']"
   ]
  },
  {
   "cell_type": "code",
   "execution_count": 29,
   "metadata": {
    "scrolled": true
   },
   "outputs": [
    {
     "data": {
      "text/plain": [
       "dt              0.0\n",
       "temp            0.0\n",
       "feels_like      0.0\n",
       "pressure        0.0\n",
       "humidity        0.0\n",
       "wind_speed      0.0\n",
       "clouds_all      0.0\n",
       "weather_main    0.0\n",
       "percip_1h       0.0\n",
       "percip_3h       0.0\n",
       "dtype: float64"
      ]
     },
     "execution_count": 29,
     "metadata": {},
     "output_type": "execute_result"
    }
   ],
   "source": [
    "print_nulls(kept)"
   ]
  },
  {
   "cell_type": "code",
   "execution_count": 32,
   "metadata": {},
   "outputs": [
    {
     "data": {
      "text/plain": [
       "array(['Clear', 'Clouds', 'Rain', 'Mist', 'Drizzle', 'Fog', 'Snow',\n",
       "       'Haze', 'Thunderstorm', 'Squall'], dtype=object)"
      ]
     },
     "execution_count": 32,
     "metadata": {},
     "output_type": "execute_result"
    }
   ],
   "source": [
    "kept['weather_main'].unique()"
   ]
  },
  {
   "cell_type": "code",
   "execution_count": 30,
   "metadata": {},
   "outputs": [],
   "source": [
    "kept.to_csv(r'data/weather/Philadelphia_Weather_Hourly_2015-2020.csv', index=False)"
   ]
  }
 ],
 "metadata": {
  "kernelspec": {
   "display_name": "Python 3",
   "language": "python",
   "name": "python3"
  },
  "language_info": {
   "codemirror_mode": {
    "name": "ipython",
    "version": 3
   },
   "file_extension": ".py",
   "mimetype": "text/x-python",
   "name": "python",
   "nbconvert_exporter": "python",
   "pygments_lexer": "ipython3",
   "version": "3.8.2"
  }
 },
 "nbformat": 4,
 "nbformat_minor": 4
}
