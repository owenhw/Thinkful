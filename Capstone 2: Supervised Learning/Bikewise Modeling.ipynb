{
 "cells": [
  {
   "cell_type": "code",
   "execution_count": 57,
   "metadata": {},
   "outputs": [],
   "source": [
    "import numpy as np\n",
    "import pandas as pd\n",
    "import matplotlib.pyplot as plt\n",
    "import seaborn as sns\n",
    "import math\n",
    "import scipy.stats\n",
    "from  sklearn.preprocessing import StandardScaler, RobustScaler, Normalizer\n",
    "from sklearn.model_selection import train_test_split, cross_val_score\n",
    "from sklearn.svm import SVC\n",
    "from sklearn.linear_model import LogisticRegression\n",
    "from sklearn import neighbors\n",
    "from sklearn import ensemble\n",
    "from sklearn import tree\n",
    "import statsmodels.api as sm\n",
    "from sklearn.metrics import accuracy_score, precision_score, recall_score, f1_score, confusion_matrix\n",
    "from sklearn.metrics import classification_report, roc_curve, precision_recall_curve, roc_auc_score\n",
    "from xgboost import XGBClassifier"
   ]
  },
  {
   "cell_type": "code",
   "execution_count": 2,
   "metadata": {},
   "outputs": [],
   "source": [
    "df = pd.read_csv(r'data/indego/bikewise.csv')"
   ]
  },
  {
   "cell_type": "code",
   "execution_count": 3,
   "metadata": {
    "scrolled": false
   },
   "outputs": [
    {
     "data": {
      "text/html": [
       "<div>\n",
       "<style scoped>\n",
       "    .dataframe tbody tr th:only-of-type {\n",
       "        vertical-align: middle;\n",
       "    }\n",
       "\n",
       "    .dataframe tbody tr th {\n",
       "        vertical-align: top;\n",
       "    }\n",
       "\n",
       "    .dataframe thead th {\n",
       "        text-align: right;\n",
       "    }\n",
       "</style>\n",
       "<table border=\"1\" class=\"dataframe\">\n",
       "  <thead>\n",
       "    <tr style=\"text-align: right;\">\n",
       "      <th></th>\n",
       "      <th>bike_id</th>\n",
       "      <th>total_time</th>\n",
       "      <th>mean_time</th>\n",
       "      <th>trips</th>\n",
       "      <th>total_distance</th>\n",
       "      <th>mean_distance</th>\n",
       "      <th>most_recent_trip</th>\n",
       "      <th>first_trip</th>\n",
       "      <th>bike_type</th>\n",
       "      <th>round_trip_rate</th>\n",
       "      <th>trips_to_3000</th>\n",
       "      <th>trips_from_3000</th>\n",
       "      <th>age</th>\n",
       "      <th>use_rate</th>\n",
       "      <th>avg_speed</th>\n",
       "      <th>retired</th>\n",
       "    </tr>\n",
       "  </thead>\n",
       "  <tbody>\n",
       "    <tr>\n",
       "      <th>0</th>\n",
       "      <td>2472.0</td>\n",
       "      <td>51496</td>\n",
       "      <td>19.905682</td>\n",
       "      <td>2587</td>\n",
       "      <td>2906.614566</td>\n",
       "      <td>1.123546</td>\n",
       "      <td>2019-08-22 16:41:00</td>\n",
       "      <td>2015-06-29 08:27:00</td>\n",
       "      <td>standard</td>\n",
       "      <td>0.072284</td>\n",
       "      <td>21.0</td>\n",
       "      <td>0.0</td>\n",
       "      <td>2182094</td>\n",
       "      <td>2.359935</td>\n",
       "      <td>3.386610</td>\n",
       "      <td>1.0</td>\n",
       "    </tr>\n",
       "    <tr>\n",
       "      <th>1</th>\n",
       "      <td>2473.0</td>\n",
       "      <td>54273</td>\n",
       "      <td>20.628278</td>\n",
       "      <td>2631</td>\n",
       "      <td>3069.109171</td>\n",
       "      <td>1.166518</td>\n",
       "      <td>2019-08-29 15:53:00</td>\n",
       "      <td>2015-04-27 15:20:00</td>\n",
       "      <td>standard</td>\n",
       "      <td>0.091600</td>\n",
       "      <td>25.0</td>\n",
       "      <td>1.0</td>\n",
       "      <td>2282433</td>\n",
       "      <td>2.377857</td>\n",
       "      <td>3.392968</td>\n",
       "      <td>1.0</td>\n",
       "    </tr>\n",
       "    <tr>\n",
       "      <th>2</th>\n",
       "      <td>2474.0</td>\n",
       "      <td>35313</td>\n",
       "      <td>18.174472</td>\n",
       "      <td>1943</td>\n",
       "      <td>2314.839799</td>\n",
       "      <td>1.191374</td>\n",
       "      <td>2019-05-08 07:40:00</td>\n",
       "      <td>2015-09-16 12:29:00</td>\n",
       "      <td>standard</td>\n",
       "      <td>0.081832</td>\n",
       "      <td>16.0</td>\n",
       "      <td>0.0</td>\n",
       "      <td>1914911</td>\n",
       "      <td>1.844107</td>\n",
       "      <td>3.933123</td>\n",
       "      <td>1.0</td>\n",
       "    </tr>\n",
       "    <tr>\n",
       "      <th>3</th>\n",
       "      <td>2475.0</td>\n",
       "      <td>46506</td>\n",
       "      <td>21.313474</td>\n",
       "      <td>2182</td>\n",
       "      <td>2674.234933</td>\n",
       "      <td>1.225589</td>\n",
       "      <td>2019-05-02 19:51:00</td>\n",
       "      <td>2015-08-04 10:21:00</td>\n",
       "      <td>standard</td>\n",
       "      <td>0.095784</td>\n",
       "      <td>11.0</td>\n",
       "      <td>1.0</td>\n",
       "      <td>1969050</td>\n",
       "      <td>2.361850</td>\n",
       "      <td>3.450181</td>\n",
       "      <td>1.0</td>\n",
       "    </tr>\n",
       "    <tr>\n",
       "      <th>4</th>\n",
       "      <td>2476.0</td>\n",
       "      <td>58911</td>\n",
       "      <td>21.175773</td>\n",
       "      <td>2782</td>\n",
       "      <td>3598.179104</td>\n",
       "      <td>1.293379</td>\n",
       "      <td>2020-06-21 11:36:00</td>\n",
       "      <td>2015-05-09 17:56:00</td>\n",
       "      <td>standard</td>\n",
       "      <td>0.088785</td>\n",
       "      <td>31.0</td>\n",
       "      <td>0.0</td>\n",
       "      <td>2692420</td>\n",
       "      <td>2.188032</td>\n",
       "      <td>3.664693</td>\n",
       "      <td>0.0</td>\n",
       "    </tr>\n",
       "  </tbody>\n",
       "</table>\n",
       "</div>"
      ],
      "text/plain": [
       "   bike_id  total_time  mean_time  trips  total_distance  mean_distance  \\\n",
       "0   2472.0       51496  19.905682   2587     2906.614566       1.123546   \n",
       "1   2473.0       54273  20.628278   2631     3069.109171       1.166518   \n",
       "2   2474.0       35313  18.174472   1943     2314.839799       1.191374   \n",
       "3   2475.0       46506  21.313474   2182     2674.234933       1.225589   \n",
       "4   2476.0       58911  21.175773   2782     3598.179104       1.293379   \n",
       "\n",
       "      most_recent_trip           first_trip bike_type  round_trip_rate  \\\n",
       "0  2019-08-22 16:41:00  2015-06-29 08:27:00  standard         0.072284   \n",
       "1  2019-08-29 15:53:00  2015-04-27 15:20:00  standard         0.091600   \n",
       "2  2019-05-08 07:40:00  2015-09-16 12:29:00  standard         0.081832   \n",
       "3  2019-05-02 19:51:00  2015-08-04 10:21:00  standard         0.095784   \n",
       "4  2020-06-21 11:36:00  2015-05-09 17:56:00  standard         0.088785   \n",
       "\n",
       "   trips_to_3000  trips_from_3000      age  use_rate  avg_speed  retired  \n",
       "0           21.0              0.0  2182094  2.359935   3.386610      1.0  \n",
       "1           25.0              1.0  2282433  2.377857   3.392968      1.0  \n",
       "2           16.0              0.0  1914911  1.844107   3.933123      1.0  \n",
       "3           11.0              1.0  1969050  2.361850   3.450181      1.0  \n",
       "4           31.0              0.0  2692420  2.188032   3.664693      0.0  "
      ]
     },
     "execution_count": 3,
     "metadata": {},
     "output_type": "execute_result"
    }
   ],
   "source": [
    "df.head()"
   ]
  },
  {
   "cell_type": "code",
   "execution_count": 4,
   "metadata": {},
   "outputs": [
    {
     "data": {
      "text/plain": [
       "1967"
      ]
     },
     "execution_count": 4,
     "metadata": {},
     "output_type": "execute_result"
    }
   ],
   "source": [
    "len(df)"
   ]
  },
  {
   "cell_type": "code",
   "execution_count": 5,
   "metadata": {},
   "outputs": [
    {
     "data": {
      "text/plain": [
       "451"
      ]
     },
     "execution_count": 5,
     "metadata": {},
     "output_type": "execute_result"
    }
   ],
   "source": [
    "len(df[df['retired'] == 1])"
   ]
  },
  {
   "cell_type": "code",
   "execution_count": 6,
   "metadata": {
    "scrolled": false
   },
   "outputs": [
    {
     "data": {
      "text/html": [
       "<div>\n",
       "<style scoped>\n",
       "    .dataframe tbody tr th:only-of-type {\n",
       "        vertical-align: middle;\n",
       "    }\n",
       "\n",
       "    .dataframe tbody tr th {\n",
       "        vertical-align: top;\n",
       "    }\n",
       "\n",
       "    .dataframe thead th {\n",
       "        text-align: right;\n",
       "    }\n",
       "</style>\n",
       "<table border=\"1\" class=\"dataframe\">\n",
       "  <thead>\n",
       "    <tr style=\"text-align: right;\">\n",
       "      <th></th>\n",
       "      <th>bike_id</th>\n",
       "      <th>total_time</th>\n",
       "      <th>mean_time</th>\n",
       "      <th>trips</th>\n",
       "      <th>total_distance</th>\n",
       "      <th>mean_distance</th>\n",
       "      <th>most_recent_trip</th>\n",
       "      <th>first_trip</th>\n",
       "      <th>bike_type</th>\n",
       "      <th>round_trip_rate</th>\n",
       "      <th>trips_to_3000</th>\n",
       "      <th>trips_from_3000</th>\n",
       "      <th>age</th>\n",
       "      <th>use_rate</th>\n",
       "      <th>avg_speed</th>\n",
       "      <th>retired</th>\n",
       "    </tr>\n",
       "  </thead>\n",
       "  <tbody>\n",
       "    <tr>\n",
       "      <th>1962</th>\n",
       "      <td>19971.0</td>\n",
       "      <td>5025</td>\n",
       "      <td>32.419355</td>\n",
       "      <td>155</td>\n",
       "      <td>292.537050</td>\n",
       "      <td>1.887336</td>\n",
       "      <td>2020-06-25 21:04:00</td>\n",
       "      <td>2020-05-09 14:21:00</td>\n",
       "      <td>electric</td>\n",
       "      <td>0.232258</td>\n",
       "      <td>0.0</td>\n",
       "      <td>0.0</td>\n",
       "      <td>68083</td>\n",
       "      <td>7.380697</td>\n",
       "      <td>3.492980</td>\n",
       "      <td>0.0</td>\n",
       "    </tr>\n",
       "    <tr>\n",
       "      <th>1963</th>\n",
       "      <td>19977.0</td>\n",
       "      <td>5239</td>\n",
       "      <td>44.398305</td>\n",
       "      <td>118</td>\n",
       "      <td>191.077182</td>\n",
       "      <td>1.619298</td>\n",
       "      <td>2020-06-30 21:23:00</td>\n",
       "      <td>2020-06-05 10:57:00</td>\n",
       "      <td>electric</td>\n",
       "      <td>0.161017</td>\n",
       "      <td>0.0</td>\n",
       "      <td>0.0</td>\n",
       "      <td>36626</td>\n",
       "      <td>14.304046</td>\n",
       "      <td>2.188324</td>\n",
       "      <td>0.0</td>\n",
       "    </tr>\n",
       "    <tr>\n",
       "      <th>1964</th>\n",
       "      <td>20265.0</td>\n",
       "      <td>5164</td>\n",
       "      <td>30.922156</td>\n",
       "      <td>167</td>\n",
       "      <td>186.754554</td>\n",
       "      <td>1.118291</td>\n",
       "      <td>2019-10-05 16:46:46</td>\n",
       "      <td>2019-08-24 19:41:00</td>\n",
       "      <td>electric</td>\n",
       "      <td>0.107784</td>\n",
       "      <td>3.0</td>\n",
       "      <td>0.0</td>\n",
       "      <td>60305</td>\n",
       "      <td>8.563137</td>\n",
       "      <td>2.169883</td>\n",
       "      <td>1.0</td>\n",
       "    </tr>\n",
       "    <tr>\n",
       "      <th>1965</th>\n",
       "      <td>26012.0</td>\n",
       "      <td>332</td>\n",
       "      <td>27.666667</td>\n",
       "      <td>12</td>\n",
       "      <td>23.367884</td>\n",
       "      <td>1.947324</td>\n",
       "      <td>2015-04-30 15:33:00</td>\n",
       "      <td>2015-04-25 13:36:00</td>\n",
       "      <td>standard</td>\n",
       "      <td>0.166667</td>\n",
       "      <td>0.0</td>\n",
       "      <td>0.0</td>\n",
       "      <td>7317</td>\n",
       "      <td>4.537379</td>\n",
       "      <td>4.223112</td>\n",
       "      <td>1.0</td>\n",
       "    </tr>\n",
       "    <tr>\n",
       "      <th>1966</th>\n",
       "      <td>55195.0</td>\n",
       "      <td>4353</td>\n",
       "      <td>25.161850</td>\n",
       "      <td>173</td>\n",
       "      <td>272.236787</td>\n",
       "      <td>1.573623</td>\n",
       "      <td>2016-10-22 15:35:00</td>\n",
       "      <td>2016-09-09 15:08:00</td>\n",
       "      <td>standard</td>\n",
       "      <td>0.057803</td>\n",
       "      <td>2.0</td>\n",
       "      <td>0.0</td>\n",
       "      <td>61947</td>\n",
       "      <td>7.026975</td>\n",
       "      <td>3.752402</td>\n",
       "      <td>1.0</td>\n",
       "    </tr>\n",
       "  </tbody>\n",
       "</table>\n",
       "</div>"
      ],
      "text/plain": [
       "      bike_id  total_time  mean_time  trips  total_distance  mean_distance  \\\n",
       "1962  19971.0        5025  32.419355    155      292.537050       1.887336   \n",
       "1963  19977.0        5239  44.398305    118      191.077182       1.619298   \n",
       "1964  20265.0        5164  30.922156    167      186.754554       1.118291   \n",
       "1965  26012.0         332  27.666667     12       23.367884       1.947324   \n",
       "1966  55195.0        4353  25.161850    173      272.236787       1.573623   \n",
       "\n",
       "         most_recent_trip           first_trip bike_type  round_trip_rate  \\\n",
       "1962  2020-06-25 21:04:00  2020-05-09 14:21:00  electric         0.232258   \n",
       "1963  2020-06-30 21:23:00  2020-06-05 10:57:00  electric         0.161017   \n",
       "1964  2019-10-05 16:46:46  2019-08-24 19:41:00  electric         0.107784   \n",
       "1965  2015-04-30 15:33:00  2015-04-25 13:36:00  standard         0.166667   \n",
       "1966  2016-10-22 15:35:00  2016-09-09 15:08:00  standard         0.057803   \n",
       "\n",
       "      trips_to_3000  trips_from_3000    age   use_rate  avg_speed  retired  \n",
       "1962            0.0              0.0  68083   7.380697   3.492980      0.0  \n",
       "1963            0.0              0.0  36626  14.304046   2.188324      0.0  \n",
       "1964            3.0              0.0  60305   8.563137   2.169883      1.0  \n",
       "1965            0.0              0.0   7317   4.537379   4.223112      1.0  \n",
       "1966            2.0              0.0  61947   7.026975   3.752402      1.0  "
      ]
     },
     "execution_count": 6,
     "metadata": {},
     "output_type": "execute_result"
    }
   ],
   "source": [
    "df.tail()"
   ]
  },
  {
   "cell_type": "markdown",
   "metadata": {},
   "source": [
    "## Model Selection"
   ]
  },
  {
   "cell_type": "code",
   "execution_count": 7,
   "metadata": {},
   "outputs": [],
   "source": [
    "# Define a feature to report performance indicators\n",
    "\n",
    "def score(algo):\n",
    "    # Fit the model and make predictions\n",
    "    algo.fit(X_train, y_train)\n",
    "    preds = algo.predict(X_test)\n",
    "    probs = algo.predict_proba(X_test)[:, 1]\n",
    "    \n",
    "    # Create a Confusion Matrix\n",
    "    matrix = confusion_matrix(y_test, preds)\n",
    "    cm = pd.DataFrame(\n",
    "    confusion_matrix(y_test, preds),\n",
    "    columns=['Predicted Not Retired', 'Predicted Retired'],\n",
    "    index=['True Not Retired', 'True Retired'])\n",
    "    print('-----Confusion Matrix-----')\n",
    "    print(cm, '\\n')\n",
    "    \n",
    "    # Print the metrics\n",
    "    print('Accuracy Score: {}'.format(accuracy_score(y_test, preds)))\n",
    "    print('Recall Score: {}'.format(recall_score(y_test, preds)))\n",
    "    print('Precision Score: {}'.format(precision_score(y_test, preds)))\n",
    "    print('F-1 Score: {}'.format(f1_score(y_test, preds)))\n",
    "    print('Area under the ROC curve: {}'.format(roc_auc_score(y_test, probs)))\n",
    "    \n",
    "    #Print the ROC curve\n",
    "    \n",
    "    fpr, tpr, thresholds = roc_curve(y_test, probs)\n",
    "    \n",
    "    fig = plt.figure(figsize = (6, 6))\n",
    "    plt.plot([0, 1], [0, 1], 'k--')\n",
    "    plt.plot(fpr, tpr)\n",
    "    plt.xlabel('False Positive Rate')\n",
    "    plt.ylabel('True Positive Rate')\n",
    "    plt.title('ROC Curve')\n",
    "    plt.show()"
   ]
  },
  {
   "cell_type": "code",
   "execution_count": 8,
   "metadata": {},
   "outputs": [],
   "source": [
    "from sklearn.dummy import DummyClassifier"
   ]
  },
  {
   "cell_type": "code",
   "execution_count": 9,
   "metadata": {},
   "outputs": [],
   "source": [
    "index = df[df['bike_type'] == 'electric'].index\n",
    "df.loc[index, 'electric'] =1\n",
    "df.loc[:, 'electric'] =df.loc[: 'electric'].fillna(0)\n",
    "df.drop('bike_type', axis=1, inplace=True)"
   ]
  },
  {
   "cell_type": "code",
   "execution_count": 10,
   "metadata": {},
   "outputs": [],
   "source": [
    "X = df.drop(['bike_id', 'most_recent_trip', 'first_trip', 'trips_from_3000', 'retired'], axis=1)\n",
    "y = df['retired']"
   ]
  },
  {
   "cell_type": "code",
   "execution_count": 11,
   "metadata": {},
   "outputs": [],
   "source": [
    "X_train, X_test, y_train, y_test = train_test_split(X, y, test_size=.25, random_state=1312)"
   ]
  },
  {
   "cell_type": "markdown",
   "metadata": {},
   "source": [
    "### Dummy Classifier Baseline"
   ]
  },
  {
   "cell_type": "code",
   "execution_count": 12,
   "metadata": {},
   "outputs": [
    {
     "name": "stdout",
     "output_type": "stream",
     "text": [
      "-----Confusion Matrix-----\n",
      "                  Predicted Not Retired  Predicted Retired\n",
      "True Not Retired                    386                  0\n",
      "True Retired                        106                  0 \n",
      "\n",
      "Accuracy Score: 0.7845528455284553\n",
      "Recall Score: 0.0\n",
      "Precision Score: 0.0\n",
      "F-1 Score: 0.0\n",
      "Area under the ROC curve: 0.5\n"
     ]
    },
    {
     "name": "stderr",
     "output_type": "stream",
     "text": [
      "/home/owen/bin/anaconda3/lib/python3.7/site-packages/sklearn/metrics/_classification.py:1272: UndefinedMetricWarning: Precision is ill-defined and being set to 0.0 due to no predicted samples. Use `zero_division` parameter to control this behavior.\n",
      "  _warn_prf(average, modifier, msg_start, len(result))\n"
     ]
    },
    {
     "data": {
      "image/png": "[encoded data removed]",
      "text/plain": [
       "<Figure size 432x432 with 1 Axes>"
      ]
     },
     "metadata": {
      "needs_background": "light"
     },
     "output_type": "display_data"
    }
   ],
   "source": [
    "dummy = DummyClassifier(strategy = 'most_frequent')\n",
    "score(dummy)"
   ]
  },
  {
   "cell_type": "code",
   "execution_count": 13,
   "metadata": {},
   "outputs": [],
   "source": [
    "# Create a dataframe to keep track of feature importances\n",
    "importances = pd.DataFrame(index=[X.columns])"
   ]
  },
  {
   "cell_type": "markdown",
   "metadata": {},
   "source": [
    "### Decision Tree"
   ]
  },
  {
   "cell_type": "code",
   "execution_count": 14,
   "metadata": {
    "scrolled": true
   },
   "outputs": [
    {
     "data": {
      "text/plain": [
       "Text(0.5, 1.0, 'Max Features')"
      ]
     },
     "execution_count": 14,
     "metadata": {},
     "output_type": "execute_result"
    },
    {
     "data": {
      "image/png": "[encoded data removed]",
      "text/plain": [
       "<Figure size 1080x720 with 2 Axes>"
      ]
     },
     "metadata": {
      "needs_background": "light"
     },
     "output_type": "display_data"
    }
   ],
   "source": [
    "depth_scores = []\n",
    "for depth in range(1,12):\n",
    "    # Initialize and train our tree.\n",
    "    decision_tree = tree.DecisionTreeClassifier(\n",
    "        criterion='entropy',\n",
    "        max_features=1,\n",
    "        max_depth=depth,\n",
    "        random_state = 4123 # keep the random state the same to best see how my changes impact the model\n",
    "    )\n",
    "    decision_tree.fit(X_train, y_train)\n",
    "    depth_scores.append(decision_tree.score(X_test, y_test))\n",
    "    \n",
    "    \n",
    "features_scores = [] \n",
    "for feature in range(1,10):\n",
    "    # Initialize and train our tree.\n",
    "    decision_tree = tree.DecisionTreeClassifier(\n",
    "        criterion='entropy',\n",
    "        max_features=feature,\n",
    "        max_depth=9,\n",
    "        random_state = 4123 # keep the random state the same to best see how my changes impact the model\n",
    "    )\n",
    "    decision_tree.fit(X_train, y_train)\n",
    "    features_scores.append(decision_tree.score(X_test, y_test))\n",
    "    \n",
    "plt.figure(figsize=(15,10))    \n",
    "plt.subplot(2,2,1)\n",
    "plt.plot(depth_scores)\n",
    "plt.title('Depth')\n",
    "plt.xlabel('Accuracy')\n",
    "\n",
    "plt.subplot(2,2,2)\n",
    "plt.plot(features_scores)\n",
    "plt.title('Max Features')\n",
    "#print('Train score results: ', decision_tree.score(X_train, y_train), '\\n', '=' * 22)\n",
    "#print ('Test score results: ', decision_tree.score(X_test, y_test))"
   ]
  },
  {
   "cell_type": "code",
   "execution_count": 15,
   "metadata": {},
   "outputs": [],
   "source": [
    " decision_tree = tree.DecisionTreeClassifier(\n",
    "        criterion='entropy',\n",
    "        max_features=4,\n",
    "        max_depth=10,\n",
    "        random_state = 4123 # keep the random state the same to best see how my changes impact the model\n",
    "    )"
   ]
  },
  {
   "cell_type": "code",
   "execution_count": 16,
   "metadata": {},
   "outputs": [
    {
     "name": "stdout",
     "output_type": "stream",
     "text": [
      "-----Confusion Matrix-----\n",
      "                  Predicted Not Retired  Predicted Retired\n",
      "True Not Retired                    365                 21\n",
      "True Retired                         33                 73 \n",
      "\n",
      "Accuracy Score: 0.8902439024390244\n",
      "Recall Score: 0.6886792452830188\n",
      "Precision Score: 0.776595744680851\n",
      "F-1 Score: 0.73\n",
      "Area under the ROC curve: 0.8583194838205105\n"
     ]
    },
    {
     "data": {
      "image/png": "[encoded data removed]",
      "text/plain": [
       "<Figure size 432x432 with 1 Axes>"
      ]
     },
     "metadata": {
      "needs_background": "light"
     },
     "output_type": "display_data"
    }
   ],
   "source": [
    "score(decision_tree)"
   ]
  },
  {
   "cell_type": "code",
   "execution_count": 17,
   "metadata": {
    "scrolled": false
   },
   "outputs": [
    {
     "data": {
      "text/html": [
       "<div>\n",
       "<style scoped>\n",
       "    .dataframe tbody tr th:only-of-type {\n",
       "        vertical-align: middle;\n",
       "    }\n",
       "\n",
       "    .dataframe tbody tr th {\n",
       "        vertical-align: top;\n",
       "    }\n",
       "\n",
       "    .dataframe thead th {\n",
       "        text-align: right;\n",
       "    }\n",
       "</style>\n",
       "<table border=\"1\" class=\"dataframe\">\n",
       "  <thead>\n",
       "    <tr style=\"text-align: right;\">\n",
       "      <th></th>\n",
       "      <th>decision_tree</th>\n",
       "    </tr>\n",
       "  </thead>\n",
       "  <tbody>\n",
       "    <tr>\n",
       "      <th>total_time</th>\n",
       "      <td>0.023559</td>\n",
       "    </tr>\n",
       "    <tr>\n",
       "      <th>mean_time</th>\n",
       "      <td>0.024213</td>\n",
       "    </tr>\n",
       "    <tr>\n",
       "      <th>trips</th>\n",
       "      <td>0.086772</td>\n",
       "    </tr>\n",
       "    <tr>\n",
       "      <th>total_distance</th>\n",
       "      <td>0.023237</td>\n",
       "    </tr>\n",
       "    <tr>\n",
       "      <th>mean_distance</th>\n",
       "      <td>0.100817</td>\n",
       "    </tr>\n",
       "    <tr>\n",
       "      <th>round_trip_rate</th>\n",
       "      <td>0.070273</td>\n",
       "    </tr>\n",
       "    <tr>\n",
       "      <th>trips_to_3000</th>\n",
       "      <td>0.032682</td>\n",
       "    </tr>\n",
       "    <tr>\n",
       "      <th>age</th>\n",
       "      <td>0.127000</td>\n",
       "    </tr>\n",
       "    <tr>\n",
       "      <th>use_rate</th>\n",
       "      <td>0.079994</td>\n",
       "    </tr>\n",
       "    <tr>\n",
       "      <th>avg_speed</th>\n",
       "      <td>0.086195</td>\n",
       "    </tr>\n",
       "    <tr>\n",
       "      <th>electric</th>\n",
       "      <td>0.025378</td>\n",
       "    </tr>\n",
       "  </tbody>\n",
       "</table>\n",
       "</div>"
      ],
      "text/plain": [
       "                 decision_tree\n",
       "total_time            0.023559\n",
       "mean_time             0.024213\n",
       "trips                 0.086772\n",
       "total_distance        0.023237\n",
       "mean_distance         0.100817\n",
       "round_trip_rate       0.070273\n",
       "trips_to_3000         0.032682\n",
       "age                   0.127000\n",
       "use_rate              0.079994\n",
       "avg_speed             0.086195\n",
       "electric              0.025378"
      ]
     },
     "execution_count": 17,
     "metadata": {},
     "output_type": "execute_result"
    }
   ],
   "source": [
    "# Get the feature importance\n",
    "out =decision_tree.tree_.compute_feature_importances(normalize=False)\n",
    "\n",
    "decision_tree_importances = pd.DataFrame(data=out\n",
    "                                         , index=[X.columns], columns=['decision_tree'])\n",
    "\n",
    "importances = importances.join(decision_tree_importances)\n",
    "\n",
    "decision_tree_importances"
   ]
  },
  {
   "cell_type": "markdown",
   "metadata": {},
   "source": [
    "### Random Forest"
   ]
  },
  {
   "cell_type": "code",
   "execution_count": 18,
   "metadata": {},
   "outputs": [],
   "source": [
    "rfc = ensemble.RandomForestClassifier(\n",
    "    n_estimators=1000\n",
    "    , max_features=4\n",
    "    ,max_depth=10)"
   ]
  },
  {
   "cell_type": "code",
   "execution_count": 19,
   "metadata": {
    "scrolled": true
   },
   "outputs": [
    {
     "name": "stdout",
     "output_type": "stream",
     "text": [
      "-----Confusion Matrix-----\n",
      "                  Predicted Not Retired  Predicted Retired\n",
      "True Not Retired                    376                 10\n",
      "True Retired                         22                 84 \n",
      "\n",
      "Accuracy Score: 0.9349593495934959\n",
      "Recall Score: 0.7924528301886793\n",
      "Precision Score: 0.8936170212765957\n",
      "F-1 Score: 0.8400000000000001\n",
      "Area under the ROC curve: 0.9815720011731353\n"
     ]
    },
    {
     "data": {
      "image/png": "[encoded data removed]",
      "text/plain": [
       "<Figure size 432x432 with 1 Axes>"
      ]
     },
     "metadata": {
      "needs_background": "light"
     },
     "output_type": "display_data"
    }
   ],
   "source": [
    "score(rfc)"
   ]
  },
  {
   "cell_type": "code",
   "execution_count": 20,
   "metadata": {},
   "outputs": [
    {
     "data": {
      "text/html": [
       "<div>\n",
       "<style scoped>\n",
       "    .dataframe tbody tr th:only-of-type {\n",
       "        vertical-align: middle;\n",
       "    }\n",
       "\n",
       "    .dataframe tbody tr th {\n",
       "        vertical-align: top;\n",
       "    }\n",
       "\n",
       "    .dataframe thead th {\n",
       "        text-align: right;\n",
       "    }\n",
       "</style>\n",
       "<table border=\"1\" class=\"dataframe\">\n",
       "  <thead>\n",
       "    <tr style=\"text-align: right;\">\n",
       "      <th></th>\n",
       "      <th>random_forest</th>\n",
       "    </tr>\n",
       "  </thead>\n",
       "  <tbody>\n",
       "    <tr>\n",
       "      <th>total_time</th>\n",
       "      <td>0.052194</td>\n",
       "    </tr>\n",
       "    <tr>\n",
       "      <th>mean_time</th>\n",
       "      <td>0.057851</td>\n",
       "    </tr>\n",
       "    <tr>\n",
       "      <th>trips</th>\n",
       "      <td>0.072606</td>\n",
       "    </tr>\n",
       "    <tr>\n",
       "      <th>total_distance</th>\n",
       "      <td>0.082378</td>\n",
       "    </tr>\n",
       "    <tr>\n",
       "      <th>mean_distance</th>\n",
       "      <td>0.107793</td>\n",
       "    </tr>\n",
       "    <tr>\n",
       "      <th>round_trip_rate</th>\n",
       "      <td>0.104646</td>\n",
       "    </tr>\n",
       "    <tr>\n",
       "      <th>trips_to_3000</th>\n",
       "      <td>0.082589</td>\n",
       "    </tr>\n",
       "    <tr>\n",
       "      <th>age</th>\n",
       "      <td>0.198330</td>\n",
       "    </tr>\n",
       "    <tr>\n",
       "      <th>use_rate</th>\n",
       "      <td>0.108362</td>\n",
       "    </tr>\n",
       "    <tr>\n",
       "      <th>avg_speed</th>\n",
       "      <td>0.094699</td>\n",
       "    </tr>\n",
       "    <tr>\n",
       "      <th>electric</th>\n",
       "      <td>0.038553</td>\n",
       "    </tr>\n",
       "  </tbody>\n",
       "</table>\n",
       "</div>"
      ],
      "text/plain": [
       "                 random_forest\n",
       "total_time            0.052194\n",
       "mean_time             0.057851\n",
       "trips                 0.072606\n",
       "total_distance        0.082378\n",
       "mean_distance         0.107793\n",
       "round_trip_rate       0.104646\n",
       "trips_to_3000         0.082589\n",
       "age                   0.198330\n",
       "use_rate              0.108362\n",
       "avg_speed             0.094699\n",
       "electric              0.038553"
      ]
     },
     "execution_count": 20,
     "metadata": {},
     "output_type": "execute_result"
    }
   ],
   "source": [
    "\n",
    "\n",
    "out = rfc.feature_importances_\n",
    "random_forest_importances = pd.DataFrame(data=out\n",
    "                                         , index=[X.columns], columns=['random_forest'])\n",
    "importances = importances.join(random_forest_importances)\n",
    "\n",
    "random_forest_importances"
   ]
  },
  {
   "cell_type": "markdown",
   "metadata": {},
   "source": [
    "### KNN"
   ]
  },
  {
   "cell_type": "code",
   "execution_count": 21,
   "metadata": {
    "scrolled": true
   },
   "outputs": [],
   "source": [
    "train_scores=[]\n",
    "test_scores=[]\n",
    "for val in np.arange(1,30):\n",
    "    knn = neighbors.KNeighborsClassifier(n_neighbors=val)\n",
    "    knn.fit(X_train, y_train)\n",
    "    \n",
    "    train_score = knn.score(X_train, y_train)\n",
    "    train_scores.append(train_score)\n",
    "    \n",
    "    test_score= knn.score(X_test, y_test)\n",
    "    test_scores.append(test_score)\n"
   ]
  },
  {
   "cell_type": "code",
   "execution_count": 22,
   "metadata": {},
   "outputs": [],
   "source": [
    "weighted_train_scores=[]\n",
    "weighted_test_scores=[]\n",
    "for val in np.arange(1,30):\n",
    "    knn = neighbors.KNeighborsClassifier(n_neighbors=val, weights='distance')\n",
    "    knn.fit(X_train, y_train)\n",
    "    \n",
    "    train_score = knn.score(X_train, y_train)\n",
    "    weighted_train_scores.append(train_score)\n",
    "    \n",
    "    test_score= knn.score(X_test, y_test)\n",
    "    weighted_test_scores.append(test_score)\n"
   ]
  },
  {
   "cell_type": "code",
   "execution_count": 23,
   "metadata": {},
   "outputs": [
    {
     "data": {
      "text/plain": [
       "Text(0.5, 1.0, 'With Weighting')"
      ]
     },
     "execution_count": 23,
     "metadata": {},
     "output_type": "execute_result"
    },
    {
     "data": {
      "image/png": "[encoded data removed]",
      "text/plain": [
       "<Figure size 1152x576 with 2 Axes>"
      ]
     },
     "metadata": {
      "needs_background": "light"
     },
     "output_type": "display_data"
    }
   ],
   "source": [
    "plt.figure(figsize=(16,8))\n",
    "plt.subplot(1,2,1)\n",
    "plt.plot(train_scores, color='blue', label='Training Set')\n",
    "plt.plot(test_scores, color='green', label='Test Set')\n",
    "plt.xticks(np.arange(1,30))\n",
    "plt.legend()\n",
    "plt.title('Without Weighting')\n",
    "\n",
    "\n",
    "plt.subplot(1,2,2)\n",
    "plt.plot(weighted_train_scores, color='blue', label='Training Set')\n",
    "plt.plot(weighted_test_scores, color='green', label='Test Set')\n",
    "plt.xticks(np.arange(1,30))\n",
    "plt.legend()\n",
    "plt.title('With Weighting')\n"
   ]
  },
  {
   "cell_type": "code",
   "execution_count": 24,
   "metadata": {
    "scrolled": false
   },
   "outputs": [
    {
     "name": "stdout",
     "output_type": "stream",
     "text": [
      "-----Confusion Matrix-----\n",
      "                  Predicted Not Retired  Predicted Retired\n",
      "True Not Retired                    373                 13\n",
      "True Retired                         46                 60 \n",
      "\n",
      "Accuracy Score: 0.8800813008130082\n",
      "Recall Score: 0.5660377358490566\n",
      "Precision Score: 0.821917808219178\n",
      "F-1 Score: 0.6703910614525139\n",
      "Area under the ROC curve: 0.9147643953465636\n"
     ]
    },
    {
     "data": {
      "image/png": "[encoded data removed]",
      "text/plain": [
       "<Figure size 432x432 with 1 Axes>"
      ]
     },
     "metadata": {
      "needs_background": "light"
     },
     "output_type": "display_data"
    }
   ],
   "source": [
    "knn = neighbors.KNeighborsClassifier(n_neighbors=15)\n",
    "score(knn)"
   ]
  },
  {
   "cell_type": "markdown",
   "metadata": {},
   "source": [
    "### Logistic Regression"
   ]
  },
  {
   "cell_type": "code",
   "execution_count": 25,
   "metadata": {},
   "outputs": [],
   "source": [
    "lrc = LogisticRegression(solver='lbfgs') "
   ]
  },
  {
   "cell_type": "code",
   "execution_count": 26,
   "metadata": {
    "scrolled": false
   },
   "outputs": [
    {
     "name": "stdout",
     "output_type": "stream",
     "text": [
      "-----Confusion Matrix-----\n",
      "                  Predicted Not Retired  Predicted Retired\n",
      "True Not Retired                    378                  8\n",
      "True Retired                         87                 19 \n",
      "\n",
      "Accuracy Score: 0.806910569105691\n",
      "Recall Score: 0.1792452830188679\n",
      "Precision Score: 0.7037037037037037\n",
      "F-1 Score: 0.2857142857142857\n",
      "Area under the ROC curve: 0.7296656564669078\n"
     ]
    },
    {
     "data": {
      "image/png": "[encoded data removed]",
      "text/plain": [
       "<Figure size 432x432 with 1 Axes>"
      ]
     },
     "metadata": {
      "needs_background": "light"
     },
     "output_type": "display_data"
    }
   ],
   "source": [
    "score(lrc)"
   ]
  },
  {
   "cell_type": "markdown",
   "metadata": {},
   "source": [
    "### SVC"
   ]
  },
  {
   "cell_type": "code",
   "execution_count": 27,
   "metadata": {},
   "outputs": [],
   "source": [
    "scaler = RobustScaler()\n",
    "\n",
    "X_scaled = scaler.fit_transform(X)\n",
    "\n",
    "X_train, X_test, y_train, y_test = train_test_split(X_scaled, y, test_size=.25, random_state=1312)\n",
    "\n"
   ]
  },
  {
   "cell_type": "code",
   "execution_count": 28,
   "metadata": {
    "scrolled": false
   },
   "outputs": [
    {
     "name": "stdout",
     "output_type": "stream",
     "text": [
      "-----Confusion Matrix-----\n",
      "                  Predicted Not Retired  Predicted Retired\n",
      "True Not Retired                    383                  3\n",
      "True Retired                         67                 39 \n",
      "\n",
      "Accuracy Score: 0.8577235772357723\n",
      "Recall Score: 0.36792452830188677\n",
      "Precision Score: 0.9285714285714286\n",
      "F-1 Score: 0.527027027027027\n",
      "Area under the ROC curve: 0.8783605435526445\n"
     ]
    },
    {
     "data": {
      "image/png": "[encoded data removed]",
      "text/plain": [
       "<Figure size 432x432 with 1 Axes>"
      ]
     },
     "metadata": {
      "needs_background": "light"
     },
     "output_type": "display_data"
    }
   ],
   "source": [
    "svc = SVC(kernel='linear', probability=True)\n",
    "score(svc)"
   ]
  },
  {
   "cell_type": "code",
   "execution_count": 29,
   "metadata": {},
   "outputs": [
    {
     "data": {
      "text/html": [
       "<div>\n",
       "<style scoped>\n",
       "    .dataframe tbody tr th:only-of-type {\n",
       "        vertical-align: middle;\n",
       "    }\n",
       "\n",
       "    .dataframe tbody tr th {\n",
       "        vertical-align: top;\n",
       "    }\n",
       "\n",
       "    .dataframe thead th {\n",
       "        text-align: right;\n",
       "    }\n",
       "</style>\n",
       "<table border=\"1\" class=\"dataframe\">\n",
       "  <thead>\n",
       "    <tr style=\"text-align: right;\">\n",
       "      <th></th>\n",
       "      <th>0</th>\n",
       "    </tr>\n",
       "  </thead>\n",
       "  <tbody>\n",
       "    <tr>\n",
       "      <th>total_time</th>\n",
       "      <td>0.596792</td>\n",
       "    </tr>\n",
       "    <tr>\n",
       "      <th>mean_time</th>\n",
       "      <td>-0.050568</td>\n",
       "    </tr>\n",
       "    <tr>\n",
       "      <th>trips</th>\n",
       "      <td>-3.820109</td>\n",
       "    </tr>\n",
       "    <tr>\n",
       "      <th>total_distance</th>\n",
       "      <td>3.117885</td>\n",
       "    </tr>\n",
       "    <tr>\n",
       "      <th>mean_distance</th>\n",
       "      <td>-0.350613</td>\n",
       "    </tr>\n",
       "    <tr>\n",
       "      <th>round_trip_rate</th>\n",
       "      <td>-0.321997</td>\n",
       "    </tr>\n",
       "    <tr>\n",
       "      <th>trips_to_3000</th>\n",
       "      <td>-0.339637</td>\n",
       "    </tr>\n",
       "    <tr>\n",
       "      <th>age</th>\n",
       "      <td>-0.725084</td>\n",
       "    </tr>\n",
       "    <tr>\n",
       "      <th>use_rate</th>\n",
       "      <td>0.503527</td>\n",
       "    </tr>\n",
       "    <tr>\n",
       "      <th>avg_speed</th>\n",
       "      <td>0.514907</td>\n",
       "    </tr>\n",
       "    <tr>\n",
       "      <th>electric</th>\n",
       "      <td>-1.770391</td>\n",
       "    </tr>\n",
       "  </tbody>\n",
       "</table>\n",
       "</div>"
      ],
      "text/plain": [
       "                        0\n",
       "total_time       0.596792\n",
       "mean_time       -0.050568\n",
       "trips           -3.820109\n",
       "total_distance   3.117885\n",
       "mean_distance   -0.350613\n",
       "round_trip_rate -0.321997\n",
       "trips_to_3000   -0.339637\n",
       "age             -0.725084\n",
       "use_rate         0.503527\n",
       "avg_speed        0.514907\n",
       "electric        -1.770391"
      ]
     },
     "execution_count": 29,
     "metadata": {},
     "output_type": "execute_result"
    }
   ],
   "source": [
    "out = svc.coef_\n",
    "\n",
    "pd.DataFrame(data=out.reshape(-1,1), index=[X.columns])"
   ]
  },
  {
   "cell_type": "markdown",
   "metadata": {},
   "source": [
    "### AdaBoost"
   ]
  },
  {
   "cell_type": "code",
   "execution_count": 30,
   "metadata": {},
   "outputs": [],
   "source": [
    "ada = ensemble.AdaBoostClassifier(\n",
    "     n_estimators=1000\n",
    "    , learning_rate=1.0)"
   ]
  },
  {
   "cell_type": "code",
   "execution_count": 31,
   "metadata": {
    "scrolled": true
   },
   "outputs": [
    {
     "name": "stdout",
     "output_type": "stream",
     "text": [
      "-----Confusion Matrix-----\n",
      "                  Predicted Not Retired  Predicted Retired\n",
      "True Not Retired                    373                 13\n",
      "True Retired                         17                 89 \n",
      "\n",
      "Accuracy Score: 0.9390243902439024\n",
      "Recall Score: 0.839622641509434\n",
      "Precision Score: 0.8725490196078431\n",
      "F-1 Score: 0.8557692307692308\n",
      "Area under the ROC curve: 0.9751686381855509\n"
     ]
    },
    {
     "data": {
      "image/png": "[encoded data removed]",
      "text/plain": [
       "<Figure size 432x432 with 1 Axes>"
      ]
     },
     "metadata": {
      "needs_background": "light"
     },
     "output_type": "display_data"
    }
   ],
   "source": [
    "score(ada)"
   ]
  },
  {
   "cell_type": "code",
   "execution_count": 32,
   "metadata": {},
   "outputs": [
    {
     "data": {
      "text/html": [
       "<div>\n",
       "<style scoped>\n",
       "    .dataframe tbody tr th:only-of-type {\n",
       "        vertical-align: middle;\n",
       "    }\n",
       "\n",
       "    .dataframe tbody tr th {\n",
       "        vertical-align: top;\n",
       "    }\n",
       "\n",
       "    .dataframe thead th {\n",
       "        text-align: right;\n",
       "    }\n",
       "</style>\n",
       "<table border=\"1\" class=\"dataframe\">\n",
       "  <thead>\n",
       "    <tr style=\"text-align: right;\">\n",
       "      <th></th>\n",
       "      <th>AdaBoost</th>\n",
       "    </tr>\n",
       "  </thead>\n",
       "  <tbody>\n",
       "    <tr>\n",
       "      <th>total_time</th>\n",
       "      <td>0.091</td>\n",
       "    </tr>\n",
       "    <tr>\n",
       "      <th>mean_time</th>\n",
       "      <td>0.099</td>\n",
       "    </tr>\n",
       "    <tr>\n",
       "      <th>trips</th>\n",
       "      <td>0.080</td>\n",
       "    </tr>\n",
       "    <tr>\n",
       "      <th>total_distance</th>\n",
       "      <td>0.054</td>\n",
       "    </tr>\n",
       "    <tr>\n",
       "      <th>mean_distance</th>\n",
       "      <td>0.092</td>\n",
       "    </tr>\n",
       "    <tr>\n",
       "      <th>round_trip_rate</th>\n",
       "      <td>0.067</td>\n",
       "    </tr>\n",
       "    <tr>\n",
       "      <th>trips_to_3000</th>\n",
       "      <td>0.045</td>\n",
       "    </tr>\n",
       "    <tr>\n",
       "      <th>age</th>\n",
       "      <td>0.273</td>\n",
       "    </tr>\n",
       "    <tr>\n",
       "      <th>use_rate</th>\n",
       "      <td>0.088</td>\n",
       "    </tr>\n",
       "    <tr>\n",
       "      <th>avg_speed</th>\n",
       "      <td>0.079</td>\n",
       "    </tr>\n",
       "    <tr>\n",
       "      <th>electric</th>\n",
       "      <td>0.032</td>\n",
       "    </tr>\n",
       "  </tbody>\n",
       "</table>\n",
       "</div>"
      ],
      "text/plain": [
       "                 AdaBoost\n",
       "total_time          0.091\n",
       "mean_time           0.099\n",
       "trips               0.080\n",
       "total_distance      0.054\n",
       "mean_distance       0.092\n",
       "round_trip_rate     0.067\n",
       "trips_to_3000       0.045\n",
       "age                 0.273\n",
       "use_rate            0.088\n",
       "avg_speed           0.079\n",
       "electric            0.032"
      ]
     },
     "execution_count": 32,
     "metadata": {},
     "output_type": "execute_result"
    }
   ],
   "source": [
    "out = ada.feature_importances_\n",
    "\n",
    "ada_feature_importances = pd.DataFrame(data=out, columns=['AdaBoost'], index=[X.columns])\n",
    "\n",
    "importances = importances.join(ada_feature_importances)\n",
    "\n",
    "ada_feature_importances.sort_values()"
   ]
  },
  {
   "cell_type": "code",
   "execution_count": 33,
   "metadata": {},
   "outputs": [],
   "source": [
    "xgb = XGBClassifier(\n",
    "    n_estimators=1000\n",
    "    , learning_rate=1.0)"
   ]
  },
  {
   "cell_type": "code",
   "execution_count": 34,
   "metadata": {},
   "outputs": [
    {
     "name": "stdout",
     "output_type": "stream",
     "text": [
      "-----Confusion Matrix-----\n",
      "                  Predicted Not Retired  Predicted Retired\n",
      "True Not Retired                    375                 11\n",
      "True Retired                         18                 88 \n",
      "\n",
      "Accuracy Score: 0.9410569105691057\n",
      "Recall Score: 0.8301886792452831\n",
      "Precision Score: 0.8888888888888888\n",
      "F-1 Score: 0.8585365853658536\n",
      "Area under the ROC curve: 0.9841871150650112\n"
     ]
    },
    {
     "data": {
      "image/png": "[encoded data removed]",
      "text/plain": [
       "<Figure size 432x432 with 1 Axes>"
      ]
     },
     "metadata": {
      "needs_background": "light"
     },
     "output_type": "display_data"
    }
   ],
   "source": [
    "score(xgb)"
   ]
  },
  {
   "cell_type": "code",
   "execution_count": 53,
   "metadata": {
    "scrolled": false
   },
   "outputs": [
    {
     "data": {
      "text/html": [
       "<div>\n",
       "<style scoped>\n",
       "    .dataframe tbody tr th:only-of-type {\n",
       "        vertical-align: middle;\n",
       "    }\n",
       "\n",
       "    .dataframe tbody tr th {\n",
       "        vertical-align: top;\n",
       "    }\n",
       "\n",
       "    .dataframe thead th {\n",
       "        text-align: right;\n",
       "    }\n",
       "</style>\n",
       "<table border=\"1\" class=\"dataframe\">\n",
       "  <thead>\n",
       "    <tr style=\"text-align: right;\">\n",
       "      <th></th>\n",
       "      <th>XGBoost</th>\n",
       "    </tr>\n",
       "  </thead>\n",
       "  <tbody>\n",
       "    <tr>\n",
       "      <th>total_time</th>\n",
       "      <td>0.034861</td>\n",
       "    </tr>\n",
       "    <tr>\n",
       "      <th>mean_time</th>\n",
       "      <td>0.038794</td>\n",
       "    </tr>\n",
       "    <tr>\n",
       "      <th>avg_speed</th>\n",
       "      <td>0.053497</td>\n",
       "    </tr>\n",
       "    <tr>\n",
       "      <th>use_rate</th>\n",
       "      <td>0.054775</td>\n",
       "    </tr>\n",
       "    <tr>\n",
       "      <th>trips</th>\n",
       "      <td>0.061634</td>\n",
       "    </tr>\n",
       "    <tr>\n",
       "      <th>round_trip_rate</th>\n",
       "      <td>0.069925</td>\n",
       "    </tr>\n",
       "    <tr>\n",
       "      <th>electric</th>\n",
       "      <td>0.105376</td>\n",
       "    </tr>\n",
       "    <tr>\n",
       "      <th>total_distance</th>\n",
       "      <td>0.105513</td>\n",
       "    </tr>\n",
       "    <tr>\n",
       "      <th>trips_to_3000</th>\n",
       "      <td>0.129967</td>\n",
       "    </tr>\n",
       "    <tr>\n",
       "      <th>mean_distance</th>\n",
       "      <td>0.169650</td>\n",
       "    </tr>\n",
       "    <tr>\n",
       "      <th>age</th>\n",
       "      <td>0.176008</td>\n",
       "    </tr>\n",
       "  </tbody>\n",
       "</table>\n",
       "</div>"
      ],
      "text/plain": [
       "                  XGBoost\n",
       "total_time       0.034861\n",
       "mean_time        0.038794\n",
       "avg_speed        0.053497\n",
       "use_rate         0.054775\n",
       "trips            0.061634\n",
       "round_trip_rate  0.069925\n",
       "electric         0.105376\n",
       "total_distance   0.105513\n",
       "trips_to_3000    0.129967\n",
       "mean_distance    0.169650\n",
       "age              0.176008"
      ]
     },
     "execution_count": 53,
     "metadata": {},
     "output_type": "execute_result"
    }
   ],
   "source": [
    "out = xgb.feature_importances_\n",
    "\n",
    "xgb_feature_importances = pd.DataFrame(data=out, columns =['XGBoost'], index=[X.columns])\n",
    "\n",
    "#importances = importances.join(xgb_feature_importances)\n",
    "\n",
    "xgb_feature_importances.sort_values(by='XGBoost')"
   ]
  },
  {
   "cell_type": "code",
   "execution_count": 36,
   "metadata": {
    "scrolled": false
   },
   "outputs": [],
   "source": [
    "importances['sum'] = importances.sum(axis=1)\n",
    "importances = importances.sort_values(by='sum', ascending=False)\n",
    "importances.drop('sum', axis=1, inplace=True)"
   ]
  },
  {
   "cell_type": "code",
   "execution_count": 66,
   "metadata": {},
   "outputs": [
    {
     "data": {
      "image/png": "[encoded data removed]",
      "text/plain": [
       "<Figure size 1152x576 with 1 Axes>"
      ]
     },
     "metadata": {
      "needs_background": "light"
     },
     "output_type": "display_data"
    }
   ],
   "source": [
    "fig, ax = plt.subplots(figsize=(16,8))\n",
    "importances.plot(kind='barh', stacked=False, color=['orange', 'blue', 'cyan', 'red'], ax=ax)\n",
    "plt.title('Feature Importances Across Models', size='xx-large')\n",
    "plt.xlim(0,1)\n",
    "plt.legend(fontsize='xx-large')\n",
    "plt.show()"
   ]
  },
  {
   "cell_type": "code",
   "execution_count": 58,
   "metadata": {},
   "outputs": [
    {
     "name": "stdout",
     "output_type": "stream",
     "text": [
      "5 fold cross validation score mean for AdaBoost Classifier:  0.9220338983050848\n",
      "5 fold cross validation score mean for Random Forest Classifier:  0.928135593220339\n",
      "5 fold cross validation score mean for XGBoost Classifier:  0.936949152542373\n"
     ]
    }
   ],
   "source": [
    "# Use cross validation to confirm the three best solvers. AdaBoost, RandomForest, and XGBoost \n",
    "# all performed significantly better than the others and similarly to eachother.\n",
    "\n",
    "solvers = {ada : 'AdaBoost Classifier' ,rfc : 'Random Forest Classifier',  xgb : 'XGBoost Classifier'}\n",
    "\n",
    "for algo, name in solvers.items():\n",
    "    scores = cross_val_score(algo, X_train, y_train, cv = 5)\n",
    "    print('5 fold cross validation score mean for {}:  {}'.format(name, scores.mean()))"
   ]
  },
  {
   "cell_type": "code",
   "execution_count": null,
   "metadata": {},
   "outputs": [],
   "source": [
    "# None of them perform much differently than they did before. XGBoost is still the best. I will tune it with\n",
    "# grid search."
   ]
  }
 ],
 "metadata": {
  "kernelspec": {
   "display_name": "Python 3",
   "language": "python",
   "name": "python3"
  },
  "language_info": {
   "codemirror_mode": {
    "name": "ipython",
    "version": 3
   },
   "file_extension": ".py",
   "mimetype": "text/x-python",
   "name": "python",
   "nbconvert_exporter": "python",
   "pygments_lexer": "ipython3",
   "version": "3.7.6"
  }
 },
 "nbformat": 4,
 "nbformat_minor": 4
}
