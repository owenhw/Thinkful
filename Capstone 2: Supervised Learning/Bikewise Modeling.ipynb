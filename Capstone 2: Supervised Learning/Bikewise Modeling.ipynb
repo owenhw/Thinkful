{
 "cells": [
  {
   "cell_type": "markdown",
   "metadata": {},
   "source": [
    "### Modeling\n",
    "\n",
    "The data has been aggregated and cleaned. Here I will produce and compare the performance of several models before selecting one and tuning it for best results."
   ]
  },
  {
   "cell_type": "code",
   "execution_count": 2,
   "metadata": {},
   "outputs": [],
   "source": [
    "import numpy as np\n",
    "import pandas as pd\n",
    "import matplotlib.pyplot as plt\n",
    "import seaborn as sns\n",
    "import math\n",
    "import scipy.stats\n",
    "from  sklearn.preprocessing import StandardScaler, RobustScaler, Normalizer\n",
    "from sklearn.model_selection import train_test_split, cross_val_score, GridSearchCV\n",
    "from sklearn.svm import SVC\n",
    "from sklearn.linear_model import LogisticRegression\n",
    "from sklearn import neighbors\n",
    "from sklearn import ensemble\n",
    "from sklearn import tree\n",
    "from sklearn.metrics import accuracy_score, precision_score, recall_score, f1_score, confusion_matrix\n",
    "from sklearn.metrics import classification_report, roc_curve, precision_recall_curve, roc_auc_score\n",
    "from xgboost import XGBClassifier"
   ]
  },
  {
   "cell_type": "code",
   "execution_count": 64,
   "metadata": {},
   "outputs": [],
   "source": [
    "def plot_confusion_matrix(cm,\n",
    "                          target_names,\n",
    "                          title='Confusion matrix',\n",
    "                          cmap=None,\n",
    "                          normalize=True):\n",
    "    \"\"\"\n",
    "    given a sklearn confusion matrix (cm), make a nice plot\n",
    "\n",
    "    Arguments\n",
    "    ---------\n",
    "    cm:           confusion matrix from sklearn.metrics.confusion_matrix\n",
    "\n",
    "    target_names: given classification classes such as [0, 1, 2]\n",
    "                  the class names, for example: ['high', 'medium', 'low']\n",
    "\n",
    "    title:        the text to display at the top of the matrix\n",
    "\n",
    "    cmap:         the gradient of the values displayed from matplotlib.pyplot.cm\n",
    "                  see http://matplotlib.org/examples/color/colormaps_reference.html\n",
    "                  plt.get_cmap('jet') or plt.cm.Blues\n",
    "\n",
    "    normalize:    If False, plot the raw numbers\n",
    "                  If True, plot the proportions\n",
    "\n",
    "    Usage\n",
    "    -----\n",
    "    plot_confusion_matrix(cm           = cm,                  # confusion matrix created by\n",
    "                                                              # sklearn.metrics.confusion_matrix\n",
    "                          normalize    = True,                # show proportions\n",
    "                          target_names = y_labels_vals,       # list of names of the classes\n",
    "                          title        = best_estimator_name) # title of graph\n",
    "\n",
    "    Citiation\n",
    "    ---------\n",
    "    http://scikit-learn.org/stable/auto_examples/model_selection/plot_confusion_matrix.html\n",
    "\n",
    "    \"\"\"\n",
    "    import matplotlib.pyplot as plt\n",
    "    import numpy as np\n",
    "    import itertools\n",
    "\n",
    "    accuracy = np.trace(cm) / float(np.sum(cm))\n",
    "    misclass = 1 - accuracy\n",
    "\n",
    "    if cmap is None:\n",
    "        cmap = plt.get_cmap('Blues')\n",
    "\n",
    "    plt.figure(figsize=(12, 12))\n",
    "    plt.imshow(cm, interpolation='nearest', cmap=cmap)\n",
    "    plt.title(title)\n",
    "    plt.colorbar()\n",
    "\n",
    "    if target_names is not None:\n",
    "        tick_marks = np.arange(len(target_names))\n",
    "        plt.xticks(tick_marks, target_names, rotation=45)\n",
    "        plt.yticks(tick_marks, target_names)\n",
    "\n",
    "    if normalize:\n",
    "        cm = cm.astype('float') / cm.sum(axis=1)[:, np.newaxis]\n",
    "\n",
    "\n",
    "    thresh = cm.max() / 1.5 if normalize else cm.max() / 2\n",
    "    for i, j in itertools.product(range(cm.shape[0]), range(cm.shape[1])):\n",
    "        if normalize:\n",
    "            plt.text(j, i, \"{:0.4f}\".format(cm[i, j]),\n",
    "                     horizontalalignment=\"center\",\n",
    "                     color=\"white\" if cm[i, j] > thresh else \"black\")\n",
    "        else:\n",
    "            plt.text(j, i, \"{:,}\".format(cm[i, j]),\n",
    "                     horizontalalignment=\"center\",\n",
    "                     color=\"white\" if cm[i, j] > thresh else \"black\")\n",
    "\n",
    "\n",
    "    plt.tight_layout()\n",
    "    plt.ylabel('True label')\n",
    "    plt.xlabel('Predicted label\\naccuracy={:0.4f}; misclass={:0.4f}'.format(accuracy, misclass))\n",
    "    plt.show()"
   ]
  },
  {
   "cell_type": "code",
   "execution_count": 3,
   "metadata": {},
   "outputs": [],
   "source": [
    "df = pd.read_csv(r'data/indego/bikewise.csv')"
   ]
  },
  {
   "cell_type": "code",
   "execution_count": 4,
   "metadata": {
    "scrolled": false
   },
   "outputs": [
    {
     "data": {
      "text/html": [
       "<div>\n",
       "<style scoped>\n",
       "    .dataframe tbody tr th:only-of-type {\n",
       "        vertical-align: middle;\n",
       "    }\n",
       "\n",
       "    .dataframe tbody tr th {\n",
       "        vertical-align: top;\n",
       "    }\n",
       "\n",
       "    .dataframe thead th {\n",
       "        text-align: right;\n",
       "    }\n",
       "</style>\n",
       "<table border=\"1\" class=\"dataframe\">\n",
       "  <thead>\n",
       "    <tr style=\"text-align: right;\">\n",
       "      <th></th>\n",
       "      <th>bike_id</th>\n",
       "      <th>total_time</th>\n",
       "      <th>mean_time</th>\n",
       "      <th>trips</th>\n",
       "      <th>total_distance</th>\n",
       "      <th>mean_distance</th>\n",
       "      <th>most_recent_trip</th>\n",
       "      <th>first_trip</th>\n",
       "      <th>round_trip_rate</th>\n",
       "      <th>trips_from_3000</th>\n",
       "      <th>trips_to_3000</th>\n",
       "      <th>age</th>\n",
       "      <th>use_rate</th>\n",
       "      <th>avg_speed</th>\n",
       "      <th>electric</th>\n",
       "      <th>inactive</th>\n",
       "    </tr>\n",
       "  </thead>\n",
       "  <tbody>\n",
       "    <tr>\n",
       "      <th>0</th>\n",
       "      <td>2472.0</td>\n",
       "      <td>51496</td>\n",
       "      <td>19.905682</td>\n",
       "      <td>2587</td>\n",
       "      <td>2906.614566</td>\n",
       "      <td>1.123546</td>\n",
       "      <td>2019-08-22 16:41:00</td>\n",
       "      <td>2015-06-29 08:27:00</td>\n",
       "      <td>0.072284</td>\n",
       "      <td>0.0</td>\n",
       "      <td>0.0</td>\n",
       "      <td>2182094</td>\n",
       "      <td>2.359935</td>\n",
       "      <td>3.386610</td>\n",
       "      <td>0</td>\n",
       "      <td>1.0</td>\n",
       "    </tr>\n",
       "    <tr>\n",
       "      <th>1</th>\n",
       "      <td>2473.0</td>\n",
       "      <td>54273</td>\n",
       "      <td>20.628278</td>\n",
       "      <td>2631</td>\n",
       "      <td>3069.109171</td>\n",
       "      <td>1.166518</td>\n",
       "      <td>2019-08-29 15:53:00</td>\n",
       "      <td>2015-04-27 15:20:00</td>\n",
       "      <td>0.091600</td>\n",
       "      <td>0.0</td>\n",
       "      <td>0.0</td>\n",
       "      <td>2282433</td>\n",
       "      <td>2.377857</td>\n",
       "      <td>3.392968</td>\n",
       "      <td>0</td>\n",
       "      <td>1.0</td>\n",
       "    </tr>\n",
       "    <tr>\n",
       "      <th>2</th>\n",
       "      <td>2474.0</td>\n",
       "      <td>35313</td>\n",
       "      <td>18.174472</td>\n",
       "      <td>1943</td>\n",
       "      <td>2314.839799</td>\n",
       "      <td>1.191374</td>\n",
       "      <td>2019-05-08 07:40:00</td>\n",
       "      <td>2015-09-16 12:29:00</td>\n",
       "      <td>0.081832</td>\n",
       "      <td>0.0</td>\n",
       "      <td>0.0</td>\n",
       "      <td>1914911</td>\n",
       "      <td>1.844107</td>\n",
       "      <td>3.933123</td>\n",
       "      <td>0</td>\n",
       "      <td>1.0</td>\n",
       "    </tr>\n",
       "    <tr>\n",
       "      <th>3</th>\n",
       "      <td>2475.0</td>\n",
       "      <td>46506</td>\n",
       "      <td>21.313474</td>\n",
       "      <td>2182</td>\n",
       "      <td>2674.234933</td>\n",
       "      <td>1.225589</td>\n",
       "      <td>2019-05-02 19:51:00</td>\n",
       "      <td>2015-08-04 10:21:00</td>\n",
       "      <td>0.095784</td>\n",
       "      <td>0.0</td>\n",
       "      <td>0.0</td>\n",
       "      <td>1969050</td>\n",
       "      <td>2.361850</td>\n",
       "      <td>3.450181</td>\n",
       "      <td>0</td>\n",
       "      <td>1.0</td>\n",
       "    </tr>\n",
       "    <tr>\n",
       "      <th>4</th>\n",
       "      <td>2476.0</td>\n",
       "      <td>58911</td>\n",
       "      <td>21.175773</td>\n",
       "      <td>2782</td>\n",
       "      <td>3598.179104</td>\n",
       "      <td>1.293379</td>\n",
       "      <td>2020-06-21 11:36:00</td>\n",
       "      <td>2015-05-09 17:56:00</td>\n",
       "      <td>0.088785</td>\n",
       "      <td>0.0</td>\n",
       "      <td>0.0</td>\n",
       "      <td>2692420</td>\n",
       "      <td>2.188032</td>\n",
       "      <td>3.664693</td>\n",
       "      <td>0</td>\n",
       "      <td>0.0</td>\n",
       "    </tr>\n",
       "  </tbody>\n",
       "</table>\n",
       "</div>"
      ],
      "text/plain": [
       "   bike_id  total_time  mean_time  trips  total_distance  mean_distance  \\\n",
       "0   2472.0       51496  19.905682   2587     2906.614566       1.123546   \n",
       "1   2473.0       54273  20.628278   2631     3069.109171       1.166518   \n",
       "2   2474.0       35313  18.174472   1943     2314.839799       1.191374   \n",
       "3   2475.0       46506  21.313474   2182     2674.234933       1.225589   \n",
       "4   2476.0       58911  21.175773   2782     3598.179104       1.293379   \n",
       "\n",
       "      most_recent_trip           first_trip  round_trip_rate  trips_from_3000  \\\n",
       "0  2019-08-22 16:41:00  2015-06-29 08:27:00         0.072284              0.0   \n",
       "1  2019-08-29 15:53:00  2015-04-27 15:20:00         0.091600              0.0   \n",
       "2  2019-05-08 07:40:00  2015-09-16 12:29:00         0.081832              0.0   \n",
       "3  2019-05-02 19:51:00  2015-08-04 10:21:00         0.095784              0.0   \n",
       "4  2020-06-21 11:36:00  2015-05-09 17:56:00         0.088785              0.0   \n",
       "\n",
       "   trips_to_3000      age  use_rate  avg_speed  electric  inactive  \n",
       "0            0.0  2182094  2.359935   3.386610         0       1.0  \n",
       "1            0.0  2282433  2.377857   3.392968         0       1.0  \n",
       "2            0.0  1914911  1.844107   3.933123         0       1.0  \n",
       "3            0.0  1969050  2.361850   3.450181         0       1.0  \n",
       "4            0.0  2692420  2.188032   3.664693         0       0.0  "
      ]
     },
     "execution_count": 4,
     "metadata": {},
     "output_type": "execute_result"
    }
   ],
   "source": [
    "df.head()"
   ]
  },
  {
   "cell_type": "code",
   "execution_count": 7,
   "metadata": {
    "scrolled": true
   },
   "outputs": [
    {
     "data": {
      "text/html": [
       "<div>\n",
       "<style scoped>\n",
       "    .dataframe tbody tr th:only-of-type {\n",
       "        vertical-align: middle;\n",
       "    }\n",
       "\n",
       "    .dataframe tbody tr th {\n",
       "        vertical-align: top;\n",
       "    }\n",
       "\n",
       "    .dataframe thead th {\n",
       "        text-align: right;\n",
       "    }\n",
       "</style>\n",
       "<table border=\"1\" class=\"dataframe\">\n",
       "  <thead>\n",
       "    <tr style=\"text-align: right;\">\n",
       "      <th></th>\n",
       "      <th>bike_id</th>\n",
       "      <th>total_time</th>\n",
       "      <th>mean_time</th>\n",
       "      <th>trips</th>\n",
       "      <th>total_distance</th>\n",
       "      <th>mean_distance</th>\n",
       "      <th>most_recent_trip</th>\n",
       "      <th>first_trip</th>\n",
       "      <th>round_trip_rate</th>\n",
       "      <th>trips_from_3000</th>\n",
       "      <th>trips_to_3000</th>\n",
       "      <th>age</th>\n",
       "      <th>use_rate</th>\n",
       "      <th>avg_speed</th>\n",
       "      <th>electric</th>\n",
       "      <th>inactive</th>\n",
       "    </tr>\n",
       "  </thead>\n",
       "  <tbody>\n",
       "    <tr>\n",
       "      <th>1962</th>\n",
       "      <td>19971.0</td>\n",
       "      <td>5025</td>\n",
       "      <td>32.419355</td>\n",
       "      <td>155</td>\n",
       "      <td>292.537050</td>\n",
       "      <td>1.887336</td>\n",
       "      <td>2020-06-25 21:04:00</td>\n",
       "      <td>2020-05-09 14:21:00</td>\n",
       "      <td>0.232258</td>\n",
       "      <td>0.0</td>\n",
       "      <td>0.0</td>\n",
       "      <td>68083</td>\n",
       "      <td>7.380697</td>\n",
       "      <td>3.492980</td>\n",
       "      <td>1</td>\n",
       "      <td>0.0</td>\n",
       "    </tr>\n",
       "    <tr>\n",
       "      <th>1963</th>\n",
       "      <td>19977.0</td>\n",
       "      <td>5239</td>\n",
       "      <td>44.398305</td>\n",
       "      <td>118</td>\n",
       "      <td>191.077182</td>\n",
       "      <td>1.619298</td>\n",
       "      <td>2020-06-30 21:23:00</td>\n",
       "      <td>2020-06-05 10:57:00</td>\n",
       "      <td>0.161017</td>\n",
       "      <td>0.0</td>\n",
       "      <td>0.0</td>\n",
       "      <td>36626</td>\n",
       "      <td>14.304046</td>\n",
       "      <td>2.188324</td>\n",
       "      <td>1</td>\n",
       "      <td>0.0</td>\n",
       "    </tr>\n",
       "    <tr>\n",
       "      <th>1964</th>\n",
       "      <td>20265.0</td>\n",
       "      <td>5164</td>\n",
       "      <td>30.922156</td>\n",
       "      <td>167</td>\n",
       "      <td>186.754554</td>\n",
       "      <td>1.118291</td>\n",
       "      <td>2019-10-05 16:46:46</td>\n",
       "      <td>2019-08-24 19:41:00</td>\n",
       "      <td>0.107784</td>\n",
       "      <td>0.0</td>\n",
       "      <td>0.0</td>\n",
       "      <td>60305</td>\n",
       "      <td>8.563137</td>\n",
       "      <td>2.169883</td>\n",
       "      <td>1</td>\n",
       "      <td>1.0</td>\n",
       "    </tr>\n",
       "    <tr>\n",
       "      <th>1965</th>\n",
       "      <td>26012.0</td>\n",
       "      <td>332</td>\n",
       "      <td>27.666667</td>\n",
       "      <td>12</td>\n",
       "      <td>23.367884</td>\n",
       "      <td>1.947324</td>\n",
       "      <td>2015-04-30 15:33:00</td>\n",
       "      <td>2015-04-25 13:36:00</td>\n",
       "      <td>0.166667</td>\n",
       "      <td>0.0</td>\n",
       "      <td>0.0</td>\n",
       "      <td>7317</td>\n",
       "      <td>4.537379</td>\n",
       "      <td>4.223112</td>\n",
       "      <td>0</td>\n",
       "      <td>1.0</td>\n",
       "    </tr>\n",
       "    <tr>\n",
       "      <th>1966</th>\n",
       "      <td>55195.0</td>\n",
       "      <td>4353</td>\n",
       "      <td>25.161850</td>\n",
       "      <td>173</td>\n",
       "      <td>272.236787</td>\n",
       "      <td>1.573623</td>\n",
       "      <td>2016-10-22 15:35:00</td>\n",
       "      <td>2016-09-09 15:08:00</td>\n",
       "      <td>0.057803</td>\n",
       "      <td>0.0</td>\n",
       "      <td>0.0</td>\n",
       "      <td>61947</td>\n",
       "      <td>7.026975</td>\n",
       "      <td>3.752402</td>\n",
       "      <td>0</td>\n",
       "      <td>1.0</td>\n",
       "    </tr>\n",
       "  </tbody>\n",
       "</table>\n",
       "</div>"
      ],
      "text/plain": [
       "      bike_id  total_time  mean_time  trips  total_distance  mean_distance  \\\n",
       "1962  19971.0        5025  32.419355    155      292.537050       1.887336   \n",
       "1963  19977.0        5239  44.398305    118      191.077182       1.619298   \n",
       "1964  20265.0        5164  30.922156    167      186.754554       1.118291   \n",
       "1965  26012.0         332  27.666667     12       23.367884       1.947324   \n",
       "1966  55195.0        4353  25.161850    173      272.236787       1.573623   \n",
       "\n",
       "         most_recent_trip           first_trip  round_trip_rate  \\\n",
       "1962  2020-06-25 21:04:00  2020-05-09 14:21:00         0.232258   \n",
       "1963  2020-06-30 21:23:00  2020-06-05 10:57:00         0.161017   \n",
       "1964  2019-10-05 16:46:46  2019-08-24 19:41:00         0.107784   \n",
       "1965  2015-04-30 15:33:00  2015-04-25 13:36:00         0.166667   \n",
       "1966  2016-10-22 15:35:00  2016-09-09 15:08:00         0.057803   \n",
       "\n",
       "      trips_from_3000  trips_to_3000    age   use_rate  avg_speed  electric  \\\n",
       "1962              0.0            0.0  68083   7.380697   3.492980         1   \n",
       "1963              0.0            0.0  36626  14.304046   2.188324         1   \n",
       "1964              0.0            0.0  60305   8.563137   2.169883         1   \n",
       "1965              0.0            0.0   7317   4.537379   4.223112         0   \n",
       "1966              0.0            0.0  61947   7.026975   3.752402         0   \n",
       "\n",
       "      inactive  \n",
       "1962       0.0  \n",
       "1963       0.0  \n",
       "1964       1.0  \n",
       "1965       1.0  \n",
       "1966       1.0  "
      ]
     },
     "execution_count": 7,
     "metadata": {},
     "output_type": "execute_result"
    }
   ],
   "source": [
    "df.tail()"
   ]
  },
  {
   "cell_type": "code",
   "execution_count": 5,
   "metadata": {},
   "outputs": [
    {
     "data": {
      "text/plain": [
       "1967"
      ]
     },
     "execution_count": 5,
     "metadata": {},
     "output_type": "execute_result"
    }
   ],
   "source": [
    "len(df)"
   ]
  },
  {
   "cell_type": "code",
   "execution_count": 6,
   "metadata": {},
   "outputs": [
    {
     "data": {
      "text/plain": [
       "451"
      ]
     },
     "execution_count": 6,
     "metadata": {},
     "output_type": "execute_result"
    }
   ],
   "source": [
    "len(df[df['inactive'] == 1])"
   ]
  },
  {
   "cell_type": "markdown",
   "metadata": {},
   "source": [
    "## Model Selection"
   ]
  },
  {
   "cell_type": "code",
   "execution_count": 8,
   "metadata": {},
   "outputs": [],
   "source": [
    "# Define a feature to report performance indicators\n",
    "\n",
    "def score(algo):\n",
    "    # Fit the model and make predictions\n",
    "    algo.fit(X_train, y_train)\n",
    "    preds = algo.predict(X_test)\n",
    "    probs = algo.predict_proba(X_test)[:, 1]\n",
    "    \n",
    "    # Create a Confusion Matrix\n",
    "    matrix = confusion_matrix(y_test, preds)\n",
    "    cm = pd.DataFrame(\n",
    "    confusion_matrix(y_test, preds),\n",
    "    columns=['Predicted Not Retired', 'Predicted Retired'],\n",
    "    index=['True Not Retired', 'True Retired'])\n",
    "    print('-----Confusion Matrix-----')\n",
    "    print(cm, '\\n')\n",
    "    \n",
    "    # Print the metrics\n",
    "    print('Accuracy Score: {}'.format(accuracy_score(y_test, preds)))\n",
    "    print('Recall Score: {}'.format(recall_score(y_test, preds)))\n",
    "    print('Precision Score: {}'.format(precision_score(y_test, preds)))\n",
    "    print('F-1 Score: {}'.format(f1_score(y_test, preds)))\n",
    "    print('Area under the ROC curve: {}'.format(roc_auc_score(y_test, probs)))\n",
    "    \n",
    "    #Print the ROC curve\n",
    "    \n",
    "    fpr, tpr, thresholds = roc_curve(y_test, probs)\n",
    "    \n",
    "    fig = plt.figure(figsize = (6, 6))\n",
    "    plt.plot([0, 1], [0, 1], 'k--')\n",
    "    plt.plot(fpr, tpr)\n",
    "    plt.xlabel('False Positive Rate')\n",
    "    plt.ylabel('True Positive Rate')\n",
    "    plt.title('ROC Curve')\n",
    "    plt.show()"
   ]
  },
  {
   "cell_type": "code",
   "execution_count": 9,
   "metadata": {},
   "outputs": [],
   "source": [
    "from sklearn.dummy import DummyClassifier"
   ]
  },
  {
   "cell_type": "code",
   "execution_count": 11,
   "metadata": {},
   "outputs": [],
   "source": [
    "X = df.drop(['bike_id', 'most_recent_trip', 'first_trip', 'trips_from_3000', 'inactive'], axis=1)\n",
    "y = df['inactive']"
   ]
  },
  {
   "cell_type": "code",
   "execution_count": 12,
   "metadata": {},
   "outputs": [],
   "source": [
    "X_train, X_test, y_train, y_test = train_test_split(X, y, test_size=.25, random_state=1312)"
   ]
  },
  {
   "cell_type": "markdown",
   "metadata": {},
   "source": [
    "### Dummy Classifier Baseline"
   ]
  },
  {
   "cell_type": "code",
   "execution_count": 13,
   "metadata": {},
   "outputs": [
    {
     "name": "stdout",
     "output_type": "stream",
     "text": [
      "-----Confusion Matrix-----\n",
      "                  Predicted Not Retired  Predicted Retired\n",
      "True Not Retired                    386                  0\n",
      "True Retired                        106                  0 \n",
      "\n",
      "Accuracy Score: 0.7845528455284553\n",
      "Recall Score: 0.0\n",
      "Precision Score: 0.0\n",
      "F-1 Score: 0.0\n",
      "Area under the ROC curve: 0.5\n"
     ]
    },
    {
     "name": "stderr",
     "output_type": "stream",
     "text": [
      "/home/owen/bin/anaconda3/lib/python3.7/site-packages/sklearn/metrics/_classification.py:1221: UndefinedMetricWarning: Precision is ill-defined and being set to 0.0 due to no predicted samples. Use `zero_division` parameter to control this behavior.\n",
      "  _warn_prf(average, modifier, msg_start, len(result))\n"
     ]
    },
    {
     "data": {
      "image/png": "[encoded data removed]",
      "text/plain": [
       "<Figure size 432x432 with 1 Axes>"
      ]
     },
     "metadata": {
      "needs_background": "light"
     },
     "output_type": "display_data"
    }
   ],
   "source": [
    "dummy = DummyClassifier(strategy = 'most_frequent')\n",
    "score(dummy)"
   ]
  },
  {
   "cell_type": "code",
   "execution_count": 14,
   "metadata": {},
   "outputs": [],
   "source": [
    "# Create a dataframe to keep track of feature importances\n",
    "importances = pd.DataFrame(index=[X.columns])"
   ]
  },
  {
   "cell_type": "markdown",
   "metadata": {},
   "source": [
    "### Decision Tree"
   ]
  },
  {
   "cell_type": "code",
   "execution_count": 15,
   "metadata": {
    "scrolled": true
   },
   "outputs": [
    {
     "data": {
      "text/plain": [
       "Text(0.5, 1.0, 'Max Features')"
      ]
     },
     "execution_count": 15,
     "metadata": {},
     "output_type": "execute_result"
    },
    {
     "data": {
      "image/png": "[encoded data removed]",
      "text/plain": [
       "<Figure size 1080x720 with 2 Axes>"
      ]
     },
     "metadata": {
      "needs_background": "light"
     },
     "output_type": "display_data"
    }
   ],
   "source": [
    "depth_scores = []\n",
    "for depth in range(1,12):\n",
    "    # Initialize and train our tree.\n",
    "    decision_tree = tree.DecisionTreeClassifier(\n",
    "        criterion='entropy',\n",
    "        max_features=1,\n",
    "        max_depth=depth,\n",
    "        random_state = 4123 # keep the random state the same to best see how my changes impact the model\n",
    "    )\n",
    "    decision_tree.fit(X_train, y_train)\n",
    "    depth_scores.append(decision_tree.score(X_test, y_test))\n",
    "    \n",
    "    \n",
    "features_scores = [] \n",
    "for feature in range(1,10):\n",
    "    # Initialize and train our tree.\n",
    "    decision_tree = tree.DecisionTreeClassifier(\n",
    "        criterion='entropy',\n",
    "        max_features=feature,\n",
    "        max_depth=9,\n",
    "        random_state = 4123 # keep the random state the same to best see how my changes impact the model\n",
    "    )\n",
    "    decision_tree.fit(X_train, y_train)\n",
    "    features_scores.append(decision_tree.score(X_test, y_test))\n",
    "    \n",
    "plt.figure(figsize=(15,10))    \n",
    "plt.subplot(2,2,1)\n",
    "plt.plot(depth_scores)\n",
    "plt.title('Depth')\n",
    "plt.xlabel('Accuracy')\n",
    "\n",
    "plt.subplot(2,2,2)\n",
    "plt.plot(features_scores)\n",
    "plt.title('Max Features')\n",
    "#print('Train score results: ', decision_tree.score(X_train, y_train), '\\n', '=' * 22)\n",
    "#print ('Test score results: ', decision_tree.score(X_test, y_test))"
   ]
  },
  {
   "cell_type": "code",
   "execution_count": 16,
   "metadata": {},
   "outputs": [],
   "source": [
    " decision_tree = tree.DecisionTreeClassifier(\n",
    "        criterion='entropy',\n",
    "        max_features=4,\n",
    "        max_depth=10,\n",
    "        random_state = 4123 # keep the random state the same to best see how my changes impact the model\n",
    "    )"
   ]
  },
  {
   "cell_type": "code",
   "execution_count": 17,
   "metadata": {},
   "outputs": [
    {
     "name": "stdout",
     "output_type": "stream",
     "text": [
      "-----Confusion Matrix-----\n",
      "                  Predicted Not Retired  Predicted Retired\n",
      "True Not Retired                    350                 36\n",
      "True Retired                         18                 88 \n",
      "\n",
      "Accuracy Score: 0.8902439024390244\n",
      "Recall Score: 0.8301886792452831\n",
      "Precision Score: 0.7096774193548387\n",
      "F-1 Score: 0.7652173913043478\n",
      "Area under the ROC curve: 0.8768452439143612\n"
     ]
    },
    {
     "data": {
      "image/png": "[encoded data removed]",
      "text/plain": [
       "<Figure size 432x432 with 1 Axes>"
      ]
     },
     "metadata": {
      "needs_background": "light"
     },
     "output_type": "display_data"
    }
   ],
   "source": [
    "score(decision_tree)"
   ]
  },
  {
   "cell_type": "code",
   "execution_count": 18,
   "metadata": {
    "scrolled": false
   },
   "outputs": [
    {
     "data": {
      "text/html": [
       "<div>\n",
       "<style scoped>\n",
       "    .dataframe tbody tr th:only-of-type {\n",
       "        vertical-align: middle;\n",
       "    }\n",
       "\n",
       "    .dataframe tbody tr th {\n",
       "        vertical-align: top;\n",
       "    }\n",
       "\n",
       "    .dataframe thead th {\n",
       "        text-align: right;\n",
       "    }\n",
       "</style>\n",
       "<table border=\"1\" class=\"dataframe\">\n",
       "  <thead>\n",
       "    <tr style=\"text-align: right;\">\n",
       "      <th></th>\n",
       "      <th>decision_tree</th>\n",
       "    </tr>\n",
       "  </thead>\n",
       "  <tbody>\n",
       "    <tr>\n",
       "      <th>total_time</th>\n",
       "      <td>0.048290</td>\n",
       "    </tr>\n",
       "    <tr>\n",
       "      <th>mean_time</th>\n",
       "      <td>0.052441</td>\n",
       "    </tr>\n",
       "    <tr>\n",
       "      <th>trips</th>\n",
       "      <td>0.132902</td>\n",
       "    </tr>\n",
       "    <tr>\n",
       "      <th>total_distance</th>\n",
       "      <td>0.035347</td>\n",
       "    </tr>\n",
       "    <tr>\n",
       "      <th>mean_distance</th>\n",
       "      <td>0.093639</td>\n",
       "    </tr>\n",
       "    <tr>\n",
       "      <th>round_trip_rate</th>\n",
       "      <td>0.071800</td>\n",
       "    </tr>\n",
       "    <tr>\n",
       "      <th>trips_to_3000</th>\n",
       "      <td>0.000000</td>\n",
       "    </tr>\n",
       "    <tr>\n",
       "      <th>age</th>\n",
       "      <td>0.106123</td>\n",
       "    </tr>\n",
       "    <tr>\n",
       "      <th>use_rate</th>\n",
       "      <td>0.103783</td>\n",
       "    </tr>\n",
       "    <tr>\n",
       "      <th>avg_speed</th>\n",
       "      <td>0.046518</td>\n",
       "    </tr>\n",
       "    <tr>\n",
       "      <th>electric</th>\n",
       "      <td>0.026953</td>\n",
       "    </tr>\n",
       "  </tbody>\n",
       "</table>\n",
       "</div>"
      ],
      "text/plain": [
       "                 decision_tree\n",
       "total_time            0.048290\n",
       "mean_time             0.052441\n",
       "trips                 0.132902\n",
       "total_distance        0.035347\n",
       "mean_distance         0.093639\n",
       "round_trip_rate       0.071800\n",
       "trips_to_3000         0.000000\n",
       "age                   0.106123\n",
       "use_rate              0.103783\n",
       "avg_speed             0.046518\n",
       "electric              0.026953"
      ]
     },
     "execution_count": 18,
     "metadata": {},
     "output_type": "execute_result"
    }
   ],
   "source": [
    "# Get the feature importance\n",
    "out =decision_tree.tree_.compute_feature_importances(normalize=False)\n",
    "\n",
    "decision_tree_importances = pd.DataFrame(data=out\n",
    "                                         , index=[X.columns], columns=['decision_tree'])\n",
    "\n",
    "importances = importances.join(decision_tree_importances)\n",
    "\n",
    "decision_tree_importances"
   ]
  },
  {
   "cell_type": "markdown",
   "metadata": {},
   "source": [
    "### Random Forest"
   ]
  },
  {
   "cell_type": "code",
   "execution_count": 19,
   "metadata": {},
   "outputs": [],
   "source": [
    "rfc = ensemble.RandomForestClassifier(\n",
    "    n_estimators=1000\n",
    "    , max_features=4\n",
    "    ,max_depth=10)"
   ]
  },
  {
   "cell_type": "code",
   "execution_count": 20,
   "metadata": {
    "scrolled": false
   },
   "outputs": [
    {
     "name": "stdout",
     "output_type": "stream",
     "text": [
      "-----Confusion Matrix-----\n",
      "                  Predicted Not Retired  Predicted Retired\n",
      "True Not Retired                    373                 13\n",
      "True Retired                         22                 84 \n",
      "\n",
      "Accuracy Score: 0.9288617886178862\n",
      "Recall Score: 0.7924528301886793\n",
      "Precision Score: 0.865979381443299\n",
      "F-1 Score: 0.8275862068965517\n",
      "Area under the ROC curve: 0.9801544628018379\n"
     ]
    },
    {
     "data": {
      "image/png": "[encoded data removed]",
      "text/plain": [
       "<Figure size 432x432 with 1 Axes>"
      ]
     },
     "metadata": {
      "needs_background": "light"
     },
     "output_type": "display_data"
    }
   ],
   "source": [
    "score(rfc)"
   ]
  },
  {
   "cell_type": "code",
   "execution_count": 21,
   "metadata": {},
   "outputs": [
    {
     "data": {
      "text/html": [
       "<div>\n",
       "<style scoped>\n",
       "    .dataframe tbody tr th:only-of-type {\n",
       "        vertical-align: middle;\n",
       "    }\n",
       "\n",
       "    .dataframe tbody tr th {\n",
       "        vertical-align: top;\n",
       "    }\n",
       "\n",
       "    .dataframe thead th {\n",
       "        text-align: right;\n",
       "    }\n",
       "</style>\n",
       "<table border=\"1\" class=\"dataframe\">\n",
       "  <thead>\n",
       "    <tr style=\"text-align: right;\">\n",
       "      <th></th>\n",
       "      <th>random_forest</th>\n",
       "    </tr>\n",
       "  </thead>\n",
       "  <tbody>\n",
       "    <tr>\n",
       "      <th>total_time</th>\n",
       "      <td>0.058631</td>\n",
       "    </tr>\n",
       "    <tr>\n",
       "      <th>mean_time</th>\n",
       "      <td>0.065664</td>\n",
       "    </tr>\n",
       "    <tr>\n",
       "      <th>trips</th>\n",
       "      <td>0.077516</td>\n",
       "    </tr>\n",
       "    <tr>\n",
       "      <th>total_distance</th>\n",
       "      <td>0.084529</td>\n",
       "    </tr>\n",
       "    <tr>\n",
       "      <th>mean_distance</th>\n",
       "      <td>0.116282</td>\n",
       "    </tr>\n",
       "    <tr>\n",
       "      <th>round_trip_rate</th>\n",
       "      <td>0.113813</td>\n",
       "    </tr>\n",
       "    <tr>\n",
       "      <th>trips_to_3000</th>\n",
       "      <td>0.000000</td>\n",
       "    </tr>\n",
       "    <tr>\n",
       "      <th>age</th>\n",
       "      <td>0.218386</td>\n",
       "    </tr>\n",
       "    <tr>\n",
       "      <th>use_rate</th>\n",
       "      <td>0.120111</td>\n",
       "    </tr>\n",
       "    <tr>\n",
       "      <th>avg_speed</th>\n",
       "      <td>0.103540</td>\n",
       "    </tr>\n",
       "    <tr>\n",
       "      <th>electric</th>\n",
       "      <td>0.041528</td>\n",
       "    </tr>\n",
       "  </tbody>\n",
       "</table>\n",
       "</div>"
      ],
      "text/plain": [
       "                 random_forest\n",
       "total_time            0.058631\n",
       "mean_time             0.065664\n",
       "trips                 0.077516\n",
       "total_distance        0.084529\n",
       "mean_distance         0.116282\n",
       "round_trip_rate       0.113813\n",
       "trips_to_3000         0.000000\n",
       "age                   0.218386\n",
       "use_rate              0.120111\n",
       "avg_speed             0.103540\n",
       "electric              0.041528"
      ]
     },
     "execution_count": 21,
     "metadata": {},
     "output_type": "execute_result"
    }
   ],
   "source": [
    "\n",
    "\n",
    "out = rfc.feature_importances_\n",
    "random_forest_importances = pd.DataFrame(data=out\n",
    "                                         , index=[X.columns], columns=['random_forest'])\n",
    "importances = importances.join(random_forest_importances)\n",
    "\n",
    "random_forest_importances"
   ]
  },
  {
   "cell_type": "markdown",
   "metadata": {},
   "source": [
    "### KNN"
   ]
  },
  {
   "cell_type": "code",
   "execution_count": 22,
   "metadata": {
    "scrolled": true
   },
   "outputs": [],
   "source": [
    "train_scores=[]\n",
    "test_scores=[]\n",
    "for val in np.arange(1,30):\n",
    "    knn = neighbors.KNeighborsClassifier(n_neighbors=val)\n",
    "    knn.fit(X_train, y_train)\n",
    "    \n",
    "    train_score = knn.score(X_train, y_train)\n",
    "    train_scores.append(train_score)\n",
    "    \n",
    "    test_score= knn.score(X_test, y_test)\n",
    "    test_scores.append(test_score)\n"
   ]
  },
  {
   "cell_type": "code",
   "execution_count": 23,
   "metadata": {},
   "outputs": [],
   "source": [
    "weighted_train_scores=[]\n",
    "weighted_test_scores=[]\n",
    "for val in np.arange(1,30):\n",
    "    knn = neighbors.KNeighborsClassifier(n_neighbors=val, weights='distance')\n",
    "    knn.fit(X_train, y_train)\n",
    "    \n",
    "    train_score = knn.score(X_train, y_train)\n",
    "    weighted_train_scores.append(train_score)\n",
    "    \n",
    "    test_score= knn.score(X_test, y_test)\n",
    "    weighted_test_scores.append(test_score)\n"
   ]
  },
  {
   "cell_type": "code",
   "execution_count": 24,
   "metadata": {},
   "outputs": [
    {
     "data": {
      "text/plain": [
       "Text(0.5, 1.0, 'With Weighting')"
      ]
     },
     "execution_count": 24,
     "metadata": {},
     "output_type": "execute_result"
    },
    {
     "data": {
      "image/png": "[encoded data removed]",
      "text/plain": [
       "<Figure size 1152x576 with 2 Axes>"
      ]
     },
     "metadata": {
      "needs_background": "light"
     },
     "output_type": "display_data"
    }
   ],
   "source": [
    "plt.figure(figsize=(16,8))\n",
    "plt.subplot(1,2,1)\n",
    "plt.plot(train_scores, color='blue', label='Training Set')\n",
    "plt.plot(test_scores, color='green', label='Test Set')\n",
    "plt.xticks(np.arange(1,30))\n",
    "plt.legend()\n",
    "plt.title('Without Weighting')\n",
    "\n",
    "\n",
    "plt.subplot(1,2,2)\n",
    "plt.plot(weighted_train_scores, color='blue', label='Training Set')\n",
    "plt.plot(weighted_test_scores, color='green', label='Test Set')\n",
    "plt.xticks(np.arange(1,30))\n",
    "plt.legend()\n",
    "plt.title('With Weighting')\n"
   ]
  },
  {
   "cell_type": "code",
   "execution_count": 25,
   "metadata": {
    "scrolled": false
   },
   "outputs": [
    {
     "name": "stdout",
     "output_type": "stream",
     "text": [
      "-----Confusion Matrix-----\n",
      "                  Predicted Not Retired  Predicted Retired\n",
      "True Not Retired                    373                 13\n",
      "True Retired                         46                 60 \n",
      "\n",
      "Accuracy Score: 0.8800813008130082\n",
      "Recall Score: 0.5660377358490566\n",
      "Precision Score: 0.821917808219178\n",
      "F-1 Score: 0.6703910614525139\n",
      "Area under the ROC curve: 0.9147643953465636\n"
     ]
    },
    {
     "data": {
      "image/png": "[encoded data removed]",
      "text/plain": [
       "<Figure size 432x432 with 1 Axes>"
      ]
     },
     "metadata": {
      "needs_background": "light"
     },
     "output_type": "display_data"
    }
   ],
   "source": [
    "knn = neighbors.KNeighborsClassifier(n_neighbors=15)\n",
    "score(knn)"
   ]
  },
  {
   "cell_type": "markdown",
   "metadata": {},
   "source": [
    "### Logistic Regression"
   ]
  },
  {
   "cell_type": "code",
   "execution_count": 26,
   "metadata": {},
   "outputs": [],
   "source": [
    "lrc = LogisticRegression(solver='lbfgs') "
   ]
  },
  {
   "cell_type": "code",
   "execution_count": 27,
   "metadata": {
    "scrolled": false
   },
   "outputs": [
    {
     "name": "stdout",
     "output_type": "stream",
     "text": [
      "-----Confusion Matrix-----\n",
      "                  Predicted Not Retired  Predicted Retired\n",
      "True Not Retired                    378                  8\n",
      "True Retired                         87                 19 \n",
      "\n",
      "Accuracy Score: 0.806910569105691\n",
      "Recall Score: 0.1792452830188679\n",
      "Precision Score: 0.7037037037037037\n",
      "F-1 Score: 0.2857142857142857\n",
      "Area under the ROC curve: 0.7296900967836544\n"
     ]
    },
    {
     "data": {
      "image/png": "[encoded data removed]",
      "text/plain": [
       "<Figure size 432x432 with 1 Axes>"
      ]
     },
     "metadata": {
      "needs_background": "light"
     },
     "output_type": "display_data"
    }
   ],
   "source": [
    "score(lrc)"
   ]
  },
  {
   "cell_type": "markdown",
   "metadata": {},
   "source": [
    "### SVC"
   ]
  },
  {
   "cell_type": "code",
   "execution_count": 28,
   "metadata": {},
   "outputs": [],
   "source": [
    "scaler = RobustScaler()\n",
    "\n",
    "X_scaled = scaler.fit_transform(X)\n",
    "\n",
    "X_train, X_test, y_train, y_test = train_test_split(X_scaled, y, test_size=.25, random_state=1312)\n",
    "\n"
   ]
  },
  {
   "cell_type": "code",
   "execution_count": 29,
   "metadata": {
    "scrolled": false
   },
   "outputs": [
    {
     "name": "stdout",
     "output_type": "stream",
     "text": [
      "-----Confusion Matrix-----\n",
      "                  Predicted Not Retired  Predicted Retired\n",
      "True Not Retired                    383                  3\n",
      "True Retired                         69                 37 \n",
      "\n",
      "Accuracy Score: 0.8536585365853658\n",
      "Recall Score: 0.3490566037735849\n",
      "Precision Score: 0.925\n",
      "F-1 Score: 0.5068493150684931\n",
      "Area under the ROC curve: 0.8551422426434646\n"
     ]
    },
    {
     "data": {
      "image/png": "[encoded data removed]",
      "text/plain": [
       "<Figure size 432x432 with 1 Axes>"
      ]
     },
     "metadata": {
      "needs_background": "light"
     },
     "output_type": "display_data"
    }
   ],
   "source": [
    "svc = SVC(kernel='linear', probability=True)\n",
    "score(svc)"
   ]
  },
  {
   "cell_type": "code",
   "execution_count": 30,
   "metadata": {},
   "outputs": [
    {
     "data": {
      "text/html": [
       "<div>\n",
       "<style scoped>\n",
       "    .dataframe tbody tr th:only-of-type {\n",
       "        vertical-align: middle;\n",
       "    }\n",
       "\n",
       "    .dataframe tbody tr th {\n",
       "        vertical-align: top;\n",
       "    }\n",
       "\n",
       "    .dataframe thead th {\n",
       "        text-align: right;\n",
       "    }\n",
       "</style>\n",
       "<table border=\"1\" class=\"dataframe\">\n",
       "  <thead>\n",
       "    <tr style=\"text-align: right;\">\n",
       "      <th></th>\n",
       "      <th>0</th>\n",
       "    </tr>\n",
       "  </thead>\n",
       "  <tbody>\n",
       "    <tr>\n",
       "      <th>total_time</th>\n",
       "      <td>0.542854</td>\n",
       "    </tr>\n",
       "    <tr>\n",
       "      <th>mean_time</th>\n",
       "      <td>-0.073009</td>\n",
       "    </tr>\n",
       "    <tr>\n",
       "      <th>trips</th>\n",
       "      <td>-4.154238</td>\n",
       "    </tr>\n",
       "    <tr>\n",
       "      <th>total_distance</th>\n",
       "      <td>3.116536</td>\n",
       "    </tr>\n",
       "    <tr>\n",
       "      <th>mean_distance</th>\n",
       "      <td>-0.405159</td>\n",
       "    </tr>\n",
       "    <tr>\n",
       "      <th>round_trip_rate</th>\n",
       "      <td>-0.247608</td>\n",
       "    </tr>\n",
       "    <tr>\n",
       "      <th>trips_to_3000</th>\n",
       "      <td>0.000000</td>\n",
       "    </tr>\n",
       "    <tr>\n",
       "      <th>age</th>\n",
       "      <td>-0.555307</td>\n",
       "    </tr>\n",
       "    <tr>\n",
       "      <th>use_rate</th>\n",
       "      <td>0.528053</td>\n",
       "    </tr>\n",
       "    <tr>\n",
       "      <th>avg_speed</th>\n",
       "      <td>0.532841</td>\n",
       "    </tr>\n",
       "    <tr>\n",
       "      <th>electric</th>\n",
       "      <td>-1.754462</td>\n",
       "    </tr>\n",
       "  </tbody>\n",
       "</table>\n",
       "</div>"
      ],
      "text/plain": [
       "                        0\n",
       "total_time       0.542854\n",
       "mean_time       -0.073009\n",
       "trips           -4.154238\n",
       "total_distance   3.116536\n",
       "mean_distance   -0.405159\n",
       "round_trip_rate -0.247608\n",
       "trips_to_3000    0.000000\n",
       "age             -0.555307\n",
       "use_rate         0.528053\n",
       "avg_speed        0.532841\n",
       "electric        -1.754462"
      ]
     },
     "execution_count": 30,
     "metadata": {},
     "output_type": "execute_result"
    }
   ],
   "source": [
    "out = svc.coef_\n",
    "\n",
    "pd.DataFrame(data=out.reshape(-1,1), index=[X.columns])"
   ]
  },
  {
   "cell_type": "markdown",
   "metadata": {},
   "source": [
    "### AdaBoost"
   ]
  },
  {
   "cell_type": "code",
   "execution_count": 31,
   "metadata": {},
   "outputs": [],
   "source": [
    "ada = ensemble.AdaBoostClassifier(\n",
    "     n_estimators=1000\n",
    "    , learning_rate=1.0)"
   ]
  },
  {
   "cell_type": "code",
   "execution_count": 32,
   "metadata": {
    "scrolled": true
   },
   "outputs": [
    {
     "name": "stdout",
     "output_type": "stream",
     "text": [
      "-----Confusion Matrix-----\n",
      "                  Predicted Not Retired  Predicted Retired\n",
      "True Not Retired                    376                 10\n",
      "True Retired                         25                 81 \n",
      "\n",
      "Accuracy Score: 0.9288617886178862\n",
      "Recall Score: 0.7641509433962265\n",
      "Precision Score: 0.8901098901098901\n",
      "F-1 Score: 0.8223350253807108\n",
      "Area under the ROC curve: 0.9614576204907616\n"
     ]
    },
    {
     "data": {
      "image/png": "[encoded data removed]",
      "text/plain": [
       "<Figure size 432x432 with 1 Axes>"
      ]
     },
     "metadata": {
      "needs_background": "light"
     },
     "output_type": "display_data"
    }
   ],
   "source": [
    "score(ada)"
   ]
  },
  {
   "cell_type": "code",
   "execution_count": 33,
   "metadata": {},
   "outputs": [
    {
     "data": {
      "text/html": [
       "<div>\n",
       "<style scoped>\n",
       "    .dataframe tbody tr th:only-of-type {\n",
       "        vertical-align: middle;\n",
       "    }\n",
       "\n",
       "    .dataframe tbody tr th {\n",
       "        vertical-align: top;\n",
       "    }\n",
       "\n",
       "    .dataframe thead th {\n",
       "        text-align: right;\n",
       "    }\n",
       "</style>\n",
       "<table border=\"1\" class=\"dataframe\">\n",
       "  <thead>\n",
       "    <tr style=\"text-align: right;\">\n",
       "      <th></th>\n",
       "      <th>AdaBoost</th>\n",
       "    </tr>\n",
       "  </thead>\n",
       "  <tbody>\n",
       "    <tr>\n",
       "      <th>trips_to_3000</th>\n",
       "      <td>0.000</td>\n",
       "    </tr>\n",
       "    <tr>\n",
       "      <th>electric</th>\n",
       "      <td>0.029</td>\n",
       "    </tr>\n",
       "    <tr>\n",
       "      <th>total_distance</th>\n",
       "      <td>0.065</td>\n",
       "    </tr>\n",
       "    <tr>\n",
       "      <th>round_trip_rate</th>\n",
       "      <td>0.065</td>\n",
       "    </tr>\n",
       "    <tr>\n",
       "      <th>trips</th>\n",
       "      <td>0.081</td>\n",
       "    </tr>\n",
       "    <tr>\n",
       "      <th>mean_distance</th>\n",
       "      <td>0.087</td>\n",
       "    </tr>\n",
       "    <tr>\n",
       "      <th>use_rate</th>\n",
       "      <td>0.088</td>\n",
       "    </tr>\n",
       "    <tr>\n",
       "      <th>mean_time</th>\n",
       "      <td>0.092</td>\n",
       "    </tr>\n",
       "    <tr>\n",
       "      <th>avg_speed</th>\n",
       "      <td>0.093</td>\n",
       "    </tr>\n",
       "    <tr>\n",
       "      <th>total_time</th>\n",
       "      <td>0.095</td>\n",
       "    </tr>\n",
       "    <tr>\n",
       "      <th>age</th>\n",
       "      <td>0.305</td>\n",
       "    </tr>\n",
       "  </tbody>\n",
       "</table>\n",
       "</div>"
      ],
      "text/plain": [
       "                 AdaBoost\n",
       "trips_to_3000       0.000\n",
       "electric            0.029\n",
       "total_distance      0.065\n",
       "round_trip_rate     0.065\n",
       "trips               0.081\n",
       "mean_distance       0.087\n",
       "use_rate            0.088\n",
       "mean_time           0.092\n",
       "avg_speed           0.093\n",
       "total_time          0.095\n",
       "age                 0.305"
      ]
     },
     "execution_count": 33,
     "metadata": {},
     "output_type": "execute_result"
    }
   ],
   "source": [
    "out = ada.feature_importances_\n",
    "\n",
    "ada_feature_importances = pd.DataFrame(data=out, columns=['AdaBoost'], index=[X.columns])\n",
    "\n",
    "importances = importances.join(ada_feature_importances)\n",
    "\n",
    "ada_feature_importances.sort_values(by='AdaBoost')"
   ]
  },
  {
   "cell_type": "code",
   "execution_count": 47,
   "metadata": {},
   "outputs": [],
   "source": [
    "xgb = XGBClassifier(\n",
    "    n_estimators=1000\n",
    "    , learning_rate=1.0)"
   ]
  },
  {
   "cell_type": "code",
   "execution_count": 51,
   "metadata": {},
   "outputs": [
    {
     "name": "stdout",
     "output_type": "stream",
     "text": [
      "-----Confusion Matrix-----\n",
      "                  Predicted Not Retired  Predicted Retired\n",
      "True Not Retired                    375                 11\n",
      "True Retired                         18                 88 \n",
      "\n",
      "Accuracy Score: 0.9410569105691057\n",
      "Recall Score: 0.8301886792452831\n",
      "Precision Score: 0.8888888888888888\n",
      "F-1 Score: 0.8585365853658536\n",
      "Area under the ROC curve: 0.9762195718056507\n"
     ]
    },
    {
     "data": {
      "image/png": "[encoded data removed]",
      "text/plain": [
       "<Figure size 432x432 with 1 Axes>"
      ]
     },
     "metadata": {
      "needs_background": "light"
     },
     "output_type": "display_data"
    }
   ],
   "source": [
    "score(xgb)"
   ]
  },
  {
   "cell_type": "code",
   "execution_count": 36,
   "metadata": {
    "scrolled": false
   },
   "outputs": [
    {
     "data": {
      "text/html": [
       "<div>\n",
       "<style scoped>\n",
       "    .dataframe tbody tr th:only-of-type {\n",
       "        vertical-align: middle;\n",
       "    }\n",
       "\n",
       "    .dataframe tbody tr th {\n",
       "        vertical-align: top;\n",
       "    }\n",
       "\n",
       "    .dataframe thead th {\n",
       "        text-align: right;\n",
       "    }\n",
       "</style>\n",
       "<table border=\"1\" class=\"dataframe\">\n",
       "  <thead>\n",
       "    <tr style=\"text-align: right;\">\n",
       "      <th></th>\n",
       "      <th>XGBoost</th>\n",
       "    </tr>\n",
       "  </thead>\n",
       "  <tbody>\n",
       "    <tr>\n",
       "      <th>trips_to_3000</th>\n",
       "      <td>0.000000</td>\n",
       "    </tr>\n",
       "    <tr>\n",
       "      <th>total_time</th>\n",
       "      <td>0.028027</td>\n",
       "    </tr>\n",
       "    <tr>\n",
       "      <th>mean_time</th>\n",
       "      <td>0.037519</td>\n",
       "    </tr>\n",
       "    <tr>\n",
       "      <th>avg_speed</th>\n",
       "      <td>0.063253</td>\n",
       "    </tr>\n",
       "    <tr>\n",
       "      <th>use_rate</th>\n",
       "      <td>0.065021</td>\n",
       "    </tr>\n",
       "    <tr>\n",
       "      <th>round_trip_rate</th>\n",
       "      <td>0.095620</td>\n",
       "    </tr>\n",
       "    <tr>\n",
       "      <th>trips</th>\n",
       "      <td>0.102652</td>\n",
       "    </tr>\n",
       "    <tr>\n",
       "      <th>total_distance</th>\n",
       "      <td>0.108963</td>\n",
       "    </tr>\n",
       "    <tr>\n",
       "      <th>electric</th>\n",
       "      <td>0.159471</td>\n",
       "    </tr>\n",
       "    <tr>\n",
       "      <th>age</th>\n",
       "      <td>0.166837</td>\n",
       "    </tr>\n",
       "    <tr>\n",
       "      <th>mean_distance</th>\n",
       "      <td>0.172637</td>\n",
       "    </tr>\n",
       "  </tbody>\n",
       "</table>\n",
       "</div>"
      ],
      "text/plain": [
       "                  XGBoost\n",
       "trips_to_3000    0.000000\n",
       "total_time       0.028027\n",
       "mean_time        0.037519\n",
       "avg_speed        0.063253\n",
       "use_rate         0.065021\n",
       "round_trip_rate  0.095620\n",
       "trips            0.102652\n",
       "total_distance   0.108963\n",
       "electric         0.159471\n",
       "age              0.166837\n",
       "mean_distance    0.172637"
      ]
     },
     "execution_count": 36,
     "metadata": {},
     "output_type": "execute_result"
    }
   ],
   "source": [
    "out = xgb.feature_importances_\n",
    "\n",
    "xgb_feature_importances = pd.DataFrame(data=out, columns =['XGBoost'], index=[X.columns])\n",
    "\n",
    "importances = importances.join(xgb_feature_importances)\n",
    "\n",
    "xgb_feature_importances.sort_values(by='XGBoost')"
   ]
  },
  {
   "cell_type": "code",
   "execution_count": 61,
   "metadata": {},
   "outputs": [],
   "source": [
    "preds = xgb.predict(X_test)\n",
    "confusion = confusion_matrix(y_test, preds, labels=[1, 0])"
   ]
  },
  {
   "cell_type": "code",
   "execution_count": 65,
   "metadata": {},
   "outputs": [
    {
     "data": {
      "image/png": "[encoded data removed]",
      "text/plain": [
       "<Figure size 864x864 with 2 Axes>"
      ]
     },
     "metadata": {},
     "output_type": "display_data"
    }
   ],
   "source": [
    "sns.set(font_scale=1.5)\n",
    "plot_confusion_matrix(cm=confusion, target_names=['Inactive', 'Active'])"
   ]
  },
  {
   "cell_type": "code",
   "execution_count": 37,
   "metadata": {
    "scrolled": false
   },
   "outputs": [],
   "source": [
    "importances['sum'] = importances.sum(axis=1)\n",
    "importances = importances.sort_values(by='sum', ascending=False)\n",
    "importances.drop('sum', axis=1, inplace=True)"
   ]
  },
  {
   "cell_type": "code",
   "execution_count": 38,
   "metadata": {},
   "outputs": [
    {
     "data": {
      "image/png": "[encoded data removed]",
      "text/plain": [
       "<Figure size 576x576 with 1 Axes>"
      ]
     },
     "metadata": {
      "needs_background": "light"
     },
     "output_type": "display_data"
    }
   ],
   "source": [
    "fig, ax = plt.subplots(figsize=(8,8))\n",
    "importances.plot(kind='barh', stacked=False, color=['orange', 'blue', 'cyan', 'red'], ax=ax)\n",
    "plt.title('Feature Importances Across Models', size='xx-large')\n",
    "# plt.xlim(0,1)\n",
    "plt.legend(fontsize='xx-large')\n",
    "plt.show()"
   ]
  },
  {
   "cell_type": "code",
   "execution_count": 39,
   "metadata": {},
   "outputs": [
    {
     "name": "stdout",
     "output_type": "stream",
     "text": [
      "5 fold cross validation score mean for AdaBoost Classifier:  0.9227118644067795\n",
      "5 fold cross validation score mean for Random Forest Classifier:  0.9206779661016948\n",
      "5 fold cross validation score mean for XGBoost Classifier:  0.9308474576271186\n"
     ]
    }
   ],
   "source": [
    "# Use cross validation to confirm the three best solvers. AdaBoost, RandomForest, and XGBoost \n",
    "# all performed significantly better than the others and similarly to eachother.\n",
    "\n",
    "solvers = {ada : 'AdaBoost Classifier' ,rfc : 'Random Forest Classifier',  xgb : 'XGBoost Classifier'}\n",
    "\n",
    "for algo, name in solvers.items():\n",
    "    scores = cross_val_score(algo, X_train, y_train, cv = 5)\n",
    "    print('5 fold cross validation score mean for {}:  {}'.format(name, scores.mean()))"
   ]
  },
  {
   "cell_type": "markdown",
   "metadata": {},
   "source": [
    "## Conclusions and Discussion"
   ]
  },
  {
   "cell_type": "markdown",
   "metadata": {},
   "source": [
    "The XGBoost Model performed best though similarly to other decision tree based models. Due to lack of linear separability along many of the features, linear models performed poorly as expected. This XGBoost could benefit further from more tuning, and according to the business case be modified for high precision or recall.\n",
    "\n",
    "\n",
    "This model significantly outperforms a baseline model but can still be improved significantly. In addition this project would benefit from better data, which is likely available internally to the company. Aggregation and some careful assumptions lead to this output. Based upon the success of the model under these challenging circumstances it represents strong proof of concept that this model or one similar to it could produce valuable insights for Inedgo."
   ]
  }
 ],
 "metadata": {
  "kernelspec": {
   "display_name": "Python 3",
   "language": "python",
   "name": "python3"
  },
  "language_info": {
   "codemirror_mode": {
    "name": "ipython",
    "version": 3
   },
   "file_extension": ".py",
   "mimetype": "text/x-python",
   "name": "python",
   "nbconvert_exporter": "python",
   "pygments_lexer": "ipython3",
   "version": "3.7.6"
  }
 },
 "nbformat": 4,
 "nbformat_minor": 4
}
