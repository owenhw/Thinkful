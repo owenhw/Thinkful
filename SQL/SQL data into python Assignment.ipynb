{
 "cells": [
  {
   "cell_type": "code",
   "execution_count": 19,
   "metadata": {},
   "outputs": [
    {
     "name": "stdout",
     "output_type": "stream",
     "text": [
      "Requirement already satisfied: psycopg2-binary in /home/owen/bin/anaconda3/lib/python3.7/site-packages (2.8.5)\r\n"
     ]
    }
   ],
   "source": [
    "!pip install psycopg2-binary\n",
    "from sqlalchemy import create_engine\n",
    "import math"
   ]
  },
  {
   "cell_type": "code",
   "execution_count": 4,
   "metadata": {},
   "outputs": [],
   "source": [
    "postgres_user = 'dsbc_student'\n",
    "postgres_pw = '7*.8G9QH21'\n",
    "postgres_host = '142.93.121.174'\n",
    "postgres_port = '5432'\n",
    "postgres_db = 'dvdrentals'\n",
    "\n",
    "engine = create_engine('postgresql://{}:{}@{}:{}/{}'.format(\n",
    "    postgres_user, postgres_pw, postgres_host, postgres_port, postgres_db))"
   ]
  },
  {
   "cell_type": "code",
   "execution_count": 10,
   "metadata": {},
   "outputs": [
    {
     "name": "stdout",
     "output_type": "stream",
     "text": [
      "(195, 'R')\n",
      "(210, 'NC-17')\n",
      "(194, 'PG')\n",
      "(223, 'PG-13')\n",
      "(178, 'G')\n"
     ]
    }
   ],
   "source": [
    "query_1 = '''\n",
    "SELECT \n",
    "    COUNT(film_id) \n",
    "    , rating\n",
    "FROM\n",
    "    film\n",
    "GROUP BY\n",
    "    rating;\n",
    "    '''\n",
    "\n",
    "rated_films = engine.execute(query_1)\n",
    "rows = rated_films.fetchall()\n",
    "for row in rows:\n",
    "    print(row)"
   ]
  },
  {
   "cell_type": "code",
   "execution_count": 15,
   "metadata": {},
   "outputs": [
    {
     "name": "stdout",
     "output_type": "stream",
     "text": [
      "('4.77', 'R')\n",
      "('5.14', 'NC-17')\n",
      "('5.08', 'PG')\n",
      "('5.05', 'PG-13')\n",
      "('4.84', 'G')\n"
     ]
    }
   ],
   "source": [
    "query_2 = '''\n",
    "SELECT \n",
    "    ROUND(AVG(rental_duration) , 2)::varchar AS avg_rental_duration\n",
    "    , rating\n",
    "FROM\n",
    "    film\n",
    "GROUP BY\n",
    "    rating;\n",
    "'''\n",
    "rental_duration = engine.execute(query_2)\n",
    "rows = rental_duration.fetchall()\n",
    "for row in rows:\n",
    "    print(row)"
   ]
  },
  {
   "cell_type": "code",
   "execution_count": 30,
   "metadata": {},
   "outputs": [
    {
     "name": "stdout",
     "output_type": "stream",
     "text": [
      "The average duration of a film is: 115.272\n"
     ]
    }
   ],
   "source": [
    "def mean(data):\n",
    "    sum = 0\n",
    "    for datum in data:\n",
    "        sum += datum\n",
    "    avg = sum/len(data)\n",
    "    return avg\n",
    "\n",
    "query_3 ='''\n",
    "SELECT\n",
    "    length\n",
    "FROM\n",
    "    film\n",
    "'''\n",
    "\n",
    "film_durations = engine.execute(query_3)\n",
    "durations = [row['length'] for row in film_durations]\n",
    "print('The average duration of a film is: {}'.format(mean(durations)))"
   ]
  },
  {
   "cell_type": "code",
   "execution_count": 31,
   "metadata": {},
   "outputs": [
    {
     "name": "stdout",
     "output_type": "stream",
     "text": [
      "The median duration of films is: 152.0\n"
     ]
    }
   ],
   "source": [
    "def median(data):\n",
    "    if len(data) %2 == 0:\n",
    "        upper = math.floor(len(data) / 2)\n",
    "        lower = upper - 1\n",
    "        mid = (data[upper] + data[lower]) / 2\n",
    "    else:\n",
    "        mid = data[math.floor(len(data) / 2)]\n",
    "    return mid\n",
    "\n",
    "print('The median duration of films is: {}'.format(median(durations)))"
   ]
  },
  {
   "cell_type": "code",
   "execution_count": 32,
   "metadata": {},
   "outputs": [
    {
     "name": "stdout",
     "output_type": "stream",
     "text": [
      "The standard deviation of film length is: 40.42633181855987\n"
     ]
    }
   ],
   "source": [
    "def standard_deviation(data):\n",
    "    N = len(data)\n",
    "    avg = mean(data)\n",
    "    sum = 0\n",
    "    for datum in data:\n",
    "        difference = datum - avg\n",
    "        squared = math.pow(difference, 2)\n",
    "        sum += squared\n",
    "    sigma = math.sqrt(sum / (N - 1))\n",
    "    return sigma\n",
    "\n",
    "print('The standard deviation of film length is: {}'.format(standard_deviation(durations)))      "
   ]
  }
 ],
 "metadata": {
  "kernelspec": {
   "display_name": "Python 3",
   "language": "python",
   "name": "python3"
  },
  "language_info": {
   "codemirror_mode": {
    "name": "ipython",
    "version": 3
   },
   "file_extension": ".py",
   "mimetype": "text/x-python",
   "name": "python",
   "nbconvert_exporter": "python",
   "pygments_lexer": "ipython3",
   "version": "3.7.6"
  }
 },
 "nbformat": 4,
 "nbformat_minor": 4
}
