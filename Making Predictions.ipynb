{
 "cells": [
  {
   "cell_type": "code",
   "execution_count": 1,
   "metadata": {},
   "outputs": [],
   "source": [
    "import matplotlib.pyplot as plt\n",
    "import numpy as np\n",
    "import pandas as pd\n",
    "from sklearn.linear_model import LinearRegression\n",
    "from sklearn.model_selection import train_test_split\n",
    "from sklearn.metrics import mean_absolute_error\n",
    "import statsmodels.api as sm\n",
    "from statsmodels.tools.eval_measures import mse, rmse\n",
    "from sqlalchemy import create_engine\n",
    "from scipy.stats.mstats import winsorize\n",
    "\n",
    "# Display preferences.\n",
    "%matplotlib inline\n",
    "pd.options.display.float_format = '{:.3f}'.format\n",
    "\n",
    "import warnings\n",
    "warnings.filterwarnings(action=\"ignore\")"
   ]
  },
  {
   "cell_type": "code",
   "execution_count": 2,
   "metadata": {},
   "outputs": [],
   "source": [
    "postgres_user = 'dsbc_student'\n",
    "postgres_pw = '7*.8G9QH21'\n",
    "postgres_host = '142.93.121.174'\n",
    "postgres_port = '5432'\n",
    "postgres_db = 'houseprices'\n",
    "\n",
    "engine = create_engine('postgresql://{}:{}@{}:{}/{}'.format(\n",
    "    postgres_user, postgres_pw, postgres_host, postgres_port, postgres_db))\n",
    "\n",
    "query1 = '''\n",
    "SELECT\n",
    "  *\n",
    "FROM\n",
    "  houseprices\n",
    "'''\n",
    "\n",
    "df = pd.read_sql_query(query1, con=engine)\n",
    "engine.dispose()"
   ]
  },
  {
   "cell_type": "code",
   "execution_count": 3,
   "metadata": {},
   "outputs": [],
   "source": [
    "df['total_square_feet'] = df['totalbsmtsf'] + df['grlivarea'] "
   ]
  },
  {
   "cell_type": "code",
   "execution_count": 4,
   "metadata": {},
   "outputs": [],
   "source": [
    "df['has_central_air'] = pd.get_dummies(df['centralair'], drop_first=True)"
   ]
  },
  {
   "cell_type": "code",
   "execution_count": 5,
   "metadata": {},
   "outputs": [],
   "source": [
    "features = ['exterqual', 'kitchenqual', 'has_central_air', 'neighborhood', 'total_square_feet', 'yearbuilt', 'saleprice']"
   ]
  },
  {
   "cell_type": "code",
   "execution_count": 6,
   "metadata": {},
   "outputs": [],
   "source": [
    "df_features = df[features]"
   ]
  },
  {
   "cell_type": "code",
   "execution_count": 7,
   "metadata": {},
   "outputs": [],
   "source": [
    "df_features = pd.concat([df_features, pd.get_dummies(df_features['kitchenqual'])], axis=1)"
   ]
  },
  {
   "cell_type": "code",
   "execution_count": 8,
   "metadata": {},
   "outputs": [],
   "source": [
    "df_features['kitchen_quality_excelent'] = df_features['Ex']\n",
    "df_features['kitchen_quality_average'] = df_features['TA']\n",
    "df_features['kitchen_quality_good'] = df_features['Gd']\n",
    "\n",
    "df_features.drop(['Fa', 'TA', 'Gd', 'Ex', 'kitchenqual'], inplace=True, axis=1)"
   ]
  },
  {
   "cell_type": "code",
   "execution_count": 9,
   "metadata": {},
   "outputs": [],
   "source": [
    "df_features = pd.concat([df_features, pd.get_dummies(df_features['neighborhood'], drop_first=True)], axis=1)"
   ]
  },
  {
   "cell_type": "code",
   "execution_count": 10,
   "metadata": {},
   "outputs": [],
   "source": [
    "df_features = pd.concat([df_features, pd.get_dummies(df_features['exterqual'])], axis=1)"
   ]
  },
  {
   "cell_type": "code",
   "execution_count": 11,
   "metadata": {},
   "outputs": [],
   "source": [
    "df_features['exterior_quality_excelent'] = df_features['Ex']\n",
    "df_features['exterior_quality_good'] = df_features['Gd']\n",
    "df_features['exterior_quality_average'] = df_features['TA']\n",
    "\n",
    "df_features.drop(['Ex', 'Gd', 'TA', 'Fa', 'exterqual', 'neighborhood'], inplace=True, axis=1)"
   ]
  },
  {
   "cell_type": "code",
   "execution_count": 12,
   "metadata": {},
   "outputs": [
    {
     "name": "stdout",
     "output_type": "stream",
     "text": [
      "<class 'pandas.core.frame.DataFrame'>\n",
      "RangeIndex: 1460 entries, 0 to 1459\n",
      "Data columns (total 34 columns):\n",
      " #   Column                     Non-Null Count  Dtype\n",
      "---  ------                     --------------  -----\n",
      " 0   has_central_air            1460 non-null   uint8\n",
      " 1   total_square_feet          1460 non-null   int64\n",
      " 2   yearbuilt                  1460 non-null   int64\n",
      " 3   saleprice                  1460 non-null   int64\n",
      " 4   kitchen_quality_excelent   1460 non-null   uint8\n",
      " 5   kitchen_quality_average    1460 non-null   uint8\n",
      " 6   kitchen_quality_good       1460 non-null   uint8\n",
      " 7   Blueste                    1460 non-null   uint8\n",
      " 8   BrDale                     1460 non-null   uint8\n",
      " 9   BrkSide                    1460 non-null   uint8\n",
      " 10  ClearCr                    1460 non-null   uint8\n",
      " 11  CollgCr                    1460 non-null   uint8\n",
      " 12  Crawfor                    1460 non-null   uint8\n",
      " 13  Edwards                    1460 non-null   uint8\n",
      " 14  Gilbert                    1460 non-null   uint8\n",
      " 15  IDOTRR                     1460 non-null   uint8\n",
      " 16  MeadowV                    1460 non-null   uint8\n",
      " 17  Mitchel                    1460 non-null   uint8\n",
      " 18  NAmes                      1460 non-null   uint8\n",
      " 19  NPkVill                    1460 non-null   uint8\n",
      " 20  NWAmes                     1460 non-null   uint8\n",
      " 21  NoRidge                    1460 non-null   uint8\n",
      " 22  NridgHt                    1460 non-null   uint8\n",
      " 23  OldTown                    1460 non-null   uint8\n",
      " 24  SWISU                      1460 non-null   uint8\n",
      " 25  Sawyer                     1460 non-null   uint8\n",
      " 26  SawyerW                    1460 non-null   uint8\n",
      " 27  Somerst                    1460 non-null   uint8\n",
      " 28  StoneBr                    1460 non-null   uint8\n",
      " 29  Timber                     1460 non-null   uint8\n",
      " 30  Veenker                    1460 non-null   uint8\n",
      " 31  exterior_quality_excelent  1460 non-null   uint8\n",
      " 32  exterior_quality_good      1460 non-null   uint8\n",
      " 33  exterior_quality_average   1460 non-null   uint8\n",
      "dtypes: int64(3), uint8(31)\n",
      "memory usage: 78.5 KB\n"
     ]
    }
   ],
   "source": [
    "df_features.info()"
   ]
  },
  {
   "cell_type": "code",
   "execution_count": 13,
   "metadata": {},
   "outputs": [],
   "source": [
    "conts = ['saleprice', 'yearbuilt', 'total_square_feet']"
   ]
  },
  {
   "cell_type": "code",
   "execution_count": 14,
   "metadata": {},
   "outputs": [],
   "source": [
    "for column in conts:\n",
    "    df_features[column] = winsorize(df_features[column], (.05, .05))"
   ]
  },
  {
   "cell_type": "code",
   "execution_count": 15,
   "metadata": {},
   "outputs": [],
   "source": [
    "X = df_features.drop('saleprice', axis=1)\n",
    "y = df_features['saleprice']"
   ]
  },
  {
   "cell_type": "code",
   "execution_count": 16,
   "metadata": {},
   "outputs": [],
   "source": [
    "X_train, X_test, y_train, y_test = train_test_split(X, y)"
   ]
  },
  {
   "cell_type": "code",
   "execution_count": 17,
   "metadata": {},
   "outputs": [
    {
     "data": {
      "text/html": [
       "<table class=\"simpletable\">\n",
       "<caption>OLS Regression Results</caption>\n",
       "<tr>\n",
       "  <th>Dep. Variable:</th>        <td>saleprice</td>    <th>  R-squared:         </th> <td>   0.859</td> \n",
       "</tr>\n",
       "<tr>\n",
       "  <th>Model:</th>                   <td>OLS</td>       <th>  Adj. R-squared:    </th> <td>   0.855</td> \n",
       "</tr>\n",
       "<tr>\n",
       "  <th>Method:</th>             <td>Least Squares</td>  <th>  F-statistic:       </th> <td>   196.6</td> \n",
       "</tr>\n",
       "<tr>\n",
       "  <th>Date:</th>             <td>Mon, 31 Aug 2020</td> <th>  Prob (F-statistic):</th>  <td>  0.00</td>  \n",
       "</tr>\n",
       "<tr>\n",
       "  <th>Time:</th>                 <td>23:55:09</td>     <th>  Log-Likelihood:    </th> <td> -12602.</td> \n",
       "</tr>\n",
       "<tr>\n",
       "  <th>No. Observations:</th>      <td>  1095</td>      <th>  AIC:               </th> <td>2.527e+04</td>\n",
       "</tr>\n",
       "<tr>\n",
       "  <th>Df Residuals:</th>          <td>  1061</td>      <th>  BIC:               </th> <td>2.544e+04</td>\n",
       "</tr>\n",
       "<tr>\n",
       "  <th>Df Model:</th>              <td>    33</td>      <th>                     </th>     <td> </td>    \n",
       "</tr>\n",
       "<tr>\n",
       "  <th>Covariance Type:</th>      <td>nonrobust</td>    <th>                     </th>     <td> </td>    \n",
       "</tr>\n",
       "</table>\n",
       "<table class=\"simpletable\">\n",
       "<tr>\n",
       "              <td></td>                 <th>coef</th>     <th>std err</th>      <th>t</th>      <th>P>|t|</th>  <th>[0.025</th>    <th>0.975]</th>  \n",
       "</tr>\n",
       "<tr>\n",
       "  <th>const</th>                     <td>-7.033e+05</td> <td> 1.27e+05</td> <td>   -5.537</td> <td> 0.000</td> <td>-9.53e+05</td> <td>-4.54e+05</td>\n",
       "</tr>\n",
       "<tr>\n",
       "  <th>has_central_air</th>           <td> 1.455e+04</td> <td> 3461.865</td> <td>    4.202</td> <td> 0.000</td> <td> 7752.820</td> <td> 2.13e+04</td>\n",
       "</tr>\n",
       "<tr>\n",
       "  <th>total_square_feet</th>         <td>   48.4197</td> <td>    1.514</td> <td>   31.981</td> <td> 0.000</td> <td>   45.449</td> <td>   51.391</td>\n",
       "</tr>\n",
       "<tr>\n",
       "  <th>yearbuilt</th>                 <td>  358.2666</td> <td>   63.738</td> <td>    5.621</td> <td> 0.000</td> <td>  233.200</td> <td>  483.334</td>\n",
       "</tr>\n",
       "<tr>\n",
       "  <th>kitchen_quality_excelent</th>  <td> 4.063e+04</td> <td> 6561.052</td> <td>    6.193</td> <td> 0.000</td> <td> 2.78e+04</td> <td> 5.35e+04</td>\n",
       "</tr>\n",
       "<tr>\n",
       "  <th>kitchen_quality_average</th>   <td> 5306.8145</td> <td> 5153.022</td> <td>    1.030</td> <td> 0.303</td> <td>-4804.457</td> <td> 1.54e+04</td>\n",
       "</tr>\n",
       "<tr>\n",
       "  <th>kitchen_quality_good</th>      <td> 1.743e+04</td> <td> 5500.891</td> <td>    3.168</td> <td> 0.002</td> <td> 6631.596</td> <td> 2.82e+04</td>\n",
       "</tr>\n",
       "<tr>\n",
       "  <th>Blueste</th>                   <td> 6947.7332</td> <td>  1.9e+04</td> <td>    0.365</td> <td> 0.715</td> <td>-3.04e+04</td> <td> 4.43e+04</td>\n",
       "</tr>\n",
       "<tr>\n",
       "  <th>BrDale</th>                    <td> -1.19e+04</td> <td> 1.09e+04</td> <td>   -1.096</td> <td> 0.273</td> <td>-3.32e+04</td> <td> 9407.374</td>\n",
       "</tr>\n",
       "<tr>\n",
       "  <th>BrkSide</th>                   <td> 1.471e+04</td> <td> 9393.374</td> <td>    1.566</td> <td> 0.118</td> <td>-3725.084</td> <td> 3.31e+04</td>\n",
       "</tr>\n",
       "<tr>\n",
       "  <th>ClearCr</th>                   <td> 2.824e+04</td> <td> 9331.654</td> <td>    3.026</td> <td> 0.003</td> <td> 9928.859</td> <td> 4.66e+04</td>\n",
       "</tr>\n",
       "<tr>\n",
       "  <th>CollgCr</th>                   <td> 1.171e+04</td> <td> 7756.562</td> <td>    1.509</td> <td> 0.131</td> <td>-3511.561</td> <td> 2.69e+04</td>\n",
       "</tr>\n",
       "<tr>\n",
       "  <th>Crawfor</th>                   <td> 4.028e+04</td> <td> 9418.320</td> <td>    4.276</td> <td> 0.000</td> <td> 2.18e+04</td> <td> 5.88e+04</td>\n",
       "</tr>\n",
       "<tr>\n",
       "  <th>Edwards</th>                   <td>   76.2129</td> <td> 8643.212</td> <td>    0.009</td> <td> 0.993</td> <td>-1.69e+04</td> <td>  1.7e+04</td>\n",
       "</tr>\n",
       "<tr>\n",
       "  <th>Gilbert</th>                   <td> 1.895e+04</td> <td> 8135.859</td> <td>    2.329</td> <td> 0.020</td> <td> 2987.609</td> <td> 3.49e+04</td>\n",
       "</tr>\n",
       "<tr>\n",
       "  <th>IDOTRR</th>                    <td> 5930.3555</td> <td> 9847.427</td> <td>    0.602</td> <td> 0.547</td> <td>-1.34e+04</td> <td> 2.53e+04</td>\n",
       "</tr>\n",
       "<tr>\n",
       "  <th>MeadowV</th>                   <td>-1.543e+04</td> <td> 1.14e+04</td> <td>   -1.356</td> <td> 0.175</td> <td>-3.78e+04</td> <td> 6894.145</td>\n",
       "</tr>\n",
       "<tr>\n",
       "  <th>Mitchel</th>                   <td> 4862.1208</td> <td> 8614.574</td> <td>    0.564</td> <td> 0.573</td> <td> -1.2e+04</td> <td> 2.18e+04</td>\n",
       "</tr>\n",
       "<tr>\n",
       "  <th>NAmes</th>                     <td> 4395.7301</td> <td> 8250.473</td> <td>    0.533</td> <td> 0.594</td> <td>-1.18e+04</td> <td> 2.06e+04</td>\n",
       "</tr>\n",
       "<tr>\n",
       "  <th>NPkVill</th>                   <td> 5138.1368</td> <td> 1.27e+04</td> <td>    0.404</td> <td> 0.686</td> <td>-1.98e+04</td> <td> 3.01e+04</td>\n",
       "</tr>\n",
       "<tr>\n",
       "  <th>NWAmes</th>                    <td> 1.222e+04</td> <td> 8451.182</td> <td>    1.446</td> <td> 0.149</td> <td>-4366.474</td> <td> 2.88e+04</td>\n",
       "</tr>\n",
       "<tr>\n",
       "  <th>NoRidge</th>                   <td> 5.387e+04</td> <td> 8663.006</td> <td>    6.218</td> <td> 0.000</td> <td> 3.69e+04</td> <td> 7.09e+04</td>\n",
       "</tr>\n",
       "<tr>\n",
       "  <th>NridgHt</th>                   <td> 3.263e+04</td> <td> 8346.833</td> <td>    3.909</td> <td> 0.000</td> <td> 1.63e+04</td> <td>  4.9e+04</td>\n",
       "</tr>\n",
       "<tr>\n",
       "  <th>OldTown</th>                   <td> 1946.4958</td> <td> 9150.342</td> <td>    0.213</td> <td> 0.832</td> <td> -1.6e+04</td> <td> 1.99e+04</td>\n",
       "</tr>\n",
       "<tr>\n",
       "  <th>SWISU</th>                     <td> 4370.7659</td> <td> 1.04e+04</td> <td>    0.421</td> <td> 0.674</td> <td> -1.6e+04</td> <td> 2.47e+04</td>\n",
       "</tr>\n",
       "<tr>\n",
       "  <th>Sawyer</th>                    <td> 3181.7883</td> <td> 8589.438</td> <td>    0.370</td> <td> 0.711</td> <td>-1.37e+04</td> <td>    2e+04</td>\n",
       "</tr>\n",
       "<tr>\n",
       "  <th>SawyerW</th>                   <td> 1.075e+04</td> <td> 8640.596</td> <td>    1.244</td> <td> 0.214</td> <td>-6203.714</td> <td> 2.77e+04</td>\n",
       "</tr>\n",
       "<tr>\n",
       "  <th>Somerst</th>                   <td>  2.47e+04</td> <td> 7974.794</td> <td>    3.098</td> <td> 0.002</td> <td> 9056.286</td> <td> 4.04e+04</td>\n",
       "</tr>\n",
       "<tr>\n",
       "  <th>StoneBr</th>                   <td> 3.556e+04</td> <td> 9423.506</td> <td>    3.773</td> <td> 0.000</td> <td> 1.71e+04</td> <td>  5.4e+04</td>\n",
       "</tr>\n",
       "<tr>\n",
       "  <th>Timber</th>                    <td> 3.817e+04</td> <td> 9105.143</td> <td>    4.193</td> <td> 0.000</td> <td> 2.03e+04</td> <td>  5.6e+04</td>\n",
       "</tr>\n",
       "<tr>\n",
       "  <th>Veenker</th>                   <td> 4.631e+04</td> <td> 1.11e+04</td> <td>    4.163</td> <td> 0.000</td> <td> 2.45e+04</td> <td> 6.81e+04</td>\n",
       "</tr>\n",
       "<tr>\n",
       "  <th>exterior_quality_excelent</th> <td> 3.779e+04</td> <td> 9805.212</td> <td>    3.854</td> <td> 0.000</td> <td> 1.85e+04</td> <td>  5.7e+04</td>\n",
       "</tr>\n",
       "<tr>\n",
       "  <th>exterior_quality_good</th>     <td> 1.678e+04</td> <td> 8471.806</td> <td>    1.981</td> <td> 0.048</td> <td>  160.002</td> <td> 3.34e+04</td>\n",
       "</tr>\n",
       "<tr>\n",
       "  <th>exterior_quality_average</th>  <td> 6326.0318</td> <td> 8027.330</td> <td>    0.788</td> <td> 0.431</td> <td>-9425.214</td> <td> 2.21e+04</td>\n",
       "</tr>\n",
       "</table>\n",
       "<table class=\"simpletable\">\n",
       "<tr>\n",
       "  <th>Omnibus:</th>       <td>41.119</td> <th>  Durbin-Watson:     </th> <td>   2.001</td>\n",
       "</tr>\n",
       "<tr>\n",
       "  <th>Prob(Omnibus):</th> <td> 0.000</td> <th>  Jarque-Bera (JB):  </th> <td> 109.316</td>\n",
       "</tr>\n",
       "<tr>\n",
       "  <th>Skew:</th>          <td>-0.081</td> <th>  Prob(JB):          </th> <td>1.83e-24</td>\n",
       "</tr>\n",
       "<tr>\n",
       "  <th>Kurtosis:</th>      <td> 4.539</td> <th>  Cond. No.          </th> <td>5.63e+05</td>\n",
       "</tr>\n",
       "</table><br/><br/>Warnings:<br/>[1] Standard Errors assume that the covariance matrix of the errors is correctly specified.<br/>[2] The condition number is large, 5.63e+05. This might indicate that there are<br/>strong multicollinearity or other numerical problems."
      ],
      "text/plain": [
       "<class 'statsmodels.iolib.summary.Summary'>\n",
       "\"\"\"\n",
       "                            OLS Regression Results                            \n",
       "==============================================================================\n",
       "Dep. Variable:              saleprice   R-squared:                       0.859\n",
       "Model:                            OLS   Adj. R-squared:                  0.855\n",
       "Method:                 Least Squares   F-statistic:                     196.6\n",
       "Date:                Mon, 31 Aug 2020   Prob (F-statistic):               0.00\n",
       "Time:                        23:55:09   Log-Likelihood:                -12602.\n",
       "No. Observations:                1095   AIC:                         2.527e+04\n",
       "Df Residuals:                    1061   BIC:                         2.544e+04\n",
       "Df Model:                          33                                         \n",
       "Covariance Type:            nonrobust                                         \n",
       "=============================================================================================\n",
       "                                coef    std err          t      P>|t|      [0.025      0.975]\n",
       "---------------------------------------------------------------------------------------------\n",
       "const                     -7.033e+05   1.27e+05     -5.537      0.000   -9.53e+05   -4.54e+05\n",
       "has_central_air            1.455e+04   3461.865      4.202      0.000    7752.820    2.13e+04\n",
       "total_square_feet            48.4197      1.514     31.981      0.000      45.449      51.391\n",
       "yearbuilt                   358.2666     63.738      5.621      0.000     233.200     483.334\n",
       "kitchen_quality_excelent   4.063e+04   6561.052      6.193      0.000    2.78e+04    5.35e+04\n",
       "kitchen_quality_average    5306.8145   5153.022      1.030      0.303   -4804.457    1.54e+04\n",
       "kitchen_quality_good       1.743e+04   5500.891      3.168      0.002    6631.596    2.82e+04\n",
       "Blueste                    6947.7332    1.9e+04      0.365      0.715   -3.04e+04    4.43e+04\n",
       "BrDale                     -1.19e+04   1.09e+04     -1.096      0.273   -3.32e+04    9407.374\n",
       "BrkSide                    1.471e+04   9393.374      1.566      0.118   -3725.084    3.31e+04\n",
       "ClearCr                    2.824e+04   9331.654      3.026      0.003    9928.859    4.66e+04\n",
       "CollgCr                    1.171e+04   7756.562      1.509      0.131   -3511.561    2.69e+04\n",
       "Crawfor                    4.028e+04   9418.320      4.276      0.000    2.18e+04    5.88e+04\n",
       "Edwards                      76.2129   8643.212      0.009      0.993   -1.69e+04     1.7e+04\n",
       "Gilbert                    1.895e+04   8135.859      2.329      0.020    2987.609    3.49e+04\n",
       "IDOTRR                     5930.3555   9847.427      0.602      0.547   -1.34e+04    2.53e+04\n",
       "MeadowV                   -1.543e+04   1.14e+04     -1.356      0.175   -3.78e+04    6894.145\n",
       "Mitchel                    4862.1208   8614.574      0.564      0.573    -1.2e+04    2.18e+04\n",
       "NAmes                      4395.7301   8250.473      0.533      0.594   -1.18e+04    2.06e+04\n",
       "NPkVill                    5138.1368   1.27e+04      0.404      0.686   -1.98e+04    3.01e+04\n",
       "NWAmes                     1.222e+04   8451.182      1.446      0.149   -4366.474    2.88e+04\n",
       "NoRidge                    5.387e+04   8663.006      6.218      0.000    3.69e+04    7.09e+04\n",
       "NridgHt                    3.263e+04   8346.833      3.909      0.000    1.63e+04     4.9e+04\n",
       "OldTown                    1946.4958   9150.342      0.213      0.832    -1.6e+04    1.99e+04\n",
       "SWISU                      4370.7659   1.04e+04      0.421      0.674    -1.6e+04    2.47e+04\n",
       "Sawyer                     3181.7883   8589.438      0.370      0.711   -1.37e+04       2e+04\n",
       "SawyerW                    1.075e+04   8640.596      1.244      0.214   -6203.714    2.77e+04\n",
       "Somerst                     2.47e+04   7974.794      3.098      0.002    9056.286    4.04e+04\n",
       "StoneBr                    3.556e+04   9423.506      3.773      0.000    1.71e+04     5.4e+04\n",
       "Timber                     3.817e+04   9105.143      4.193      0.000    2.03e+04     5.6e+04\n",
       "Veenker                    4.631e+04   1.11e+04      4.163      0.000    2.45e+04    6.81e+04\n",
       "exterior_quality_excelent  3.779e+04   9805.212      3.854      0.000    1.85e+04     5.7e+04\n",
       "exterior_quality_good      1.678e+04   8471.806      1.981      0.048     160.002    3.34e+04\n",
       "exterior_quality_average   6326.0318   8027.330      0.788      0.431   -9425.214    2.21e+04\n",
       "==============================================================================\n",
       "Omnibus:                       41.119   Durbin-Watson:                   2.001\n",
       "Prob(Omnibus):                  0.000   Jarque-Bera (JB):              109.316\n",
       "Skew:                          -0.081   Prob(JB):                     1.83e-24\n",
       "Kurtosis:                       4.539   Cond. No.                     5.63e+05\n",
       "==============================================================================\n",
       "\n",
       "Warnings:\n",
       "[1] Standard Errors assume that the covariance matrix of the errors is correctly specified.\n",
       "[2] The condition number is large, 5.63e+05. This might indicate that there are\n",
       "strong multicollinearity or other numerical problems.\n",
       "\"\"\""
      ]
     },
     "execution_count": 17,
     "metadata": {},
     "output_type": "execute_result"
    }
   ],
   "source": [
    "X_train = sm.add_constant(X_train)\n",
    "\n",
    "results = sm.OLS(y_train, X_train).fit()\n",
    "\n",
    "results.summary()"
   ]
  },
  {
   "cell_type": "code",
   "execution_count": 18,
   "metadata": {},
   "outputs": [],
   "source": [
    "X_test = sm.add_constant(X_test)\n",
    "\n",
    "y_preds = results.predict(X_test)"
   ]
  },
  {
   "cell_type": "code",
   "execution_count": 19,
   "metadata": {},
   "outputs": [
    {
     "data": {
      "image/png": "[encoded data removed]",
      "text/plain": [
       "<Figure size 432x288 with 1 Axes>"
      ]
     },
     "metadata": {
      "needs_background": "light"
     },
     "output_type": "display_data"
    }
   ],
   "source": [
    "plt.scatter(y_test, y_preds)\n",
    "plt.plot(y_test, y_test, color=\"red\")\n",
    "plt.xlabel(\"true values\")\n",
    "plt.ylabel(\"predicted values\")\n",
    "plt.title(\"Charges: true and predicted values\")\n",
    "plt.show()"
   ]
  },
  {
   "cell_type": "code",
   "execution_count": 20,
   "metadata": {},
   "outputs": [
    {
     "name": "stdout",
     "output_type": "stream",
     "text": [
      "Mean absolute error of the prediction is: 18836.351021935912\n",
      "Mean squared error of the prediction is: 694189661.1130582\n",
      "Root mean squared error of the prediction is: 26347.479217432894\n",
      "Mean absolute percentage error of the prediction is: 10.857139540372593\n"
     ]
    }
   ],
   "source": [
    "print(\"Mean absolute error of the prediction is: {}\".format(mean_absolute_error(y_test, y_preds)))\n",
    "print(\"Mean squared error of the prediction is: {}\".format(mse(y_test, y_preds)))\n",
    "print(\"Root mean squared error of the prediction is: {}\".format(rmse(y_test, y_preds)))\n",
    "print(\"Mean absolute percentage error of the prediction is: {}\".format(np.mean(np.abs((y_test - y_preds) / y_test)) * 100))"
   ]
  },
  {
   "cell_type": "markdown",
   "metadata": {},
   "source": [
    "This model is vaguely accurate. However we would like to see a much tighter fit of the predictions to the actual values. 11.3% MAE is well above what we would like to see. Without a clearer benchmark for performace I would like this to be under 10% and ideally under 5%. Lets play around with some of the features to see if we can make the model a little more accurate."
   ]
  },
  {
   "cell_type": "code",
   "execution_count": 47,
   "metadata": {},
   "outputs": [],
   "source": [
    "features_2 = ['overallqual', 'neighborhood'\n",
    "              , 'has_central_air', 'total_square_feet', 'saleprice']"
   ]
  },
  {
   "cell_type": "code",
   "execution_count": 48,
   "metadata": {
    "scrolled": true
   },
   "outputs": [],
   "source": [
    "houseprices_2 = df[features_2]"
   ]
  },
  {
   "cell_type": "code",
   "execution_count": 50,
   "metadata": {},
   "outputs": [],
   "source": [
    "houseprices_2 = pd.concat([houseprices_2\n",
    "                           , pd.get_dummies(houseprices_2['neighborhood'], prefix='neighborhood', drop_first=True)]\n",
    "                           , axis=1)"
   ]
  },
  {
   "cell_type": "code",
   "execution_count": 51,
   "metadata": {
    "scrolled": true
   },
   "outputs": [
    {
     "name": "stdout",
     "output_type": "stream",
     "text": [
      "<class 'pandas.core.frame.DataFrame'>\n",
      "RangeIndex: 1460 entries, 0 to 1459\n",
      "Data columns (total 29 columns):\n",
      " #   Column                Non-Null Count  Dtype \n",
      "---  ------                --------------  ----- \n",
      " 0   overallqual           1460 non-null   int64 \n",
      " 1   neighborhood          1460 non-null   object\n",
      " 2   has_central_air       1460 non-null   uint8 \n",
      " 3   total_square_feet     1460 non-null   int64 \n",
      " 4   saleprice             1460 non-null   int64 \n",
      " 5   neighborhood_Blueste  1460 non-null   uint8 \n",
      " 6   neighborhood_BrDale   1460 non-null   uint8 \n",
      " 7   neighborhood_BrkSide  1460 non-null   uint8 \n",
      " 8   neighborhood_ClearCr  1460 non-null   uint8 \n",
      " 9   neighborhood_CollgCr  1460 non-null   uint8 \n",
      " 10  neighborhood_Crawfor  1460 non-null   uint8 \n",
      " 11  neighborhood_Edwards  1460 non-null   uint8 \n",
      " 12  neighborhood_Gilbert  1460 non-null   uint8 \n",
      " 13  neighborhood_IDOTRR   1460 non-null   uint8 \n",
      " 14  neighborhood_MeadowV  1460 non-null   uint8 \n",
      " 15  neighborhood_Mitchel  1460 non-null   uint8 \n",
      " 16  neighborhood_NAmes    1460 non-null   uint8 \n",
      " 17  neighborhood_NPkVill  1460 non-null   uint8 \n",
      " 18  neighborhood_NWAmes   1460 non-null   uint8 \n",
      " 19  neighborhood_NoRidge  1460 non-null   uint8 \n",
      " 20  neighborhood_NridgHt  1460 non-null   uint8 \n",
      " 21  neighborhood_OldTown  1460 non-null   uint8 \n",
      " 22  neighborhood_SWISU    1460 non-null   uint8 \n",
      " 23  neighborhood_Sawyer   1460 non-null   uint8 \n",
      " 24  neighborhood_SawyerW  1460 non-null   uint8 \n",
      " 25  neighborhood_Somerst  1460 non-null   uint8 \n",
      " 26  neighborhood_StoneBr  1460 non-null   uint8 \n",
      " 27  neighborhood_Timber   1460 non-null   uint8 \n",
      " 28  neighborhood_Veenker  1460 non-null   uint8 \n",
      "dtypes: int64(3), object(1), uint8(25)\n",
      "memory usage: 81.4+ KB\n"
     ]
    }
   ],
   "source": [
    "houseprices_2.info()"
   ]
  },
  {
   "cell_type": "code",
   "execution_count": 52,
   "metadata": {},
   "outputs": [],
   "source": [
    "for column in ['saleprice', 'overallqual', 'total_square_feet']:\n",
    "    houseprices_2[column] = winsorize(houseprices_2[column], (0.05, 0.05))"
   ]
  },
  {
   "cell_type": "code",
   "execution_count": 53,
   "metadata": {},
   "outputs": [],
   "source": [
    "houseprices_2.drop(['neighborhood'], axis=1, inplace=True)"
   ]
  },
  {
   "cell_type": "code",
   "execution_count": 54,
   "metadata": {},
   "outputs": [],
   "source": [
    "X_2 = houseprices_2.drop('saleprice', axis=1)\n",
    "y_2 = houseprices_2['saleprice']"
   ]
  },
  {
   "cell_type": "code",
   "execution_count": 55,
   "metadata": {},
   "outputs": [],
   "source": [
    "X_2_train, X_2_test, y_2_train, y_2_test = train_test_split(X_2, y_2)"
   ]
  },
  {
   "cell_type": "code",
   "execution_count": 56,
   "metadata": {},
   "outputs": [],
   "source": [
    "X_2_train = sm.add_constant(X_2_train)\n",
    "X_2_test = sm.add_constant(X_2_test)"
   ]
  },
  {
   "cell_type": "code",
   "execution_count": 57,
   "metadata": {},
   "outputs": [
    {
     "data": {
      "text/html": [
       "<table class=\"simpletable\">\n",
       "<caption>OLS Regression Results</caption>\n",
       "<tr>\n",
       "  <th>Dep. Variable:</th>        <td>saleprice</td>    <th>  R-squared:         </th> <td>   0.853</td> \n",
       "</tr>\n",
       "<tr>\n",
       "  <th>Model:</th>                   <td>OLS</td>       <th>  Adj. R-squared:    </th> <td>   0.849</td> \n",
       "</tr>\n",
       "<tr>\n",
       "  <th>Method:</th>             <td>Least Squares</td>  <th>  F-statistic:       </th> <td>   228.6</td> \n",
       "</tr>\n",
       "<tr>\n",
       "  <th>Date:</th>             <td>Tue, 01 Sep 2020</td> <th>  Prob (F-statistic):</th>  <td>  0.00</td>  \n",
       "</tr>\n",
       "<tr>\n",
       "  <th>Time:</th>                 <td>00:00:05</td>     <th>  Log-Likelihood:    </th> <td> -12638.</td> \n",
       "</tr>\n",
       "<tr>\n",
       "  <th>No. Observations:</th>      <td>  1095</td>      <th>  AIC:               </th> <td>2.533e+04</td>\n",
       "</tr>\n",
       "<tr>\n",
       "  <th>Df Residuals:</th>          <td>  1067</td>      <th>  BIC:               </th> <td>2.547e+04</td>\n",
       "</tr>\n",
       "<tr>\n",
       "  <th>Df Model:</th>              <td>    27</td>      <th>                     </th>     <td> </td>    \n",
       "</tr>\n",
       "<tr>\n",
       "  <th>Covariance Type:</th>      <td>nonrobust</td>    <th>                     </th>     <td> </td>    \n",
       "</tr>\n",
       "</table>\n",
       "<table class=\"simpletable\">\n",
       "<tr>\n",
       "            <td></td>              <th>coef</th>     <th>std err</th>      <th>t</th>      <th>P>|t|</th>  <th>[0.025</th>    <th>0.975]</th>  \n",
       "</tr>\n",
       "<tr>\n",
       "  <th>const</th>                <td>-5.344e+04</td> <td> 1.03e+04</td> <td>   -5.178</td> <td> 0.000</td> <td>-7.37e+04</td> <td>-3.32e+04</td>\n",
       "</tr>\n",
       "<tr>\n",
       "  <th>overallqual</th>          <td> 1.475e+04</td> <td> 1063.778</td> <td>   13.864</td> <td> 0.000</td> <td> 1.27e+04</td> <td> 1.68e+04</td>\n",
       "</tr>\n",
       "<tr>\n",
       "  <th>has_central_air</th>      <td> 1.454e+04</td> <td> 3400.129</td> <td>    4.277</td> <td> 0.000</td> <td> 7871.420</td> <td> 2.12e+04</td>\n",
       "</tr>\n",
       "<tr>\n",
       "  <th>total_square_feet</th>    <td>   45.3226</td> <td>    1.662</td> <td>   27.269</td> <td> 0.000</td> <td>   42.061</td> <td>   48.584</td>\n",
       "</tr>\n",
       "<tr>\n",
       "  <th>neighborhood_Blueste</th> <td>-4143.2978</td> <td> 1.94e+04</td> <td>   -0.213</td> <td> 0.831</td> <td>-4.23e+04</td> <td>  3.4e+04</td>\n",
       "</tr>\n",
       "<tr>\n",
       "  <th>neighborhood_BrDale</th>  <td>-2.082e+04</td> <td> 1.07e+04</td> <td>   -1.953</td> <td> 0.051</td> <td>-4.17e+04</td> <td>   96.086</td>\n",
       "</tr>\n",
       "<tr>\n",
       "  <th>neighborhood_BrkSide</th> <td>-2601.5549</td> <td> 8704.252</td> <td>   -0.299</td> <td> 0.765</td> <td>-1.97e+04</td> <td> 1.45e+04</td>\n",
       "</tr>\n",
       "<tr>\n",
       "  <th>neighborhood_ClearCr</th> <td> 2.978e+04</td> <td> 9730.423</td> <td>    3.061</td> <td> 0.002</td> <td> 1.07e+04</td> <td> 4.89e+04</td>\n",
       "</tr>\n",
       "<tr>\n",
       "  <th>neighborhood_CollgCr</th> <td> 2.028e+04</td> <td> 8005.199</td> <td>    2.533</td> <td> 0.011</td> <td> 4568.947</td> <td>  3.6e+04</td>\n",
       "</tr>\n",
       "<tr>\n",
       "  <th>neighborhood_Crawfor</th> <td> 2.909e+04</td> <td> 8679.332</td> <td>    3.351</td> <td> 0.001</td> <td> 1.21e+04</td> <td> 4.61e+04</td>\n",
       "</tr>\n",
       "<tr>\n",
       "  <th>neighborhood_Edwards</th> <td>-3099.0616</td> <td> 8372.814</td> <td>   -0.370</td> <td> 0.711</td> <td>-1.95e+04</td> <td> 1.33e+04</td>\n",
       "</tr>\n",
       "<tr>\n",
       "  <th>neighborhood_Gilbert</th> <td> 1.868e+04</td> <td> 8258.478</td> <td>    2.262</td> <td> 0.024</td> <td> 2472.802</td> <td> 3.49e+04</td>\n",
       "</tr>\n",
       "<tr>\n",
       "  <th>neighborhood_IDOTRR</th>  <td>-5454.9719</td> <td> 9356.066</td> <td>   -0.583</td> <td> 0.560</td> <td>-2.38e+04</td> <td> 1.29e+04</td>\n",
       "</tr>\n",
       "<tr>\n",
       "  <th>neighborhood_MeadowV</th> <td>-9257.9039</td> <td> 1.05e+04</td> <td>   -0.885</td> <td> 0.376</td> <td>-2.98e+04</td> <td> 1.13e+04</td>\n",
       "</tr>\n",
       "<tr>\n",
       "  <th>neighborhood_Mitchel</th> <td> 4036.0086</td> <td> 8648.040</td> <td>    0.467</td> <td> 0.641</td> <td>-1.29e+04</td> <td>  2.1e+04</td>\n",
       "</tr>\n",
       "<tr>\n",
       "  <th>neighborhood_NAmes</th>   <td> -672.6921</td> <td> 8021.847</td> <td>   -0.084</td> <td> 0.933</td> <td>-1.64e+04</td> <td> 1.51e+04</td>\n",
       "</tr>\n",
       "<tr>\n",
       "  <th>neighborhood_NPkVill</th> <td>-4778.1811</td> <td> 1.22e+04</td> <td>   -0.390</td> <td> 0.697</td> <td>-2.88e+04</td> <td> 1.93e+04</td>\n",
       "</tr>\n",
       "<tr>\n",
       "  <th>neighborhood_NWAmes</th>  <td> 7775.5949</td> <td> 8410.093</td> <td>    0.925</td> <td> 0.355</td> <td>-8726.603</td> <td> 2.43e+04</td>\n",
       "</tr>\n",
       "<tr>\n",
       "  <th>neighborhood_NoRidge</th> <td> 5.161e+04</td> <td> 8814.451</td> <td>    5.855</td> <td> 0.000</td> <td> 3.43e+04</td> <td> 6.89e+04</td>\n",
       "</tr>\n",
       "<tr>\n",
       "  <th>neighborhood_NridgHt</th> <td> 5.005e+04</td> <td> 8330.334</td> <td>    6.009</td> <td> 0.000</td> <td> 3.37e+04</td> <td> 6.64e+04</td>\n",
       "</tr>\n",
       "<tr>\n",
       "  <th>neighborhood_OldTown</th> <td>-1.488e+04</td> <td> 8250.310</td> <td>   -1.804</td> <td> 0.072</td> <td>-3.11e+04</td> <td> 1305.674</td>\n",
       "</tr>\n",
       "<tr>\n",
       "  <th>neighborhood_SWISU</th>   <td>-1.411e+04</td> <td> 9739.988</td> <td>   -1.449</td> <td> 0.148</td> <td>-3.32e+04</td> <td> 5002.238</td>\n",
       "</tr>\n",
       "<tr>\n",
       "  <th>neighborhood_Sawyer</th>  <td> 3450.1608</td> <td> 8570.617</td> <td>    0.403</td> <td> 0.687</td> <td>-1.34e+04</td> <td> 2.03e+04</td>\n",
       "</tr>\n",
       "<tr>\n",
       "  <th>neighborhood_SawyerW</th> <td> 9476.8477</td> <td> 8587.137</td> <td>    1.104</td> <td> 0.270</td> <td>-7372.745</td> <td> 2.63e+04</td>\n",
       "</tr>\n",
       "<tr>\n",
       "  <th>neighborhood_Somerst</th> <td> 3.301e+04</td> <td> 8346.021</td> <td>    3.955</td> <td> 0.000</td> <td> 1.66e+04</td> <td> 4.94e+04</td>\n",
       "</tr>\n",
       "<tr>\n",
       "  <th>neighborhood_StoneBr</th> <td> 4.612e+04</td> <td> 9589.371</td> <td>    4.809</td> <td> 0.000</td> <td> 2.73e+04</td> <td> 6.49e+04</td>\n",
       "</tr>\n",
       "<tr>\n",
       "  <th>neighborhood_Timber</th>  <td> 3.366e+04</td> <td> 9090.873</td> <td>    3.703</td> <td> 0.000</td> <td> 1.58e+04</td> <td> 5.15e+04</td>\n",
       "</tr>\n",
       "<tr>\n",
       "  <th>neighborhood_Veenker</th> <td> 4.493e+04</td> <td> 1.14e+04</td> <td>    3.956</td> <td> 0.000</td> <td> 2.26e+04</td> <td> 6.72e+04</td>\n",
       "</tr>\n",
       "</table>\n",
       "<table class=\"simpletable\">\n",
       "<tr>\n",
       "  <th>Omnibus:</th>       <td>41.138</td> <th>  Durbin-Watson:     </th> <td>   2.058</td>\n",
       "</tr>\n",
       "<tr>\n",
       "  <th>Prob(Omnibus):</th> <td> 0.000</td> <th>  Jarque-Bera (JB):  </th> <td>  99.857</td>\n",
       "</tr>\n",
       "<tr>\n",
       "  <th>Skew:</th>          <td>-0.149</td> <th>  Prob(JB):          </th> <td>2.07e-22</td>\n",
       "</tr>\n",
       "<tr>\n",
       "  <th>Kurtosis:</th>      <td> 4.449</td> <th>  Cond. No.          </th> <td>1.35e+05</td>\n",
       "</tr>\n",
       "</table><br/><br/>Warnings:<br/>[1] Standard Errors assume that the covariance matrix of the errors is correctly specified.<br/>[2] The condition number is large, 1.35e+05. This might indicate that there are<br/>strong multicollinearity or other numerical problems."
      ],
      "text/plain": [
       "<class 'statsmodels.iolib.summary.Summary'>\n",
       "\"\"\"\n",
       "                            OLS Regression Results                            \n",
       "==============================================================================\n",
       "Dep. Variable:              saleprice   R-squared:                       0.853\n",
       "Model:                            OLS   Adj. R-squared:                  0.849\n",
       "Method:                 Least Squares   F-statistic:                     228.6\n",
       "Date:                Tue, 01 Sep 2020   Prob (F-statistic):               0.00\n",
       "Time:                        00:00:05   Log-Likelihood:                -12638.\n",
       "No. Observations:                1095   AIC:                         2.533e+04\n",
       "Df Residuals:                    1067   BIC:                         2.547e+04\n",
       "Df Model:                          27                                         \n",
       "Covariance Type:            nonrobust                                         \n",
       "========================================================================================\n",
       "                           coef    std err          t      P>|t|      [0.025      0.975]\n",
       "----------------------------------------------------------------------------------------\n",
       "const                -5.344e+04   1.03e+04     -5.178      0.000   -7.37e+04   -3.32e+04\n",
       "overallqual           1.475e+04   1063.778     13.864      0.000    1.27e+04    1.68e+04\n",
       "has_central_air       1.454e+04   3400.129      4.277      0.000    7871.420    2.12e+04\n",
       "total_square_feet       45.3226      1.662     27.269      0.000      42.061      48.584\n",
       "neighborhood_Blueste -4143.2978   1.94e+04     -0.213      0.831   -4.23e+04     3.4e+04\n",
       "neighborhood_BrDale  -2.082e+04   1.07e+04     -1.953      0.051   -4.17e+04      96.086\n",
       "neighborhood_BrkSide -2601.5549   8704.252     -0.299      0.765   -1.97e+04    1.45e+04\n",
       "neighborhood_ClearCr  2.978e+04   9730.423      3.061      0.002    1.07e+04    4.89e+04\n",
       "neighborhood_CollgCr  2.028e+04   8005.199      2.533      0.011    4568.947     3.6e+04\n",
       "neighborhood_Crawfor  2.909e+04   8679.332      3.351      0.001    1.21e+04    4.61e+04\n",
       "neighborhood_Edwards -3099.0616   8372.814     -0.370      0.711   -1.95e+04    1.33e+04\n",
       "neighborhood_Gilbert  1.868e+04   8258.478      2.262      0.024    2472.802    3.49e+04\n",
       "neighborhood_IDOTRR  -5454.9719   9356.066     -0.583      0.560   -2.38e+04    1.29e+04\n",
       "neighborhood_MeadowV -9257.9039   1.05e+04     -0.885      0.376   -2.98e+04    1.13e+04\n",
       "neighborhood_Mitchel  4036.0086   8648.040      0.467      0.641   -1.29e+04     2.1e+04\n",
       "neighborhood_NAmes    -672.6921   8021.847     -0.084      0.933   -1.64e+04    1.51e+04\n",
       "neighborhood_NPkVill -4778.1811   1.22e+04     -0.390      0.697   -2.88e+04    1.93e+04\n",
       "neighborhood_NWAmes   7775.5949   8410.093      0.925      0.355   -8726.603    2.43e+04\n",
       "neighborhood_NoRidge  5.161e+04   8814.451      5.855      0.000    3.43e+04    6.89e+04\n",
       "neighborhood_NridgHt  5.005e+04   8330.334      6.009      0.000    3.37e+04    6.64e+04\n",
       "neighborhood_OldTown -1.488e+04   8250.310     -1.804      0.072   -3.11e+04    1305.674\n",
       "neighborhood_SWISU   -1.411e+04   9739.988     -1.449      0.148   -3.32e+04    5002.238\n",
       "neighborhood_Sawyer   3450.1608   8570.617      0.403      0.687   -1.34e+04    2.03e+04\n",
       "neighborhood_SawyerW  9476.8477   8587.137      1.104      0.270   -7372.745    2.63e+04\n",
       "neighborhood_Somerst  3.301e+04   8346.021      3.955      0.000    1.66e+04    4.94e+04\n",
       "neighborhood_StoneBr  4.612e+04   9589.371      4.809      0.000    2.73e+04    6.49e+04\n",
       "neighborhood_Timber   3.366e+04   9090.873      3.703      0.000    1.58e+04    5.15e+04\n",
       "neighborhood_Veenker  4.493e+04   1.14e+04      3.956      0.000    2.26e+04    6.72e+04\n",
       "==============================================================================\n",
       "Omnibus:                       41.138   Durbin-Watson:                   2.058\n",
       "Prob(Omnibus):                  0.000   Jarque-Bera (JB):               99.857\n",
       "Skew:                          -0.149   Prob(JB):                     2.07e-22\n",
       "Kurtosis:                       4.449   Cond. No.                     1.35e+05\n",
       "==============================================================================\n",
       "\n",
       "Warnings:\n",
       "[1] Standard Errors assume that the covariance matrix of the errors is correctly specified.\n",
       "[2] The condition number is large, 1.35e+05. This might indicate that there are\n",
       "strong multicollinearity or other numerical problems.\n",
       "\"\"\""
      ]
     },
     "execution_count": 57,
     "metadata": {},
     "output_type": "execute_result"
    }
   ],
   "source": [
    "results_2 = sm.OLS(y_2_train, X_2_train).fit()\n",
    "\n",
    "y_2_preds = results_2.predict(X_2_test)\n",
    "\n",
    "results_2.summary()"
   ]
  },
  {
   "cell_type": "code",
   "execution_count": 58,
   "metadata": {},
   "outputs": [
    {
     "data": {
      "image/png": "[encoded data removed]",
      "text/plain": [
       "<Figure size 432x288 with 1 Axes>"
      ]
     },
     "metadata": {
      "needs_background": "light"
     },
     "output_type": "display_data"
    }
   ],
   "source": [
    "plt.scatter(y_2_test, y_2_preds)\n",
    "plt.plot(y_test, y_test, color=\"red\")\n",
    "plt.xlabel(\"true values\")\n",
    "plt.ylabel(\"predicted values\")\n",
    "plt.title(\"Charges: true and predicted values\")\n",
    "plt.show()"
   ]
  },
  {
   "cell_type": "code",
   "execution_count": 59,
   "metadata": {},
   "outputs": [
    {
     "name": "stdout",
     "output_type": "stream",
     "text": [
      "Mean absolute error of the prediction is: 18304.98457963436\n",
      "Mean squared error of the prediction is: 591897842.1556362\n",
      "Root mean squared error of the prediction is: 24328.950699848036\n",
      "Mean absolute percentage error of the prediction is: 10.650602019575476\n"
     ]
    }
   ],
   "source": [
    "print(\"Mean absolute error of the prediction is: {}\".format(mean_absolute_error(y_2_test, y_2_preds)))\n",
    "print(\"Mean squared error of the prediction is: {}\".format(mse(y_2_test, y_2_preds)))\n",
    "print(\"Root mean squared error of the prediction is: {}\".format(rmse(y_2_test, y_2_preds)))\n",
    "print(\"Mean absolute percentage error of the prediction is: {}\".format(np.mean(np.abs((y_2_test - y_2_preds) / y_2_test)) * 100))"
   ]
  },
  {
   "cell_type": "markdown",
   "metadata": {},
   "source": [
    "This model is somewhat improved on all four statistics. Fur"
   ]
  }
 ],
 "metadata": {
  "kernelspec": {
   "display_name": "Python 3",
   "language": "python",
   "name": "python3"
  },
  "language_info": {
   "codemirror_mode": {
    "name": "ipython",
    "version": 3
   },
   "file_extension": ".py",
   "mimetype": "text/x-python",
   "name": "python",
   "nbconvert_exporter": "python",
   "pygments_lexer": "ipython3",
   "version": "3.8.3"
  }
 },
 "nbformat": 4,
 "nbformat_minor": 4
}
